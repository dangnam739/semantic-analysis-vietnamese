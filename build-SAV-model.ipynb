{
 "cells": [
  {
   "cell_type": "markdown",
   "metadata": {
    "colab_type": "text",
    "id": "tf9RNF8535LK"
   },
   "source": [
    "# PHÂN TÍCH CẢM XÚC VỚI LSTM (SVA model)"
   ]
  },
  {
   "cell_type": "markdown",
   "metadata": {
    "colab_type": "text",
    "id": "SO53ASD0E04T"
   },
   "source": [
    "### Giới thiệu bài toán\n",
    "Trong thực trạng nhiều công ty thương mại điện tử phát triển nở rộ ngày nay, việc thu thập đánh giá từ các bình luận của người dùng là rất cần thiết. Các bình luận này có chứa nhiều thông tin quan trọng, có thể giúp các trang web dễ dàng lọc, đề xuất các mặt hàng, địa điểm phù hợp với từng người dùng và đánh giá chất lượng sản phẩm cũng như dịch vụ của các đối tác.\n",
    "\n",
    "Với hàng chục nghìn cho tới hàng trăm nghìn bình luận mỗi ngày hiện nay thì việc phân loại các bình luận từ người dùng không phải là điều dễ dàng, và đòi hỏi rất nhiều nhân lực. Cụ thể ở đây, ta quan tâm đến cảm xúc gắn liền với các bình luận, để suy ra thái độ của người dùng và từ đó đánh giá chất lượng các sản phẩm.\n",
    "\n",
    "Cùng sự phát triển của AI và các phương pháp ML, hiện nay chúng ta có thể giải quyết bài toán này bằng các mô hình Deep Learning với độ chính xác có thể sánh ngang với khả năng đọc hiểu của con người.\n",
    "\n",
    "Trong bài tập này, ta sẽ tập trung vào phân tích các bình luận tiếng Việt để tìm ra cảm xúc được thể hiện trong bình luận.\n",
    "![](https://drive.google.com/uc?export=view&id=16m7rYwl40I0CBJKWlu44CyAXEMflcF9R)\n",
    "![](https://drive.google.com/uc?export=view&id=1MSEwafiJ7hIoRD4QEzL5umCK8FqlAojN)\n"
   ]
  },
  {
   "cell_type": "markdown",
   "metadata": {
    "colab_type": "text",
    "id": "upWFfxH3_0fT"
   },
   "source": [
    "### Hướng giải quyết bài toán\n",
    "\n",
    "Ta sẽ dùng mạng **LSTM** (Long Short-Term Memory, dịch thô: Bộ-nhớ Ngắn-hạn Dài) để giải quyết bài toán **Sentiment Analysis**  (dịch thô: Phân-tích Cảm-xúc) trên dữ liệu văn bản.\n",
    "\n",
    "Đầu vào nhận được là một văn bản.\n",
    "\n",
    "Đầu ra cần trả về là loại cảm xúc được thể hiện trong văn bản: tích cực, tiêu cực, hay trung lập (positive - negative - neutral). Trong phạm vi của bài tập này, chúng ta chỉ quan tâm đến hai cảm xúc positive và negative.\n",
    "\n",
    "![caption](https://drive.google.com/uc?export=view&id=1cg-W4IXMKP9jfpCcADKXqXwpgEV19I-f)"
   ]
  },
  {
   "cell_type": "markdown",
   "metadata": {
    "colab_type": "text",
    "id": "tNNGCdvN_41J"
   },
   "source": [
    "### Cách đánh giá mô hình\n",
    "Mô hình luyện được sẽ được đánh giá trên tập dữ liệu gồm 3000 bình luận (được giấu nhãn) với độ đo F1 score. "
   ]
  },
  {
   "cell_type": "markdown",
   "metadata": {
    "colab_type": "text",
    "id": "-anIp23M_9jc"
   },
   "source": [
    "## Tìm hướng giải quyết bài toán"
   ]
  },
  {
   "cell_type": "markdown",
   "metadata": {
    "colab_type": "text",
    "id": "m7Qvg_rhAIQ0"
   },
   "source": [
    "### Tập dữ liệu"
   ]
  },
  {
   "cell_type": "markdown",
   "metadata": {
    "colab_type": "text",
    "id": "mHT-F7W8Afyz"
   },
   "source": [
    "Chúng ta sử dụng tập dữ liệu review trên trang Foody với khoảng 30,000 mẫu được gán nhãn, trong đó có 15,000 mẫu positive và 15,000 mẫu negative (Nguồn: https://streetcodevn.com/blog/dataset).\n",
    "\n",
    "Tập dữ liệu này có thể được tải bằng đoạn code bên dưới:"
   ]
  },
  {
   "cell_type": "code",
   "execution_count": null,
   "metadata": {},
   "outputs": [],
   "source": [
    "# Tải data\n",
    "from google_drive_downloader import GoogleDriveDownloader as gdd\n",
    "gdd.download_file_from_google_drive(file_id='1eF0jg_8P0NnUiiL3HjBaJ8AC2T1sJXiK', dest_path='./assignment4-data.zip', unzip=True)"
   ]
  },
  {
   "cell_type": "markdown",
   "metadata": {
    "colab_type": "text",
    "id": "wk2jM36BOou-"
   },
   "source": [
    "Trong đó:\n",
    "- **train.csv**: file csv chứa 27,000 mẫu dữ liệu đã gán nhãn\n",
    "- **test.csv**: file chứa 3000 mẫu test dùng để đánh giá\n",
    "- **sample_submission.csv**: file mẫu thể hiện hình thức nộp kết quả\n",
    "- **word_list.npy**: chứa danh sách các từ tiếng Việt đã xử lý\n",
    "- **word_vectors.npy**: chứa vectors  biểu diễn các từ trong **word_list.npy**"
   ]
  },
  {
   "cell_type": "markdown",
   "metadata": {
    "colab_type": "text",
    "id": "Wxy9QmyTRlbt"
   },
   "source": [
    "### Phân tích bài toán dưới góc nhìn Word Vectors\n"
   ]
  },
  {
   "cell_type": "markdown",
   "metadata": {
    "colab_type": "text",
    "id": "eBdOS_ZxTtdr"
   },
   "source": [
    "Nếu như chúng ta giữ nguyên định dạng kí tự của văn bản đầu vào thì rất khó để thực hiện các thao tác toán học, như tính tích vô hướng (dot product) , đưa vào hàm softmax, hay các thuật toán trên Neural Net như backpropagation.\n",
    "\n",
    "Vậy nên, thay vì sử dụng chuỗi kí tự, ta sẽ chuyển  định dạng của văn bản đầu vào thành các vector biểu diễn, để thuận tiện cho việc tính toán.\n",
    "\n",
    "![Word2Vec](https://drive.google.com/uc?export=view&id=12xKP6pFzDzj-0ToZX-27RjOhRcMFrfeb)\n",
    "\n",
    "Trong hình minh hoạ ở trên, dữ liệu đầu vào là câu \"Tôi ăn ... rồi\" với 16 tiếng. Giả sử ta có thể mã hóa mỗi tiếng thành một vector D chiều, ví dụ như:\n",
    "\n",
    "```\n",
    "Tôi = [.2 0 .8]\n",
    "ăn = [0 .6 0]\n",
    "rồi = [.5 .2 .1]\n",
    "với D = 3\n",
    "```\n",
    "\n",
    "Vậy, cả câu \"Tôi ăn ... rồi\" có thể được biểu diễn bằng một ma trận 16\\*D chiều.\n",
    "\n",
    "Để ánh xạ từ một **từ** sang một **vector**, chúng ta sử dụng một bộ vector biểu diễn từ đã được luyện sẵn."
   ]
  },
  {
   "cell_type": "markdown",
   "metadata": {
    "colab_type": "text",
    "id": "6F8jVr24T--X"
   },
   "source": [
    "### Import các thư viện cần thiết"
   ]
  },
  {
   "cell_type": "code",
   "execution_count": 1,
   "metadata": {
    "colab": {},
    "colab_type": "code",
    "id": "ZSTJ7AG4RweC"
   },
   "outputs": [],
   "source": [
    "import os\n",
    "import sys\n",
    "import time\n",
    "import datetime\n",
    "import math\n",
    "\n",
    "import numpy as np\n",
    "import pandas as pd\n",
    "from tqdm import tqdm\n",
    "\n",
    "from sklearn.model_selection import train_test_split\n",
    "from sklearn.metrics import f1_score\n",
    "import tensorflow as tf\n",
    "\n",
    "# Enable Eager Execution\n",
    "tf.enable_eager_execution()\n",
    "tf.executing_eagerly() \n",
    "\n",
    "import warnings\n",
    "warnings.filterwarnings(\"ignore\")"
   ]
  },
  {
   "cell_type": "code",
   "execution_count": 2,
   "metadata": {
    "colab": {
     "base_uri": "https://localhost:8080/",
     "height": 34
    },
    "colab_type": "code",
    "id": "2_ZsxgGzjew2",
    "outputId": "1b42552e-c332-4658-c22d-21d934557107"
   },
   "outputs": [
    {
     "data": {
      "text/plain": [
       "'2.1.0'"
      ]
     },
     "execution_count": 2,
     "metadata": {},
     "output_type": "execute_result"
    }
   ],
   "source": [
    "tf.__version__"
   ]
  },
  {
   "cell_type": "markdown",
   "metadata": {
    "colab_type": "text",
    "id": "k2q48NN3U-Ni"
   },
   "source": [
    "## Chuẩn bị dữ liệu huấn luyện"
   ]
  },
  {
   "cell_type": "markdown",
   "metadata": {
    "colab_type": "text",
    "id": "Fmhw-aZ-bfX6"
   },
   "source": [
    "### Tải dữ liệu \n",
    "Sau đây ta tiến hành tải dữ liệu từ file `train.csv`"
   ]
  },
  {
   "cell_type": "code",
   "execution_count": 3,
   "metadata": {
    "colab": {
     "base_uri": "https://localhost:8080/",
     "height": 246
    },
    "colab_type": "code",
    "id": "GPDWEmJabuLs",
    "outputId": "0499711f-d291-4a78-d859-16952037112f"
   },
   "outputs": [
    {
     "data": {
      "text/html": [
       "<div>\n",
       "<style scoped>\n",
       "    .dataframe tbody tr th:only-of-type {\n",
       "        vertical-align: middle;\n",
       "    }\n",
       "\n",
       "    .dataframe tbody tr th {\n",
       "        vertical-align: top;\n",
       "    }\n",
       "\n",
       "    .dataframe thead th {\n",
       "        text-align: right;\n",
       "    }\n",
       "</style>\n",
       "<table border=\"1\" class=\"dataframe\">\n",
       "  <thead>\n",
       "    <tr style=\"text-align: right;\">\n",
       "      <th></th>\n",
       "      <th>id</th>\n",
       "      <th>text</th>\n",
       "      <th>class</th>\n",
       "    </tr>\n",
       "  </thead>\n",
       "  <tbody>\n",
       "    <tr>\n",
       "      <th>0</th>\n",
       "      <td>dee6dfc5</td>\n",
       "      <td>Đến quán 2 lần thôi , rất là thích !\\nQuán tuy nằm trong hẻm nhưng rất dễ tìm , quán rộng_rãi thoáng mát sạch_sẽ .\\nNhân_viên phục_vụ nhiệt_tình , siêu dễ_thương .\\nThực_đơn phong_phú đa_dạng , giá siêu rẻ .\\nThức_ăn nêm nếm hợp_khẩu vị , ngon_miệng .\\nDesert ngọt vừa , không quá ngấy , rất ngon .\\nTrà sữa , uyên_ương thơm và đúng vị mình đã từng uống ở HongKong .\\nNói_chung điểm 10 cho chất_lượng , thích quán lắm !</td>\n",
       "      <td>1</td>\n",
       "    </tr>\n",
       "    <tr>\n",
       "      <th>1</th>\n",
       "      <td>800813f5</td>\n",
       "      <td>Đến quán vào tối chủ_nhật . Có band hát . Khá ổn . Tuy_nhiên không_gian tầng 1 hơi hẹp . Ngồi cả ra vỉa_hè . Đồ uống ko ngon lămz</td>\n",
       "      <td>0</td>\n",
       "    </tr>\n",
       "    <tr>\n",
       "      <th>2</th>\n",
       "      <td>6553e47f</td>\n",
       "      <td>Phục_vụ lâu quá mặc_dù khách rất vắng .\\nĐợi gần 15p mới mang được ly cà_phê ra . Ông này chỉ khéo quảng_bá chứ với mình chắc không quay lại_nữa .</td>\n",
       "      <td>0</td>\n",
       "    </tr>\n",
       "    <tr>\n",
       "      <th>3</th>\n",
       "      <td>b45a1ff1</td>\n",
       "      <td>Ko gian bé_tí , quán chật_chội , đông người nên phục_vụ chưa tốt . Đồ uống bình_thường ( đặc_biệt khi so với giá_cả ) và ko có gì đặc_sắc cả .</td>\n",
       "      <td>0</td>\n",
       "    </tr>\n",
       "    <tr>\n",
       "      <th>4</th>\n",
       "      <td>f92694b0</td>\n",
       "      <td>Khi mình order , đặt bánh thì nhận được sự tiếp_đãi , tư_vấn và nói_chuyện rất gần_gũi , rất nhiệt_tình .\\nBánh thì rất tuyệt , nhân béo , rau_câu không dùng phẩm . Sau_này có dịp sinh_nhật , mình sẽ order mẫu lớn .\\nChúc các bạn làm_ăn phát_đạt !</td>\n",
       "      <td>1</td>\n",
       "    </tr>\n",
       "  </tbody>\n",
       "</table>\n",
       "</div>"
      ],
      "text/plain": [
       "         id  \\\n",
       "0  dee6dfc5   \n",
       "1  800813f5   \n",
       "2  6553e47f   \n",
       "3  b45a1ff1   \n",
       "4  f92694b0   \n",
       "\n",
       "                                                                                                                                                                                                                                                                                                                                                                                                                                  text  \\\n",
       "0  Đến quán 2 lần thôi , rất là thích !\\nQuán tuy nằm trong hẻm nhưng rất dễ tìm , quán rộng_rãi thoáng mát sạch_sẽ .\\nNhân_viên phục_vụ nhiệt_tình , siêu dễ_thương .\\nThực_đơn phong_phú đa_dạng , giá siêu rẻ .\\nThức_ăn nêm nếm hợp_khẩu vị , ngon_miệng .\\nDesert ngọt vừa , không quá ngấy , rất ngon .\\nTrà sữa , uyên_ương thơm và đúng vị mình đã từng uống ở HongKong .\\nNói_chung điểm 10 cho chất_lượng , thích quán lắm !   \n",
       "1                                                                                                                                                                                                                                                                                                    Đến quán vào tối chủ_nhật . Có band hát . Khá ổn . Tuy_nhiên không_gian tầng 1 hơi hẹp . Ngồi cả ra vỉa_hè . Đồ uống ko ngon lămz   \n",
       "2                                                                                                                                                                                                                                                                                   Phục_vụ lâu quá mặc_dù khách rất vắng .\\nĐợi gần 15p mới mang được ly cà_phê ra . Ông này chỉ khéo quảng_bá chứ với mình chắc không quay lại_nữa .   \n",
       "3                                                                                                                                                                                                                                                                                       Ko gian bé_tí , quán chật_chội , đông người nên phục_vụ chưa tốt . Đồ uống bình_thường ( đặc_biệt khi so với giá_cả ) và ko có gì đặc_sắc cả .   \n",
       "4                                                                                                                                                                              Khi mình order , đặt bánh thì nhận được sự tiếp_đãi , tư_vấn và nói_chuyện rất gần_gũi , rất nhiệt_tình .\\nBánh thì rất tuyệt , nhân béo , rau_câu không dùng phẩm . Sau_này có dịp sinh_nhật , mình sẽ order mẫu lớn .\\nChúc các bạn làm_ăn phát_đạt !   \n",
       "\n",
       "   class  \n",
       "0      1  \n",
       "1      0  \n",
       "2      0  \n",
       "3      0  \n",
       "4      1  "
      ]
     },
     "execution_count": 3,
     "metadata": {},
     "output_type": "execute_result"
    }
   ],
   "source": [
    "pd.options.display.max_colwidth=1000\n",
    "train_df = pd.read_csv('../input/train.csv')\n",
    "train_df.head()"
   ]
  },
  {
   "cell_type": "code",
   "execution_count": 4,
   "metadata": {
    "colab": {
     "base_uri": "https://localhost:8080/",
     "height": 34
    },
    "colab_type": "code",
    "id": "I9spk9D2Kidp",
    "outputId": "1320404b-0e90-4cc8-948e-acbcd8de3ec4"
   },
   "outputs": [
    {
     "name": "stdout",
     "output_type": "stream",
     "text": [
      "Number of train samples in total: 27000\n"
     ]
    }
   ],
   "source": [
    "print('Number of train samples in total:', len(train_df))"
   ]
  },
  {
   "cell_type": "code",
   "execution_count": 5,
   "metadata": {
    "colab": {
     "base_uri": "https://localhost:8080/",
     "height": 52
    },
    "colab_type": "code",
    "id": "yZ0S2CRhL1lN",
    "outputId": "1b5a0532-1fb6-4fa4-8518-5536719dcef6"
   },
   "outputs": [
    {
     "name": "stdout",
     "output_type": "stream",
     "text": [
      "Number of positives: 13518\n",
      "Number of negatives: 13482\n"
     ]
    }
   ],
   "source": [
    "print('Number of positives:', np.sum(train_df['class']==1))\n",
    "print('Number of negatives:', np.sum(train_df['class']==0))"
   ]
  },
  {
   "cell_type": "markdown",
   "metadata": {
    "colab_type": "text",
    "id": "YLrJRUc_b1ri"
   },
   "source": [
    "Dữ liệu gồm 3 cột: `id`, `text` và `class`. Trong đó:\n",
    "- `id`: id của mẫu dữ liệu\n",
    "- `text`: dữ liệu văn bản, đã được tiền xử lý để gộp từ và dấu câu\n",
    "- `class`: nhãn của dữ liệu, 1 là positive, 0 là negative"
   ]
  },
  {
   "cell_type": "markdown",
   "metadata": {
    "colab_type": "text",
    "id": "QE8B4brTdirt"
   },
   "source": [
    "Để giúp hiểu rõ hơn về dữ liệu, ta có thể hiển thị một số review bất kỳ như sau. Các bạn có thể thử nhiều lần để thấy sự đa dạng của các bình luận trong tập dữ liệu (về cách gõ, hành văn, ngôn từ, *vân vân*)"
   ]
  },
  {
   "cell_type": "code",
   "execution_count": 6,
   "metadata": {
    "colab": {
     "base_uri": "https://localhost:8080/",
     "height": 142
    },
    "colab_type": "code",
    "id": "xnqsFCzGdlfj",
    "outputId": "0d85914c-c467-4e59-96fb-0df87f90226c"
   },
   "outputs": [
    {
     "name": "stdout",
     "output_type": "stream",
     "text": [
      "Một review tích cực: \n",
      "Mình cùng tụi bạn đến Galaxy xem phim . Nghe_nói quán có mới , lại gần đấy nên cũng kéo vào thử .\n",
      "Ấn_tượng đầu_tiên của mình \" chiếc xe bus \" rất xinh_xinh , đáng yêu . Tuy_nhiên không_gian hơi nhỏ , đông người chắc sẽ ồn . Cũng may hôm đấy tụi mình đi ngay lúc quán thưa khách nếu_không đã ra về vì chúng_mình đi vào đã chiếm hẳn 3 bàn .\n",
      "Vì quán mới mở nên nhiều món chưa có lắm . Chúng_mình kêu cả 3 loại so đa : dâu , chanh , táo . Cũng tạm . Trên vành ly có trang_trí thêm muối , rất lạ .\n",
      "Khi nào có thời_gian đến xem phim sẽ lại ghé ^ ^\n",
      "\n",
      "Một review tiêu cực: \n",
      "Mình đi ăn_ở đây với bạn với mong_muốn nếm thử ẩm_thực Hàn , cái mình thấy rất hấp dzẫn trên mọi kênh thông_tin . Nhưng_mà ăn rồi mới bị hụt_hẫng . Có_lẽ mình k thích đồ Hàn chứ đồ_ăn ở đây đc mọi ng review khá tốt .\n",
      "Bạn mình order Cơm trộn Bulgogi , mình ăn cơm trộn cá_ngừ , gọi thêm kimbap cá_hồi , bánh gạo tokbokki .\n",
      "Cơm trộn bulgogi nóng từ trog nóng ra , quán có máy_lạnh mà cơm gọi ra cả tiếng vẫn nóng nóng , mùi_vị k hợp_khẩu vị , bạn mình bỏ cả nửa tô vì ngán . Cơm trộn cá_ngừ ăn có_vẻ khá hơn nhưng nhìn_chung ; cơm trộn thì ngán . Bánh gạo thì chỉ có bạn mình thích chứ mình thì không . Kimbap cuộn hơi to , k thể ăn nhồm_nhoàm hết 1 lần được . Bù lại kim_chi và cá_cơm khá ngon và dzễ ăn hơn 1 số chỗ khác . Hi_vọng mình còn đủ kiêng nhẫn để thử lẩu và súp kim_chi mà các bạn rất thích ăn , có_thể ở 1 chỗ nào_đó khác : ) thái_độ phục_vụ nv lạ_lạ . . K bất_cần nhưng cũng k ân_cần tí nào . Xin_lỗi nhưng mình sẽ k bao_giờ quay lại quán nữa . Chúc quán kinh dzoanh thành_công : 3\n"
     ]
    }
   ],
   "source": [
    "print('Một review tích cực: ')\n",
    "sample_positive = train_df[train_df['class'] == 1].sample(1)\n",
    "print(sample_positive.loc[sample_positive.index[0], 'text'])\n",
    "\n",
    "print('\\nMột review tiêu cực: ')\n",
    "sample_negative = train_df[train_df['class'] == 0].sample(1)\n",
    "print(sample_negative.loc[sample_negative.index[0], 'text'])\n"
   ]
  },
  {
   "cell_type": "markdown",
   "metadata": {
    "colab_type": "text",
    "id": "OeyAgWPohQDd"
   },
   "source": [
    "Tiếp theo ta load dữ liệu từ file `test.csv`."
   ]
  },
  {
   "cell_type": "code",
   "execution_count": 7,
   "metadata": {
    "colab": {
     "base_uri": "https://localhost:8080/",
     "height": 363
    },
    "colab_type": "code",
    "id": "xyygFLLXhWeU",
    "outputId": "024c7c16-e2c6-4d75-ff5c-6ec1eed51488"
   },
   "outputs": [
    {
     "data": {
      "text/html": [
       "<div>\n",
       "<style scoped>\n",
       "    .dataframe tbody tr th:only-of-type {\n",
       "        vertical-align: middle;\n",
       "    }\n",
       "\n",
       "    .dataframe tbody tr th {\n",
       "        vertical-align: top;\n",
       "    }\n",
       "\n",
       "    .dataframe thead th {\n",
       "        text-align: right;\n",
       "    }\n",
       "</style>\n",
       "<table border=\"1\" class=\"dataframe\">\n",
       "  <thead>\n",
       "    <tr style=\"text-align: right;\">\n",
       "      <th></th>\n",
       "      <th>id</th>\n",
       "      <th>text</th>\n",
       "    </tr>\n",
       "  </thead>\n",
       "  <tbody>\n",
       "    <tr>\n",
       "      <th>0</th>\n",
       "      <td>2017ec48</td>\n",
       "      <td>Mình kêu 6 loại khác nhau , mỗi laoij 1 cục mà ăn cái nào cũng như nhau , cứ như đang ăn 1 loại vậy . Cuối cùng ngon nhất lại là cục khoai môn chiên . Mấy loại há cảo xíu mại bánh xẹp ăn ngán cực kỳ , mà làm cục to tổ bố để ép khách mua với cái giá 19k . Ko hiểu ăn được cái gì ở đây mà có người khen ngon</td>\n",
       "    </tr>\n",
       "    <tr>\n",
       "      <th>1</th>\n",
       "      <td>e3f0ea32</td>\n",
       "      <td>Ăn ở đây từ trc khi chủ nhà xây nhà mới .   chất lg ko đổi còn giá có tăng từ từ 1-2k : ) )\\nphần mìh kiu là 2 thường 2 trứng 22k - hơi no tẹo và CỰC KÌ NGONNN &gt;   &lt;\\nđi vạn kiếp rẽ vào hẻm có biển hoa đàm ni tự và đi chừng 50m là tới , vì hẻm 2m nên để xe bên ngoài dọc theo 2 dãy nhà , chú chủ sẽ sắp xếp xe lại nhưng mình khuyến khích các b mua về : ) )   ăn tại chỗ thì bàn ghế sạch sẽ , ly uống nước là loại dùng 1 lần - &gt; kết điểm này ! ! !\\nphục vụ của 2 vk ck chủ thì miễn bàn , cực kì thân thiện . dạo này có 1 cô nữa phụ bán nhưng ko dc lanh lẹ lắm .\\n* quán chỉ bán buổi sáng tới chừng 9-10g là hết . lâu lâu thì 11g .\\n* hành phi tự làm ngon và giòn lắm nhé ^ ^ còn bánh cuốn thì gọi tới đâu làm tới đó , ko qá lâu và bánh còn ấm .</td>\n",
       "    </tr>\n",
       "    <tr>\n",
       "      <th>2</th>\n",
       "      <td>8743eae3</td>\n",
       "      <td>Các bạn đến ăn ngay và luôn đi nhé ! !\\nMình từ trước giờ chỉ Súp cua Súp óc heo làm tới , từ khi tới quán , mình đã biết thêm nhiều loại khác ( rong biển , hến , thập cẩm , . . mới đây còn có thêm súp còi điệp ) . Không chỉ có súp không âu nha , nhìn menu mà món nào cũng muôn ăn ... Ah , bánh Flan trà xanh cực ngon luôn , món khoái khẩu của mình ấy ... Mình không có thói quen chộp hình thức ăn trước khi ăn , nên các bạn đến ngay SÚP SÀI GÒN Q4 và cảm nhận nhé ^ ^</td>\n",
       "    </tr>\n",
       "    <tr>\n",
       "      <th>3</th>\n",
       "      <td>7b554248</td>\n",
       "      <td>Đây gần như quán ruột của mình luôn : ) ) đây đồ ăn ngon , nhân viên dễ thương , mấy anh giữ xe phía ngoài cũng dễ thương ko kém : ) ) giá cả thì hợp lý khỏi bàn luôn rồi . Đây là 3 món ruột , lần nào đến cũng phải ăn : ) ) ) hahaaa</td>\n",
       "    </tr>\n",
       "    <tr>\n",
       "      <th>4</th>\n",
       "      <td>bedd1403</td>\n",
       "      <td>Tiếc là 25 năm sống ở Tây Ninh thì đây là lần đầu tiên mình ghé .\\nThức ăn rất Việt Nam , ngon và vị tuyệt vời , giá hợp lý .\\nKhuyết điểm :\\nGiờ cơm trưa quán đắc nên đợi rất lâu ,\\nMình quên giử số điện thoại để đặt chổ và thức ăn trước , a e ai ghé thì thêm vào giúp .\\nHơi nóng , và chắc vì quán đông quá nên phần mỷ quan có điễm trừ ,</td>\n",
       "    </tr>\n",
       "  </tbody>\n",
       "</table>\n",
       "</div>"
      ],
      "text/plain": [
       "         id  \\\n",
       "0  2017ec48   \n",
       "1  e3f0ea32   \n",
       "2  8743eae3   \n",
       "3  7b554248   \n",
       "4  bedd1403   \n",
       "\n",
       "                                                                                                                                                                                                                                                                                                                                                                                                                                                                                                                                                                                                                                                                                                                                                                      text  \n",
       "0                                                                                                                                                                                                                                                                                                                                                                                                                                                        Mình kêu 6 loại khác nhau , mỗi laoij 1 cục mà ăn cái nào cũng như nhau , cứ như đang ăn 1 loại vậy . Cuối cùng ngon nhất lại là cục khoai môn chiên . Mấy loại há cảo xíu mại bánh xẹp ăn ngán cực kỳ , mà làm cục to tổ bố để ép khách mua với cái giá 19k . Ko hiểu ăn được cái gì ở đây mà có người khen ngon  \n",
       "1  Ăn ở đây từ trc khi chủ nhà xây nhà mới .   chất lg ko đổi còn giá có tăng từ từ 1-2k : ) )\\nphần mìh kiu là 2 thường 2 trứng 22k - hơi no tẹo và CỰC KÌ NGONNN >   <\\nđi vạn kiếp rẽ vào hẻm có biển hoa đàm ni tự và đi chừng 50m là tới , vì hẻm 2m nên để xe bên ngoài dọc theo 2 dãy nhà , chú chủ sẽ sắp xếp xe lại nhưng mình khuyến khích các b mua về : ) )   ăn tại chỗ thì bàn ghế sạch sẽ , ly uống nước là loại dùng 1 lần - > kết điểm này ! ! !\\nphục vụ của 2 vk ck chủ thì miễn bàn , cực kì thân thiện . dạo này có 1 cô nữa phụ bán nhưng ko dc lanh lẹ lắm .\\n* quán chỉ bán buổi sáng tới chừng 9-10g là hết . lâu lâu thì 11g .\\n* hành phi tự làm ngon và giòn lắm nhé ^ ^ còn bánh cuốn thì gọi tới đâu làm tới đó , ko qá lâu và bánh còn ấm .  \n",
       "2                                                                                                                                                                                                                                                                                     Các bạn đến ăn ngay và luôn đi nhé ! !\\nMình từ trước giờ chỉ Súp cua Súp óc heo làm tới , từ khi tới quán , mình đã biết thêm nhiều loại khác ( rong biển , hến , thập cẩm , . . mới đây còn có thêm súp còi điệp ) . Không chỉ có súp không âu nha , nhìn menu mà món nào cũng muôn ăn ... Ah , bánh Flan trà xanh cực ngon luôn , món khoái khẩu của mình ấy ... Mình không có thói quen chộp hình thức ăn trước khi ăn , nên các bạn đến ngay SÚP SÀI GÒN Q4 và cảm nhận nhé ^ ^  \n",
       "3                                                                                                                                                                                                                                                                                                                                                                                                                                                                                                                                 Đây gần như quán ruột của mình luôn : ) ) đây đồ ăn ngon , nhân viên dễ thương , mấy anh giữ xe phía ngoài cũng dễ thương ko kém : ) ) giá cả thì hợp lý khỏi bàn luôn rồi . Đây là 3 món ruột , lần nào đến cũng phải ăn : ) ) ) hahaaa  \n",
       "4                                                                                                                                                                                                                                                                                                                                                                                                                      Tiếc là 25 năm sống ở Tây Ninh thì đây là lần đầu tiên mình ghé .\\nThức ăn rất Việt Nam , ngon và vị tuyệt vời , giá hợp lý .\\nKhuyết điểm :\\nGiờ cơm trưa quán đắc nên đợi rất lâu ,\\nMình quên giử số điện thoại để đặt chổ và thức ăn trước , a e ai ghé thì thêm vào giúp .\\nHơi nóng , và chắc vì quán đông quá nên phần mỷ quan có điễm trừ ,  "
      ]
     },
     "execution_count": 7,
     "metadata": {},
     "output_type": "execute_result"
    }
   ],
   "source": [
    "test_df = pd.read_csv('../input/test.csv')\n",
    "test_df.head()"
   ]
  },
  {
   "cell_type": "code",
   "execution_count": 8,
   "metadata": {
    "colab": {
     "base_uri": "https://localhost:8080/",
     "height": 34
    },
    "colab_type": "code",
    "id": "k7kUiNEvNFe_",
    "outputId": "f1fadf6f-3e0c-479e-c11d-4150ae2a7dd0"
   },
   "outputs": [
    {
     "name": "stdout",
     "output_type": "stream",
     "text": [
      "Number of test samples in total: 27000\n"
     ]
    }
   ],
   "source": [
    "print('Number of test samples in total:', len(train_df))"
   ]
  },
  {
   "cell_type": "markdown",
   "metadata": {
    "colab_type": "text",
    "id": "rDqkzU_XVCAx"
   },
   "source": [
    "### Tải bộ word embeddings (vector biểu diễn từ, dịch thô là \"từ nhúng (vào không gian vector)\")\n",
    "Đầu tiên, để có thể biểu diễn một từ bằng một vector, ta sẽ sử dụng mô hình đã được luyện sẵn (pretrained model). Ở đây ta sẽ dùng mô hình tiếng Việt trong fasttext, bộ biểu diễn từ cho 157 ngôn ngữ do Facebook AI Research Lab thực hiện (nguồn: https://fasttext.cc).\n",
    "\n",
    "Tuy nhiên, kích thước của mô hình luyện sẵn khá lớn (khoảng 1,2 GB). Mô hình luyện sẵn bao gồm khoảng 2 triệu từ, mỗi từ lại được biểu diễn dưới dạng một vector 300 chiều.\n",
    "\n",
    "Kích thước lớn của mô hình gây khó khăn cho việc tải và sử dụng nó cho bài toán của chúng ta. Vì vậy, đội giảng dạy đã thu gọn mô hình trên, với số lượng từ vừa đủ để có thể xử lý tập dữ liệu review đồ ăn của Foody."
   ]
  },
  {
   "cell_type": "code",
   "execution_count": 9,
   "metadata": {
    "colab": {
     "base_uri": "https://localhost:8080/",
     "height": 52
    },
    "colab_type": "code",
    "id": "5e3hSngMUGBZ",
    "outputId": "ac6b33a7-dc91-4109-d928-6404bd79c2dd"
   },
   "outputs": [
    {
     "name": "stdout",
     "output_type": "stream",
     "text": [
      "Prunned vocabulary loaded!\n",
      "Word embedding matrix loaded!\n"
     ]
    }
   ],
   "source": [
    "words_list = np.load('../input/words_list.npy')\n",
    "print('Prunned vocabulary loaded!')\n",
    "words_list = words_list.tolist()\n",
    "word_vectors = np.load('../input/word_vectors.npy')\n",
    "word_vectors = np.float32(word_vectors)\n",
    "print ('Word embedding matrix loaded!')"
   ]
  },
  {
   "cell_type": "markdown",
   "metadata": {
    "colab_type": "text",
    "id": "d86tOJcEVe0-"
   },
   "source": [
    "Để đảm bảo dữ liệu được tải một cách chính xác, ta nên kiểm tra xem số từ vựng và số chiều của ma trận biểu diễn từ (word embedding) có khớp với nhau hay không? Trong trường hợp này số từ được giữ lại là 19899 và số chiều của mỗi vector biểu diễn là 300 chiều."
   ]
  },
  {
   "cell_type": "code",
   "execution_count": 10,
   "metadata": {
    "colab": {
     "base_uri": "https://localhost:8080/",
     "height": 52
    },
    "colab_type": "code",
    "id": "KLYBgqXyVdcx",
    "outputId": "2c8e3f49-7840-469f-85cd-8fc6bc9396cc"
   },
   "outputs": [
    {
     "name": "stdout",
     "output_type": "stream",
     "text": [
      "Size of the vocabulary:  19899\n",
      "Size of the word embedding matrix:  (19899, 300)\n"
     ]
    }
   ],
   "source": [
    "print('Size of the vocabulary: ', len(words_list))\n",
    "print('Size of the word embedding matrix: ', word_vectors.shape)"
   ]
  },
  {
   "cell_type": "markdown",
   "metadata": {
    "colab_type": "text",
    "id": "udbdJlblVp2l"
   },
   "source": [
    "### Cách lấy word vector của một từ"
   ]
  },
  {
   "cell_type": "markdown",
   "metadata": {
    "colab_type": "text",
    "id": "SNPecz9sbpgP"
   },
   "source": [
    "`words_list` và `word_vectors` đã được thiết lập sẵn sao cho vector đầu tiên trong `word_vectors` sẽ tương ứng với từ đầu tiên `words_list`. Tương tự với cặp vector và từ thứ hai, thứ ba, vân vân, đến cuối.\n"
   ]
  },
  {
   "cell_type": "code",
   "execution_count": 11,
   "metadata": {
    "colab": {
     "base_uri": "https://localhost:8080/",
     "height": 281
    },
    "colab_type": "code",
    "id": "ydbng0bvbpgS",
    "outputId": "dce09689-28ee-4119-a076-d65a8de2db29"
   },
   "outputs": [
    {
     "name": "stdout",
     "output_type": "stream",
     "text": [
      "Index 0 thuộc về từ ăm\n",
      "có biểu diễn vector là [ 0.1882 -0.292   0.0072 ...  0.5919 -0.3094 -0.1228] \tkích thước (300,)\n",
      "\n",
      "Index 1 thuộc về từ sửng_sốt\n",
      "có biểu diễn vector là [-0.0535  0.0028  0.0876 ... -0.0419  0.0083 -0.0112] \tkích thước (300,)\n",
      "\n",
      "Index 2 thuộc về từ có_học\n",
      "có biểu diễn vector là [-0.0165 -0.0346  0.0616 ... -0.0876  0.0095 -0.0098] \tkích thước (300,)\n",
      "\n",
      "Index 3 thuộc về từ việc_làm\n",
      "có biểu diễn vector là [ 0.0024  0.0056  0.1076 ... -0.0454 -0.0175 -0.0269] \tkích thước (300,)\n",
      "\n",
      "Index 4 thuộc về từ vanila\n",
      "có biểu diễn vector là [ 0.0722 -0.0154  0.0271 ... -0.0013  0.033   0.054 ] \tkích thước (300,)\n",
      "\n"
     ]
    }
   ],
   "source": [
    "np.set_printoptions(threshold=5)\n",
    "for i in range(5):\n",
    "  print('Index', i, 'thuộc về từ', words_list[i])\n",
    "  print('có biểu diễn vector là', word_vectors[i], '\\tkích thước', word_vectors[i].shape)\n",
    "  print()"
   ]
  },
  {
   "cell_type": "markdown",
   "metadata": {
    "colab_type": "text",
    "id": "TBPGJi_obpgh"
   },
   "source": [
    "Theo như trên, để truy xuất vector một từ nhất định thì ta cần biết chỉ số của từ đó. Lấy ví dụ trường hợp ta muốn biết biểu diễn vector của từ \"ngon\" thì ta cần thực hiện các bước sau:\n"
   ]
  },
  {
   "cell_type": "code",
   "execution_count": 12,
   "metadata": {
    "colab": {},
    "colab_type": "code",
    "id": "Xh-GnieCbpgk"
   },
   "outputs": [],
   "source": [
    "# Bước 1\n",
    "word = 'ngon'\n",
    "  \n",
    "# Bước 2\n",
    "word_idx = words_list.index(word)\n",
    "\n",
    "# Bước 3\n",
    "word_vec = word_vectors[word_idx]"
   ]
  },
  {
   "cell_type": "markdown",
   "metadata": {
    "colab_type": "text",
    "id": "ZJiS9s9ybpgt"
   },
   "source": [
    "Tuy nhiên, phương pháp trên khá chậm, và sẽ trở nên rất chậm khi ta cần truy xuất hàng trăm, hàng nghìn vector của các từ trong câu. Khúc mắc nằm ở bước 2: việc tìm index của một từ trong một list (không có phần tử trùng) có độ phức tạp O(n). Ta có thể làm nhanh hơn thế."
   ]
  },
  {
   "cell_type": "code",
   "execution_count": 13,
   "metadata": {
    "colab": {
     "base_uri": "https://localhost:8080/",
     "height": 54
    },
    "colab_type": "code",
    "id": "lYiVlb9mbpgx",
    "outputId": "d81e87fe-a5c4-459a-fcb7-26466ed68013"
   },
   "outputs": [
    {
     "name": "stdout",
     "output_type": "stream",
     "text": [
      "{'ăm': 0, 'sửng_sốt': 1, 'có_học': 2, 'việc_làm': 3, 'vanila': 4, '260000': 5, 'linh_chi': 6, 'chảy_máu': 7, 'cũ_kĩ': 8, 'chính_thức': 9, 'đi_đứng': 10, 'bố_trí': 11, 'mì_chính': 12, 'ái_ngại': 13, 'socôla': 14, 'deep': 15, '218': 16, 'khẳng_khái': 17, 'mưa_gió': 18, 'ụt_ụt': 19, 'lưc': 20, 'online': 21, 'dều': 22, 'mist': 23, 'dẽo': 24, 'mifnh': 25, 'nhảy': 26, 'đại': 27, 'hoa_sen': 28, 'wouldn': 29, 'hạn_hẹp': 30, 'ay': 31, 'chòn': 32, 'núi_rừng': 33, 'signature': 34, 'tuơng': 35, 'phạt': 36, 'tâp': 37, 'đại_hội': 38, 'địa_điểm': 39, 'bao_tử': 40, '6g': 41, 'chêt': 42, 'chi_tiết': 43, 'vung_vãi': 44, 'thố': 45, 'trê': 46, 'tẻ_nhạt': 47, 'trinh_thám': 48, 'thành_thật': 49, 'khèo': 50, 'lai_tạp': 51, 'nguyệt': 52, 'thời_kỳ': 53, 'giử': 54, 'tám': 55, 'thét': 56, 'đuòng': 57, 'chung_quanh': 58, 'thươ': 59, 'tiếng_tăm': 60, 'đánh_bạn': 61, '11h15': 62, 'spaghetty': 63, 'opening': 64, '2013': 65, 'tấn_công': 66, 'ăn_bẩn': 67, 'pate': 68, 'mem': 69, '4share': 70, 'loạn_xạ': 71, 'tug': 72, 'foodie': 73, '150000': 74, 'at': 75, 'khổ_nỗi': 76, 'tuyêt': 77, 'boring': 78, 'sfs': 79, 'ở_trần': 80, 'parfait': 81, 'ngân_long': 82, 'thậm_chí': 83, 'iii': 84, 'tặng': 85, 'sort': 86, 'n3': 87, 'fuf': 88, 'tốt_tươi': 89, 'thân_mật': 90, 'khố': 91, 'cạnh_tranh': 92, '15l': 93, 'cầu_trượt': 94, 'thiếc': 95, 'ừa': 96, 'dỏm': 97, 'everyone': 98, 't': 99, 'khỉ': 100, 'campo': 101, 'hòm': 102, 'cộg': 103, 'lổm_ngổm': 104, 'chẳng_lẽ': 105, 'tặc_lưỡi': 106, '110': 107, 'chiến_tranh': 108, 'xế_chiều': 109, 'kk': 110, 'nháy': 111, 'vocher': 112, 'lổi': 113, 'cuoc': 114, 'lớ_ngớ': 115, 'việt_nam': 116, 'đầu_mặt': 117, '3936': 118, 'món': 119, 'cơ_sở': 120, 'ask': 121, 'giụt': 122, 'linh_cảm': 123, 'rấy': 124, 'nhêu': 125, 'lỏng': 126, 'nhết': 127, 'bông_gòn': 128, 'hợp_thời': 129, 'cườm': 130, 'mặt_mũi': 131, 'ngoắt': 132, 'xựt': 133, 'ngũ_sắc': 134, 'thơ_thẩn': 135, 'nguoi': 136, '5có': 137, 'lạp_xường': 138, 'nham_thạch': 139, 'want': 140, 'tứ': 141, 'sanh': 142, 'nha_sĩ': 143, '64k': 144, 'fake': 145, 'kia_mà': 146, 'hvt': 147, 'làm_tiền': 148, 'locations': 149, 'khắm': 150, 'hơi_ngạt': 151, 'tiny': 152, 'xợ': 153, 'gửi': 154, 'hoả': 155, 'tượng_hình': 156, 'cheese': 157, 'tùng_bách': 158, '151': 159, 'buôc': 160, 'trẻ_trai': 161, 'cant': 162, 'jelly': 163, 'gưi': 164, 'cạnh': 165, 'lé': 166, 'mùa_đông': 167, 'chủ_nhiệm': 168, 'he': 169, 'mh': 170, 'plan': 171, 'tips': 172, 'bản_tính': 173, 'eyes': 174, 'xỉ': 175, 'tơ_tưởng': 176, 'bitexco': 177, 'đâu_đâu': 178, 'vớp': 179, 'dắt': 180, '12016': 181, 'gimbap': 182, 'tuỗi': 183, 'hỉu': 184, 'ntn': 185, 'xuống_dốc': 186, '82k': 187, 'cung_kính': 188, 'choice': 189, 'ăn_xin': 190, 'trang': 191, 'phẳng': 192, 'katsu': 193, 'súng_đạn': 194, 'the0': 195, 'nổi_đình_nổi_đám': 196, 'chi_li': 197, 'cheap': 198, 'hjz': 199, 'hurt': 200, 'cụt': 201, 'ngoằn_ngoèo': 202, 'hị': 203, 'rốt_cục': 204, 'bùi_viện': 205, 'đúc_kết': 206, 'đúg': 207, 'tộc': 208, 'seeing': 209, 'forced': 210, 'bò_sát': 211, 'bứơc': 212, 'lẽo': 213, 'ya': 214, 'dặm': 215, 'dăm': 216, 'hám': 217, 'dợ': 218, 'đường_phố': 219, 'vãng_lai': 220, 'dự_án': 221, 'lúp': 222, 'cổ_truyền': 223, 'wá': 224, 'water': 225, 'cá_chuối': 226, 'pô': 227, 'annabelle': 228, 'nhảy_nhót': 229, 'máy_móc': 230, '142': 231, 'xứ_sở': 232, 'lú_nhú': 233, 'nhommua': 234, 'dửng_dưng': 235, 'quyến': 236, 'thíchch': 237, '24': 238, 'sát_nách': 239, 'beanie': 240, '900000': 241, 'sơ_sơ': 242, 'đám': 243, 'ngkhông': 244, 'kichi_kichi': 245, 'lạ': 246, 'sót': 247, 'tỉ_lệ': 248, 'nhà_vệ_sinh': 249, 'paper': 250, 'nhìu': 251, 'angus': 252, '10h': 253, 'handsome': 254, '1': 255, 'văn_sĩ': 256, 'dụ_dỗ': 257, 'bờ': 258, 'thục_địa': 259, 'lềnh': 260, 'chè_đen': 261, 'chính_điện': 262, '1m4': 263, 'múm': 264, 'nhặt': 265, 'hứng_gió': 266, 'c': 267, 'đích': 268, 'dưa_leo': 269, 'rét_mướt': 270, 'cầy': 271, 'nhân_dịp': 272, 'work': 273, 'lưu_niên': 274, 'jw': 275, 'ngón_út': 276, 'cao_đẳng': 277, 'lsau': 278, 'cậy': 279, 'kenh': 280, 'ramen': 281, 'khẩu_phần': 282, 'buk': 283, 'kháo': 284, 'pineapple': 285, 'thắt': 286, 'đượn': 287, '20h': 288, 'rộn_ràng': 289, 'mịnh': 290, 'nớ': 291, 'tiện_nghi': 292, 'ngò': 293, 'kỳ': 294, 'choc': 295, '193': 296, 'chốc': 297, 'phe': 298, 'bấm_bấm': 299, 'thông_minh': 300, 'vật_tư': 301, 'tíêng': 302, '284': 303, 'suy_tư': 304, 'thằn_lằn': 305, 'tổng_hợp': 306, 'nghệt': 307, 'nói_năng': 308, 'toàn': 309, 'đầy_đặn': 310, 'ra_bộ': 311, 'truog': 312, 'cung_cách': 313, 'tieng': 314, 'crunch': 315, 'giao_thoa': 316, 'trắc_nghiệm': 317, 'dạ': 318, 'gác_xép': 319, 'lăn_xả': 320, '000': 321, 'xuân_diệu': 322, 'bản_gốc': 323, 'ngọ_nguậy': 324, 'xuốn': 325, 'backround': 326, 'bẹ': 327, 'dát': 328, 'thái_độ': 329, 'p1': 330, 'rắn': 331, 'thông_đồng': 332, 'do_dự': 333, 'jeju': 334, 'chình_ình': 335, 'chật_cứng': 336, 'rảnh_rỗi': 337, 'balo': 338, 'tiết_canh': 339, 'thíck': 340, 'réo_rắt': 341, 'also': 342, 'sach': 343, 'nhìn_chung': 344, 'sật': 345, 'tống': 346, 'nàng': 347, '097': 348, 'đểu': 349, 'nhân_tình': 350, 'nhươ': 351, 'miệg': 352, 'cigar': 353, 'tuyệt_chiêu': 354, 'hoanh': 355, 'ðến': 356, 'giúp_đỡ': 357, 'mạnh_tay': 358, 'dê': 359, 'thon': 360, 'ùa': 361, 'btrai': 362, 'dính_dáng': 363, 'gian': 364, 'ảm_đạm': 365, '2v': 366, 'đê': 367, 'thách_đố': 368, 'dợm': 369, 'pull': 370, 'phải_tội': 371, 'sị': 372, 'mìn': 373, 'hixxxx': 374, '550': 375, 'desert': 376, 'massa': 377, 'veiw': 378, 'thík': 379, '230': 380, 'kiễu': 381, 'chợ': 382, 'dồn_dập': 383, 'đăn': 384, 'bucket': 385, 'mê_cung': 386, 'nhằn': 387, 'gina': 388, 'tress': 389, 'rượm': 390, 'ming': 391, 'thoáng_khí': 392, '97': 393, 'đằng': 394, 'toc': 395, 'chuyên_gia': 396, 'man': 397, 'vệt': 398, 'nghiẹm': 399, 'amount': 400, 'dưới': 401, 'vietnam': 402, 'công_chúa': 403, 'sứt_mẻ': 404, '4h15': 405, 'interior': 406, 'chật_chội': 407, 'ht': 408, 'trắng_hếu': 409, 'hút_hồn': 410, 'thăng_hoa': 411, 'm': 412, 'khinh_bỉ': 413, 'shabu': 414, 'vợ_con': 415, 'dân_tộc': 416, 'cá_lóc': 417, 'làm_chi': 418, 'hàu': 419, 'zealand': 420, 'bày_đặt': 421, 'mỹ_phẩm': 422, 'cầu_vượt': 423, 'teabreak': 424, 'evening': 425, 'nhẫn_nhịn': 426, 'sau_cùng': 427, 'ngác': 428, 'mà_lại': 429, 'cúng': 430, 'hửu': 431, 'nổi': 432, 'đóng_thùng': 433, 'thuê': 434, 'decided': 435, 'yang': 436, 'gift': 437, 'bách_khoa': 438, 'máy_chiếu_hình': 439, 'đi_tới_đi_lui': 440, 'sến': 441, 'joint': 442, 'zzz': 443, 'kem_que': 444, '63k': 445, 'tẩm': 446, 'nga': 447, 'derco': 448, 'bép': 449, 'phonh': 450, 'tội': 451, 'thanh_âm': 452, 'xemphim': 453, 'dối': 454, 'khíu': 455, 'town': 456, 'nhát_gừng': 457, 'ngoại_tỉnh': 458, 'snghi': 459, 'ăn_đậm': 460, 'kito': 461, 'điêu': 462, 'glas': 463, 'vuợt': 464, 'inn': 465, 'chủ_quyền': 466, 'coucou': 467, 'iêu': 468, 'nằm_bẹp': 469, 'kiosk': 470, 'đăng_ký': 471, 'khuya': 472, 'nđc': 473, '307': 474, 'đu': 475, '25m': 476, 'tràng_an': 477, 'tourist': 478, 'quen_thân': 479, 'kubin': 480, 'biên_hoà': 481, 'băng_rôn': 482, 'trảnh': 483, 'chúc': 484, 'láu_cá': 485, 'zìa': 486, 'lạo': 487, 'đích_thị': 488, 'khôn_ngoan': 489, 'gõi': 490, 'dan': 491, 'láo': 492, 'mảnh_dẻ': 493, 'thua': 494, 'đứa': 495, 'hàn_quốc': 496, 'đền_lừ': 497, 'khói_lửa': 498, 'tắt_thở': 499, 'pán': 500, 'luôm': 501, 'thế_nào': 502, 'máy_quét': 503, 'ngăn_cản': 504, 'cói': 505, 'teambuilding': 506, 'mỏi_mệt': 507, 'đồng_đội': 508, 'đuờng': 509, 'tuệ': 510, 'hỗn_độn': 511, 'cam_tâm': 512, 'thương_tình': 513, 'super': 514, 'hà_tiện': 515, '33d': 516, 'thái_bình': 517, 'gán': 518, 'gĩư': 519, 'gấu': 520, 'nun': 521, 'hanet': 522, 'gió_lùa': 523, 'ngừoi': 524, 'rau_má': 525, 'nước_ăn': 526, 'chair': 527, 'long_biên': 528, 'roll': 529, 'helio': 530, 'lọ': 531, 'kha_khá': 532, 'không_khí': 533, 'đính': 534, 'season': 535, 'comfy': 536, 'daddy': 537, 'dài_dại': 538, 'sẩm': 539, 'quyê': 540, 'nhập_nhằng': 541, 'cuộn': 542, 'lận': 543, 'truyền_thuyết': 544, 'chien': 545, '33': 546, 'cafe': 547, 'samoyed': 548, 'bình_dương': 549, 'lọ_lem': 550, 'cost': 551, '289': 552, 'cuốc_bộ': 553, 'orange': 554, 'phương_mai': 555, 'hongkong': 556, '36k': 557, 'sỡ': 558, 'bằng': 559, 'nhiề': 560, 'lđ': 561, 'habit': 562, 'lvc': 563, 'hả_hê': 564, 'hoắc': 565, 'cổ_vũ': 566, 'haaa': 567, 'bí': 568, 'lụp_chụp': 569, 'phải_lòng': 570, 'kinh_nghiệm': 571, 'couple': 572, 'ngật': 573, 'tuyệt_cú': 574, 'sắng': 575, 'sân_khấu': 576, 'rát': 577, 'nhàn_nhạt': 578, 'heo': 579, 'fever': 580, 'nhãn_hiệu': 581, 'huy': 582, 'tôn_trọng': 583, 'nva': 584, 'phất_phơ': 585, 'vàng_vàng': 586, 'thiệt_hại': 587, 'wrap': 588, 'giới': 589, '77': 590, 'risotto': 591, 'barbie': 592, 'didnt': 593, 'hinhf': 594, 'cổ_tay': 595, 'bực_dọc': 596, 'điền': 597, 'vật_giá': 598, 'vch': 599, 'hối_hả': 600, 'y_như_rằng': 601, 'ngổng': 602, 'brick': 603, 'morin': 604, 'buồn_rười_rượi': 605, 'bỏ_rơi': 606, 'xuóng': 607, '720k': 608, 'ngắc': 609, 'tổng_quát': 610, 'freeship': 611, 'khít': 612, 'accept': 613, 'thếch': 614, 'buffer': 615, 'lạp': 616, 'xd': 617, 'trật': 618, 'gạo_nếp': 619, 'ngoại_ngữ': 620, 'under': 621, 'yoka': 622, 'tít': 623, 'ai': 624, 'panda': 625, 'xoắn_ốc': 626, 'túa': 627, 'vứa': 628, 'nu': 629, 'bến_tre': 630, 'diễ': 631, 'thì_có': 632, 'thiều': 633, '9h': 634, 'đièu': 635, 'ira': 636, 'special': 637, 'lồm': 638, 'hôi_thối': 639, 'nh': 640, 'quanh_năm_suốt_tháng': 641, 'waffel': 642, 'shopping': 643, 'gia_nhập': 644, 'tưỡng': 645, 'văn_miếu': 646, 'hồng': 647, 'giấc_ngủ': 648, 'chói_lọi': 649, 'máy_chém': 650, '3p': 651, 'sefie': 652, 'lịch_trình': 653, 'thể_thao': 654, 'ding': 655, 'hy': 656, 'cooktail': 657, 'oreon': 658, 'mồm_mép': 659, 'giấy_tờ': 660, 'vắc': 661, 'cân': 662, 'lớn_tuổi': 663, 'chuyển_biến': 664, 'cập_nhật': 665, 'chành': 666, 'khách_khứa': 667, 'điếu': 668, '60': 669, 'nhie': 670, 'thy': 671, 'bác_bỏ': 672, 'nóng_bức': 673, 'úm': 674, 'ba': 675, 'méc': 676, 'te_te': 677, 'receipt': 678, 'tạt': 679, 'tèn': 680, 'sở': 681, 'sạch_mắt': 682, 'kể': 683, 'bao_bọc': 684, 'tâm_thế': 685, 'nội_tạng': 686, 'đếch': 687, 'so': 688, 'thoảng': 689, 'thông_cảm': 690, 'diligent': 691, 'sul': 692, 'k': 693, 'parafin': 694, 'hồi_giáo': 695, 'xâm': 696, 'khảo': 697, 'rôi': 698, 'tiền_mất_tật_mang': 699, 'flavor': 700, 'móc_nối': 701, 'đạt': 702, 'thạnh': 703, 'nóng_sốt': 704, 'thui': 705, 'chè_hoa_cau': 706, '2535': 707, 'zẻ': 708, 'khá_giả': 709, 'chủ_yếu': 710, 'gaucho': 711, 'cao_siêu': 712, 'osc': 713, 'lim_dim': 714, 'quắc': 715, '1ng': 716, 'biting': 717, 'thời_giờ': 718, 'ohashi': 719, 'bonjour': 720, 'bóng_bẩy': 721, 'thất_lạc': 722, 'õi': 723, 'đu_quay': 724, 'cở': 725, 'hành': 726, 'kho': 727, 'takoyaki': 728, 'foodcourt': 729, 'tây_nam': 730, 'slide': 731, '100đ': 732, 'thời_giá': 733, 'trung_chánh': 734, 'gút': 735, 'công_nghệ_cao': 736, 'nhớ_thương': 737, 'khôn_xiết': 738, 'vôi': 739, 'chùi': 740, 'kỹ_lưỡng': 741, 'vành': 742, 'kim_cương': 743, 'bất_đồng': 744, 'tự_nhủ': 745, '22h30': 746, 'xén': 747, 'chuc': 748, 'nôn_nóng': 749, 'du_long': 750, 'chảnh': 751, 'viet_nam': 752, 'tâm_tình': 753, 'tán_gẫu': 754, 'wait': 755, 'private': 756, 'thấm': 757, 'chợ_đen': 758, 'luỹ': 759, 'mãn': 760, 'underground': 761, 'răm_rắp': 762, 'hả_lòng_hả_dạ': 763, 'trung_sơn': 764, 'ộp': 765, 'át': 766, 'hoá': 767, 'thơ': 768, 'lúi_húi': 769, 'văn_ký': 770, 'duy': 771, '97k': 772, '12h30': 773, 'đoành': 774, 'melon': 775, 'đêù': 776, 'ngấp': 777, 'nhạc_công': 778, 'pharaoh': 779, 'nan_giải': 780, 'hahahaha': 781, 'lật_lọng': 782, 'quyết': 783, 'trịnh': 784, '13216': 785, 'quế': 786, 'nhẩt': 787, 'nature': 788, 'stuck': 789, 'lộ': 790, 'dạt_dào': 791, 'hưc': 792, '56h': 793, 'môi_trường': 794, '1tr': 795, 'bầu_trời': 796, 'ba_đình': 797, 'cữa': 798, 'hay': 799, 'lễ_độ': 800, 'bún': 801, 'wise': 802, 'ghé': 803, 'long': 804, 'triển_vọng': 805, 'bảg': 806, '6g30': 807, 'chuẩn': 808, 'bks': 809, 'chửi_bới': 810, 'nguwoif': 811, 'dzòng': 812, 'bị': 813, 'xưa_nay': 814, 'cầu_gai': 815, 'tương_đương': 816, '226': 817, 'chs': 818, 'hức': 819, 'hội_nghị': 820, 'người_dân': 821, 'thiền_viện': 822, '5h': 823, 'ốc_hương': 824, 'kịch_bản': 825, 'qđ': 826, 'cúi': 827, 'xào_nấu': 828, '75k': 829, 'hotline': 830, 'quyến_luyến': 831, 'nghĩ_suy': 832, '21000': 833, 'aia': 834, 'kêt': 835, 'reviewers': 836, '2loại': 837, 'fụ': 838, 'ngó_ngàng': 839, 'ngang_dọc': 840, 'khap': 841, 'buổi_sáng': 842, 'huống_hồ': 843, 'gach': 844, 'đặc_chế': 845, 'đề_nghị': 846, 'nó': 847, 'hạ': 848, 'chư': 849, 'nn': 850, 'ẩu_tả': 851, 'giày_dép': 852, 'lặng_lẽ': 853, 'tu_sửa': 854, 'nz': 855, 'lồi': 856, 'nép': 857, 'sf': 858, 'cẩu_thả': 859, 'làmm': 860, 'kỹ_năng': 861, 'ngợ': 862, 'chùa_chiền': 863, 'trò': 864, 'dẫn_dụ': 865, 'en': 866, 'trẹo': 867, 'cố': 868, '114': 869, 'đụp': 870, 'nư': 871, 'chắc_ăn': 872, 'disappointing': 873, 'mug': 874, 'that': 875, 'dụng_cụ': 876, 'rau': 877, 'càn': 878, 'dmax': 879, 'canh': 880, 'giặt': 881, 'vui_nhộn': 882, 'tolet': 883, 'chí_ít': 884, 'fatty': 885, 'sơn': 886, 'phonng': 887, 'dấu_vết': 888, '135k': 889, 'dỉa': 890, 'casual': 891, 'hào': 892, 'la_bàn': 893, 'tổng_số': 894, 'học_tập': 895, 'dam': 896, '4h30': 897, 'f': 898, 'lật_đật': 899, '11tr': 900, 'nành': 901, 'nứơc': 902, 'hoàn_thành': 903, 'masage': 904, 'giấy_lộn': 905, 'trú_ẩn': 906, 'ổn_định': 907, '240000': 908, 'chảng': 909, 'lẹt': 910, 'giấy_báo': 911, 't5': 912, 'ngô': 913, 'trằn_trọc': 914, 'chak': 915, 'xí': 916, 'tii': 917, 'mạch_nha': 918, 'đại_phú': 919, 'nhổ': 920, 'ahmad': 921, 'phạm_vi': 922, 'pinky': 923, 'bi_da': 924, 'sơ_sinh': 925, 'sinh_sau_đẻ_muộn': 926, '183': 927, 'nồi_cơm_điện': 928, 'hoàng_kì': 929, '1cây': 930, 'lquan': 931, 'jac': 932, 'điạ': 933, 'quái_vật': 934, 'pho': 935, 'nước_tương': 936, 'nội_ô': 937, 'đại_phát': 938, 'dãng': 939, 'police': 940, 'mặt': 941, '745': 942, 'lài': 943, 'ngói': 944, 'vk': 945, 'bồng_bềnh': 946, 'hư_hại': 947, 'ngơ_ngáo': 948, 'minh_bạch': 949, 'ios': 950, 'use': 951, 'q8': 952, 'bánh_tằm': 953, 'ë': 954, 'kiếm_khách': 955, 'loại_bỏ': 956, 'sáng_sủa': 957, 'thôinhưng': 958, 'fall': 959, 'ngiện': 960, 'khuấy': 961, 'cải_thìa': 962, 'unclosed': 963, 'tống_cổ': 964, 'cật_lực': 965, 'tinh_chất': 966, 'lò_xo': 967, 'sy': 968, 'hqua': 969, 'đọ': 970, 'bao_xa': 971, 'khô_ráo': 972, 'nghiêm_ngặt': 973, 'trip': 974, 'vivo': 975, 'enough': 976, 'gấu_trúc': 977, 'hó': 978, 'ql': 979, 'thở': 980, 'bè': 981, 'gas': 982, 'thiên_đường': 983, 'cò_mồi': 984, 'sap': 985, 'consistent': 986, 'mừng_rơn': 987, 'mộng': 988, 'tung_tăng': 989, 'else': 990, 'hoy': 991, 'nản_lòng': 992, 'vừa_mới': 993, 'most': 994, '655': 995, 'mừng_rỡ': 996, 'cúa': 997, 'sự_nghiệp': 998, 'sunset': 999, 's': 1000, 'chày': 1001, 'nom': 1002, 'tưoi': 1003, 'thốt': 1004, 'á_đông': 1005, 'xôi_xéo': 1006, 'khoa_học': 1007, '75': 1008, 'chơ': 1009, 'long_lóc': 1010, 'mousse': 1011, 'chi': 1012, '330k': 1013, 'lẻ_tẻ': 1014, 'nồng': 1015, 'có_điều': 1016, 'một_chút': 1017, 'nuông_chiều': 1018, 'hết_chỗ_nói': 1019, 'thư_viện': 1020, 'sịch': 1021, 'bât': 1022, 'chử': 1023, '170000': 1024, 'vừa_lòng': 1025, 'kái': 1026, 'nghĩ_đi_nghĩ_lại': 1027, 'phang': 1028, 'ô': 1029, 'oppa': 1030, 'dư_âm': 1031, 'co_rúm': 1032, 'áo_dài': 1033, 'bought': 1034, 'reason': 1035, 'taiwan': 1036, 'măn': 1037, 'bảnh_mắt': 1038, 'baby': 1039, 'rằng': 1040, 'tranh': 1041, 'hokkaido': 1042, 'tiêu_cực': 1043, 'đo': 1044, 'nua': 1045, 'ly': 1046, 'rẻ': 1047, 'diễn_đàn': 1048, 'dinner': 1049, 'vão': 1050, 'tuôt': 1051, 'yếu_kém': 1052, 'ak': 1053, 'duẩn': 1054, 'skin': 1055, 'khâm': 1056, 'cơ_mà': 1057, 'lủng_củng': 1058, 'dân_phố': 1059, 'nui': 1060, 'tường_thuật': 1061, 'bàng': 1062, 'regarding': 1063, 'lâu_nay': 1064, 'thuột': 1065, 'rìa': 1066, 'sên': 1067, 'tàu_lửa': 1068, 'ngọt_sắc': 1069, 'nếu_như': 1070, 'nung': 1071, 'ngôi_sao': 1072, 'table': 1073, 'đá': 1074, 'bình_tĩnh': 1075, 'bợt': 1076, 'pros': 1077, 'sđt': 1078, 'bonito': 1079, '410k': 1080, 'siêu_thịt': 1081, 'sieu': 1082, 'bve': 1083, 'đục_ngầu': 1084, 'bén': 1085, 'nhiễm': 1086, 'tây_âu': 1087, 'mak': 1088, 'eximland': 1089, 'bòn_bon': 1090, 'sesame': 1091, 'bếp_trưởng': 1092, 'đă': 1093, 'cacher': 1094, 'phing': 1095, 'rơi': 1096, '240k': 1097, 'bón': 1098, 'xuâ': 1099, 'quảng_trường': 1100, 'toe_toét': 1101, 'phỉa': 1102, 'bông_sen': 1103, 'bôg': 1104, 'thừa': 1105, 'rosemary': 1106, 'soang': 1107, 'chiết_khấu': 1108, 'daklak': 1109, 'scoops': 1110, 'indo': 1111, '27000': 1112, 'chủ_động': 1113, 'mizu': 1114, 'săn_sóc': 1115, 'vâng': 1116, 'fần': 1117, 'xém': 1118, 'bóng_mát': 1119, 'cổ_xưa': 1120, 'guesthouse': 1121, '160gr': 1122, 'rư': 1123, 'khả_ố': 1124, 'măc': 1125, 'caid': 1126, 'mười_lăm': 1127, 'cắn': 1128, 'theo_đuôi': 1129, 'sào': 1130, 'rau_muống': 1131, 'hùng_hồn': 1132, 'ốc': 1133, 'chóg': 1134, 'hưởng_ứng': 1135, 'trailer': 1136, 'vận_hành': 1137, 'lởn_vởn': 1138, 'đất_sét': 1139, 'đụ_mẹ': 1140, 'hhb': 1141, 'xe_tải': 1142, 'pó': 1143, 'trước_đây': 1144, 'ép_giá': 1145, 'tai_tiếng': 1146, 'muồn': 1147, '89': 1148, 'hôg': 1149, 'choices': 1150, 'havana': 1151, 'vũ_công': 1152, 'pây': 1153, 'manh_mối': 1154, 'y_trang': 1155, 'trống_trơn': 1156, '1110': 1157, '2p': 1158, 'lỗ_vốn': 1159, 'chế_độ': 1160, 'imax': 1161, 'cupcake': 1162, 'nước_chấm': 1163, 'chụm': 1164, 'bực_tức': 1165, 'nhoe_nhoét': 1166, 'henna': 1167, 'chải': 1168, 'khô_đét': 1169, 'trổi': 1170, 'haha': 1171, 'dùng_dằng': 1172, 'overly': 1173, 'que': 1174, 'nhịn': 1175, 'mùa': 1176, 'phấn': 1177, 'ôm_ấp': 1178, 'bẫy': 1179, 'khiếp': 1180, 'bạch_mai': 1181, 'nhằm': 1182, 'mixture': 1183, 'đội_sổ': 1184, 'kỉ_niệm': 1185, 'bangkok': 1186, 'biến_chuyển': 1187, 'nặng_trĩu': 1188, 'đoi': 1189, 'nhà_trai': 1190, 'sơn_phòng': 1191, 'kinh_phí': 1192, 'luợng': 1193, 'trying': 1194, 'rata': 1195, '209': 1196, 'so_sánh': 1197, 'vét': 1198, 'đầy': 1199, '20cm': 1200, 'gưng': 1201, 'nka': 1202, 'xảnh': 1203, 'rút': 1204, 'lãng': 1205, 'bóng_rổ': 1206, 'lãng_nhách': 1207, 'giọng_điệu': 1208, 'nhung': 1209, 'ăn_nói': 1210, 'nba': 1211, 'hàh': 1212, 'nắm_bắt': 1213, 'chẳng_thể': 1214, 'hien': 1215, 'đẹp_mắt': 1216, 'trôg': 1217, 'trưa': 1218, 'vi_vu': 1219, 'nguyên_hình': 1220, 'nuôn': 1221, 'táo_tàu': 1222, 'nghiêm_khắc': 1223, 'cồng': 1224, 'heee': 1225, 'chỏ': 1226, 'euro': 1227, 'lấy': 1228, 'chẳng_bù': 1229, 'hotboy': 1230, 'buoc': 1231, 'chiên': 1232, 'lạnh_tanh': 1233, 'ô_kê': 1234, 'đặt': 1235, 'tantan': 1236, 'bày_tỏ': 1237, 'nhanh': 1238, 'gáy': 1239, 'bưu': 1240, 'ngoan_cố': 1241, 'ket': 1242, 'hoă': 1243, 'arigato': 1244, 'thủ_tục': 1245, 'chí_minh': 1246, 'mùng': 1247, 'khong': 1248, '1trieu': 1249, 'đương_đại': 1250, 'mica': 1251, 'hay_biết': 1252, 'khép': 1253, 'chẹt': 1254, 'nhanh_nhẹn': 1255, 'khảo_sát': 1256, 'đen_ngòm': 1257, 'chết_tiệt': 1258, 'bệnh_nhân': 1259, 'khui': 1260, 'bụi_bặm': 1261, '7am': 1262, '1miếng': 1263, 'lác': 1264, 'thốn': 1265, 'update': 1266, 'gío': 1267, 'botanica': 1268, 'quà': 1269, 'h2': 1270, 'lắc_lư': 1271, 'dư_lượng': 1272, '255k': 1273, 'đồn': 1274, 'vien': 1275, 'majo': 1276, 'rợp': 1277, 'dọn': 1278, 'khúc_mắc': 1279, 'flan': 1280, 'xứng': 1281, 'bí_đỏ': 1282, 'golf': 1283, 'now': 1284, 'lén_lút': 1285, 'surprised': 1286, 'tắt_ngóm': 1287, '263': 1288, 'đón': 1289, 'ồm': 1290, 'nên_thơ': 1291, 'gọn_nhẹ': 1292, 'floral': 1293, 'sr': 1294, 'giồi': 1295, 'cón': 1296, 'màn_ảnh': 1297, 'chen_chúc': 1298, 'mr': 1299, 'lanh_chanh': 1300, 'châ': 1301, 'mằn_mặn': 1302, 'nhật_tân': 1303, 'có_chăng': 1304, 'ngột': 1305, 'some': 1306, '1giá': 1307, 'giữa': 1308, 'ngứa_ngáy': 1309, 'sasimi': 1310, 'khản': 1311, 'hoàng_mai': 1312, 'ngoại_nhập': 1313, 'đeph': 1314, 'fô': 1315, 'jác': 1316, 'tiếc_hùi_hụi': 1317, 'bài_thuốc': 1318, 'nói_dối': 1319, 'bonsai': 1320, 'bề_bề': 1321, 'ca_hát': 1322, 'xun': 1323, 'nhất_nhất': 1324, 'lép_bép': 1325, 'thao_thao_bất_tuyệt': 1326, 'hiền': 1327, 'vộ': 1328, 'hẹt': 1329, 'cơ_học': 1330, 'tiếp_xúc': 1331, 'làm_quà': 1332, 'đà_năng': 1333, 'kế_hoạch': 1334, 'bạc_nhạc': 1335, '160': 1336, 'shanghai': 1337, 'lem_luốc': 1338, 'nổi_cáu': 1339, 'thoáng_đạt': 1340, 'ton': 1341, '3k5': 1342, '173': 1343, 'lưu_truyền': 1344, 'ngang': 1345, 'kêu': 1346, 'sò': 1347, 'dẫn_chương_trình': 1348, 'rể': 1349, 'biểu_diễn': 1350, 'lai_căng': 1351, 'vũ': 1352, 'năm_học': 1353, 'ctr': 1354, 'đáng': 1355, 'ms': 1356, 'chạy_đi_chạy_lại': 1357, 'lạh': 1358, 'đậy': 1359, 'island': 1360, 'hoàn_thiện': 1361, 'lửa': 1362, 'cá': 1363, 'ráo': 1364, 'làm_nũng': 1365, 'priced': 1366, 'sưng_sỉa': 1367, 'tốt': 1368, 'bỉ': 1369, 'không_bao_giờ': 1370, 'omelette': 1371, '35': 1372, 'kết_bạn': 1373, 'bạch_kim': 1374, 'bảo_lộc': 1375, 'tiếp_đón': 1376, 'haloween': 1377, 'vứt': 1378, 'xa_hoa': 1379, 'tưc': 1380, 'dịu_ngọt': 1381, 'tỉm': 1382, 'nút': 1383, 'tới_lui': 1384, 'hõng': 1385, 'hệ': 1386, 'hổn': 1387, 'nôn': 1388, 'cmt': 1389, 'ân': 1390, 'novotel': 1391, 'cos': 1392, 'ấm_áp': 1393, 'nôm_na': 1394, 'cugx': 1395, 'tự_nguyện': 1396, 'thoáng_mát': 1397, 'liệm': 1398, 'dog': 1399, 'impressed': 1400, 'bá_tánh': 1401, 'company': 1402, 'ẽ': 1403, 'rề_rề': 1404, 'ngóc_ngách': 1405, 'tên_hiệu': 1406, 'độc_đáo': 1407, 'pie': 1408, 'đị': 1409, 'ít_ỏi': 1410, 'chằm': 1411, 'hì': 1412, 'tủ_sách': 1413, 'tiền_sử': 1414, 'return': 1415, 'kỉêu': 1416, 'bánh_cốm': 1417, 'selling': 1418, 'quần_jean': 1419, 'ổ_gà': 1420, 'kẻ': 1421, 'tự_hào': 1422, 'bm': 1423, 'vu': 1424, 'plaza': 1425, 'mạn': 1426, '197000': 1427, 'ập': 1428, 'thiếp': 1429, 'prepared': 1430, 'tắm': 1431, 'khuyên': 1432, 'complain': 1433, 'sun': 1434, 'cỏ': 1435, 'sb': 1436, 'pòng': 1437, 'quyết_thắng': 1438, 'xop': 1439, 'pianist': 1440, 'pansy': 1441, 'ỗn': 1442, 'furin': 1443, 'âu_lo': 1444, 'nguyen': 1445, 'fuck': 1446, 'nồi_niêu': 1447, 'w': 1448, 'mghe': 1449, 'bạn_bè': 1450, 'tườg': 1451, 'giăm_bông': 1452, 'pig': 1453, 'dâu': 1454, 'đình': 1455, 'hùng_vĩ': 1456, 'tồ': 1457, 'phú': 1458, '35000': 1459, 'chiếm': 1460, 'tiếp_cận': 1461, 'bề_mặt': 1462, 'thịên': 1463, 'ngấu_nghiến': 1464, 'chặc': 1465, 'big': 1466, 'blood': 1467, 'chinese': 1468, 'nàyy': 1469, 'cola': 1470, 'rần_rần': 1471, 'nghí': 1472, '116': 1473, 'phụ_thu': 1474, 'tha': 1475, 'lìa': 1476, 'rã_rời': 1477, '1từ': 1478, 'oang_oang': 1479, 'napoleon': 1480, 'choi': 1481, 'ra_lệnh': 1482, 'cức': 1483, 'lung_linh': 1484, 'prefer': 1485, 'tung_hô': 1486, 'ờ': 1487, 'bầu': 1488, 'giói': 1489, 'hẫng': 1490, 'vô_nghĩa': 1491, '20127': 1492, 'khôn': 1493, 'ba_bốn': 1494, 'xốc': 1495, 'khích': 1496, 'milkshake': 1497, 'sỉu': 1498, 'lừa_lọc': 1499, 'minh_hoạ': 1500, 'hạt_giống': 1501, 'walk': 1502, 'wonderful': 1503, 'adayroi': 1504, 'tuỳ_thích': 1505, 'nàm': 1506, 'quốc_thích': 1507, 'support': 1508, 'palace': 1509, 'lắc_đầu': 1510, 'toàn_cảnh': 1511, 'citi': 1512, 'kkhông': 1513, '169k': 1514, 'nhớ': 1515, 'cà_ri': 1516, 'phuy': 1517, 'delight': 1518, 'đánh_tráo': 1519, 'pữa': 1520, 'tất': 1521, 'choáng_ngợp': 1522, 'đảng': 1523, 'vở': 1524, 'yon': 1525, 'mải': 1526, 'đèn_đuốc': 1527, 'nước': 1528, 'hẵng': 1529, 'thành_hội': 1530, 'nẵng': 1531, 'teens': 1532, 'tia': 1533, 'bợp': 1534, 'automat': 1535, 'mầy_mò': 1536, 'nẩu': 1537, 'ba_động': 1538, 'caro': 1539, 'tiên_phong': 1540, 'hq': 1541, 'đs': 1542, 'lội': 1543, 'phởn': 1544, 'cừ_khôi': 1545, 'hachi': 1546, 'vận': 1547, 'tỉnh_thành': 1548, 'thèm': 1549, 'hién': 1550, 'maya': 1551, 'trk': 1552, 'cổ_chân': 1553, '30f': 1554, 'quạc': 1555, 'quệt': 1556, 'especially': 1557, '243': 1558, 'bát_ô_tô': 1559, 'trạng': 1560, 'sachi': 1561, 'frequently': 1562, 'đôrêmon': 1563, 'hotgirl': 1564, 'con_nợ': 1565, 'đặng': 1566, 'đinh': 1567, 'dấy': 1568, 'aen': 1569, 'động_chạm': 1570, 'sáng_rực': 1571, '17000': 1572, 'samsung': 1573, 'mạng_nhện': 1574, 'kêu_gọi': 1575, 'không_chỉ': 1576, 'piza': 1577, 'sàm': 1578, 'to_tiếng': 1579, 'ngẩng': 1580, 'đắn': 1581, 'xáo': 1582, 'ăn_tiền': 1583, 'nhẫy': 1584, 'tươi_mát': 1585, 'tiệc_tùng': 1586, 'đến_nỗi': 1587, 'annoying': 1588, '3kg': 1589, 'thả_cửa': 1590, 'kiể': 1591, '54k': 1592, 'ống_nghiệm': 1593, 'cacs': 1594, 'gặm': 1595, '10r': 1596, 'hội_hè': 1597, 'lalala': 1598, 'từg': 1599, 'giặt_giũ': 1600, 'relaxing': 1601, 'xđ': 1602, 'xe_máy': 1603, 'vững_vàng': 1604, 'bến_thành': 1605, 'máu_lửa': 1606, 'công_ty_mẹ': 1607, 'thì_ra': 1608, 'hàng_quán': 1609, 'buồm': 1610, 've': 1611, 'đen_thui': 1612, 'bực_bội': 1613, 'xg': 1614, 'oz': 1615, 'ốc_bươu': 1616, 'lên_men': 1617, 'mục_tiêu': 1618, 'rõ_rệt': 1619, '30m2': 1620, 'pp': 1621, 'sộc': 1622, 'oành': 1623, 'tứ_phía': 1624, 'cũbg': 1625, '10h30': 1626, 'toa': 1627, 'đát': 1628, 'mayonaise': 1629, 'experience': 1630, 'phố_phường': 1631, 'cận_thị': 1632, 'keo_kiệt': 1633, 'vươ': 1634, 'dắm': 1635, 'triệt_để': 1636, 'đứt_gãy': 1637, 'vèo_vèo': 1638, 'cựu': 1639, 'cụt_lủn': 1640, 'tía_tô': 1641, 'buds': 1642, 'wish': 1643, 'giải_trí': 1644, 'nhuyên': 1645, 'violin': 1646, 'bắt_nguồn': 1647, 'tinh_tinh': 1648, 'nano': 1649, 'điên_loạn': 1650, 'small': 1651, 'làm_tròn': 1652, 'adora': 1653, 'vintage': 1654, 'rốt': 1655, 'giải_tán': 1656, 'quàng': 1657, 'dit': 1658, 'thả_lỏng': 1659, 'addmin': 1660, 'dao': 1661, 'quảng_trị': 1662, 'buôi': 1663, 'chips': 1664, 'xỏm': 1665, 'tono': 1666, 'khuôn_viên': 1667, 'quần_thể': 1668, 'time': 1669, 'nobita': 1670, 'ngũ_vị': 1671, 'ghì': 1672, 'hống_hách': 1673, 'hùng_hậu': 1674, 'bỏ': 1675, 'varied': 1676, 'chuồn_chuồn': 1677, 'tô_hiệu': 1678, 'bêu': 1679, 'ước_mơ': 1680, 'hung': 1681, 'mím': 1682, 'đối': 1683, 'song_song': 1684, 'goị': 1685, 'mỉm': 1686, 'bù_trừ': 1687, 'liên_tiếp': 1688, 'téo': 1689, 'marketing': 1690, 'táng': 1691, 'giục': 1692, 'dôn': 1693, 'nhãn': 1694, 'tài_năng': 1695, 'thu_ngân': 1696, 'korokke': 1697, 'lựa_chọn': 1698, 'tung_hứng': 1699, 'falling': 1700, 'điệp_viên': 1701, '1812': 1702, 'nguyễn_du': 1703, 'đập': 1704, 'đặc_sản': 1705, 'kĩ_năng': 1706, 'cang': 1707, 'bó': 1708, 'có_nghĩa': 1709, 'lóng': 1710, 'tornado': 1711, 'xờ': 1712, 'lươ': 1713, 'lữ': 1714, 'đâyyyy': 1715, 'thác': 1716, 'malaysia': 1717, 'làm_lơ': 1718, 'thơ_mộng': 1719, 'add': 1720, 'giòm': 1721, 'đêm': 1722, 'xập_xình': 1723, 'quảnh': 1724, 'ap': 1725, 'celebration': 1726, 'dằn_mặt': 1727, 'well': 1728, 'thản_nhiên': 1729, 'koi': 1730, 'hơn': 1731, 'mojito': 1732, '380k': 1733, 'té': 1734, 'tên_tuổi': 1735, '96k': 1736, 'đệ': 1737, '15h30': 1738, 'buồn_cười': 1739, '72k': 1740, 'yk': 1741, 'vô_cảm': 1742, 'gối': 1743, 'chủ_hồ': 1744, 'hwa': 1745, 'bánh_kẹo': 1746, 'huyết_áp': 1747, 'parkson': 1748, '30phut': 1749, 'mọc': 1750, 'hồi_hộp': 1751, 'vồn_vã': 1752, 'vòg': 1753, 'đỉnh_điểm': 1754, 'anyway': 1755, 'hoành': 1756, 'san_sẻ': 1757, 'ti_tỉ': 1758, 'nhạy': 1759, 'understand': 1760, 'hoai': 1761, '10x': 1762, 'htp': 1763, 'gôgle': 1764, 'đua_đòi': 1765, 'tuyển_sinh': 1766, 'bao_che': 1767, 'ngòi': 1768, 'em_gái': 1769, 'vân_vân': 1770, 'nên_thân': 1771, 'lemon': 1772, 'bơ': 1773, 'blackberry': 1774, 'the': 1775, 'loi': 1776, 'cốt_yếu': 1777, 'test': 1778, 'believe': 1779, 'máu_me': 1780, 'dt': 1781, 'poodle': 1782, 'chấy': 1783, 'liên_quan': 1784, '15phut': 1785, 'beer': 1786, 'tired': 1787, 'bèo_bọt': 1788, 'bàng_quan': 1789, 'phổi_bò': 1790, 'hangover': 1791, 'nviên': 1792, 'bợn': 1793, 'bánh_tôm': 1794, 'macaron': 1795, 'bthuong': 1796, 'og': 1797, 'mở_hàng': 1798, 'ọp_ẹp': 1799, 'công_viên': 1800, 'mắm_nêm': 1801, 'chại': 1802, 'chức': 1803, 'tụ_điểm': 1804, 'dẫn_dắt': 1805, 'đường_phèn': 1806, '6': 1807, 'bực_mình': 1808, 'bào_chữa': 1809, 'tùng': 1810, 'doạ': 1811, 'sirô': 1812, 'kp': 1813, 'gia_công': 1814, 'an_ninh': 1815, 'đừa': 1816, 'đươcj': 1817, 'nhánh': 1818, 'dẫn': 1819, 'cao_hứng': 1820, 'làng_chơi': 1821, '10g': 1822, 'yeah': 1823, 'bobo': 1824, 'sáng': 1825, 'đảo_điên': 1826, 'chỏm': 1827, 'giồng': 1828, 'ngược': 1829, 'dja': 1830, 'đăng_tải': 1831, 'lam': 1832, '68': 1833, 'mẹ': 1834, 'kim_loan': 1835, 'whipping': 1836, 'biễn': 1837, 'xót_ruột': 1838, '59000': 1839, '120k': 1840, 'lung_tung': 1841, 'cho_qua': 1842, 'bánh_gối': 1843, 'tầm_nhìn_xa': 1844, 'thíh': 1845, 'thự': 1846, 'chẻn': 1847, 'tic': 1848, 'ba_mươi': 1849, 'lão_hoá': 1850, 'gia_đình_trị': 1851, 'địch_thủ': 1852, 'dú': 1853, 'kanten': 1854, 'định_nghĩa': 1855, 'hình_nộm': 1856, 'truóc': 1857, 'nhât': 1858, 'bà_già': 1859, 'hấp_dẫn': 1860, 'quả_thực': 1861, 'kim_chi': 1862, 'bán_buôn': 1863, 'nhường_nhịn': 1864, 'quý_trọng': 1865, '50g': 1866, 'đả_động': 1867, 'ra': 1868, 'lạc': 1869, 'phân_biệt': 1870, 'hỗng': 1871, 'mong': 1872, 'vsf': 1873, 'wen': 1874, 'tan': 1875, 'worth': 1876, 'kí_túc_xá': 1877, 'đòn': 1878, 'vãi': 1879, 'sao': 1880, 'images': 1881, 'nhạu': 1882, 'thữ': 1883, 'sốt_ruột': 1884, 'vui_miệng': 1885, 'students': 1886, 'thục': 1887, 'triền_miên': 1888, 'chuột_đồng': 1889, 'lầu': 1890, 'ngậy': 1891, 'trước_tiên': 1892, 'ồn_ã': 1893, 'hoàn_cảnh': 1894, 'nhẹ': 1895, 'bới': 1896, 'ghê_ghê': 1897, 'phỏng_đoán': 1898, 'nghị': 1899, 'nghiệt': 1900, 'học_viện': 1901, 'đổ': 1902, 'lưu_động': 1903, 'thoại': 1904, 'chụp_đèn': 1905, 'bán': 1906, 'hồi_xuân': 1907, 'xử': 1908, 'ngộ_độc': 1909, 'ctrình': 1910, 'lần_hồi': 1911, 'hê': 1912, 'soya': 1913, 'xen_lẫn': 1914, 'cách_thức': 1915, 'đô_thị': 1916, 'thám_hiểm': 1917, 'chot': 1918, 'combi': 1919, 'quẻ': 1920, 'qc': 1921, 'đánh_giá': 1922, 'hoang': 1923, 'saboche': 1924, 'chè': 1925, 'hải_hà': 1926, 'suy_tưởng': 1927, 'trường_lớp': 1928, 'lê_lợi': 1929, 'jours': 1930, 'lạ_kì': 1931, 'tỷ_phú': 1932, 'phù_rể': 1933, 'tâm_lí': 1934, 'tea': 1935, 'dài_dằng_dặc': 1936, 'tửu': 1937, 'tvi': 1938, 'supper': 1939, 'nước_lợ': 1940, 'nguồn': 1941, 'tinh_hoa': 1942, 'gấp_bội': 1943, 'thuốc_bắc': 1944, '107': 1945, 'chình': 1946, 'bến_tàu': 1947, 'inh': 1948, '1kg': 1949, 'say': 1950, 'bcc': 1951, 'nóng_bỏng': 1952, 'bumped': 1953, 'marketin': 1954, 'cử_động': 1955, 'ày': 1956, 'nguôi': 1957, 'đẹp_trai': 1958, 'mưa': 1959, 'clients': 1960, 'cắm_cúi': 1961, 'bện': 1962, 'rượt': 1963, 'hết_lời': 1964, 'lễ': 1965, 'đèn_lồng': 1966, 'đắt_đỏ': 1967, 'hội_an': 1968, 'vite': 1969, 'frog': 1970, 'chicago': 1971, 'nhiết': 1972, 'kháng_chiến': 1973, 'workaholic': 1974, 'cóc': 1975, '1415': 1976, '1k5': 1977, 'ﾉ': 1978, 'chẳng_là': 1979, 'bơm': 1980, 'sức_khoẻ': 1981, 'quả_đất': 1982, 'chut': 1983, '78k': 1984, 'vâng_dạ': 1985, 'gạt': 1986, 'chạo': 1987, 'stayed': 1988, 'nam_bộ': 1989, 'cơ_thể': 1990, 'con_em': 1991, 'té_ra': 1992, 'thoạt_đầu': 1993, 'yay': 1994, '7ng': 1995, 'll': 1996, 'nguyên_thuỷ': 1997, 'omega': 1998, 'hõ': 1999, 'yaout': 2000, 'afternoon': 2001, 'expectation': 2002, 'khuc': 2003, 'demonstration': 2004, 'kbh': 2005, 'to_bự': 2006, 'vói': 2007, 'nguyên_quán': 2008, 'xẹp_lép': 2009, 'chỉ_dẫn': 2010, 'khơi': 2011, 'looked': 2012, '52015': 2013, 'ri': 2014, 'dưa_bở': 2015, 'lí_tưởng': 2016, 'bo': 2017, '180kg': 2018, 'vô_minh': 2019, 'chịem': 2020, 'mam': 2021, 'team': 2022, 'face': 2023, 'quai': 2024, 'chuẩn_mực': 2025, 'thanh_loan': 2026, '668': 2027, 'trăm_nghìn': 2028, 'dở_hơi': 2029, 'viêm': 2030, 'hoa': 2031, 'mương': 2032, 'bhd': 2033, 'tóc': 2034, 'tay_đôi': 2035, 'cay': 2036, '640k': 2037, 'thám_tử': 2038, '11k': 2039, 'vầy_vậy': 2040, 'bá_chủ': 2041, 'xuôi': 2042, 'chó': 2043, 'kieu': 2044, 'dễ_tính': 2045, 'nhẹc': 2046, 'giam_lỏng': 2047, 'tró': 2048, 'chủ_trương': 2049, 'nito': 2050, 'tối_đa': 2051, 'digital': 2052, 'hát': 2053, 'sủi': 2054, 'quang': 2055, 'khéo': 2056, 'riền': 2057, 'tập_thể': 2058, 'lòng_đen': 2059, 'cải_bẹ': 2060, '65000': 2061, 'đắm_chìm': 2062, 'tự_cung_tự_cấp': 2063, 'giấy_thấm': 2064, 'lu_bu': 2065, '8cm': 2066, 'dám': 2067, 'hiii': 2068, 'bao_lâu': 2069, 'ngự_trị': 2070, 'ca_nhạc': 2071, 'hg': 2072, 'sạnh': 2073, 'tiep': 2074, 'tàu_thuyền': 2075, '27k': 2076, 'level': 2077, '1312': 2078, 'khoanh': 2079, 'trình_độ': 2080, '2ca': 2081, 'vỡ_nợ': 2082, 'customer': 2083, 'tiramisu': 2084, 'diệp': 2085, '504': 2086, 'kiều': 2087, 'kỹ': 2088, 'thới': 2089, 'hỗm': 2090, '214': 2091, 'tè': 2092, 'gần_xa': 2093, 'khắc': 2094, 'hổ_thẹn': 2095, 'bó_hẹp': 2096, 'nhày': 2097, 'pacific': 2098, 'trí': 2099, 'moị': 2100, 'cạch': 2101, 'ngớp': 2102, 'quen_quen': 2103, 'thiền_sư': 2104, 'option': 2105, 'tịnh': 2106, 'duck': 2107, 'choco': 2108, 'dây_tóc': 2109, '9a': 2110, 'hớp': 2111, 'nương': 2112, 'bill': 2113, 'rèn_luyện': 2114, 'sương_mù': 2115, '15a': 2116, 'thường_xuyên': 2117, 'bủi': 2118, 'lỏn': 2119, 'biết_bao_nhiêu': 2120, 'ung': 2121, 'kinh_đô': 2122, 'phù': 2123, 'lãng_xẹt': 2124, 'phàn_nàn': 2125, 'nhân_vật': 2126, 'ẩm_ướt': 2127, 'lâu_đời': 2128, '20b': 2129, 'qun': 2130, 'ít_nhất': 2131, 'te_tua': 2132, 'gián': 2133, 'tmn': 2134, 'đầu_bảng': 2135, 'levis': 2136, 'nhém': 2137, 'chán_chê': 2138, 'mục': 2139, 'vô_vàn': 2140, 'gia_văn': 2141, 'hiếm': 2142, 'tay_mặt': 2143, 'dãy': 2144, 'fê': 2145, 'ngón': 2146, 'two': 2147, '52k': 2148, '50000': 2149, 'đàn_ông': 2150, 'monkey': 2151, 'ăn_chịu': 2152, '1tuần': 2153, 'thiên_thạch': 2154, 'nostalgia': 2155, 'cố_đấm_ăn_xôi': 2156, 'trắng_nhởn': 2157, 'chem': 2158, 'may_sao': 2159, '280': 2160, 'quá_tay': 2161, 'vùi_dập': 2162, 'súp': 2163, 'tam_đảo': 2164, 'ngoại_thất': 2165, '1074': 2166, 'maru': 2167, 'aqua': 2168, 'cơ_bản': 2169, 'nạc': 2170, 'nơi': 2171, 'sĩ_tử': 2172, 'rng': 2173, 'lanh_lẹ': 2174, 'gằng': 2175, 'mấp_mô': 2176, 'nghiêm_túc': 2177, 'bàn_ủi': 2178, 'tag': 2179, 'luộng': 2180, 'daikon': 2181, 'hoa_cúc': 2182, 'cần': 2183, 'phập_phồng': 2184, 'vân': 2185, 'bán_chạy': 2186, 'tức_giận': 2187, 'chồng': 2188, 'rứa': 2189, 'shake': 2190, '4000đ': 2191, '7up': 2192, '1030': 2193, 'vàng_lá': 2194, 'tười': 2195, 'ps': 2196, 'lạnh_nhạt': 2197, 'chìm_đắm': 2198, 'hằn': 2199, 'tương_thích': 2200, 'kinhh': 2201, 'soup': 2202, 'asian': 2203, 'thật_tình': 2204, 'đời': 2205, 'nhỏ_nhắn': 2206, 'chá': 2207, 'tac': 2208, 'uán': 2209, 'udon': 2210, 'weekend': 2211, 'ngán': 2212, 'goku': 2213, 'soà': 2214, 'ạh': 2215, 'hẽm': 2216, 'âm_u': 2217, 'svđ': 2218, 'chà': 2219, 'rổn_rảng': 2220, 'truyền_bá': 2221, 'độc_hại': 2222, 'học': 2223, 'thif': 2224, 'muôn_màu_muôn_vẻ': 2225, 'phần_trăm': 2226, 'đầu_tư': 2227, 'thú_tội': 2228, 'gan_gà': 2229, 'kho_tộ': 2230, 'tứ_xuyên': 2231, 'kinh_điển': 2232, 'cheaper': 2233, 'above': 2234, 'tuyể': 2235, 'gom': 2236, 'sa_lát': 2237, 'đượm': 2238, 'gao': 2239, 'giả_cầy': 2240, 'hoàng_anh': 2241, 'ạn': 2242, 'thix': 2243, 'ơiiii': 2244, 'cáp_quang': 2245, 'nhà_kính': 2246, 'bất_hảo': 2247, 'roti': 2248, 'coca': 2249, 'ăn_chực': 2250, 'message': 2251, 'khoảg': 2252, 'tinh_khôn': 2253, 'thì_phải': 2254, 'dứoi': 2255, 'lot': 2256, 'lbb': 2257, 'rốc': 2258, 'tiu_nghỉu': 2259, 'môc': 2260, 'ander': 2261, 'vượt_trội': 2262, 'cộc': 2263, 'lúa_mạch': 2264, 'chịu': 2265, 'bé_nhỏ': 2266, 'ỡ': 2267, 'ggg': 2268, 'cống': 2269, 'chèn_ép': 2270, 'topic': 2271, 'halong': 2272, 'kekeke': 2273, 'đam_mê': 2274, 'câu_đầu': 2275, 'comment': 2276, 'bỉu': 2277, 'kim_loại': 2278, 'tầm_tã': 2279, 'phốc': 2280, 'sôt': 2281, 'ré': 2282, 'castle': 2283, 'shipping': 2284, 'muse': 2285, 'ơt': 2286, 'hiển_hách': 2287, 'đánh_số': 2288, 'socola': 2289, 'hdn': 2290, 'tuổi_đời': 2291, 'cách_nhật': 2292, 'dảo': 2293, 'lỗ_mãng': 2294, 'hải_dương': 2295, '277': 2296, 'huyền_bí': 2297, 'filling': 2298, 'jang': 2299, 'sang_nhượng': 2300, 'du_hí': 2301, '8am': 2302, 'ad': 2303, 'tự_dưng': 2304, 'opinion': 2305, 'ngă': 2306, 'ngớ': 2307, 'nâu': 2308, 'zễ': 2309, '81k': 2310, 'fomai': 2311, 'bính': 2312, 'dat': 2313, 'thượng_hải': 2314, 'nhờn': 2315, 'xuô': 2316, 'amua': 2317, 'kỉ_lục': 2318, 'hao_hụt': 2319, 'bước_đi': 2320, 'thấm_đẫm': 2321, 'củi': 2322, 'dom': 2323, 'miêu': 2324, 'đồng_tiền_bát_gạo': 2325, 'chi_nhánh': 2326, 'nanh': 2327, 'rằg': 2328, 'cube': 2329, 'nhậm': 2330, 'minh': 2331, 'tinh_ý': 2332, 'vật_dụng': 2333, 'anchor': 2334, 'tạnh': 2335, 'kangnam': 2336, 'kĩ': 2337, 'group': 2338, 'gót': 2339, 'lánh': 2340, '200k': 2341, '90': 2342, 'aluminum': 2343, '3038': 2344, 'vị_trí': 2345, 'hà_mã': 2346, 'nhơn': 2347, 'ngen': 2348, 'tuot': 2349, 'gia_thịnh': 2350, 'tọng': 2351, 'lain': 2352, 'nta': 2353, 'đồng_diễn': 2354, '115k': 2355, 'xuồng': 2356, 'á_à': 2357, 'nvay': 2358, 'filtering': 2359, 'bà_cụ': 2360, 'pieces': 2361, 'mê': 2362, 'khu_đô_thị': 2363, 'buffee': 2364, 'đào': 2365, 'lan_truyền': 2366, 'chúc_mừng': 2367, 'zin': 2368, 'độc_tôn': 2369, 'thiế': 2370, 'phiê': 2371, 'citimart': 2372, 'tuơi': 2373, 'mát_mẻ': 2374, 'trước_sau_như_một': 2375, 'offense': 2376, 'trong_sạch': 2377, 't6': 2378, 'cá_mòi': 2379, 'new': 2380, 'tl': 2381, 'tưởng_nhớ': 2382, 'tương': 2383, 'suy_tính': 2384, 'một_hai': 2385, 'fast': 2386, 'hehehe': 2387, 'tropical': 2388, 'vãn': 2389, 'nhà_tập_thể': 2390, 'coment': 2391, 'đii': 2392, 'đất_đá': 2393, 'ngài': 2394, 'tee': 2395, 'koh': 2396, 'đoạt': 2397, 'nhán': 2398, 'cuộc': 2399, 'q': 2400, 'poker': 2401, 'ly_biệt': 2402, '22cm': 2403, 'thảm_hại': 2404, 'đại_hỷ': 2405, 'ư': 2406, 'thiu_thiu': 2407, 'world': 2408, 'ngăn_kéo': 2409, 'bổng': 2410, 'nước_lèo': 2411, 'large': 2412, 'tư_vấn': 2413, 'tuyển_dụng': 2414, 'bambi': 2415, 'sz': 2416, 'rùng': 2417, 'trại': 2418, 'lươn': 2419, 'chanh': 2420, 'ian': 2421, 'dây': 2422, 'hamburger': 2423, 'rúm': 2424, 'nạt': 2425, 'lu_bù': 2426, 'includes': 2427, 'chăc': 2428, 'quảng_giao': 2429, 'bữa_ni': 2430, 'lủng': 2431, 'sori': 2432, 'trờii': 2433, 'nhum': 2434, 'bơ_phờ': 2435, 'trợ': 2436, 'coe': 2437, 'máy_tính': 2438, 'điều_dưỡng': 2439, 'meals': 2440, 'quang_vinh': 2441, 'sabo': 2442, 'delivery': 2443, 'sure': 2444, 'thu_hút': 2445, 'lồng_lộn': 2446, 'vẫy': 2447, 'tiêu_chảy': 2448, 'chút_xíu': 2449, 'sắc_màu': 2450, 'tổng_cộng': 2451, 'lụp_sụp': 2452, 'khóc': 2453, 'dis': 2454, 'thanh_bình': 2455, 'save': 2456, 'giở': 2457, 'pasteur': 2458, 'diep': 2459, 'chứa_đựng': 2460, 'hihihi': 2461, 'khách_sạn': 2462, 'bé': 2463, 'trag': 2464, 'mát': 2465, 'dáu': 2466, 'đường_dẫn': 2467, 'pts': 2468, 'rat': 2469, 'được_cái': 2470, 'tàu_hoả': 2471, 'lêb': 2472, 'tàn_phá': 2473, 'danh_sách': 2474, 'lơi': 2475, 'tất_niên': 2476, 'thuế': 2477, 'lườm_nguýt': 2478, 'gangnam': 2479, 'thách': 2480, 'đj': 2481, 'analog': 2482, 'chổ': 2483, 'đôn': 2484, 'kji': 2485, 'hie': 2486, 'đặt_cọc': 2487, 'mù_mịt': 2488, 'bạn_hàng': 2489, 'matches': 2490, 'in': 2491, 'hoàng_cung': 2492, 'đường_hầm': 2493, 'resort': 2494, 'hik': 2495, 'nutri': 2496, 'cabin': 2497, 'dị_ứng': 2498, 'nói_gì': 2499, 'đui': 2500, 'secondhand': 2501, 'cợt': 2502, 'kin': 2503, 'kiém': 2504, 'bội': 2505, 'nô_nức': 2506, 'hợp_chất': 2507, 'ất_giáp': 2508, 'xâm_hại': 2509, '179k': 2510, 'yakult': 2511, 'trả_lời': 2512, 'trái_tim': 2513, 'roa': 2514, 'vô_tư': 2515, 'zọng': 2516, 'trung_hoà': 2517, 'tona': 2518, 'cham': 2519, 'phát': 2520, 'rrất': 2521, 'chẳng_mấy_khi': 2522, 'chửa': 2523, 'ngẫn': 2524, 'kính_lúp': 2525, 'volcano': 2526, 'cắt_xén': 2527, 'trơ_trụi': 2528, 'papaya': 2529, 'lê_duẩn': 2530, 'atila': 2531, 'dishes': 2532, 'chit': 2533, '123': 2534, 'dui': 2535, 'mỹ_miều': 2536, 'lửng': 2537, 'space': 2538, 'xù_xì': 2539, 'trốn': 2540, 'cứ_cho_là': 2541, 'quen': 2542, 'hey': 2543, 'phc': 2544, 'g': 2545, 'mạo_hiểm': 2546, '3tr': 2547, 'husky': 2548, 'bít': 2549, 'loằng_ngoằng': 2550, 'qay': 2551, 'giận_dỗi': 2552, 'tamarind': 2553, 'kì_bí': 2554, 'cá_quả': 2555, 'đepj': 2556, 'thù_lù': 2557, 'tư': 2558, 'biết_bao': 2559, 'chúa': 2560, 'bầm': 2561, 'vẩn': 2562, 'nhiệt_tình': 2563, 'wagyu': 2564, 'hiếu': 2565, 'mọt_gông': 2566, '1000ml': 2567, 'mét_vuông': 2568, 'tỉnh_ngủ': 2569, 'sefile': 2570, 'weren': 2571, 'tháng': 2572, 'xứng_đáng': 2573, 'sale': 2574, 'hallowen': 2575, 'vú': 2576, 'octopus': 2577, 'af': 2578, 'bất_khả_thi': 2579, 'vắg': 2580, 'gim': 2581, 'đáy': 2582, 'atiso': 2583, '510k': 2584, 'side': 2585, 'cản': 2586, 'bất_lịch_sự': 2587, 'aan': 2588, 'mý': 2589, 'khai_vị': 2590, 'chtrinh': 2591, 'dời': 2592, 'dầm': 2593, 'mha': 2594, 'drum': 2595, 'thân_mến': 2596, 'đèn_cồn': 2597, 'haizzzzz': 2598, 'teak': 2599, 'myself': 2600, 'items': 2601, 'dơ_dáy': 2602, 'đcc': 2603, 'ố': 2604, 'dưỡng_sinh': 2605, 'chừng': 2606, 'dung_dưỡng': 2607, 'rởn': 2608, 'dân_gian': 2609, 'quýt': 2610, '42k': 2611, 'sờ': 2612, '1ca': 2613, 'xốp': 2614, 'rú': 2615, 'giờ_giấc': 2616, 'edit': 2617, 'danh': 2618, 'bone': 2619, 'lủng_lẳng': 2620, 'tụ_tập': 2621, 'khựa': 2622, 'mã_thầy': 2623, 'loan': 2624, 'bình_lợi': 2625, 'bàn_cờ': 2626, 'thua_kém': 2627, 'alo': 2628, 'đàn_anh': 2629, 'cua_đá': 2630, 'vi_khuẩn': 2631, 'tung': 2632, 'therefore': 2633, 'lòm': 2634, 'đá_hoa': 2635, 'đắt_giá': 2636, 'sắt': 2637, 'nhoi': 2638, 'oh': 2639, 'be': 2640, 'loáng': 2641, 'lấn_cấn': 2642, 'phái': 2643, 'lozi': 2644, 'toàn_vẹn': 2645, 'paradise': 2646, 'dấu': 2647, '38': 2648, 'cụt_hứng': 2649, 'ngặt': 2650, 'seller': 2651, 'moe': 2652, 'đơn_giá': 2653, 'tóm_lại': 2654, 'ý_nghĩ': 2655, 'gían': 2656, 'học_hành': 2657, 'hò_hét': 2658, 'gầy_gầy': 2659, 'km': 2660, 'unc': 2661, '800k': 2662, 'likes': 2663, 'cực_kì': 2664, 'tuýt': 2665, 'đồ_sơn': 2666, 'dude': 2667, 'xua': 2668, 'sui': 2669, 'mẹt': 2670, 'hãnh_diện': 2671, 'chủ_ý': 2672, 'khai_trường': 2673, 'pattaya': 2674, 'thượng': 2675, 'chũ': 2676, '140k': 2677, 'hawker': 2678, 'băng_chuyền': 2679, 'tab': 2680, 'kg': 2681, 'đồ_ăn': 2682, 'book': 2683, 'chah': 2684, 'xừa': 2685, 'cambodia': 2686, 'pass': 2687, 'kl': 2688, 'true': 2689, '150gr': 2690, 'qua_loa': 2691, 'mồ_mả': 2692, 'bug': 2693, 'cảnh': 2694, 'thuờng': 2695, 'ổ': 2696, 'hẳng': 2697, 'đi_cầu': 2698, 'mau_lẹ': 2699, 'thiềng': 2700, 'ông_xã': 2701, 'lạ_mắt': 2702, 'oder': 2703, 'tiêu_dùng': 2704, 'xấc_láo': 2705, 'dịch': 2706, '32000': 2707, 'xổ': 2708, 'tăng_cường': 2709, 'mấm': 2710, '4ever': 2711, 'khảu': 2712, 'trắc': 2713, 'tickets': 2714, 'acb': 2715, 'mom': 2716, '10km': 2717, 'lòg': 2718, 'tủng': 2719, 'cởm': 2720, 'ngao': 2721, 'nói_gì_thì_nói': 2722, 'hẫn': 2723, 'kim_ngưu': 2724, 'xá': 2725, '299000': 2726, 'lạ_lùng': 2727, 'kính_cẩn': 2728, 'tót': 2729, 'mọi': 2730, 'sấn': 2731, 'im_re': 2732, 'quái_lạ': 2733, 'dở_chứng': 2734, 'hình_tam_giác': 2735, 'student': 2736, 'hixx': 2737, 'remix': 2738, 'nấy': 2739, 'tàn_bạo': 2740, 'bói': 2741, 'nghiep': 2742, 'sụ': 2743, 'thứ_tự': 2744, 'tiếg': 2745, 'sáng_trưng': 2746, 'thuần': 2747, 'mát_lạnh': 2748, 'cider': 2749, 'nhân_viên': 2750, 'tơi': 2751, 'sâm': 2752, 'đưọc': 2753, 'hươu_cao_cổ': 2754, '15b': 2755, 'x2': 2756, 'bỏ_qua': 2757, 'rim': 2758, 'bs': 2759, 'mừng': 2760, 'cung': 2761, 'hồng_hào': 2762, 'mascot': 2763, 'neo': 2764, 'chui_rúc': 2765, 'chế': 2766, 'rẹt': 2767, 'vicom': 2768, 'nhâ': 2769, 'nhà_thiết_kế': 2770, 'cởi': 2771, 'hjxhjx': 2772, 'cổ_kính': 2773, 'play': 2774, 'xà_bông': 2775, 'given': 2776, '125k': 2777, 'cuống_họng': 2778, 'bnạ': 2779, 'cá_heo': 2780, 'hải_tặc': 2781, 'đứ_đừ': 2782, 'điều_kinh': 2783, 'kept': 2784, 'dữa': 2785, 'thiểu': 2786, 'trận': 2787, 'kúc': 2788, 'free': 2789, 'hưng_đạo': 2790, 'đùng_đùng': 2791, 'hướng_dương': 2792, 'bắc_nam': 2793, 'album': 2794, 'come': 2795, 'after': 2796, 'lấp_ló': 2797, 'ươm': 2798, 'đen_kịt': 2799, 'chữ_kí': 2800, 'chối_bỏ': 2801, 'đậu': 2802, 'phần_đông': 2803, 'thđ': 2804, '10ly': 2805, 'thanh_cảnh': 2806, 'tạo_mẫu': 2807, 'ica': 2808, '1tr6': 2809, 'rồii': 2810, 'scream': 2811, 'hú': 2812, 'thôm': 2813, 'mốn': 2814, 'lắng': 2815, 'hat': 2816, 'bộn': 2817, 'xì_xà_xì_xụp': 2818, 'nhất_mực': 2819, 'h': 2820, 'ignored': 2821, 'mcg': 2822, 'vững': 2823, 'xác_nhận': 2824, 'tmt': 2825, '210': 2826, 'muối_tiêu': 2827, 'ngịt': 2828, 'nhà_trường': 2829, 'nhng': 2830, '3780': 2831, 'đi_lại': 2832, 'tiệ': 2833, 'đồ_dùng': 2834, 'cop': 2835, 'hoat': 2836, 'giant': 2837, 'nachos': 2838, '9x': 2839, '110k': 2840, 'b': 2841, 'phủ_phê': 2842, 'naog': 2843, 'dồi': 2844, 'nhùn': 2845, 'bặm_trợn': 2846, 'càfê': 2847, 'loáng_thoáng': 2848, 'beautiful': 2849, 'cất': 2850, 'lẳn': 2851, 'che_phủ': 2852, 'ao_ước': 2853, 'vac': 2854, 'đặc': 2855, 'khó_khăn': 2856, 'mất_công': 2857, '290k': 2858, 'nghiện': 2859, 'hoang_dã': 2860, 'email': 2861, 'able': 2862, 'avocado': 2863, 'tako': 2864, 'cỏn_con': 2865, 'vớ_vẩn': 2866, 'đựơc': 2867, 'tềm': 2868, '9g15': 2869, 'la_lối': 2870, 'mè_xửng': 2871, 'kêy': 2872, 'chửi_mắng': 2873, 'mười_phương': 2874, 'nông_nghiệp': 2875, 'giá': 2876, 'tau': 2877, 'quảg': 2878, 'quơ': 2879, 'ntnào': 2880, 'loạt': 2881, 'hoà_nhã': 2882, 'chồi': 2883, 'setting': 2884, '440k': 2885, 'taru': 2886, 'sha': 2887, 'tổng_thể': 2888, 'ngả': 2889, 'nán': 2890, 'ban_công': 2891, 'lo_nghĩ': 2892, 'shio': 2893, 'ế': 2894, 'hạm': 2895, 'espresso': 2896, 'sinh_sống': 2897, 'hixhix': 2898, 'foam': 2899, 'nhè': 2900, 'expresso': 2901, 'vẻ': 2902, 'xuyen': 2903, 'foody': 2904, 'chăm_chút': 2905, 'lốp': 2906, 'felt': 2907, 'lo_sợ': 2908, '2a': 2909, 'bớt': 2910, 'marriott': 2911, 'tô': 2912, 'nhường': 2913, 'cats': 2914, 'tốm': 2915, 'cdcr': 2916, 'nhập_ngoại': 2917, 'gdinh': 2918, 'ruot': 2919, 'thải': 2920, 'xắt': 2921, 'cua_thịt': 2922, 'nọng': 2923, 'nica': 2924, 'earl': 2925, 'vương_vãi': 2926, 'gàn': 2927, 'xa_xưa': 2928, 'o2': 2929, 'tồn_kho': 2930, 'váy_đầm': 2931, 'chíp': 2932, 'ròn_rã': 2933, 'story': 2934, 'tương_lai': 2935, 'l': 2936, 'kiến_thiết': 2937, 'alacarte': 2938, 'giải_khuây': 2939, 'tsao': 2940, 'tái_ngộ': 2941, 'úc': 2942, 'nói_cứng': 2943, 'mùa_xuân': 2944, 'ngậu_xị': 2945, 'truoc': 2946, 'cẳng': 2947, 'hớt': 2948, 'sifu': 2949, 'ruồi_nhặng': 2950, 'ago': 2951, 'phân_chia': 2952, 'ghi_hình': 2953, 'trước_hết': 2954, 'pía': 2955, 'chẹ': 2956, 'nóc': 2957, 'ueh': 2958, 'bê_bết': 2959, 'soooo': 2960, 'trah': 2961, 'london': 2962, 'tham': 2963, 'chíêc': 2964, 'toạ_lạc': 2965, 'khía_cạnh': 2966, 'pork': 2967, 'paid': 2968, 'nhè_nhẹ': 2969, 'gậy': 2970, 'nguời': 2971, 'shelter': 2972, 'kkkk': 2973, '101': 2974, 'nguyễn_trãi': 2975, 'ts': 2976, 'xiêm': 2977, 'bọc': 2978, 'dolsot': 2979, 'brother': 2980, 'địa_lí': 2981, 'hằn_học': 2982, 'thou': 2983, 'called': 2984, 'bố_cục': 2985, 'bất_ngờ': 2986, 'bay_nhảy': 2987, 'rỡn': 2988, 'thang': 2989, 'tâm_hồn': 2990, 'lovers': 2991, 'tủi_hổ': 2992, 'bẽo': 2993, 'insidious': 2994, 'hối_lỗi': 2995, '2500': 2996, 'nữa': 2997, 'kềnh_càng': 2998, 'thanh_thiếu_niên': 2999, 'abc': 3000, 'sâu_lắng': 3001, 'vực': 3002, 'giá_thành': 3003, 'công_cuộc': 3004, 'phương_tiện': 3005, 'cong_veo': 3006, 'quần_đùi': 3007, 'dấn': 3008, 'ặng': 3009, 'dẫu_sao': 3010, 'cao_ngất': 3011, 'noodle': 3012, '365': 3013, 'máy_điện': 3014, 'hawaii': 3015, 'nhấp_nhô': 3016, 'dại_dột': 3017, 'nhà_chung': 3018, 'vna': 3019, 'train': 3020, 'thuỷ_lực': 3021, 'dùi': 3022, 'boong': 3023, 'mìng': 3024, 'trồng': 3025, 'ktra': 3026, 'chat': 3027, 'khía': 3028, 'không_đâu': 3029, 'werk': 3030, 'phế_liệu': 3031, 'vĩ': 3032, 'chậm_trễ': 3033, 'cá_biệt': 3034, 'buffet': 3035, 'độc_thân': 3036, 'mâm_xôi': 3037, 'nhiệt_độ': 3038, 'hồng_nhung': 3039, 'giáng_thế': 3040, 'nokia': 3041, 'quẹo': 3042, 'kimchi': 3043, 'nhaa': 3044, 'di': 3045, 'vá': 3046, 'nguyê': 3047, 'chập': 3048, 'lưa': 3049, 'kum': 3050, 'tầu': 3051, 'nối': 3052, 'nvc': 3053, 'cácvị': 3054, 'nhang': 3055, 'truffle': 3056, 'ngồ_ngộ': 3057, 'đắc_ý': 3058, '160k': 3059, 'bánh_tét': 3060, 'thoang_thoảng': 3061, 'lay_động': 3062, '2610': 3063, 'z': 3064, 'khoai_mì': 3065, '211': 3066, 'cua_bể': 3067, 'cin': 3068, 'hử': 3069, 'must': 3070, 'trong_sáng': 3071, 'doc': 3072, 'seemed': 3073, 'giằn': 3074, 'tâm_trạng': 3075, 'twist': 3076, 'ràn': 3077, 'hoặ': 3078, 'gặp_mặt': 3079, 'banhmi': 3080, 'ali': 3081, 'thời': 3082, 'kakakka': 3083, 'a0': 3084, 'kéo_lại': 3085, 'freeman': 3086, 'đz': 3087, 'rày': 3088, 'reasonably': 3089, 'bận_tâm': 3090, 'khuất': 3091, '11n': 3092, 'gộc': 3093, 'hiếu_động': 3094, 'hữu_ích': 3095, 'gtgt': 3096, '10am': 3097, '370k': 3098, 'ạk': 3099, 'trật_tự': 3100, 'fức': 3101, 'nội_dung': 3102, 'gủi': 3103, 'giả_đò': 3104, 'sình': 3105, 'bản': 3106, 'ngân_hàng': 3107, 'thât': 3108, 'vòng_vèo': 3109, 'dọ': 3110, 'vinmart': 3111, 'new_year': 3112, 'có_ích': 3113, 'nhỏ_nhặt': 3114, 'hến': 3115, '1969': 3116, 'nàu': 3117, 'lhp': 3118, 'lý_tưởng': 3119, 'hoac': 3120, 'vee': 3121, 'several': 3122, 'thành_danh': 3123, 'lôi_cuốn': 3124, 'phúc': 3125, 'siêng': 3126, 'củ_cải': 3127, 'areas': 3128, 'х': 3129, 'bịt': 3130, 'sữa_tươi': 3131, 'lên_lớp': 3132, 'hạp': 3133, 'sọt': 3134, 'giòn_giã': 3135, 'lượ': 3136, 'nhắn_gửi': 3137, 'linh_tinh': 3138, '75a': 3139, 'coi_trọng': 3140, '192': 3141, 'ì_ạch': 3142, 'vuvu': 3143, 'lac': 3144, 'đặc_biệt': 3145, 'ụp': 3146, 'trục_trặc': 3147, 'bảo_hiểm': 3148, 'fref': 3149, 'tù_túng': 3150, 'few': 3151, 'kh': 3152, 'majestic': 3153, 'quỷ': 3154, '510': 3155, 'river': 3156, 'mè': 3157, 'rex': 3158, 'cút': 3159, 'won': 3160, 'khoát': 3161, 'công_cộng': 3162, 'nháp': 3163, 'ngưỡng_mộ': 3164, 'lạ_kỳ': 3165, 'xô_đẩy': 3166, 'nói': 3167, 'lĩnh': 3168, 'this': 3169, 'công_chuyện': 3170, 'tóc_tơ': 3171, 'hỏg': 3172, 'văn_thánh': 3173, 'rẩt': 3174, 'khiêu_vũ': 3175, 'nhiet': 3176, 'đi_sâu': 3177, 'pasta': 3178, 'buôn': 3179, 'nằm_xuống': 3180, 'marsala': 3181, '222': 3182, 'đối_thủ': 3183, 'molly': 3184, 'tuột': 3185, 'gết': 3186, 'topping': 3187, 'tinh': 3188, '16': 3189, '13tr': 3190, 'họng': 3191, 'cúm': 3192, 'nhấp_nháy': 3193, 'khoài': 3194, 'ghớm': 3195, '12kg': 3196, 'lăm': 3197, 'ống': 3198, 'say_đắm': 3199, 'hình_không_gian': 3200, 'bênh': 3201, 'giấy_bóng': 3202, 'gọn_ghẽ': 3203, 'phù_sa': 3204, 'tư_tưởng': 3205, 'hiển_nhiên': 3206, 'trôi_nổi': 3207, 'pạn': 3208, 'search': 3209, 'philippines': 3210, 'parking': 3211, 'co': 3212, 'mát_lòng': 3213, 'thị_phi': 3214, 'bồi_bàn': 3215, 'trog': 3216, 'một_ít': 3217, 'sake': 3218, '96': 3219, 'tino': 3220, 'thanh_thanh': 3221, 'chocolat': 3222, 'chứng_minh': 3223, 'khấu_đuôi': 3224, 'thanh_cao': 3225, 'giống_lai': 3226, 'đáp_ứng': 3227, 'châm_chước': 3228, 'toai': 3229, 'nướcc': 3230, 'bất_tiện': 3231, 'tru': 3232, '72014': 3233, 'lâm_râm': 3234, 'têt': 3235, 'tư_cách': 3236, 'anh_văn': 3237, 'responsible': 3238, 'họ': 3239, 'bảo_tàng': 3240, 'dống': 3241, 'inconvenient': 3242, 'cooked': 3243, 'dầu': 3244, '1020': 3245, 'hoá_chất': 3246, 'trực_thuộc': 3247, 'oceanfront': 3248, 'het': 3249, 'cầu_nguyện': 3250, 'xụt': 3251, 'hehee': 3252, 'syphon': 3253, 'kì_thực': 3254, 'hâ': 3255, 'bửa': 3256, 'nnnn': 3257, 'phương_trang': 3258, 'chéo': 3259, 'thìa_cà_phê': 3260, 'hi': 3261, 'cuc': 3262, 'y_sì': 3263, 'đếm_xỉa': 3264, 'xét_lại': 3265, 'tinh_khiết': 3266, 'foodpanda': 3267, 'bem': 3268, '132': 3269, 'thứ_sáu': 3270, 'sợi': 3271, 'lavabo': 3272, 'edo': 3273, 'loi_nhoi': 3274, 'seminar': 3275, 'đươc': 3276, 'no_nê': 3277, 'nề': 3278, 'kitty': 3279, 'khiếm_thị': 3280, 'bựa': 3281, 'size': 3282, 'bao_bì': 3283, 'đường_đất': 3284, '15000': 3285, 'bủn_rủn': 3286, 'hentai': 3287, 'ảm': 3288, 'trát': 3289, 'chiều_hướng': 3290, 'dv': 3291, 'tấm_tắc': 3292, 'laptop': 3293, 'sừng': 3294, 'ngỡ_ngàng': 3295, 'mài': 3296, 'làm_biếng': 3297, 'gợi': 3298, 'nvt': 3299, 'coá': 3300, 'hỉêu': 3301, '100ng': 3302, 'phục': 3303, '4li': 3304, 'shrimps': 3305, 'crap': 3306, 'quay_vòng': 3307, 'lăn_lộn': 3308, 'có_mặt': 3309, 'vượt': 3310, 'dàn_cảnh': 3311, 'nguyễn_thị_minh_khai': 3312, 'dóc': 3313, 'xa_xa': 3314, 'ngưòi': 3315, '2nd': 3316, 'yeu': 3317, 'lộng': 3318, 'thuốc_trừ_sâu': 3319, 'ks': 3320, 'ák': 3321, 'paying': 3322, 'complimentary': 3323, 'literally': 3324, 'giup': 3325, 'whipped': 3326, 'rât': 3327, 'cơ_nhỡ': 3328, 'niê': 3329, 'cài_đặt': 3330, 'nugget': 3331, 'ấn_định': 3332, 'kê': 3333, 'vô_thức': 3334, 'vàoo': 3335, 'cheated': 3336, 'quá_ư': 3337, 'q3': 3338, 'quạ': 3339, 'better': 3340, '2000': 3341, 'nhanh_trí': 3342, 'interested': 3343, 'lóng_ngóng': 3344, 'chez': 3345, 'trang_phục': 3346, 'bổ_ích': 3347, 'shock': 3348, 'chân_không': 3349, 'tắp': 3350, 'ram': 3351, 'bite': 3352, 'bắt_chuyện': 3353, 'thâp': 3354, 'tỏ': 3355, 'som': 3356, 'thiên_địa': 3357, 'lữa': 3358, 'cùg': 3359, 'lồi_lõm': 3360, 'củg': 3361, 'thực_hành': 3362, 'lau_chùi': 3363, 'lắm': 3364, 'bot': 3365, 'ground': 3366, 'dầu_mỡ': 3367, 'trống': 3368, 'nhà_vua': 3369, 'mũ_ni': 3370, 'chán': 3371, 'le_le': 3372, 'vuc': 3373, 'đêm_đêm': 3374, 'nhanh_nhạy': 3375, 'tráng_miệng': 3376, 'vô_nhân_đạo': 3377, 'show': 3378, 'thì_giờ': 3379, 'dia': 3380, 'oke': 3381, 'bể': 3382, 'bộ_đàm': 3383, 'hoàn_trả': 3384, 'toppings': 3385, 'deserted': 3386, 'cằn': 3387, 'đao': 3388, 'sưu_tập': 3389, 'đừơng': 3390, 'ngyên': 3391, 'blanc': 3392, 'nhưngvẫn': 3393, 'chúng_em': 3394, 'phàn': 3395, 'near': 3396, 'vóc_dáng': 3397, 'mấp_mé': 3398, 'qua_mặt': 3399, 'cung_đình': 3400, 'bản_mặt': 3401, 'quạy': 3402, 'tôm_hùm': 3403, 'vô_vị': 3404, 'phi_công': 3405, 'tối_kỵ': 3406, 'complaint': 3407, 'treasure': 3408, 'ngườii': 3409, 'roi': 3410, 'đẩu': 3411, 'troẹ': 3412, 'danh_mục': 3413, 'wtf': 3414, 'giền': 3415, 'bao_nhiêu': 3416, 'cân_nhắc': 3417, '26k': 3418, 'karaok': 3419, 'inst': 3420, 'ngất_ngưởng': 3421, 'gram': 3422, 'rojak': 3423, 'gt': 3424, 'ướp': 3425, 'sạch': 3426, 'zính': 3427, 'tòng': 3428, 'quạt_máy': 3429, 'tuyền': 3430, 'vội': 3431, 'fami': 3432, 'ngủ_gà_ngủ_gật': 3433, 'líu_ríu': 3434, 'kênh': 3435, 'hoa_hoét': 3436, 'street': 3437, 'double': 3438, 'bán_kính': 3439, 'quỷ_sứ': 3440, 'hoải': 3441, 'thảnh_thơi': 3442, 'địa_hình': 3443, 'mai_thảo': 3444, 'xao_lãng': 3445, 'khởi': 3446, 'shazam': 3447, 'cotta': 3448, 'ấp_a_ấp_úng': 3449, 'xấu_xí': 3450, '106a': 3451, 'batman': 3452, 'theme': 3453, '128': 3454, 'tuc': 3455, 'túi_tiền': 3456, 'láo_nháo': 3457, 'trắng_trẻo': 3458, 'dự_kiến': 3459, 'du_nhập': 3460, 'yểu': 3461, 'phủ_nhận': 3462, 'bánh_nếp': 3463, 'búa': 3464, 'câm': 3465, 'body': 3466, 'selca': 3467, 'nãi': 3468, 'thoảg': 3469, '60s': 3470, 'xều': 3471, 'mạch': 3472, 'lưỡng_lự': 3473, '48k': 3474, 'vh': 3475, 'lập': 3476, 'mirai': 3477, 'nhành': 3478, 'lộng_gió': 3479, 'kỷ_lục': 3480, 'đông_đảo': 3481, 'sôi': 3482, 'giấy': 3483, 'mê_mệt': 3484, 'cá_trê': 3485, 'độc': 3486, 'phô_trương': 3487, 'goodbye': 3488, 'dày_cộp': 3489, 'sponge': 3490, 'being': 3491, 'nghi_ngút': 3492, 'thò': 3493, 'marriot': 3494, 'dững': 3495, 'nhỡn': 3496, 'cá_chuồn': 3497, 'hẹp': 3498, 'đỏi': 3499, 'vấp': 3500, 'đep': 3501, 'vật_thể': 3502, 'f5': 3503, 'tài_giỏi': 3504, 'vani': 3505, 'mật_mã': 3506, 'thái_quá': 3507, 'pình': 3508, '98k': 3509, 'sát_sạt': 3510, 'giả_danh': 3511, 'hiihi': 3512, 'phong_phú': 3513, '茶': 3514, 'sơ_mi': 3515, 'thank': 3516, 'săm_soi': 3517, 'hồn_nhiên': 3518, 'vài': 3519, 'tanh_hôi': 3520, 'miệng': 3521, 'ỉ': 3522, 'chừ': 3523, 'như_thể': 3524, 'hở': 3525, 'đp': 3526, 'oreo': 3527, 'mặm': 3528, 'mợ': 3529, 'ưu_thế': 3530, 'đại_khái': 3531, 'schnitzel': 3532, 'ba_rọi': 3533, 'tam_phú': 3534, 'cách_điệu': 3535, 'trử': 3536, 'hộ': 3537, 'đúa': 3538, '76k': 3539, 'phết': 3540, 'dả': 3541, 'holic': 3542, 'rạp': 3543, 'bọ_chét': 3544, 'mô_tê': 3545, 'corner': 3546, 'luôn_tiện': 3547, 'boxing': 3548, 'nham': 3549, 'loud': 3550, 'ọp': 3551, 'sóng_gió': 3552, 'với': 3553, 'dường': 3554, 'bất_đắc_dĩ': 3555, 'cứu_vớt': 3556, 'scm': 3557, 'texas': 3558, 'nhiệt_tâm': 3559, 'quó': 3560, 'lềnh_phềnh': 3561, 'thươn': 3562, 'dảy': 3563, 'hoảng_hồn': 3564, '12o': 3565, '7206': 3566, 'toản': 3567, 'citrus': 3568, 'vật': 3569, 'tuýp': 3570, 'admin': 3571, 'nghẻo': 3572, 'mcd': 3573, 'what': 3574, 'yoghurt': 3575, 'cg': 3576, 'sồn_sồn': 3577, 'thuận': 3578, 'combo': 3579, 'chiễm': 3580, 'xe_hơi': 3581, 'ứ': 3582, '300': 3583, 'rên': 3584, 'salami': 3585, 'khẩu_vị': 3586, 'tênh': 3587, 'hồng_kông': 3588, 'thẳng_cẳng': 3589, 'akiko': 3590, 'café': 3591, 'mờ_nhạt': 3592, 'đụng': 3593, 'ý_tứ': 3594, 'díp': 3595, 'tái_chế': 3596, 'curie': 3597, 'dặn_dò': 3598, 'nhó': 3599, 'sử_dụng': 3600, 'eb': 3601, 'lấn_chiếm': 3602, 'or': 3603, 'nhốn_nháo': 3604, 'ô_tô': 3605, 'nhỉ': 3606, 'mần': 3607, 'kug': 3608, 'complained': 3609, 'caravelle': 3610, 'tối_mịt': 3611, 'ngó': 3612, 'cảm_tưởng': 3613, 'ướt_át': 3614, 'satay': 3615, 'bảng_màu': 3616, 'ê_chề': 3617, 'kĩ_tính': 3618, 'tí_tị': 3619, 'xông_xáo': 3620, 'mami': 3621, 'bức_bối': 3622, 'hóng_hớt': 3623, 'fail': 3624, 'bình_giã': 3625, 'cao_điểm': 3626, 'lầm_lẫn': 3627, 'hễ': 3628, 'shop': 3629, 'moto': 3630, '60t': 3631, 'starting': 3632, '2bên': 3633, 'ngêu': 3634, 'vu_vơ': 3635, 'di_tích': 3636, 'chấn_chỉnh': 3637, 'buôn_bán': 3638, 'mexico': 3639, 'tin_buồn': 3640, 'dàn': 3641, 'nq': 3642, 'lạ_đời': 3643, 'dominos': 3644, 'công_xã': 3645, 'địch': 3646, 'xuất': 3647, 'kinh': 3648, '520k': 3649, '450': 3650, 'nứoc': 3651, 'suop': 3652, 'rươu': 3653, '2729': 3654, 'thu_nhập': 3655, 'huỳnh_quang': 3656, 'bóng_ma': 3657, 'origin': 3658, 'thống_nhất': 3659, 'trút': 3660, 'mát_mắt': 3661, 'vou': 3662, 'tỉnh_lẻ': 3663, 'buông': 3664, 'tây_sơn': 3665, 'quách': 3666, 'heck': 3667, 'giận_hờn': 3668, 'nhóm': 3669, 'kém': 3670, 'vưc': 3671, 'vanh_vách': 3672, 'hèm': 3673, 'ki': 3674, 'từ_loại': 3675, 'huyền': 3676, 'rất_chi_là': 3677, 'finding': 3678, 'artichoke': 3679, 'đừng': 3680, 'đồ_chơi': 3681, 'beanbag': 3682, 'đông_nghịt': 3683, 'bổ_trợ': 3684, '20tr': 3685, 'nháo_nhào': 3686, 'vaf': 3687, 'mép': 3688, '272': 3689, 'mê_say': 3690, 'điệu_nghệ': 3691, 'bufet': 3692, 'ever': 3693, 'toét': 3694, '94k': 3695, 'xấu': 3696, 'xớ': 3697, 'trển': 3698, 'nem_tai': 3699, 'tự_nhiên': 3700, 'ăn_ở': 3701, 'charging': 3702, '34': 3703, 'usine': 3704, 'pâté': 3705, 'mặn_nồng': 3706, 'deadline': 3707, 'reply': 3708, 'tx': 3709, 'bấy_lâu': 3710, 'diet': 3711, 'mẫn': 3712, 'arga': 3713, 'muk': 3714, 'maca': 3715, 'hạc': 3716, 'quản_lí': 3717, 'tương_ứng': 3718, 'đứng_tuổi': 3719, 'chên': 3720, 'italia': 3721, 'riềng': 3722, 'kakakakaka': 3723, 'due': 3724, 'găp': 3725, 'vận_động': 3726, 'gáng': 3727, 'dă': 3728, 'jumbo': 3729, 'dẩn': 3730, 'lú': 3731, 'bàn_toạ': 3732, 'trừ_phi': 3733, 'kaori': 3734, 'nhẹn': 3735, 'bep': 3736, 'boheme': 3737, 'spotless': 3738, '2để': 3739, 'nhk': 3740, 'kẹo': 3741, 'cạn_kiệt': 3742, 'để_ý': 3743, 'sắm': 3744, 'ghế_ngồi': 3745, '1402': 3746, 'tham_vọng': 3747, 'vun_bón': 3748, 'cẩm': 3749, 'thẩu': 3750, 'xuân': 3751, 'sản_sinh': 3752, '20phut': 3753, 'báo_giá': 3754, 'đăm_chiêu': 3755, 'vớt_vát': 3756, 'xẳng': 3757, 'tạm_biệt': 3758, 'căn_bản': 3759, 'bề_bộn': 3760, 'bài_học': 3761, 'hoang_phế': 3762, 'hĩ': 3763, 'phòng_khám': 3764, 'èo': 3765, '40tr': 3766, 'bề_thế': 3767, 'hành_lang': 3768, 'biêu': 3769, 'cộng_hưởng': 3770, 'hhh': 3771, 'hiệu': 3772, 'chunh': 3773, 'trân_châu': 3774, 'ném': 3775, 'chập_choạng': 3776, 'thpt': 3777, 'lfa': 3778, 'bươu': 3779, 'lầm_lầm': 3780, 'đường_mòn': 3781, 'bia_tươi': 3782, 'mind': 3783, 'yếu_tố': 3784, 'bánh_gato': 3785, 'tháo': 3786, 'nai': 3787, 'đùa': 3788, 'tđ': 3789, 'liêu': 3790, 'bento': 3791, 'sweet': 3792, 'cứu_rỗi': 3793, 'rựu': 3794, 'caffe': 3795, 'tử': 3796, 'sặc_sụa': 3797, 'fog': 3798, 'breeze': 3799, 'lối': 3800, 'hspa': 3801, 'write': 3802, 'tphcm': 3803, 'cơ_chế': 3804, 'thuợng': 3805, 'troai': 3806, 'nct': 3807, '7km': 3808, 'tiền_của': 3809, 'sây': 3810, 'hnao': 3811, 'thẻm': 3812, '242': 3813, 'ame': 3814, 'bưng_bê': 3815, 'lò_đúc': 3816, 'uy_tín': 3817, 'thội': 3818, 'thao_tác': 3819, 'bàn_tán': 3820, 'tuktuk': 3821, '20ph': 3822, 'diệt': 3823, 'thực_trạng': 3824, 'sing': 3825, 'tuyệt_vời': 3826, 'nhu_cầu': 3827, 'cappuchino': 3828, 'ều': 3829, 'gyoza': 3830, 'phản_bác': 3831, 'rỗng_không': 3832, 'latino': 3833, 'dở_người': 3834, 'nấu': 3835, 'hụt': 3836, 'việt_đức': 3837, 'gốc': 3838, 'cồng_chiêng': 3839, 'tổng_hoà': 3840, 'tự_thân': 3841, 'minhf': 3842, 'bây_chừ': 3843, 'zombie': 3844, 'ngọt_bùi': 3845, 'chương_trình': 3846, 'mồm': 3847, 'luộm_thuộm': 3848, 'xvnt': 3849, 'salut': 3850, 'công_ty': 3851, 'hò_hẹn': 3852, 'giơ': 3853, 'hân_hoan': 3854, 'ngươc': 3855, 'zu': 3856, 'non_choẹt': 3857, 'nần': 3858, 'ngọt_ngào': 3859, 'rộng_mở': 3860, 'ice': 3861, 'xvi': 3862, 'gờ': 3863, 'bao_giờ': 3864, 'xoẹt': 3865, 'câu_hỏi': 3866, 'sirup': 3867, 'nhắm_mắt': 3868, 'quay': 3869, 'đến_cùng': 3870, 'tố': 3871, 'lỗ_chỗ': 3872, 'hầy': 3873, 'tiêm': 3874, 'trần_bình': 3875, 'xót': 3876, '2đứa': 3877, 'besides': 3878, 'cụp': 3879, 'bảo_tháp': 3880, 'ert': 3881, 'satra': 3882, 'ahahaha': 3883, 'u_tịch': 3884, 'thiet': 3885, 'seasoning': 3886, 'no1': 3887, 'bánh_sandwich': 3888, 'wanna': 3889, '235k': 3890, 'tay_trái': 3891, '349k': 3892, 'cặp': 3893, 'tien': 3894, 'mystique': 3895, 'luâ': 3896, 'rang': 3897, 'chia_sẻ': 3898, 'nhắm': 3899, 'chề': 3900, 'quyêt': 3901, 'bưng': 3902, 'choàng': 3903, 'flash': 3904, 'xữ': 3905, 'tỡn': 3906, '258': 3907, 'bịa': 3908, 'sydney': 3909, 'hầu_như': 3910, '89k': 3911, 'duơng': 3912, 'sữa': 3913, 'kì_diệu': 3914, 'liếc': 3915, 'vcd': 3916, 'gà_công_nghiệp': 3917, 'bt': 3918, 'công_sở': 3919, 'líu_lo': 3920, 'chông_chênh': 3921, 'dắng': 3922, 'hà_tĩnh': 3923, 'ro': 3924, 'xeo': 3925, 'đinh_tai': 3926, 'miêng': 3927, '550k': 3928, 'tình': 3929, 'nòi': 3930, 'nghe_đâu': 3931, 'đánh_dấu': 3932, 'mango': 3933, 'phì_phì': 3934, 'smile': 3935, '360k': 3936, 'ồ_ạt': 3937, 'chặc_lưỡi': 3938, 'micro': 3939, 'mắm': 3940, 'đất_liền': 3941, 'futur': 3942, 'bào': 3943, 'thỉng': 3944, 'hqa': 3945, 'hyatt': 3946, 'tắc': 3947, '9h45': 3948, 'tv': 3949, 'nhoẹt': 3950, 'cao_lầu': 3951, 'nướ': 3952, 'quá_lửa': 3953, 'squid': 3954, 'ham': 3955, 'dịu_dàng': 3956, 'trầm_trồ': 3957, 'lieu': 3958, 'banchan': 3959, 'cá_mú': 3960, 'ngon_miệng': 3961, 'họg': 3962, 'should': 3963, 'coke': 3964, 'hoàng_đế': 3965, 'áo_khoác': 3966, 'họp': 3967, 'phiền_phức': 3968, 'nhất_thiết': 3969, 'mất': 3970, 'địa_thế': 3971, 'mắc': 3972, 'thanh_nga': 3973, 'củng': 3974, 'giấc': 3975, 'nhong': 3976, 'tình_huống': 3977, 'di_sản': 3978, 'thoả_mãn': 3979, 'chật_vật': 3980, '2424': 3981, 'ngang_nhiên': 3982, 'sua': 3983, 'chill': 3984, 'cách_tân': 3985, 'camp': 3986, 'mãi_mãi': 3987, 'biển_đông': 3988, 'số_một': 3989, 'lá_cải': 3990, 'vua_chúa': 3991, 'yoko': 3992, 'đợp': 3993, 'stomach': 3994, 'built': 3995, 'simply': 3996, 'tràu': 3997, 'địc': 3998, 'áp': 3999, 'kế_toán_trưởng': 4000, 'thực_ra': 4001, 'vanilla': 4002, 'hì_hục': 4003, 'triê': 4004, 'dzú': 4005, 'c5': 4006, 'cừ': 4007, 'chơt': 4008, 'nầu': 4009, 'tay_chân': 4010, '4đ': 4011, 'phùng': 4012, 'commment': 4013, 'vissan': 4014, 'yut': 4015, 'seem': 4016, 'cuồng': 4017, 'arrive': 4018, 'hàg': 4019, 'hột': 4020, 'nchung': 4021, 'thần_thoại': 4022, 'lờn': 4023, 'tinn': 4024, 'suôt': 4025, 'trắng_bóc': 4026, 'manor': 4027, 'xô_bồ': 4028, 'kara': 4029, 'nao': 4030, 'tóm': 4031, 'chiều_qua': 4032, 'cafê': 4033, 'lui': 4034, 'bão_bùng': 4035, 'dua': 4036, 'mong_ước': 4037, 'rốt_cuộc': 4038, 'nức_nở': 4039, 'quanh': 4040, 'òm': 4041, 'cây_đề': 4042, 'du_kích': 4043, 'troll': 4044, 'da_trời': 4045, 'chạp': 4046, '5ly': 4047, 'lag': 4048, 'đưới': 4049, 'chập_chờn': 4050, 'đât': 4051, 'đường_lối': 4052, 'bởi_vậy': 4053, 'bussiness': 4054, 'xanh_rờn': 4055, 'mang': 4056, 'qd': 4057, 'sáng_mai': 4058, 'tuần_lễ': 4059, 'giản': 4060, 'loãng': 4061, 'htì': 4062, 'hì_hì': 4063, 'tách': 4064, 'hả_dạ': 4065, 'bubble': 4066, 'kèn': 4067, 'thế_này': 4068, 'vư': 4069, '288': 4070, 'vô_hình': 4071, 'balcony': 4072, 'kết_nối': 4073, 'đồng_hành': 4074, 'ngựa_ô': 4075, 'hiu_quạnh': 4076, 'ngơi': 4077, 'bao_phủ': 4078, 'tren': 4079, 'vương_giả': 4080, 'quá_đà': 4081, 'kỳ_thực': 4082, 'hù': 4083, 'lộn_xộn': 4084, 'ncl': 4085, 'oishi': 4086, 'đồ_hàng': 4087, 'needs': 4088, 'wheel': 4089, 'nhắn_tin': 4090, 'bamboo': 4091, 'boy': 4092, 'bthg': 4093, '246': 4094, 'bàn_là': 4095, 'spaces': 4096, 'khuôn': 4097, 'cà_kê': 4098, 'lễ_phép': 4099, '6d': 4100, 'quê_một_cục': 4101, 'nhí_nhảnh': 4102, 'kinh_tế_thị_trường': 4103, 'chơi_đùa': 4104, 'wow': 4105, 'thông_qua': 4106, 'trong_lành': 4107, 'taichi': 4108, 'trống_trải': 4109, 'tẩn': 4110, 'ầy': 4111, 'ethnology': 4112, 'an_giang': 4113, 'zống': 4114, 'nearly': 4115, 'mượt_mà': 4116, 'thơn': 4117, 'trung_thực': 4118, 'ùn_ùn': 4119, 'lục_đục': 4120, 'coca_cola': 4121, 'knor': 4122, 'kkk': 4123, 'maki': 4124, 'bạch_đằng': 4125, '78': 4126, 'trời_đất': 4127, 'market': 4128, 'combo2': 4129, 'chiụ': 4130, 'give': 4131, 'charged': 4132, 'gắt': 4133, 'suppose': 4134, 'nói_chuyện': 4135, 'cố_đạo': 4136, 'cốp': 4137, 'cứng_ngắc': 4138, 'bì': 4139, 'heo_hút': 4140, 'policy': 4141, '287': 4142, 'lak': 4143, 'xép': 4144, 'lobby': 4145, 'cá_vược': 4146, 'động_tĩnh': 4147, 'sanwich': 4148, 'y_sinh': 4149, 'rạm': 4150, 'appetite': 4151, 'chăng_nữa': 4152, 'cam_thảo': 4153, 'chấp_nhận': 4154, 'nọ': 4155, 'rả': 4156, 'giương_mắt_ếch': 4157, 'sượn': 4158, 'ủng': 4159, 'dh': 4160, 'cụt_ngủn': 4161, 'giá_lạnh': 4162, '3h45': 4163, 'thứ_bảy': 4164, 'đăm': 4165, 'mờ': 4166, 'đầu_đọc': 4167, 'kỷ_niệm': 4168, 'trung_tự': 4169, 'gold': 4170, 'chơi_trội': 4171, 'trơ_tráo': 4172, 'thường_lệ': 4173, 'disadvantaged': 4174, 'củn': 4175, 'bình_phú': 4176, 'cao_bồi': 4177, 'zẫy': 4178, 'chúng_mình': 4179, 'đề_thám': 4180, 'ngắc_ngứ': 4181, 'zài': 4182, 'két': 4183, 'móng_giò': 4184, 'yên_vị': 4185, 'địa': 4186, 'tuyềnh': 4187, 'dữ': 4188, 'nèn': 4189, 'vii': 4190, 'lầm_lì': 4191, 'trươ': 4192, 'nhàg': 4193, 'gập_ghềnh': 4194, 'tình_yêu': 4195, 'cật': 4196, 'pick': 4197, 'ngắn': 4198, 'hội_viên': 4199, 'khô_khốc': 4200, 'chực': 4201, 'đựợc': 4202, 'ký_ức': 4203, 'gia_hạn': 4204, 'continue': 4205, 'nhão_nhoét': 4206, 'gía': 4207, 'phát_biểu': 4208, 'tin_tức': 4209, 'nuôi_dưỡng': 4210, 'oolong': 4211, '4lần': 4212, 'radio': 4213, 'vụ_việc': 4214, 'dù': 4215, 'chán_ngắt': 4216, 'lồng': 4217, 'gặp': 4218, 'thiêm': 4219, 'mỏng_manh': 4220, 'lớn_mạnh': 4221, 'cơm': 4222, 'cream': 4223, 'snow': 4224, 'quát_tháo': 4225, 'lien': 4226, 'albero': 4227, 'lết': 4228, 'lừ_lừ': 4229, 'kịch': 4230, 'waiting': 4231, 'lựơng': 4232, 'giòn_rụm': 4233, '4075': 4234, 'cause': 4235, 'cách': 4236, 'ml': 4237, '159k': 4238, 'tổ_hợp': 4239, 'mở_mang': 4240, 'toại': 4241, 'hỗ_trợ': 4242, 'thớ': 4243, 'hốp': 4244, 'ravioli': 4245, 'bro': 4246, 'c3': 4247, 'thỳ': 4248, 'giổ': 4249, 'giải_lao': 4250, 'thế_thì': 4251, 'thăm_hỏi': 4252, 'loè_loẹt': 4253, 'diẽn': 4254, 'ngẫu_nhiên': 4255, 'minh_châu': 4256, 'áo_phao': 4257, 'waited': 4258, 'personal': 4259, 'ăn_đủ': 4260, '2tr1': 4261, 'húp': 4262, 'pub': 4263, 'hoạt_hình': 4264, 'mil': 4265, 'hợp_nhất': 4266, 'phong_phanh': 4267, 'giai_đoạn': 4268, 'supervisor': 4269, 'vẹn': 4270, 'apartment': 4271, 'khác_thường': 4272, 'trang_sức': 4273, '1m75': 4274, 'y_hệt': 4275, 'lẻm': 4276, 'gỗ': 4277, 'nhiệt_huyết': 4278, 'đại_học': 4279, 'wedding': 4280, 'đối_nghịch': 4281, 'chì': 4282, 'nhân_trần': 4283, 'tửong': 4284, 'cm': 4285, 'bô_bô': 4286, 'vncb': 4287, 'đông_dương': 4288, 'cãi_vã': 4289, 'nghỉ_tay': 4290, 'nguồn_gốc': 4291, 'lành': 4292, '245k': 4293, 'đõ': 4294, 'kiệu': 4295, 'nhấc': 4296, 'anw': 4297, 'hít': 4298, '13k': 4299, 'urban': 4300, 'áp_phích': 4301, 'type': 4302, 'sofitel': 4303, 'phút_giây': 4304, 'chắp': 4305, 'vì_thế': 4306, 'chuẩn_xác': 4307, 'hand': 4308, 'meeting': 4309, 'knockout': 4310, 'thết': 4311, 'attention': 4312, '20h40': 4313, 'nacho': 4314, 'ví': 4315, 'đàm': 4316, 'đame': 4317, 'sánh': 4318, 'giằng_co': 4319, 'fries': 4320, 'gục': 4321, 'teriyaki': 4322, 'nôn_mửa': 4323, 'thí': 4324, 'ân_hận': 4325, 'tối_giản': 4326, 'cha': 4327, 'đánh_trống_lảng': 4328, 'gummy': 4329, 'giao_diện': 4330, 'xoã': 4331, 'nuóc': 4332, '3h': 4333, 'hượng': 4334, 'jolly': 4335, 'glorious': 4336, 'roài': 4337, 'nuê': 4338, 'compared': 4339, 'đầu_xanh': 4340, 'mà_còn': 4341, 'lia_lịa': 4342, 'vát': 4343, 'ch': 4344, 'điên_rồ': 4345, 'tranh_tường': 4346, 'lăn_lóc': 4347, 'lốm': 4348, 'mochi': 4349, 'bánh_tổ': 4350, 'đề_án': 4351, 'giỡn': 4352, 'linh': 4353, 'từ_giã': 4354, 'result': 4355, 'menus': 4356, 'thùi': 4357, 'khắc_phục': 4358, 'king': 4359, 'lịm': 4360, 'desk': 4361, 'hảo_hảo': 4362, 'àm': 4363, 'kiến_trúc_sư': 4364, 'phật_giáo': 4365, 'mới_phải': 4366, 'nắng_nóng': 4367, 'ưu_khuyết_điểm': 4368, 'somebody': 4369, 'cá_cơm': 4370, 'lạj': 4371, 'hỗn_tạp': 4372, 'duối': 4373, 'phản_ảnh': 4374, 'đùm': 4375, 'baked': 4376, 'hoang_tàn': 4377, 'đỗ_quyên': 4378, 'tam_kỳ': 4379, 'kết_cục': 4380, 'thất_đức': 4381, 'trươc': 4382, 'cọng': 4383, 'pinic': 4384, 'tự_chủ': 4385, 'màk': 4386, 'mặt_tiền': 4387, 'pí': 4388, 'trì': 4389, 'cantin': 4390, 'pe': 4391, 'friendly': 4392, 'nước_dùng': 4393, 'kiwi': 4394, 'giấy_bạc': 4395, 'lặn_lội': 4396, 'ngữa': 4397, 'chocola': 4398, 'proves': 4399, 'sử': 4400, 'bản_chất': 4401, 'bánh': 4402, 'râ': 4403, 'trời_biển': 4404, 'ngừ': 4405, 'sữa_chua': 4406, 'hưng_phú': 4407, 'counter': 4408, 'nước_gạo': 4409, 'cân_xứng': 4410, 'another': 4411, 'sets': 4412, 'bơi_lội': 4413, 'ngay_thẳng': 4414, 'situation': 4415, 'hoà_bình': 4416, 'xợi': 4417, 'thit': 4418, 'sắp': 4419, 'nhoa': 4420, 'toán': 4421, 'nhà_nhà': 4422, 'fruit': 4423, 'caphe': 4424, 'cạc': 4425, 'gam': 4426, 'bố_thí': 4427, '30n': 4428, 'db': 4429, 'tuỷ': 4430, 'efficient': 4431, 'tấ': 4432, 'anh_hùng': 4433, 'nói_thẳng': 4434, 'nhuc': 4435, 'chô': 4436, 'thíchhợp': 4437, 'nước_mắm': 4438, 'ra_tay': 4439, 'ô_long_viện': 4440, 'khôgn': 4441, 'pxl': 4442, 'chú_tâm': 4443, '259': 4444, 'trên_trời_dưới_đất': 4445, 'kề': 4446, 'nè': 4447, 'ngưới': 4448, 'chẹp_chẹp': 4449, 'bride': 4450, '20h10': 4451, 'điện': 4452, '50cm': 4453, 'cơm_chiên': 4454, 'hết_mực': 4455, 'rồg': 4456, 'qánh': 4457, 'sum': 4458, 'weg': 4459, 'địa_trung_hải': 4460, 'xủi': 4461, 'sịp': 4462, 'tỷ_lệ_nghịch': 4463, 'jobs': 4464, 'tiếp_đãi': 4465, '2025': 4466, 'dạnh': 4467, 'ưa_nhìn': 4468, 'nông': 4469, 'tú_ụ': 4470, 'cửu': 4471, 'xe_du_lịch': 4472, 'đam': 4473, 'pro': 4474, 'tnv': 4475, '4g': 4476, 'xe_bò': 4477, 'ngoài_trời': 4478, 'sởn': 4479, 'cảm_tình': 4480, 'mô_phỏng': 4481, 'thú_vị': 4482, 'quoc': 4483, 'to_đùng': 4484, 'tuyết': 4485, 'xuát': 4486, 'bò_viên': 4487, 't2': 4488, 'photo': 4489, 'châp': 4490, 'tinh_tế': 4491, '1997': 4492, 'biểu_hiện': 4493, 'bố_già': 4494, 'tơi_bời': 4495, 'vỹ': 4496, 'nghẹn_ngào': 4497, 'tập_vở': 4498, 'dvụ': 4499, 'pct': 4500, 'khen_khét': 4501, '39k': 4502, 'bắt_ép': 4503, 'ngừng': 4504, 'futo': 4505, 'lượn_lờ': 4506, 'hàn_huyên': 4507, 'cool': 4508, 'their': 4509, 'đồng_nát': 4510, 'trái_ngược': 4511, 'thjk': 4512, 'tú': 4513, 'hôm_kia': 4514, 'đua': 4515, 'tim': 4516, 'chuâ': 4517, 'làm_vậy': 4518, 'brilliant': 4519, 'để_tâm': 4520, 'hu_hu': 4521, 'nguoc': 4522, 'wep': 4523, 'cđ': 4524, 'emart': 4525, 'xin_đểu': 4526, 'sơm': 4527, 'khát_khao': 4528, 'quốc_học': 4529, 'crab': 4530, 'teacher': 4531, 'rag': 4532, 'khởi_đầu': 4533, 'ghế_bành': 4534, 'ban_nhạc': 4535, 'mẩy': 4536, 'hardest': 4537, 'nhân_hoà': 4538, 'nghẹt': 4539, 'medium': 4540, 'chật_ních': 4541, 'tí_teo': 4542, 'quài': 4543, 'băn': 4544, 'chua_lét': 4545, 'inh_ỏi': 4546, 'cán_bộ': 4547, 'xung_thiên': 4548, 'tcb': 4549, 'hoang_sơ': 4550, 'noen': 4551, 'thị_trường': 4552, 'khao': 4553, 'orion': 4554, 'ngóc': 4555, 'nóng_mặt': 4556, 'mảnh': 4557, 'có': 4558, 'rocket': 4559, 'chuyen': 4560, 'kf': 4561, 'photos': 4562, 'cầu_kỳ': 4563, 'oko': 4564, 'vag': 4565, 'lỡ_dở': 4566, 'làm_hàng': 4567, 'lẻo': 4568, '7p': 4569, 'dưa': 4570, 'bẹn': 4571, 'đn': 4572, 'nhừ': 4573, 'đồ_nghề': 4574, 'xô': 4575, 'ngược_đãi': 4576, 'tỷ': 4577, 'chọn': 4578, 'tửu_lượng': 4579, 'decode': 4580, 'gă': 4581, 'giải_quyết': 4582, 'đon_đả': 4583, 'lóng_nga_lóng_ngóng': 4584, 'mấ': 4585, 'doctor': 4586, '3ng': 4587, 'vên': 4588, 'ci': 4589, '15ph': 4590, '20g30': 4591, 'mix': 4592, 'tanh': 4593, 'villa': 4594, 'thể_chế': 4595, 'ngin': 4596, 'chứa': 4597, 'huyền_thoại': 4598, 'aioli': 4599, '4h': 4600, '3': 4601, 'coworking': 4602, 'vibe': 4603, 'thuận_mua_vừa_bán': 4604, 'thanh_lọc': 4605, 'trót_dại': 4606, 'chiêm_nghiệm': 4607, 'kok': 4608, 'quản_trị': 4609, 'tret': 4610, 'tồi': 4611, 'phố': 4612, 'ngượng_nghịu': 4613, 'input': 4614, 'môt': 4615, 'cỏ_may': 4616, 'loá': 4617, 'hĩu': 4618, 'giẻ': 4619, 'trốg': 4620, '1h30': 4621, 'ngồi_đồng': 4622, 'place': 4623, 'tà': 4624, 'tập': 4625, 'pearl': 4626, 'bẻn': 4627, 'м': 4628, 'ngẩn': 4629, 'éo': 4630, 'tự_biên_tự_diễn': 4631, 'airway': 4632, 'jj': 4633, 'nất': 4634, 'ươp': 4635, 'lờ': 4636, '220g': 4637, 'chất_dẻo': 4638, 'lun': 4639, 'cuội': 4640, 'si': 4641, 'song': 4642, 'mệt_nhọc': 4643, 'nạo': 4644, 'opened': 4645, 'ds': 4646, 'nhậu_nhẹt': 4647, 'however': 4648, 'cn': 4649, 'one': 4650, 'mởn': 4651, '11h': 4652, 'thẹp': 4653, 'quyết_tâm': 4654, 'lavender': 4655, 'xac': 4656, 'sùng': 4657, 'đắc_địa': 4658, 'bại': 4659, 'ô_nhiễm': 4660, '49k': 4661, 'nguyên_dạng': 4662, 'hà_nội': 4663, 'lả': 4664, 'lạnh_lùng': 4665, 'sau_đại_học': 4666, 'mjh': 4667, 'nhầy': 4668, 'đúng_ra': 4669, 'insta': 4670, 'tree': 4671, 'coktail': 4672, 'nguyên_nhân': 4673, 'nhỡng': 4674, 'điềm_tĩnh': 4675, 'louis': 4676, 'gật_gù': 4677, '8510': 4678, 'dễ_chịu': 4679, 'thằn': 4680, 'bánh_cuốn': 4681, 'thời_gian': 4682, 'ác_cảm': 4683, 'chổi': 4684, 'sếp': 4685, 'sinh': 4686, 'rhi': 4687, '8h40': 4688, 'vựa': 4689, 'tìm': 4690, 'maar': 4691, 'cá_lăng': 4692, 'tính_toán': 4693, 'rau_cần': 4694, 'xứ': 4695, 'hl': 4696, '540k': 4697, 'easier': 4698, 'duy_tân': 4699, 'hình_tượng': 4700, 'lần_mò': 4701, 'tỷ_mỉ': 4702, 'membership': 4703, 'nươc': 4704, 'đbscl': 4705, 'oregano': 4706, 'đặc_trưng': 4707, 'nb': 4708, 'provide': 4709, 'qui_định': 4710, 'hk': 4711, 'sơ_hở': 4712, 'bình_yên': 4713, 'cố_gắng': 4714, 'chới': 4715, 'xâm_lược': 4716, 'công_lực': 4717, 'f7': 4718, 'nhỏ_nhẹ': 4719, 'tàn_tật': 4720, 'đùa_giỡn': 4721, 'kỹ_thuật_số': 4722, 'ngòn': 4723, 'pastry': 4724, 'thiện_cảm': 4725, 'pricing': 4726, 'trùi': 4727, 'trầm': 4728, 'xúm': 4729, 'thoãi': 4730, 'saying': 4731, 'mừ': 4732, 'kết_luận': 4733, 'diadiemanuong': 4734, 'ra_mặt': 4735, 'cầu_vồng': 4736, 'chín_rục': 4737, 'qt': 4738, '86000': 4739, 'sớm': 4740, 'mjnh': 4741, 'nứa': 4742, 'nắng': 4743, 'người_ngoài': 4744, 'đũ': 4745, 'cề': 4746, 'vệ_quân': 4747, 'ju': 4748, 'lơ_đãng': 4749, 'mò_mẫm': 4750, 'tý': 4751, 'kim': 4752, 'phật_lòng': 4753, 'cỏn': 4754, 'khùng': 4755, 'mềm': 4756, 'tỏ_tình': 4757, 'served': 4758, 'đại_lí': 4759, 'sững_sờ': 4760, 'nhắc_nhở': 4761, 'vat': 4762, 'trắng_trắng': 4763, 'cào': 4764, 'hua': 4765, 'đương_nhiên': 4766, 'dady': 4767, '405': 4768, 'elegant': 4769, 'thảo_dược': 4770, 'tạo': 4771, 'điê': 4772, 'nói_trống_không': 4773, 'dáng': 4774, 'trắng_phau': 4775, 'chyn': 4776, 'xét_nghiệm': 4777, 'thanh_thản': 4778, 'nửa_chừng': 4779, '30km': 4780, 'kampong': 4781, 'vât': 4782, 'theoo': 4783, 'thái_lan': 4784, 'chộn_rộn': 4785, 'italian': 4786, 'le': 4787, 'bún_chả': 4788, 'xươ': 4789, '20000': 4790, 'mocktail': 4791, 'phụ_sản': 4792, 'sịt': 4793, 'quánh': 4794, 'quán_cóc': 4795, 'dũng_cảm': 4796, 'khủng_bố': 4797, 'ngớ_ngẩn': 4798, 'art': 4799, 'sốp': 4800, 'dẫu': 4801, 'vui_tươi': 4802, 'trá': 4803, 'cảnh_vật': 4804, 'hapa': 4805, 'untouchable': 4806, 'măng_cụt': 4807, 'tân': 4808, 'dĩ_nhiên': 4809, 'dách': 4810, 'hương_hoa': 4811, 'năng_khiếu': 4812, 'dật': 4813, 'ưa_chuộng': 4814, 'lò_sưởi': 4815, 'nghẹ': 4816, 'làm_sao': 4817, 'nông_trại': 4818, 'kimbab': 4819, 'cỗ': 4820, '4546': 4821, 'la_mắng': 4822, 'nhen': 4823, 'nhoay_nhoáy': 4824, 'ăn_nằm': 4825, '2': 4826, 'pepsi': 4827, 'phụ_giúp': 4828, 'frozen': 4829, 'an_ủi': 4830, 'xx': 4831, 'giải_nhiệt': 4832, 'nhac': 4833, 'trật_lất': 4834, 'pái': 4835, 'hanh': 4836, 'cag': 4837, 'bụp': 4838, 'sống_động': 4839, 'í_a_í_ới': 4840, 'căm_căm': 4841, 'thơ_ấu': 4842, 'một_vài': 4843, 'thi': 4844, 'tràn_trề': 4845, 'thuyết_phục': 4846, 'đàn': 4847, 'vô_cùng_tận': 4848, 'quanh_co': 4849, 'đón_tiếp': 4850, 'nhiềuu': 4851, 'peper': 4852, 'tinh_thần': 4853, 'paparoti': 4854, 'quyến_rũ': 4855, 'mơí': 4856, 'cangteen': 4857, 'công_đoàn': 4858, 'ốc_sên': 4859, 'sticker': 4860, 'lục_lọi': 4861, 'lua': 4862, 'điễm': 4863, 'đụng_đầu': 4864, 'cận': 4865, 'căn_bệnh': 4866, 'éo_le': 4867, 'hối_hận': 4868, 'creep': 4869, 'nghr': 4870, 'lọt': 4871, 'ngăn_cách': 4872, 'fit': 4873, 'mất_ngủ': 4874, 'sủn': 4875, 'vụt': 4876, 'aug': 4877, 'xet': 4878, '76000': 4879, 'hw': 4880, 'lơ_là': 4881, 'làm_thuê': 4882, 'mới_tinh': 4883, 'ăn': 4884, '800000': 4885, 'phụ_huynh': 4886, 'thấp': 4887, 'pvc': 4888, 'củng_cố': 4889, 'kodo': 4890, 'thếy': 4891, 'dị_nghị': 4892, 'nem': 4893, 'đận': 4894, 'nữaa': 4895, 'mát_rười_rượi': 4896, 'hồng_hà': 4897, 'sức_ép': 4898, 'bếp_núc': 4899, 'bố_con': 4900, '80k': 4901, '80': 4902, 'quốc_dân': 4903, 'thế_hệ': 4904, 'mún': 4905, 'nói_thách': 4906, 'pân': 4907, 'vô_điều_kiện': 4908, 'nghẹn': 4909, 'tấn': 4910, 'suất': 4911, 'ngộ_nghĩnh': 4912, '29': 4913, 'pít': 4914, 'vin': 4915, 'mint': 4916, 'trứoc': 4917, 'rặng': 4918, 'solution': 4919, 'hỏi_han': 4920, 'um_sùm': 4921, 'lý': 4922, 'sân': 4923, 'nth': 4924, 'ct': 4925, 'chội': 4926, 'hách': 4927, 'hữu_nghị': 4928, 'liều_lượng': 4929, 'eating': 4930, 'âm_tính': 4931, 'niet': 4932, 'cây_bông': 4933, 'dưa_góp': 4934, 'nhỏ': 4935, 'xung_phong': 4936, 'khuynh': 4937, 'muka': 4938, 'số': 4939, 'tạp_hoá': 4940, 'xâu_xé': 4941, 'dạng': 4942, 'mượn': 4943, 'dồ': 4944, 'phòng_ốc': 4945, 'phiền': 4946, 'ep': 4947, 'tha_hồ': 4948, 'chiêm': 4949, 'buổi': 4950, 'trã': 4951, 'bối': 4952, 'tế_nhị': 4953, 'style': 4954, 'mushroom': 4955, 'chớp': 4956, 'ồn': 4957, 'hậu_hĩnh': 4958, 'ngoằn': 4959, 'káj': 4960, 'phong_tục': 4961, 'chu': 4962, 'dâi': 4963, 'cũng': 4964, '6ng': 4965, 'ciên': 4966, 'vỡi': 4967, '12h45': 4968, 'ngọt_lừ': 4969, 'rèn': 4970, 'macha': 4971, 'windmill': 4972, 'thôi_thì': 4973, 'connect': 4974, 'p14': 4975, 'bổn': 4976, 'bata': 4977, 'nhờ_nhờ': 4978, 'loang_lổ': 4979, 'berger': 4980, 'ngũ_quả': 4981, 'đóng_cửa': 4982, 'vụng_về': 4983, 'tập_đoàn': 4984, 'khuyen': 4985, 'làm_tới': 4986, 'lo_lắng': 4987, 'ráo_trọi': 4988, 'vẩy': 4989, 'giãu': 4990, 'đường_phên': 4991, 'phi_lê': 4992, 'chíu': 4993, 'công_tử': 4994, 'phãi': 4995, 'kim_đồng': 4996, 'điền_chủ': 4997, 'cợn': 4998, 'eve': 4999, 'đóng_khung': 5000, 'đồng_vị': 5001, 'rạng': 5002, 'bathroom': 5003, 'dầu_gió': 5004, 'kiềm': 5005, 'vỏ': 5006, 'chiến_binh': 5007, 'mịêng': 5008, 'kình': 5009, 'phố_thị': 5010, 'phá_hoại': 5011, 'tofu': 5012, 'à': 5013, 'trồn': 5014, 'hướng': 5015, 'sạp': 5016, 'xẻng': 5017, 'móng': 5018, 'jack': 5019, 'sight': 5020, '2008': 5021, 'bấm': 5022, 'chả_bù': 5023, 'rải': 5024, 'huống_chi': 5025, 'thảo_quả': 5026, 'tủ_đá': 5027, 'lijkt': 5028, 'khớm': 5029, 'dầu_dầu': 5030, '2h': 5031, 'chi_phối': 5032, 'beauty': 5033, 'khách_hàng': 5034, 'chàng': 5035, '115000': 5036, 'đá_dăm': 5037, 'anywhere': 5038, 'lậy': 5039, '3q': 5040, '600': 5041, 'bảy': 5042, '80000': 5043, 'đột_xuất': 5044, 'mực': 5045, '269': 5046, 'đổ_thừa': 5047, 'thềm': 5048, 'khôngg': 5049, 'bồ_đề': 5050, 'che_đậy': 5051, 'dự_định': 5052, 'nhân_vị': 5053, 'tiền': 5054, 'lái_xe': 5055, 'hang': 5056, 'jun': 5057, 'biet': 5058, 'nạt_nộ': 5059, 'gửi_gắm': 5060, 'thik': 5061, '236': 5062, 'trau': 5063, 'ưng_ý': 5064, 'seflie': 5065, 'thả': 5066, 'soi': 5067, 'cá_lạc': 5068, 'the_book': 5069, 'standee': 5070, 'cưng': 5071, 'quặc': 5072, 'bánh_tây': 5073, 'chưa': 5074, 'trêm': 5075, 'youtube': 5076, 'thúng': 5077, 'lậu': 5078, 'công_nhân': 5079, 'mồi': 5080, 'do_đó': 5081, 'khứ': 5082, 'wán': 5083, 'nô_đùa': 5084, 'cị': 5085, 'chằn': 5086, 'comes': 5087, 'susi': 5088, 'hối_thúc': 5089, 'rành_rẽ': 5090, 'đắt': 5091, 'chịu_khó': 5092, '600tr': 5093, 'chạm_trổ': 5094, 'friend': 5095, 'tốt_đẹp': 5096, 'ưu': 5097, 'khuyến': 5098, 'lẻ': 5099, '23p': 5100, 'ích': 5101, 'thuy': 5102, 'tho': 5103, 'phật_ý': 5104, 'dùg': 5105, 'museum': 5106, 'viả': 5107, 'lắg': 5108, 'giu': 5109, 'cònn': 5110, 'muốm': 5111, 'thuốc_lá': 5112, 'chẳng_đâu_vào_đâu': 5113, 'lụng': 5114, 'nhạc_viện': 5115, 'đại_diện': 5116, 'chek': 5117, 'nhi': 5118, 'ngủng': 5119, 'hanging': 5120, 'western': 5121, 'cấm_thành': 5122, 'âu_cơ': 5123, 'nguy_hiểm': 5124, 'châu_âu': 5125, 'n2': 5126, 'say_mê': 5127, 'mải_mê': 5128, '650k': 5129, 'hello': 5130, 'thuỷ_tinh': 5131, 'phong_vị': 5132, 'chẵn': 5133, 'hêu': 5134, 'phèn': 5135, '71k': 5136, 'đồng_dao': 5137, 'ắm': 5138, 'riêg': 5139, 'thì_thôi': 5140, 'capuchino': 5141, 'trị_giá': 5142, 'să': 5143, 'villas': 5144, 'photoshop': 5145, 'ghẹ': 5146, 'tình_cảnh': 5147, '02': 5148, 'uỗng': 5149, 'dd': 5150, 'đăng_nhập': 5151, 'vật_vã': 5152, 'gạo_tẻ': 5153, 'hắt_hơi': 5154, 'đồng_chí': 5155, 'n': 5156, 'smoothies': 5157, 'wing': 5158, 'râu_ria': 5159, 'tnhh': 5160, 'cuối_cùng': 5161, 'nạn': 5162, 'chiệu': 5163, 'tận_cùng': 5164, 'liê': 5165, 'trăng': 5166, 'chụp': 5167, 'chic': 5168, 'touch': 5169, 'lồng_lộng': 5170, 'u60': 5171, 'thuê_bao': 5172, 'cóng': 5173, 'vô_tình': 5174, 'luôn': 5175, 'tôm': 5176, 'tâm_thư': 5177, 'tiếp_diễn': 5178, 'méo_mó': 5179, 'gài': 5180, '410': 5181, 'riêm': 5182, 'tài_ba': 5183, 'rạo_rực': 5184, 'nghịt': 5185, 'stitch': 5186, 'kitkat': 5187, 'phu_nhân': 5188, 'khoái_cảm': 5189, 'frappe': 5190, 'ghiện': 5191, 'ân_cần': 5192, 'ngợt': 5193, 'clear': 5194, 'mât': 5195, '30m': 5196, '10ng': 5197, 'mát_dạ': 5198, 'bất_cẩn': 5199, 'ngọc': 5200, 'pin': 5201, '1250': 5202, 'bền': 5203, 'giựt': 5204, 'tiết_chế': 5205, 'grain': 5206, 'bầy_hầy': 5207, 'hồng_trần': 5208, 'đậu_đỏ': 5209, 'đánh_lộn': 5210, 'nhộn_nhịp': 5211, 'lạnh': 5212, 'gian_lận': 5213, 'btt': 5214, 'nhăc': 5215, 'lấm': 5216, '5p': 5217, 'tấng': 5218, 'ả': 5219, 'dzach': 5220, 'chủi': 5221, 'dự_tính': 5222, 'kim_anh': 5223, 'mắt': 5224, 'làn_đường': 5225, 'noticing': 5226, 'mất_toi': 5227, 'nhi_đồng': 5228, 'nhà_quê': 5229, 'nưa': 5230, 'noisy': 5231, 'pleasure': 5232, 'cavet': 5233, '26kg': 5234, 'báo_chí': 5235, 'yêu_dấu': 5236, 'tvb': 5237, 'mì': 5238, 'chưởng': 5239, 'deal': 5240, 'ăn_thua': 5241, '10f': 5242, 'nhấp_nhổm': 5243, 'mồng_tơi': 5244, 'tây_bắc': 5245, 'nhem': 5246, 'thản': 5247, 'gan': 5248, 'mởi': 5249, 'mox': 5250, '2ph': 5251, '28km': 5252, 'của_cải': 5253, 'clo': 5254, 'bàn_tính': 5255, 'mầu': 5256, 'bỏ_bê': 5257, 'sáu': 5258, 'ngơ_ngác': 5259, 'tức_thì': 5260, '1đ': 5261, 'tài': 5262, 'nét': 5263, 'lạnh_như_tiền': 5264, '119k': 5265, 'đùn_đẩy': 5266, 'đùng': 5267, 'handmade': 5268, 'nhạt_nhoà': 5269, 'đăy': 5270, 'cộc_cằn': 5271, '7h30': 5272, 'ben': 5273, 'mốp': 5274, '11kg': 5275, 'nhan_sắc': 5276, 'kinda': 5277, 'opla': 5278, 'gum': 5279, 'rướn': 5280, 'vừa_mắt': 5281, 'dg': 5282, 'has': 5283, 'nằm': 5284, 'hùm': 5285, 'khăng_khăng': 5286, 'ngon_ơ': 5287, 'chín_chắn': 5288, 'nón': 5289, 'capuccino': 5290, 'tượg': 5291, 'half': 5292, 'tự_quản': 5293, 'tây_nguyên': 5294, 'kah': 5295, 'huyê': 5296, 'may_mắn': 5297, 'viếc': 5298, 'kd': 5299, '1minh': 5300, 'văn_nghệ': 5301, 'skybar': 5302, 'gg': 5303, 'tan_tầm': 5304, 'gia_dụng': 5305, 'chằng_chịt': 5306, 'nghè': 5307, 'rem': 5308, 'chính_xác': 5309, 'thói': 5310, 'bõ_bèn': 5311, 'ê_ẩm': 5312, 'bân': 5313, 'ntp': 5314, 'boston': 5315, 'cminh': 5316, 'tứ_phương': 5317, 'quạt_trần': 5318, 'lamaca': 5319, 'đêy': 5320, '223': 5321, 'mạnh': 5322, 'thẻ_thanh_toán': 5323, '3v': 5324, 'rắc': 5325, 'lợi_hại': 5326, 'cora': 5327, 'đời_thường': 5328, 'thịt_thà': 5329, 'ngi': 5330, 'bọt': 5331, '13h': 5332, 'buộc_lòng': 5333, 'dễ_dàng': 5334, 'tất_cả': 5335, 'quan_điểm': 5336, 'truòng': 5337, 'chênh_vênh': 5338, 'vêt': 5339, 'kool': 5340, 'pleiku': 5341, 'sư_tử': 5342, 'thảm_thương': 5343, 'tủ': 5344, 'jeans': 5345, 'thoả_thích': 5346, 'vnđ': 5347, 'minsk': 5348, 'biét': 5349, 'zozo': 5350, '007': 5351, 'đường_ngắm': 5352, '1810': 5353, 'tiền_bạc': 5354, 'o_ép': 5355, 'nước_hoa': 5356, 'côg': 5357, 'chặt_đẹp': 5358, 'oro': 5359, 'được_việc': 5360, 'đến_nơi': 5361, 'red': 5362, 'drama': 5363, 'execution': 5364, 'bao_cấp': 5365, 'ngượng': 5366, 'ngơn': 5367, 'tại': 5368, 'nog': 5369, '2h30': 5370, 'chớt': 5371, 'furniture': 5372, 'máu': 5373, 'lõng': 5374, 'biê': 5375, 'hiếu_kì': 5376, '0909': 5377, 'circumstances': 5378, 'ùn': 5379, 'thư_giãn': 5380, 'mánh': 5381, 'training': 5382, 'trường': 5383, '89000': 5384, 'nhừn': 5385, 'res': 5386, 'bồi_hồi': 5387, 'gỏn': 5388, 'không_tài_nào': 5389, 'trèo': 5390, 'mytv': 5391, 'giáy': 5392, 'tay_ngang': 5393, 'đứt_ruột': 5394, '5': 5395, 'anha': 5396, 'xanh_tươi': 5397, 'ểm': 5398, 'gọn': 5399, 'nạnh': 5400, 'tinh_nghịch': 5401, 'truyền_kiếp': 5402, 'rì_rầm': 5403, 'ngag': 5404, 'tiê': 5405, 'increased': 5406, 'noo': 5407, 'milano': 5408, 'rập_khuôn': 5409, '1p': 5410, 'sưa': 5411, 'thử_nghiệm': 5412, 'gạt_tàn': 5413, 'tk': 5414, 'bagel': 5415, 'tươi': 5416, 'shit': 5417, '109': 5418, 'dài_hạn': 5419, 'taco': 5420, 'ây': 5421, 'sích': 5422, 'effort': 5423, 'phép': 5424, 'games': 5425, 'dây_thun': 5426, 'moreover': 5427, 'thủng_thẳng': 5428, 'danh_từ': 5429, '100200': 5430, 'trai': 5431, 'viên': 5432, 'chạm': 5433, 'xịu': 5434, 'lùm_xùm': 5435, 'đá_quý': 5436, 'de': 5437, 'a_giao': 5438, 'three': 5439, 'nhuợng': 5440, 'oách': 5441, 'quái_đản': 5442, 'ấp': 5443, 'lơp': 5444, '0510': 5445, 'máy_lạnh': 5446, 'live': 5447, 'rủi': 5448, 'lạm_dụng': 5449, 'ướp_lạnh': 5450, 'member': 5451, 'chốt': 5452, 'faj': 5453, 'số_ít': 5454, 'welcom': 5455, 'yukata': 5456, 'bánh_phồng_tôm': 5457, 'văn_học': 5458, 'hian': 5459, 'có_khi': 5460, 'cà_cuống': 5461, 'bình_dị': 5462, 'dzai': 5463, 'hài': 5464, 'difficult': 5465, 'having': 5466, 'hiệu_ứng': 5467, 'hốc': 5468, 'trụn': 5469, 'lơ_đễnh': 5470, 'liberty': 5471, 'nực_cười': 5472, 'đuôn': 5473, '90p': 5474, 'ăn_trái': 5475, 'men': 5476, '1m3': 5477, 'chj': 5478, 'tài_chính': 5479, 'tpc': 5480, 'latin': 5481, 'pl': 5482, 'gióng': 5483, 'land': 5484, 'truc': 5485, 'vuon': 5486, 'sides': 5487, 'thái': 5488, 'ngoài_lề': 5489, 'vận_chuyển': 5490, 'chuyn': 5491, 'fruity': 5492, 'khập': 5493, 'nigiri': 5494, 'hạn_chế': 5495, 'bữa': 5496, 'gộ': 5497, 'rõ': 5498, 'nhão_nhoẹt': 5499, 'tự_túc': 5500, 'dịp': 5501, 'barely': 5502, 'hết_ý': 5503, '2người': 5504, 'hình_phẳng': 5505, 'gà_nước': 5506, '2bạn': 5507, 'tàu_bè': 5508, 'hostel': 5509, 'seasoned': 5510, 'sunshine': 5511, '2o': 5512, 'sx': 5513, 'giã_từ': 5514, 'cones': 5515, 'ani': 5516, 'peach': 5517, 'bd': 5518, 'mà': 5519, 'cbi': 5520, 'tươm_tất': 5521, 'hơp': 5522, 'ns': 5523, 'ngựa': 5524, 'mốc_meo': 5525, 'điều_khiển': 5526, 'quảng_bình': 5527, 'danh_xưng': 5528, 'dìa': 5529, 'lưng': 5530, 'sân_chơi': 5531, 'khộng': 5532, 'klq': 5533, 'chuă': 5534, 'tht': 5535, 'cappucino': 5536, 'thu_hương': 5537, 'ổi': 5538, 'cartoon': 5539, 'chãnh': 5540, 'đạo_đức': 5541, 'hả': 5542, 'bình_luận': 5543, 'hú_hồn': 5544, 'paragon': 5545, 'oii': 5546, '2412': 5547, 'ênn': 5548, 'hầm': 5549, 'mờ_ảo': 5550, 'cơm_rượu': 5551, 'hững': 5552, 'mq': 5553, 'kế': 5554, 'giường_nằm': 5555, 'đàm_đạo': 5556, 'lam_viên': 5557, 'sét': 5558, 'pị': 5559, 'linh_lang': 5560, 'hoà_hảo': 5561, 'đan': 5562, 'công_an': 5563, 'ba_mẹ': 5564, 'sorbet': 5565, 'đoạn_tuyệt': 5566, 'chêm': 5567, 'giáo_huấn': 5568, 'diêu': 5569, 'xôm_tụ': 5570, 'tín_đồ': 5571, 'mĩ_quan': 5572, 'muachung': 5573, 'quá_khứ': 5574, 'manager': 5575, 'cd': 5576, 'mắt_kính': 5577, 'zai': 5578, 'phộng': 5579, 'thum': 5580, 'chày_cối': 5581, 'hải_sản': 5582, 'vui_chơi': 5583, 'yet': 5584, 'đinh_ninh': 5585, 'plantinum': 5586, 'aus': 5587, 'thanh_đa': 5588, '20h30': 5589, 'mớii': 5590, 'hội_trường': 5591, 'funny': 5592, 'nhữn': 5593, 'khô_không_khốc': 5594, 'íh': 5595, 'mình': 5596, 'fòng': 5597, 'popping': 5598, 'đốt': 5599, 'trú_chân': 5600, 'khủng_khiếp': 5601, 'chuốc': 5602, 'lạnh_giá': 5603, 'cungz': 5604, '309': 5605, 'oy': 5606, 'xiả': 5607, 'đẻn': 5608, 'nguy_cơ': 5609, 'phó_nháy': 5610, 'đẹo': 5611, 'rôm': 5612, 'marga': 5613, 'khổ_tâm': 5614, 'lờ_lợ': 5615, 'kỷ': 5616, 'nhận_xét': 5617, 'cá_bò': 5618, '20': 5619, 'vắn': 5620, 'dân_dã': 5621, 'mất_tăm': 5622, 'rượu_nếp': 5623, '75g': 5624, 'nhai_nhai': 5625, 'gãi': 5626, 'tíu': 5627, 'duy_nhất': 5628, 'từ_thạch': 5629, '09': 5630, '124': 5631, 'banner': 5632, 'hsd': 5633, 'rest': 5634, 'tranh_ảnh': 5635, 'dễ_dãi': 5636, 'safe': 5637, 'sáng_suốt': 5638, 'nỳ': 5639, 'màu_sắc': 5640, 'rồng_rắn': 5641, 'hno': 5642, '1nam': 5643, 'kon_tum': 5644, 'yaki': 5645, 'qanh': 5646, 'biang': 5647, 'vô_kể': 5648, 'mặt_dày': 5649, 'trung_học_cơ_sở': 5650, 'days': 5651, 'arbre': 5652, 'mayonnaise': 5653, '3h30': 5654, 'lad': 5655, 'bốc_thăm': 5656, 'heheh': 5657, 'cướp_giật': 5658, 'dân_chơi': 5659, 'néu': 5660, 'bánh_khúc': 5661, 'máy_phát_điện': 5662, 'chủ_định': 5663, 'phục_hưng': 5664, 'vespa': 5665, 'bài_bạc': 5666, 'nội_thất': 5667, 'lại': 5668, 'tràn_lan': 5669, 'tết': 5670, 'gắn_kết': 5671, 'merino': 5672, 'uể': 5673, 'still': 5674, 'nhí_nhố': 5675, 'úông': 5676, 'ơn': 5677, 'seach': 5678, 'tiển': 5679, 'giời': 5680, 'thấp_tầng': 5681, 'whole': 5682, 'oi': 5683, 'căn_dặn': 5684, 'bậc': 5685, 'chuối_chát': 5686, 'rách': 5687, 'mời_gọi': 5688, 'beloved': 5689, 'punch': 5690, 'banh': 5691, 'con_trai': 5692, 'cắm_đầu': 5693, 'hồng_kong': 5694, 'chả': 5695, 'trung_bình': 5696, 'xuất_phát': 5697, 'quốc': 5698, 'macaroon': 5699, 'thương_nhớ': 5700, 'resist': 5701, 'mí': 5702, 'samosa': 5703, 'cư_dân': 5704, 'xay': 5705, 'điện_thoại': 5706, 'chug': 5707, 'khai_giảng': 5708, 'đẹp_đẽ': 5709, 'fd': 5710, '1ngày': 5711, 'lúa': 5712, 'ql1a': 5713, 'bồ': 5714, 'told': 5715, 'maakt': 5716, 'lỏng_bỏng': 5717, 'trọn': 5718, 'chủ_đích': 5719, 'ẩm_thực': 5720, '12': 5721, 'high': 5722, 'tiếp_sức': 5723, 'nặt': 5724, 'dề': 5725, 'hazzzz': 5726, 'xuyên': 5727, 'miễn_phí': 5728, 'mói': 5729, 'hình_dạng': 5730, 'vô_lí': 5731, 'chừa': 5732, 'đi_đi': 5733, 'trầm_trọng': 5734, 'ăn_uống': 5735, 'lo_ngại': 5736, 'dánh': 5737, '239k': 5738, 'ordered': 5739, 'kfc': 5740, '920k': 5741, 'hpbd': 5742, 'vĩnh_viễn': 5743, '14cm': 5744, 'mập_ú': 5745, 'cây_viết': 5746, 'medic': 5747, 'u_mê': 5748, 'ùi': 5749, 'đầu_bếp': 5750, 'nylon': 5751, 'haizzz': 5752, 'towels': 5753, 'đài_thọ': 5754, '4060': 5755, 'dổ': 5756, 'co_dãn': 5757, 'cởi_mở': 5758, 'doesn': 5759, 'lất': 5760, 'chạy_tới_chạy_lui': 5761, 'c4': 5762, 'xất': 5763, 'chese': 5764, 'chỉ_vẽ': 5765, 'cố_quốc': 5766, 'là': 5767, 'thấm_tháp': 5768, 'ngũ_cốc': 5769, 'khoáng_đạt': 5770, 'luoi': 5771, 'picture': 5772, 'tan_vỡ': 5773, 'tth': 5774, 'topics': 5775, 'sái': 5776, 'vể': 5777, 'cb': 5778, 'đâyy': 5779, 'vậu': 5780, '17a': 5781, 'riêng_lẻ': 5782, 'cào_cào': 5783, 'hitle': 5784, 'mưu': 5785, 'bàn_ra': 5786, 'tác_phong': 5787, 'thâm_niên': 5788, 'nhhi': 5789, 'lùn_tịt': 5790, 'trât': 5791, 'xing': 5792, 'cao_nguyên': 5793, 'tra_tấn': 5794, 'sukiyaki': 5795, 'nữ_giới': 5796, 'sitting': 5797, 'rome': 5798, 'trung_hoà_nhân_chính': 5799, 'nhùng': 5800, 'cam_đoan': 5801, '4pm': 5802, 'lích': 5803, 'tang': 5804, 'đực': 5805, 'buồn_ngủ': 5806, 'refillable': 5807, 'cát_vàng': 5808, 'sometimes': 5809, 'ktv': 5810, 'chích': 5811, 'nướg': 5812, 'deli': 5813, 'bring': 5814, 'cưng_cứng': 5815, 'kia': 5816, 'hoàng_yến': 5817, 'pótay': 5818, 'hội_hoạ': 5819, 'run': 5820, 'lăn_quay': 5821, 'đắg': 5822, 'tê': 5823, 'quận': 5824, 'che_chắn': 5825, 'inb': 5826, 'nch': 5827, 'trứ_danh': 5828, 'courtyard': 5829, 'làm_bạn': 5830, 'annoy': 5831, 'hình_như': 5832, 'nhon': 5833, 'thoải_mái': 5834, 'ten': 5835, 'bách_thảo': 5836, 'hai_mươi': 5837, '28k': 5838, 'khao_khát': 5839, 'ẹ': 5840, 'xen': 5841, 'ghi_danh': 5842, '244': 5843, 'đại_loại': 5844, 'húng': 5845, 'rep': 5846, 'đấu': 5847, 'festive': 5848, 'cưòi': 5849, 'vc': 5850, 'refill': 5851, 'cảnh_giác': 5852, 'quần': 5853, 'gặp_gỡ': 5854, 'thoạt': 5855, 'mỗ': 5856, 'hăng_hái': 5857, 'ghẹt': 5858, 'ngững': 5859, 'thanh': 5860, 'ngan': 5861, 'uẫn': 5862, 'nhan': 5863, 'trees': 5864, 'ngăn_nắp': 5865, 'almond': 5866, 'trẻ': 5867, 'kề_cà': 5868, 'phim': 5869, 'sói': 5870, 'thư_quán': 5871, 'zijn': 5872, 'ngt': 5873, 'veronica': 5874, 'lậm': 5875, 'khuyến_cáo': 5876, 'ưn': 5877, 'very_good': 5878, 'bass': 5879, 'catch': 5880, 'rap': 5881, 'thượng_nguồn': 5882, '2t': 5883, 'trợn': 5884, '155k': 5885, 'sát_sao': 5886, 'đột_ngột': 5887, 'thát': 5888, 'định': 5889, 'lợi_nhuận': 5890, 'thanh_nhạc': 5891, 'đồng': 5892, 'sứơng': 5893, 'tụng': 5894, 'cua_nước': 5895, 'chestnut': 5896, 'hôi_hám': 5897, 'mềm_mỏng': 5898, 'sinh_tồn': 5899, 'abcxyz': 5900, 'xà_cừ': 5901, 'ổn': 5902, '83': 5903, 'xem_xét': 5904, 'cháy': 5905, 'khẩn': 5906, '721': 5907, 'just': 5908, 'rau_sống': 5909, 'khaosan': 5910, 'tối_tối': 5911, 'cằng': 5912, 'rối_loạn': 5913, 'người_mẫu': 5914, 'quá_sức': 5915, 'ui': 5916, 'thu': 5917, 'late': 5918, 'malibu': 5919, 'phứt': 5920, 'tận_tâm': 5921, 'mĩ_phẩm': 5922, 'ngúng_nguẩy': 5923, 'bá_tước': 5924, 'something': 5925, 'sửi': 5926, 'riêng_tư': 5927, 'bon': 5928, 'khoa_học_tự_nhiên': 5929, 'vik': 5930, 'ran': 5931, 'hàng_lối': 5932, 'muỗi': 5933, 'nữ_trang': 5934, 'homestay': 5935, 'dana': 5936, 'tị': 5937, 'manng': 5938, 'xú_uế': 5939, 'quạng': 5940, 'dể': 5941, '65': 5942, 'liên': 5943, 'cứg': 5944, '88k': 5945, 'ones': 5946, 'lặn': 5947, 'lụm': 5948, 'lounge': 5949, 'chắc_nịch': 5950, 'trung_lưu': 5951, 'disaster': 5952, 'bé_bỏng': 5953, 'tuyệt_phẩm': 5954, 'vì_sao': 5955, 'tan_nát': 5956, 'omg': 5957, 'modem': 5958, 'bột_ngọt': 5959, 'nhài': 5960, 'voãi': 5961, 'khống': 5962, 'trợ_giá': 5963, 'kháh': 5964, 'lù': 5965, 'đi_giải': 5966, 'ơe': 5967, 'kĩ_lưỡng': 5968, 'bỏ_túi': 5969, 'dzách': 5970, 'nhọc': 5971, 'đàu': 5972, 'hoc': 5973, 'tiện_ích': 5974, 'múa_rối': 5975, 'dorayaki': 5976, 'thiếu_nhi': 5977, 'foot': 5978, 'chiếc': 5979, '16k': 5980, 'spinach': 5981, 'đốm': 5982, 'kmai': 5983, 'thủ': 5984, 'rào': 5985, 'ự': 5986, 'bom': 5987, 'thu_mua': 5988, 'convenient': 5989, 'ckỉ': 5990, 'trây': 5991, 'quạu': 5992, 'bồn_tắm': 5993, 'đồ': 5994, 'hột_cơm': 5995, 'chuồng': 5996, 'sa_chân': 5997, 'cuộc_thi': 5998, 'máy_chiếu': 5999, 'trầm_ngâm': 6000, 'khạc': 6001, 'vd': 6002, 'đthoại': 6003, 'luật': 6004, 'binh_đoàn': 6005, 'thơm_nức': 6006, 'kính_cận': 6007, 'trườg': 6008, 'bấy_nhiêu': 6009, 'keu': 6010, 'đã_đành': 6011, 'kaya': 6012, 'đối_diện': 6013, 'cổ_long': 6014, 'tính_cách': 6015, 'truyên': 6016, 'thành_nội': 6017, '2106': 6018, 'đường_nét': 6019, 'hô_hoán': 6020, 'ukm': 6021, 'đóng_góp': 6022, 'supreme': 6023, 'japanese': 6024, 'thần_tượng': 6025, 'phu': 6026, 'tay_nghề': 6027, 'soba': 6028, 'bất_khả_kháng': 6029, 'nhóc': 6030, 'rỉa': 6031, '275': 6032, 'juicy': 6033, 'đth': 6034, 'chỉh': 6035, 'nhỏ_bé': 6036, 'vĩ_đại': 6037, 'tại_chỗ': 6038, 'chổng': 6039, '105k': 6040, 'ngu_ngơ': 6041, 'khoa': 6042, '140gr': 6043, 'maybe': 6044, 'rack': 6045, 'chuyển_động': 6046, 'giao': 6047, 'middle': 6048, 'ghi_nhận': 6049, 'bảo_dưỡng': 6050, 'dozens': 6051, 'ốm_nhom': 6052, 'á_khẩu': 6053, 'sto': 6054, 'kdl': 6055, 'khuyễn': 6056, 'nghệ_thuật': 6057, 'bánh_khoái': 6058, 'moan': 6059, 'khai': 6060, 'vison': 6061, 'cầu_treo': 6062, 'xẹp': 6063, 'thiệc': 6064, 'khồn': 6065, 'xám': 6066, 'tart': 6067, 'biên': 6068, 'cứơi': 6069, 'tay_cầm': 6070, 'lút': 6071, 'duoc': 6072, 'cup': 6073, 'lần_lữa': 6074, '11h30': 6075, 'regulars': 6076, 'khoe': 6077, 'machiato': 6078, 'bảng': 6079, 'deed': 6080, 'cs2': 6081, 'quên_bẵng': 6082, '1213': 6083, 'mâm': 6084, 'vương_quốc': 6085, 'parttime': 6086, 'lừng_danh': 6087, 'nhuyễn': 6088, 'btn': 6089, 'hotdog': 6090, 'phi_lý': 6091, 'refreshing': 6092, 'cô_bác': 6093, 'phi_tiêu': 6094, 'hối': 6095, 'peaceful': 6096, 'nhấp': 6097, 'giẽ': 6098, '900': 6099, 'tháy': 6100, 'trốn_tránh': 6101, 'vu_khống': 6102, 'booker': 6103, '1984': 6104, 'hớp_hồn': 6105, '5tr': 6106, 'acceptable': 6107, 'vj': 6108, 'tướng': 6109, 'dàng': 6110, 'vướng': 6111, 'xoà': 6112, 'họt': 6113, 'normal': 6114, 'hh': 6115, 'tráng': 6116, 'cảnh_báo': 6117, 'mạc': 6118, 'sao_chế': 6119, 'lẳng_lặng': 6120, 'phủi': 6121, 'ngất_xỉu': 6122, 'ra_phết': 6123, 'hiu_hiu': 6124, 'thạn': 6125, 'ẻo': 6126, 'líu_tíu': 6127, 'đồng_thanh': 6128, 'nhộn': 6129, 'bỗng': 6130, 'empire': 6131, 'rước': 6132, 'cmnd': 6133, 'rêm': 6134, 'ready': 6135, '3110': 6136, 'gẩy': 6137, 'ung_thư': 6138, 'bok': 6139, 'sịnh': 6140, 'rau_ngót': 6141, 'phức_hợp': 6142, 'tuyệt_hảo': 6143, 'pap': 6144, 'central': 6145, 'mẫu_giáo': 6146, 'tung_toé': 6147, 'nẳm': 6148, 'hoi': 6149, 'legend': 6150, 'lông_lá': 6151, '5đ': 6152, 'luyện_tập': 6153, 'hí': 6154, 'lagi': 6155, 'rating': 6156, 't1': 6157, 'mah': 6158, 'lưỡi': 6159, 'sáng_tạo': 6160, 'rau_câu': 6161, 'quảng': 6162, 'dương': 6163, 'cuồng_nhiệt': 6164, 'thu_hẹp': 6165, 'nắp': 6166, 'muô': 6167, 'thầy': 6168, 'petrolimex': 6169, 'má': 6170, 'chọn_lựa': 6171, 'nhởn_nhơ': 6172, 'đú_đởn': 6173, 'tvt': 6174, 'cà_pháo': 6175, 'trú': 6176, 'xiên': 6177, 'bình_thường': 6178, '130k': 6179, 'nguyền': 6180, '1015': 6181, '3045': 6182, 'nếp': 6183, 'lên_án': 6184, 'moi': 6185, 'ăn_gỏi': 6186, 'nhà_giáo': 6187, 'uc': 6188, 'danh_dự': 6189, 'nama': 6190, 'ngẫu_hứng': 6191, 'lơ': 6192, 'phát_đạt': 6193, 'vửa': 6194, 'chuyên_biệt': 6195, 'tròn_trĩnh': 6196, 'khà_khà': 6197, 'khu_vực': 6198, 'samurai': 6199, '4tr2': 6200, 'cứu_trợ': 6201, 'phê_phán': 6202, 'motorbikes': 6203, 'mfinh': 6204, 'lừa_dối': 6205, 'thứ_ba': 6206, 'vố': 6207, 'thạch_cao': 6208, 'chủ_đề': 6209, 'shots': 6210, 'bề': 6211, 'thực': 6212, 'uog': 6213, 'đày': 6214, 'nguyên_vẹn': 6215, 'ngông': 6216, 'hổ_danh': 6217, 'đa_chiều': 6218, 'melt': 6219, 'bãnh': 6220, 'tong': 6221, '2mua': 6222, 'lòng_đường': 6223, 'hới': 6224, 'cam_ranh': 6225, 'mòn_mỏi': 6226, 'èn': 6227, 'bóng_bay': 6228, 'giang_hồ': 6229, '300000đ': 6230, 'toy': 6231, 'base': 6232, 'trong_trẻo': 6233, 'rây': 6234, '810': 6235, 'gỏi': 6236, 'sundae': 6237, 'kềm': 6238, 'lắp_đặt': 6239, 'quảng_ninh': 6240, 'thơm_phức': 6241, 'nịnh': 6242, 'an_toàn': 6243, 'đa_số': 6244, 'you': 6245, '250000': 6246, 'mếm': 6247, 'bồng_lai_tiên_cảnh': 6248, 'mở_rộng': 6249, 'choka': 6250, 'welcomed': 6251, 'từ_chối': 6252, 'came': 6253, 'bất_chợt': 6254, '8g': 6255, 'xập_xệ': 6256, 'cuon': 6257, 'làm_đẹp': 6258, 'mạn_phép': 6259, 'trần_phú': 6260, 'center': 6261, 'tiết_mục': 6262, '199k': 6263, 'mê_tít': 6264, 'học_viên': 6265, 'employee': 6266, 'mặt_đất': 6267, 'choose': 6268, 'tria': 6269, 'day': 6270, 'mot': 6271, '100kg': 6272, 'tán_loạn': 6273, 'viên_chức': 6274, '16h': 6275, 'xa_lắc': 6276, 'ching': 6277, 'nhẩ': 6278, 'hsu': 6279, 'gelatin': 6280, 'đổ_nát': 6281, 'sáp_ong': 6282, 'tứng': 6283, 'yard': 6284, 'sân_thượng': 6285, 'tuyển_chọn': 6286, 'nhiều': 6287, 'chủ_nhật': 6288, '200gr': 6289, 'sán': 6290, 'kếp': 6291, 'thag': 6292, 'nes': 6293, 'vào_sổ': 6294, 'êm_ả': 6295, '16t': 6296, 'rấ': 6297, 'gv': 6298, 'tra': 6299, 'chìa_khoá': 6300, 'dèn': 6301, 'oq': 6302, 'đu_đủ': 6303, 'lazer': 6304, 'says': 6305, 'angel': 6306, 'hà_nôi': 6307, 'fried': 6308, 'vàng_khè': 6309, 'mất_dạy': 6310, 'trươg': 6311, '149': 6312, 'con_cái': 6313, 'cọ': 6314, 'nhứt': 6315, 'tầm_mắt': 6316, 'streets': 6317, 'ghét': 6318, 'sấy_tóc': 6319, 'sac': 6320, 'nhện': 6321, '580k': 6322, 'finally': 6323, 'nẻo': 6324, 'dc': 6325, 'héo': 6326, 'bảo_quản': 6327, 'friends': 6328, 'ngại': 6329, 'impolite': 6330, 'thoải': 6331, 'kinh_tế': 6332, 'nèk': 6333, 'cứu_vãn': 6334, 'mong_ngóng': 6335, 'gìđó': 6336, 'y': 6337, 'bất_thình_lình': 6338, 'gom_góp': 6339, 'ω': 6340, 'chuyển_nhượng': 6341, 'vui_mắt': 6342, 'tiếu': 6343, 'hảnh': 6344, 'khả_dĩ': 6345, 'tet': 6346, 'zone': 6347, 'đẻ': 6348, 'nái': 6349, 'trừơng': 6350, 'cặn_kẽ': 6351, 'xanh_xanh': 6352, 'tỉnh_táo': 6353, 'quấy_rầy': 6354, 'bâ': 6355, 'gara': 6356, 'múa': 6357, 'nhảy_dựng': 6358, 'phi_thường': 6359, 'lọi': 6360, 'công_nhận': 6361, 'thẳng_thắn': 6362, 'scd': 6363, 'quậy': 6364, 'bự': 6365, 'р': 6366, 'night': 6367, 'tâng_bốc': 6368, 'đầu_đinh': 6369, '1412': 6370, 'lối_thoát': 6371, 'viễn_tưởng': 6372, 'một_phép': 6373, 'dĩa': 6374, 'thau': 6375, 'tuyn': 6376, 'đồng_hồ': 6377, 'lạ_tai': 6378, 'cashier': 6379, 'lon': 6380, 'cợ': 6381, 'carte': 6382, 'oc': 6383, 'kiến_nghị': 6384, 'vấu': 6385, 'xôn_xao': 6386, 'hình_sự': 6387, '31k': 6388, 'coi': 6389, 'ngênh': 6390, 'nhận_thức': 6391, 'học_thức': 6392, '310': 6393, 'ngỗng': 6394, 'mư': 6395, 'qài': 6396, '359': 6397, 'quới': 6398, 'lo': 6399, 'công_trình': 6400, 'xang': 6401, 'yumi': 6402, 'phù_hộ': 6403, 'dẫn_điện': 6404, 'chói_chang': 6405, 'madam': 6406, 'doremon': 6407, 'nowzone': 6408, 'trùm_chăn': 6409, 'ra_hồn': 6410, 'bách': 6411, 'mớn_nước': 6412, '1215': 6413, 'ẳm': 6414, 'lan': 6415, 'niem': 6416, 'vọg': 6417, 'hãm': 6418, 'nhúm': 6419, '12b': 6420, 'bất_cần': 6421, 'problems': 6422, 'hợt': 6423, 'htc': 6424, 'nuốt': 6425, 'q4': 6426, 'hưởng': 6427, 'đánh_chén': 6428, 'canh_giữ': 6429, 'tokbokki': 6430, 'vy': 6431, 'tiếng_vang': 6432, 'nghich': 6433, 'yup': 6434, '26': 6435, 'người_yêu': 6436, '5000': 6437, 'usd': 6438, 'khoét': 6439, 'gửa': 6440, '86k': 6441, 'đac': 6442, 'vô': 6443, 'cươ': 6444, 'mịt_mù': 6445, 'nhàn_rỗi': 6446, 'hju': 6447, 'comfortable': 6448, 'p3': 6449, 'đít': 6450, 'thuống': 6451, 'bẩ': 6452, 'nam': 6453, 'tháo_vát': 6454, 'khán_giả': 6455, 'đệp': 6456, 'hagl': 6457, 'lò_vi_sóng': 6458, 'vô_số': 6459, 'tối_trời': 6460, 'variety': 6461, 'vào_cuộc': 6462, 'suy_xét': 6463, '1975': 6464, 'rảh': 6465, '16h10': 6466, 'nhập_viện': 6467, 'missing': 6468, 'tội_nợ': 6469, 'hoàn_kiếm': 6470, 'thời_tiết': 6471, 'thâm': 6472, 'táo': 6473, 'bread': 6474, 'tip': 6475, 'dango': 6476, 'oceanbank': 6477, '64': 6478, 'láu': 6479, 'chứng_kiến': 6480, '55': 6481, 'trúng': 6482, 'phan_thanh': 6483, 'ku': 6484, 'cải_lương': 6485, 'thẳng_thừng': 6486, 'gánh': 6487, 'dĩ_vãng': 6488, 'khơi_khơi': 6489, 'ơr': 6490, '300gr': 6491, 'clb': 6492, 'ồ': 6493, 'mức': 6494, 'love': 6495, '10kg': 6496, 'kiêng_khem': 6497, 'hạ_long': 6498, '1512': 6499, '77500': 6500, 'lãm': 6501, 'đỉm': 6502, 'bửn': 6503, '40': 6504, 'ầm_ầm': 6505, 'chiết': 6506, 'hiện_đại': 6507, 'biz': 6508, 'rau_thơm': 6509, '150k': 6510, 'túm_tụm': 6511, 'mỳ': 6512, 'hunt': 6513, 'kakak': 6514, 'bối_rối': 6515, 'main': 6516, 'pad': 6517, 'rồi_đây': 6518, 'bố_láo': 6519, 'lầm': 6520, 'yên_tĩnh': 6521, 'dalat': 6522, 'xủng': 6523, '700k': 6524, 'như_vậy': 6525, 'nhiêt': 6526, 'ngồi_thiền': 6527, 'phẻ': 6528, 'guu': 6529, 'đích_thực': 6530, 'kông': 6531, 'who': 6532, '77a': 6533, 'van': 6534, 'tào_phớ': 6535, 'nhúng': 6536, 'gượng': 6537, 'bánh_trôi': 6538, 'zui': 6539, 'giãm': 6540, 'đệt': 6541, 'chả_mấy_khi': 6542, 'chiêm_ngưỡng': 6543, 'lịch': 6544, 'ziên': 6545, 'ne': 6546, 'nuớc': 6547, 'sự': 6548, 'xiếc': 6549, 'vog': 6550, 'lượgn': 6551, 'lục': 6552, 'lick': 6553, 'phịch': 6554, 'loảng_xoảng': 6555, 'jambon': 6556, 'rừng_núi': 6557, 'trọng_tâm': 6558, 'thông_báo': 6559, 'đại_dương': 6560, '700': 6561, '19h': 6562, 'gò_vấp': 6563, 'tự_quyết': 6564, 'can': 6565, 'phan_thiết': 6566, '51k': 6567, 'chống': 6568, 'nghêu': 6569, 'cổ_thạch': 6570, '46k': 6571, 'thơm_lựng': 6572, 'dủng': 6573, 'múi': 6574, 'in_ấn': 6575, 'ốc_đảo': 6576, 'hoành_tráng': 6577, 'khot': 6578, 'hiệp': 6579, 'bất_kỳ': 6580, 'gia_đinh': 6581, 'léo': 6582, 'chuong': 6583, 'spread': 6584, 'ngáp': 6585, 'tềnh': 6586, 'dính': 6587, '39': 6588, 'way': 6589, 'ăn_dở': 6590, 'stock': 6591, '4550': 6592, 'using': 6593, 'gain': 6594, 'cướp_biển': 6595, 'phiền_não': 6596, 'ròng_ròng': 6597, 'nước_ngoài': 6598, 'hách_dịch': 6599, 'b2': 6600, 'bình_phong': 6601, 'tứ_tung': 6602, 'vượng': 6603, 'steven': 6604, 'đấy': 6605, 'thống': 6606, 'sâu_sắc': 6607, 'thất_học': 6608, 'phjm': 6609, '220000': 6610, 'dragon': 6611, '1lúc': 6612, 'sổ_đen': 6613, 'bao_quát': 6614, '7h45': 6615, 'bóp': 6616, 'dột': 6617, 'sìa': 6618, 'worse': 6619, 'tí_chút': 6620, 'mă': 6621, 'đau_buồn': 6622, 'sida': 6623, 'đẫy': 6624, 'mau': 6625, '19k': 6626, 'trần': 6627, 'ngôn_ngữ': 6628, 'người_người': 6629, 'chòm': 6630, 'kyoto': 6631, 'okk': 6632, 'điện_ảnh': 6633, 'nời': 6634, 'tuyệt_nhiên': 6635, 'lotte': 6636, '1985': 6637, 'nhật_thực': 6638, 'im_ỉm': 6639, 'tát': 6640, 'muon': 6641, 'xa_xôi': 6642, 'chứng_minh_thư': 6643, '4ly': 6644, 'quần_ngựa': 6645, 'xộc_xệch': 6646, 'groom': 6647, 'icon': 6648, 'lởi': 6649, 'choẹt': 6650, 'đắng_nghét': 6651, 'cuối': 6652, 'koko': 6653, 'hàng_xóm': 6654, 'rẻ_mạt': 6655, 'made': 6656, 'trứơc': 6657, 'cuôn': 6658, 'lẽn': 6659, 'thac': 6660, 'chag': 6661, 'thờ_cúng': 6662, 'quick': 6663, 'cạu': 6664, '8h05': 6665, 'er': 6666, '18h20': 6667, 'úp': 6668, 'hận': 6669, 'vàn': 6670, 'lê_lết': 6671, 'trắng_xoá': 6672, 'kxs': 6673, 'vô_thời_hạn': 6674, 'tróc': 6675, 'bưc': 6676, 'co_kéo': 6677, 'princes': 6678, 'rate': 6679, 'ngâm': 6680, 'nhám': 6681, 'nhôm': 6682, 'hươg': 6683, 'bạt_ngàn': 6684, 'hồi_tưởng': 6685, 'thôicòn': 6686, 'quỹ': 6687, 'blast': 6688, 'đặc_sắc': 6689, 'thuyên': 6690, '67k': 6691, '2con': 6692, 'thông_điệp': 6693, 'nhà_văn_hoá': 6694, 'níu_kéo': 6695, 'logic': 6696, 'nancy': 6697, 'vênh': 6698, 'btx': 6699, 'tiệt_trùng': 6700, 'tưởng_chừng': 6701, 'lừa_đảo': 6702, 'roast': 6703, 'mum': 6704, 'loops': 6705, 'vuốt': 6706, 'chào': 6707, 'khá': 6708, 'chính_hiệu': 6709, 'bất_bình': 6710, 'topless': 6711, 'mến_thương': 6712, 'cao_ốc': 6713, 'vp': 6714, 'bá': 6715, 'bơi': 6716, 'lư': 6717, 'shops': 6718, 'booking': 6719, 'sơ_chế': 6720, '36': 6721, 'cơm_hộp': 6722, 'phong_cảnh': 6723, 'é': 6724, 'toro': 6725, 'nỗ': 6726, 'đồ_hộp': 6727, 'mõm': 6728, 'vui_đùa': 6729, 'đước': 6730, '323': 6731, '120000': 6732, 'cô_hồn': 6733, 'chỉ_bảo': 6734, '500gram': 6735, 'đậu_phụng': 6736, 'nut': 6737, 'nana': 6738, 'remnant': 6739, 'cung_cấp': 6740, 'graffiti': 6741, 'du_thuyền': 6742, 'pay': 6743, 'chup': 6744, 'huge': 6745, 'thiên_nga': 6746, '2ly': 6747, 'tuổi': 6748, 'sã': 6749, 'trứớc': 6750, '30k': 6751, 'with': 6752, 'ôk': 6753, 'dưa_chuột': 6754, 'giông': 6755, 'gia_trình': 6756, 'showroom': 6757, 'berber': 6758, 'lan_toả': 6759, 'rut': 6760, 'to_béo': 6761, 'ghỗ': 6762, '3c': 6763, 'phut': 6764, 'đủn': 6765, 'cự_ly': 6766, '100g': 6767, 'dưởng': 6768, 'hoà_trộn': 6769, 'gỉan': 6770, 'lệ': 6771, 'míng': 6772, 'thể_nào': 6773, 'black': 6774, 'khõi': 6775, 'bảo_nhỏ': 6776, '12h40': 6777, 'taiyaki': 6778, 'karaoke': 6779, 'tôm_càng': 6780, 'chip': 6781, 'cằn_nhằn': 6782, 'balls': 6783, 'evenings': 6784, 'lo_xa': 6785, 'fm': 6786, 'bịên': 6787, 'đồng_thời': 6788, 'hào_hứng': 6789, 'chuck': 6790, 'đống': 6791, 'phản_xạ': 6792, 'sự_tích': 6793, 'dethuong': 6794, 'dốc': 6795, 'kịch_tính': 6796, 'giám': 6797, 'thông_thoáng': 6798, 'fair': 6799, 'pesi': 6800, 'u_uất': 6801, 'vacation': 6802, '3h10': 6803, 'cầu_mây': 6804, '103': 6805, 'hm': 6806, 'twee': 6807, 'té_tát': 6808, 'mất_trắng': 6809, 'khã': 6810, 'find': 6811, 'chieu': 6812, 'dạy_dỗ': 6813, 'thom': 6814, 'nhăn_nhúm': 6815, 'concert': 6816, 'kẹc': 6817, 'làm_chủ': 6818, 'hence': 6819, 'lưới': 6820, 'oggy': 6821, 'tĩnh_tâm': 6822, 'ln': 6823, 'yếm': 6824, '2chai': 6825, 'phầm': 6826, 'siêu_thị': 6827, 'décor': 6828, 'pv': 6829, 'eo_ôi': 6830, 'paste': 6831, 'argento': 6832, 'oẹ': 6833, 'tih': 6834, 'hụt_hẫng': 6835, 'ỷ_lại': 6836, 'đầy_tháng': 6837, 'tay_không': 6838, 'cover': 6839, '55000': 6840, 'cố_định': 6841, 'ngáo': 6842, 'trưởng': 6843, 'tính_mạng': 6844, 'top': 6845, 'gồ': 6846, 'thông_thường': 6847, '279': 6848, 'ner': 6849, 'dòm': 6850, 'jan': 6851, 'trải': 6852, '300000': 6853, 'needed': 6854, 'mỹ_quan': 6855, '6416': 6856, 'qr': 6857, 'công_ơn': 6858, 'rời_rạc': 6859, 'tròn_bóng': 6860, 'thấ': 6861, 'finished': 6862, 'gập': 6863, 'thô_bạo': 6864, 'chiếm_dụng': 6865, 'tù': 6866, 'đl': 6867, 'chợ_chiều': 6868, 'chấp_thuận': 6869, 'corgi': 6870, 'protein': 6871, 'chút_đỉnh': 6872, 'thi_cử': 6873, 'bò': 6874, 'thanh_nữ': 6875, 'trông_mong': 6876, 'chẳn': 6877, 'sôpha': 6878, 'mn': 6879, 'thôi': 6880, 'miếc': 6881, 'muôn_vàn': 6882, 'dùm': 6883, 'đậu_tương': 6884, 'hài_hoà': 6885, 'giải_thưởng': 6886, 'kdc': 6887, 'tiếp_thu': 6888, 'trick': 6889, 'phần_lớn': 6890, '4gs': 6891, 'tưng': 6892, 'there': 6893, 'decor': 6894, 'ooo': 6895, 'bở': 6896, 'thắp': 6897, '3935': 6898, 'trông': 6899, 'chối_từ': 6900, 'năng_động': 6901, 'traditional': 6902, 'working': 6903, 'mái': 6904, 'mặc_định': 6905, 'ngom': 6906, 'bất_ổn': 6907, 'bằm': 6908, 'creamy': 6909, 'dày_cui': 6910, 'uỳnh': 6911, 'cần_thơ': 6912, 'niku': 6913, 'ingredients': 6914, 'bạn': 6915, 'mưa_phùn': 6916, 'tuna': 6917, '340k': 6918, 'chuẩn_bị': 6919, 'nghĩa_đen': 6920, 'lò_mò': 6921, 'ngiệm': 6922, 'làm_phép': 6923, 'xoá': 6924, 'phần_thưởng': 6925, 'sáng_giá': 6926, 'photographer': 6927, 'ai_ai': 6928, 'cơt': 6929, 'địa_danh': 6930, 'giai_điệu': 6931, 'drip': 6932, 'hợp_lí': 6933, 'tq': 6934, 'longing': 6935, 'ngước': 6936, 'sân_nhà': 6937, 'nghiên': 6938, 'band': 6939, 'khung': 6940, '3nhà': 6941, 'sưởi': 6942, 'bvn': 6943, 'berry': 6944, 'confused': 6945, 'hải_ngoại': 6946, 'gó': 6947, 'giam': 6948, 'độ': 6949, 'sổ_tay': 6950, 'niềm_vui': 6951, 'alba': 6952, 'đo_đỏ': 6953, 'dinh': 6954, '910': 6955, 'xót_xa': 6956, 'hết_lòng': 6957, 'dầu_gội': 6958, 'bingu': 6959, 'tinh_viên': 6960, 'lao': 6961, 'bài_tập': 6962, 'triệu': 6963, 'đì': 6964, 'mưa_nắng': 6965, 'ặc': 6966, 'thứ_lỗi': 6967, 'phước': 6968, '48inch': 6969, 'sochu': 6970, 'lanh_lợi': 6971, 'chưỡi': 6972, 'khiếm': 6973, 'voi': 6974, 'thiết': 6975, 'b3': 6976, 'ngoách': 6977, 'trày': 6978, 'bazaar': 6979, 'nghin': 6980, 'tụt': 6981, 'nước_cốt': 6982, 'thiếu_gì': 6983, 'saau': 6984, 'lươt': 6985, 'xôi_thịt': 6986, 'cùng': 6987, 'dặn_đi_dặn_lại': 6988, 'cháo_lòng': 6989, 'dần': 6990, '99000': 6991, '15p': 6992, 'thìn': 6993, 'fb': 6994, 'lợi_thế': 6995, 'sunway': 6996, 'dợn': 6997, 'liếm_láp': 6998, 'mgon': 6999, 'tời': 7000, 'vằn_thắn': 7001, '60ph': 7002, '180o': 7003, '304': 7004, 'bấy_lâu_nay': 7005, 'ríu_rít': 7006, 'trăm': 7007, 'mătj': 7008, 'bảnh': 7009, 'chơi_bời': 7010, 'đơn_sơ': 7011, 'itali': 7012, 'bê': 7013, '1viên': 7014, 'expensive': 7015, 'hill': 7016, 'đàn_bà': 7017, '12cm': 7018, 'liệt': 7019, 'khổ_qua': 7020, 'xum': 7021, '16h30': 7022, 'hẩng': 7023, 'màu_nước': 7024, 'outlet': 7025, 'êm_êm': 7026, 'mập': 7027, 'cozy': 7028, 'tự_giác': 7029, 'đặc_cách': 7030, 'floor': 7031, '470': 7032, 'trang_bị': 7033, 'als': 7034, 'đich': 7035, 'cã': 7036, 'băn_khoăn': 7037, 'cũg': 7038, '166': 7039, 'surf': 7040, 'tuyến': 7041, 'nổi_trội': 7042, 'pepper': 7043, '100m': 7044, 'suck': 7045, 'nhông': 7046, 'aloha': 7047, 'hạnh': 7048, 'thick': 7049, 'quan_viên': 7050, 'mat': 7051, 'thoán': 7052, 'patbingsu': 7053, 'luon': 7054, 'trh': 7055, 'duyệt': 7056, 'willing': 7057, 'nhọng': 7058, 'reo': 7059, 'chính_đáng': 7060, 'dẹp': 7061, 'đối_chứng': 7062, 'ngiều': 7063, 'denken': 7064, 'chiến_công': 7065, 'carot': 7066, 'mỏng_dính': 7067, 'happier': 7068, 'bene': 7069, 'càphê': 7070, 'nhom': 7071, 'khe': 7072, 'chuỵ': 7073, 'nén': 7074, 'giản_đơn': 7075, 'công_tâm': 7076, 'vòng_quanh': 7077, 'ñ': 7078, 'dầu_cù_là': 7079, 'rồi': 7080, 'kichi': 7081, 'gyu': 7082, 'cao_thế': 7083, 'racing': 7084, 'maldives': 7085, 'nhanh_chóng': 7086, 'bài': 7087, 'mk': 7088, 'pha_tạp': 7089, 'tuy': 7090, 'gia_truyền': 7091, 'ngư': 7092, 'volume': 7093, 'tới': 7094, 'chút': 7095, 'chụt': 7096, 'sòng': 7097, 'walks': 7098, 'starter': 7099, 'buối': 7100, 'mắm_tôm': 7101, 'but': 7102, 'trọ': 7103, 'team_building': 7104, 'linh_trung': 7105, 'rối': 7106, 'rún': 7107, 'mướp': 7108, 'bảo_vệ': 7109, 'decorations': 7110, 'hazelnut': 7111, 'húê': 7112, 'your': 7113, 'nhân_phẩm': 7114, 'changed': 7115, 'pato': 7116, 'duc': 7117, 'cá_ngừ': 7118, 'thốt_nốt': 7119, 'area': 7120, 'cộp': 7121, 'bạc_liêu': 7122, 'đồng_hới': 7123, 'kết': 7124, 'tron': 7125, 'order': 7126, 'open': 7127, '95k': 7128, 'lặp': 7129, 'hạt': 7130, 'maii': 7131, 'thêu': 7132, 'nhh': 7133, 'memory': 7134, 'hương': 7135, 'thuận_kiều': 7136, 'nguyện_vọng': 7137, 'fillet': 7138, 'kinh_ngạc': 7139, 'terrace': 7140, 'tẩy_rửa': 7141, 'nghỉ': 7142, 'phản_hồi': 7143, 'qúa': 7144, 'mày': 7145, 'fo': 7146, 'd6': 7147, 'dining': 7148, 'ngồ': 7149, 'sky_garden': 7150, 'bình_xịt': 7151, 'в': 7152, 'melted': 7153, 'nhọ': 7154, 'xong': 7155, 'baguette': 7156, 'đèu': 7157, 'bút_bi': 7158, 'ckb': 7159, 'đường_dây_nóng': 7160, 'quay_phim': 7161, 'cùm': 7162, '59k': 7163, 'affordable': 7164, 'khảm': 7165, 'năm_mươi': 7166, 'hạt_trai': 7167, 'atari': 7168, 'phieu': 7169, 'miện': 7170, 'thường_ngày': 7171, 'hiẹn': 7172, 'nhâu': 7173, 'lưu_loát': 7174, 'haki': 7175, 'rỗi': 7176, '1500': 7177, 'lên_tay': 7178, 'mười': 7179, 'chắc_chắn': 7180, '20g': 7181, 'thì_thào': 7182, 'tôt': 7183, 'vệ': 7184, 'nhừng': 7185, 'lassi': 7186, 'bf': 7187, '37': 7188, 'cá_cờ': 7189, 'lasagna': 7190, 'nhợt': 7191, 'xếp_hạng': 7192, 'hỉ': 7193, '30t': 7194, 'giấy_ăn': 7195, 'nghĩa_lí': 7196, 'tổ': 7197, 'săc': 7198, 'vô_tội_vạ': 7199, 'chữ': 7200, 'mt': 7201, 'always': 7202, 'trào': 7203, 'phần_phật': 7204, 'bim': 7205, 'timecity': 7206, 'mai_mốt': 7207, 'ứng_dụng': 7208, 'ichi': 7209, 'discovered': 7210, 'cái_bang': 7211, 'siêu_trầm': 7212, '2012': 7213, 'hoop': 7214, 'pita': 7215, '4p': 7216, 'zipper': 7217, 'uy': 7218, 'chạy_ra_chạy_vào': 7219, 'cắn_lộn': 7220, 'to_lớn': 7221, 'kko': 7222, 'kết_hợp': 7223, '2phut': 7224, 'lử': 7225, 'đồi': 7226, 'sinhn': 7227, 'khám_phá': 7228, 'xưng_hô': 7229, 'đáng_sợ': 7230, 'cấp_số_nhân': 7231, 'phó': 7232, 'г': 7233, 'làm_bàn': 7234, 'tieu': 7235, 'nới_tay': 7236, 'velvet': 7237, 'trái': 7238, 'nhác': 7239, 'hazz': 7240, 'ni': 7241, 'silver': 7242, 'phiếc': 7243, 'kích_hoạt': 7244, 'xảo': 7245, 'hoạy': 7246, '1k': 7247, 'oi_bức': 7248, 'lovely': 7249, 'loai': 7250, 'info': 7251, 'electronic': 7252, 'lat': 7253, 'vong': 7254, 'mỹ': 7255, 'cháy_túi': 7256, 'pastel': 7257, 'huống_gì': 7258, 'thiệt': 7259, 'kat': 7260, 'bff': 7261, 'biẹt': 7262, 'gặt_hái': 7263, 'mời_chào': 7264, 'cưa': 7265, 'mở_đầu': 7266, '25': 7267, 'nối_liền': 7268, 'gong': 7269, '8h': 7270, 'đỏng_đảnh': 7271, '47': 7272, 'queen': 7273, 'j': 7274, 'nồng_ấm': 7275, 'ngắt': 7276, 'gà_chọi': 7277, 'tổng_đài': 7278, 'munchkin': 7279, 'nhích': 7280, 'cắt_cổ': 7281, 'hahaaa': 7282, 'trunh': 7283, '29k': 7284, 'xinh_xinh': 7285, 'checking': 7286, 'đính_chính': 7287, 'khien': 7288, 'lẫn': 7289, 'hair': 7290, 'chám': 7291, 'ghj': 7292, 'toco': 7293, 'liệt_kê': 7294, 'ghẹn': 7295, 'bích': 7296, 'sai_số': 7297, 'nang': 7298, 'trau_chuốt': 7299, 'hoàng_tộc': 7300, 'thanh_đạm': 7301, 'tởn': 7302, 'giả': 7303, 'phân_định': 7304, 'bạc_đầu': 7305, '3cm': 7306, 'rồng': 7307, 'giải_đáp': 7308, 'nhứ': 7309, 'tuôi': 7310, 'phim_ảnh': 7311, '1người': 7312, 'nutella': 7313, 'tột_cùng': 7314, 'op': 7315, 'có_lẽ': 7316, 'trùng_lặp': 7317, 'cooler': 7318, 'bái_phục': 7319, 'diểm': 7320, 'pà': 7321, 'specially': 7322, 'bảo_hành': 7323, 'túm': 7324, 'cupcakes': 7325, 'kheo': 7326, 'freeze': 7327, 'ép_buộc': 7328, 'đỏ_loét': 7329, '2009': 7330, '1400000': 7331, 'mơ': 7332, 'mcdonalds': 7333, 'nước_mắt': 7334, 'geisha': 7335, 'khói': 7336, 'lính': 7337, 'vn': 7338, 'app': 7339, 'xên': 7340, 'nửa': 7341, 'rammus': 7342, '2k5': 7343, 'boss': 7344, 'khg': 7345, 'which': 7346, 'thu_chi': 7347, 'nhân_tạo': 7348, 'ngang_ngửa': 7349, 'ngọc_ngà': 7350, 'điển': 7351, 'xanh': 7352, 'tìm_hiểu': 7353, 'cade': 7354, 'sạo': 7355, 'giới_hạn': 7356, 'xưởng': 7357, 'seeding': 7358, 'ỡm_ờ': 7359, 'sunwheel': 7360, 'đón_chào': 7361, 'dậy_thì': 7362, 'càu_nhàu': 7363, 'đớp': 7364, 'khó_chịu': 7365, 'tiêng': 7366, '7pm': 7367, 'fù': 7368, 'cao_vút': 7369, 'jalapeno': 7370, '9f': 7371, 'nị': 7372, 'khí_hậu': 7373, 'sạ': 7374, 'popcorn': 7375, 'chọn_lọc': 7376, 'quat': 7377, 'ù_lì': 7378, 'hah': 7379, 'sala': 7380, 'khan': 7381, 'troi': 7382, 'fai': 7383, 'trần_đời': 7384, 'mayo': 7385, '1i': 7386, 'mổi': 7387, 'tử_tế': 7388, 'bang': 7389, '8h25': 7390, 'nữ': 7391, 'nóng_chảy': 7392, 'hạn': 7393, 'quê_nhà': 7394, 'lime': 7395, 'họ_hàng': 7396, 'nhất_quyết': 7397, 'rủng': 7398, 'mời': 7399, 'khuông': 7400, 'không_đâu_vào_đâu': 7401, 'nylong': 7402, 'chấm_dứt': 7403, 'rui': 7404, 'wtt': 7405, 'ừhm': 7406, 'hồ_cốc': 7407, 'mằn': 7408, 'tao': 7409, 'dzừa': 7410, 'tuộc': 7411, 'dãn': 7412, 'trăn_trở': 7413, 'nay': 7414, 'tháng_giêng': 7415, 'trầm_lắng': 7416, 'prices': 7417, 'biệt_thự': 7418, 'gọn_lỏn': 7419, 'tổ_dân_phố': 7420, 'vái': 7421, 'graphic': 7422, 'cheapest': 7423, 'yên_lặng': 7424, 'locate': 7425, 'light': 7426, '2tr': 7427, 'trống_rỗng': 7428, 'gố': 7429, 'múc': 7430, 'sau': 7431, 'èo_uột': 7432, 'ombre': 7433, 'gân_cổ': 7434, 'vô_tính': 7435, 'dad': 7436, 'vouchers': 7437, 'an_thới': 7438, '118': 7439, 'hinh': 7440, 'đường_không': 7441, 'ngang_ngang': 7442, 'messed': 7443, 'thuân': 7444, '150g': 7445, 'lần': 7446, 'timescity': 7447, 'ngọt_xớt': 7448, 'phồng_tôm': 7449, 'thí_sinh': 7450, 'cà_phê': 7451, 'today': 7452, 'singapo': 7453, 'vội_vàng': 7454, 'agar': 7455, 'ít': 7456, 'than_phiền': 7457, 'styles': 7458, 'tiếng_là': 7459, 'nitrogen': 7460, 'chệ': 7461, 'jì': 7462, 'bánh_chả': 7463, 'kì_công': 7464, 'parma': 7465, 'chiêu_đãi': 7466, 'đầu_gối': 7467, 'đề': 7468, 'lụa': 7469, 'fanta': 7470, '0021': 7471, 'lab': 7472, 'quân': 7473, 'thẫm': 7474, 'd1': 7475, 'tàm_tạm': 7476, 'bẩn': 7477, 'đình_đám': 7478, 'pbc': 7479, 'non_nước': 7480, 'ngày': 7481, 'robot': 7482, 'thầy_trò': 7483, 'thousand': 7484, 'times_city': 7485, 'ltinh': 7486, 'trưg': 7487, 'tọt': 7488, 'ding_ding': 7489, 'heinz': 7490, 'to_tổ_bố': 7491, 'manu': 7492, 'nằng_nặc': 7493, 'thia': 7494, 'ăn_lời': 7495, 'ki_bo': 7496, 'tưởg': 7497, 'quốc_gia': 7498, 'puskin': 7499, 'sưj': 7500, 'lô': 7501, 'bút_lông': 7502, 'gia_lai': 7503, 'thư_thả': 7504, 'thong_thả': 7505, 'uk': 7506, 'xo': 7507, 'biếu': 7508, '8g15': 7509, 'cungx': 7510, 'lằ': 7511, 'stu': 7512, 'tươ': 7513, 'xinh_tươi': 7514, 't_giá': 7515, 'ngữi': 7516, 'pk': 7517, 'ren': 7518, 'chính_thống': 7519, 'cự_nự': 7520, '153': 7521, 'bridge': 7522, 'nắm': 7523, '12h': 7524, 'yum': 7525, 'khen_ngợi': 7526, 'trg': 7527, 'nứt_nẻ': 7528, 'attentive': 7529, 'mũi_tên': 7530, 'y_tế': 7531, 'u_buồn': 7532, 'bills': 7533, 'chile': 7534, 'xoi': 7535, 'jive': 7536, 'thàn': 7537, 'rũ': 7538, 'dài_dòng': 7539, 'thjx': 7540, 'ùm': 7541, 'dance': 7542, '80t': 7543, 'xao_xuyến': 7544, 'utmost': 7545, 'đãn': 7546, 'tdtt': 7547, 'múôn': 7548, 'noi': 7549, '15phút': 7550, 'bóp_cổ': 7551, 'enjoying': 7552, 'mớm': 7553, 'âm_thanh': 7554, 'nếm': 7555, 'đứng_đắn': 7556, '13h00': 7557, 'phông': 7558, 'gù': 7559, 'hoa_tay': 7560, 'tú_tài': 7561, 'below': 7562, 'ric': 7563, 'brownies': 7564, 'cu_cậu': 7565, 'nài': 7566, 'dưa_gang': 7567, 'collection': 7568, 'jason': 7569, 'thành_thị': 7570, 'vỉa': 7571, 'bailey': 7572, 'bộ': 7573, 'thịnh_soạn': 7574, 'hãy': 7575, 'ngươig': 7576, 'chum': 7577, 'ngẩn_ngơ': 7578, 'viết_lách': 7579, 'sum_họp': 7580, 'mặc_dù': 7581, 'mô_tả': 7582, '140': 7583, 'noname': 7584, 'tươi_rói': 7585, 'đà': 7586, 'dẽ': 7587, 'cà_lơ': 7588, 'cổ_tích': 7589, '301': 7590, 'khoáng_đãng': 7591, 'lấp_lánh': 7592, 'cối': 7593, 'cổ_hũ': 7594, 'more': 7595, 'cưg': 7596, 'chầu': 7597, 'dậu': 7598, 'tham_khảo': 7599, 'trể': 7600, 'tha_ma': 7601, '888': 7602, 'tuyên_truyền': 7603, 'trẻ_em': 7604, 'chinh_phục': 7605, 'đâuu': 7606, 'cuộc_sống': 7607, 'seagames': 7608, 'pla': 7609, 'celadon': 7610, 'ăn_chay': 7611, 'người_ta': 7612, 'ăn_nhằm': 7613, 'là_là': 7614, 'why': 7615, 'rá': 7616, 'đơn_thuần': 7617, 'binh': 7618, 'mục_kích': 7619, 'booster': 7620, '3j': 7621, 'húng_quế': 7622, 'adua': 7623, '258000': 7624, 'hun_khói': 7625, 'furious': 7626, 'yêu_quý': 7627, 'thé': 7628, 'thương_tiếc': 7629, 'vùn_vụt': 7630, 'bgiờ': 7631, 'huhuhu': 7632, 'nhỡ': 7633, 'haiz': 7634, 'sexy': 7635, 'trường_phái': 7636, 'vịêt': 7637, 'rụm': 7638, 'wont': 7639, 'nghìn': 7640, 'waffles': 7641, 'nốt': 7642, 'sông': 7643, 'đất_cát': 7644, 'mỏi_mắt': 7645, 'thạo': 7646, 'beatiful': 7647, '100': 7648, 'sai_sót': 7649, 'hạng_mục': 7650, 'sorento': 7651, 'break': 7652, 'choẹ': 7653, 'hàn_the': 7654, 'chung_quy': 7655, '1lan': 7656, 'thậ': 7657, 'all': 7658, '17h30': 7659, 'xanh_lè': 7660, 'mỗi_một': 7661, 'helpful': 7662, 'lượg': 7663, 'shorter': 7664, 'facility': 7665, 'q1': 7666, 'giô': 7667, '247': 7668, 'bán_rong': 7669, 'thửong': 7670, '28000': 7671, '03': 7672, 'kích': 7673, 'cổ_điển': 7674, 'biêt': 7675, 'giac': 7676, 'ngfay': 7677, 'wrong': 7678, 'sam': 7679, 'vô_ý_thức': 7680, 'lổm_nhổm': 7681, 'quan_sát': 7682, 'bách_hoá': 7683, 'khai_thác': 7684, 'pi': 7685, 'ngoại_thương': 7686, 'gồm': 7687, 'đạc': 7688, '5ph': 7689, 'ngã': 7690, 'dòm_ngó': 7691, 'ta': 7692, '92': 7693, 'serves': 7694, 'susu': 7695, 'bôi_bác': 7696, 'kiệm': 7697, 'đâm': 7698, 'salade': 7699, 'hjx': 7700, 'lỏi': 7701, 'princess': 7702, 'thị_nghè': 7703, 'trét': 7704, 'kitchen': 7705, 'ảo_giác': 7706, 'dạo_đầu': 7707, 'ba_chỉ': 7708, 'cao_cao': 7709, 'nhồm_nhoàm': 7710, 'sakura': 7711, 'salông': 7712, 'chưs': 7713, 'xảy': 7714, 'bén_mảng': 7715, 'bx': 7716, 'lữ_gia': 7717, 'đbiệt': 7718, 'u2': 7719, 'nghìn_thu': 7720, 'ến': 7721, 'huong': 7722, 'cow': 7723, 'giáo_viên': 7724, 'kup': 7725, 'đat': 7726, 'vật_chất': 7727, 'cha_con': 7728, 'thắg': 7729, 'trà_xanh': 7730, 'tệ_hại': 7731, 'hình_chữ_nhật': 7732, 'dễ_thương': 7733, 'the_garden': 7734, 'choét': 7735, 'lê_la': 7736, 'xẩy': 7737, 'last': 7738, 'địng': 7739, 'chịu_trận': 7740, 'guang': 7741, 'sửa': 7742, 'sần_sật': 7743, 'mắng': 7744, 'lổn_nhổn': 7745, 'cải_xoong': 7746, 'mouth': 7747, 'áp_đặt': 7748, 'bungalow': 7749, 'tonic': 7750, 'gala': 7751, 'tình_tứ': 7752, 'hoạt_bát': 7753, 'н': 7754, 'hiến': 7755, 'sân_cỏ': 7756, 'gâu': 7757, 'tốp': 7758, 'designed': 7759, 'vcho': 7760, 'hiz': 7761, '5070': 7762, 'ec': 7763, 'hông': 7764, 'fired': 7765, 'vùng_vằng': 7766, 'expected': 7767, 'chú': 7768, 'gia_đình': 7769, 'khẽ': 7770, 'hue': 7771, 'ddc': 7772, 'mất_hút': 7773, 'htk': 7774, 'đỏ': 7775, 'bánh_tiramisu': 7776, 'mặc_sức': 7777, 'rã': 7778, 'kiêu_kì': 7779, 'tang_gia': 7780, 'cúc': 7781, 'ngo': 7782, 'chè_bà_cốt': 7783, 'nhật_bản': 7784, 'tiếp_thị': 7785, 'nghỉ_dưỡng': 7786, 'lấn_át': 7787, '319': 7788, 'lề': 7789, 'chối': 7790, 'dạ_quang': 7791, 'tình_trạng': 7792, 'coral': 7793, '50k': 7794, 'sững': 7795, 'foods': 7796, 'ăn_khách': 7797, 'nhưa': 7798, 'hoa_văn': 7799, 'ngây': 7800, 'ngục': 7801, 'nhợn': 7802, 'quẩy': 7803, 'băt': 7804, 'tng': 7805, 'thuỷ_tiên': 7806, 'lx': 7807, 'trộm_vía': 7808, 'vật_lộn': 7809, 'thu_xếp': 7810, 'nhàn_hạ': 7811, 'thẩm_mĩ': 7812, 'veef': 7813, '1g': 7814, 'ếch': 7815, 'mới_đầu': 7816, 'vắng_vẻ': 7817, 'thôii': 7818, '15cm': 7819, 'đại_đa_số': 7820, 'tiger': 7821, 'utterly': 7822, 'fitness': 7823, 'lên_mặt': 7824, '220': 7825, 'ác_liệt': 7826, 'lũ_lượt': 7827, 'hỡi_ơi': 7828, 'thoai_thoải': 7829, 'khác_biệt': 7830, 'quạt_treo_tường': 7831, 'vietnamese': 7832, 'vado': 7833, '4045': 7834, '14h30': 7835, 'nc': 7836, 'bảo_kê': 7837, 'sóc': 7838, 'mẹc': 7839, '20h05': 7840, 'sống': 7841, 'dồi_dào': 7842, 'weta': 7843, 'ing': 7844, 'dự': 7845, 'nhẹt': 7846, 'bit': 7847, 'mik': 7848, '800kg': 7849, 'khế': 7850, 'cf': 7851, 'biển_báo': 7852, 'năg': 7853, 'rãnh': 7854, 'riết': 7855, 'bày_biện': 7856, 'ngập_ngừng': 7857, 'ăn_tạp': 7858, 'sung_sướng': 7859, 'series': 7860, 'bell': 7861, 'è': 7862, 'phụ_thuộc': 7863, '1000k': 7864, 'chăm_lo': 7865, 'inside': 7866, 'aaaaaaa': 7867, 'restaurant': 7868, 'coi_thường': 7869, 'xá_xíu': 7870, 'huhuhuhu': 7871, 'ti_toe': 7872, 'khack': 7873, 'trở_về': 7874, 'ngiu': 7875, 'haizzzz': 7876, 'lóc_cóc': 7877, 'hours': 7878, 'quality': 7879, 'mõng': 7880, 'kobe': 7881, 'hút': 7882, 'bắt': 7883, 'sumo': 7884, 'mái_hiên': 7885, 'sành_sứ': 7886, 'tiêu_biểu': 7887, 'lên_ngôi': 7888, 'đảm_bảo': 7889, 'hotdeal': 7890, 'vêf': 7891, 'qan': 7892, 'lượng': 7893, 'vđ': 7894, 'iên': 7895, 'rooms': 7896, 'vằng': 7897, 'dep': 7898, 'chẳng': 7899, 'khoản': 7900, 'dằn': 7901, 'options': 7902, 'hần': 7903, 'egg': 7904, 'đường_sá': 7905, '738': 7906, 'giũ': 7907, 'lên_tiếng': 7908, '66': 7909, 'điều_chỉnh': 7910, '990k': 7911, 'anh_em': 7912, 'tẩy': 7913, 'âm_lượng': 7914, '7h25': 7915, 'sacombank': 7916, 'chuyên_tâm': 7917, 'ngất_ngây': 7918, '4h40': 7919, 'máy_cái': 7920, 'nấn': 7921, 'đt': 7922, 'xé_lẻ': 7923, 'tough': 7924, 'chữi': 7925, '750k': 7926, 'chơi': 7927, 'tắt': 7928, 'kũng': 7929, 'gian_nan': 7930, 'li': 7931, 'alone': 7932, 'tiền_giang': 7933, 'vote': 7934, 'flim': 7935, 'lih': 7936, 'hùi': 7937, 'chương': 7938, '08': 7939, 'sùm': 7940, 'éc': 7941, 'chan_chan': 7942, 'cốt': 7943, 'dá': 7944, 'wanted': 7945, 'cơm_bình_dân': 7946, 'con_giáp': 7947, 'rice': 7948, 'đág': 7949, 'maternity': 7950, 'sỗ': 7951, 'tư_thế': 7952, 'chậm_rì': 7953, 'hoàng_tử': 7954, 'dẻ': 7955, 'lố': 7956, 'tortellini': 7957, '330': 7958, 'qoài': 7959, 'tườn': 7960, 'rw': 7961, 'lừ': 7962, 'ost': 7963, 'tone': 7964, 'chỉ_định': 7965, 'potion': 7966, 'qu': 7967, '5phút': 7968, 'thủ_phủ': 7969, 'xì_xèo': 7970, '13h30': 7971, 'bộ_môn': 7972, 'saigon': 7973, 'thằng_cha': 7974, 'nở_hậu': 7975, 'xạp': 7976, 'nốc': 7977, '50000đ': 7978, 'ngồi_xếp_bằng': 7979, '1080': 7980, 'ý_nghĩa': 7981, 'dứt_điểm': 7982, 'bnhiu': 7983, 'ó': 7984, 'mở_toang': 7985, '180000': 7986, 'chỉnh': 7987, 'vục': 7988, 'nha_trang': 7989, 'xốt': 7990, 'trung_tâm': 7991, 'trance': 7992, 'felling': 7993, 'an_thạnh': 7994, 'anhtran': 7995, 'xớn': 7996, 'smoothie': 7997, 'bánh_xe': 7998, 'vnam': 7999, 'kim_liên': 8000, '136': 8001, 'phì': 8002, 'lazy': 8003, '20phút': 8004, 'nhật': 8005, 'uất_hận': 8006, 'xinh_xắn': 8007, 'bạn_trai': 8008, 'hjjj': 8009, 'phiếm': 8010, 'kiến_trúc': 8011, 'tower': 8012, 'bỏ_cuộc': 8013, 'did': 8014, 'giềng': 8015, 'ngừơi': 8016, 'én': 8017, 'bán_sỉ': 8018, 'donal': 8019, 'hoảng_loạn': 8020, 'om_sòm': 8021, 'ceasar': 8022, 'nhẻo': 8023, 'kếu': 8024, 'như_thế': 8025, 'zz': 8026, 'dumplings': 8027, 'muh': 8028, 'xơm': 8029, 'forma': 8030, 'sợ': 8031, 'ngoặm': 8032, 'thưa': 8033, 'bình_định': 8034, '200000': 8035, 'vẽ_vời': 8036, 'kiểng': 8037, 'nào': 8038, 'xxxxx': 8039, 'hiểm_nghèo': 8040, '0405': 8041, 'ti_ti': 8042, 'lễ_tân': 8043, 'bin': 8044, 'xuất_hiện': 8045, 'tèm': 8046, 'răg': 8047, 'the_loop': 8048, 'danh_lam_thắng_cảnh': 8049, 'lưỡng': 8050, 'ô_long': 8051, 'л': 8052, 'lji': 8053, 'ô_dù': 8054, 'sense': 8055, 'hard': 8056, 'phớt_lờ': 8057, 'nha_chu': 8058, 'tiền_phong': 8059, 'oạch': 8060, 'bút_chì': 8061, 'việc_gì': 8062, 'nhịêt': 8063, 'khuyến_nghị': 8064, 'thân_thiết': 8065, '1t5': 8066, 'giữa_chừng': 8067, 'sước': 8068, 'cá_nước': 8069, 'mua_sắm': 8070, 'về': 8071, 'hehe': 8072, 'romantic': 8073, 'chậm_rãi': 8074, 'hoạ_tiết': 8075, 'sophia': 8076, 'gàu': 8077, 'scandal': 8078, 'lề_mề': 8079, 'mứ': 8080, 'hưởng_thụ': 8081, 'horrid': 8082, 'jao': 8083, 'ngươif': 8084, 'chịu_thua': 8085, 'ươn': 8086, 'latte': 8087, 'o': 8088, '1trai': 8089, 'lênh': 8090, 'creation': 8091, 'orders': 8092, 'ấn_tượng': 8093, 'phụ_nữ': 8094, 'ngọtmón': 8095, 'ra_trò': 8096, 'bất_hủ': 8097, 'colleagues': 8098, 'sền_sệt': 8099, '7h15': 8100, 'trua': 8101, 'pỏ': 8102, 'nhất_trí': 8103, 'tạo_dáng': 8104, 'kinh_hoàng': 8105, 'sapporo': 8106, 'thám': 8107, 'thành_phố': 8108, 'đồn_đại': 8109, 'tài_khoản': 8110, '40000': 8111, 'vina': 8112, 'c2': 8113, 'maximark': 8114, 'đen': 8115, 'dền': 8116, 'tương_tác': 8117, 'kinh_nghĩa': 8118, 'xen_kẽ': 8119, 'tươi_sống': 8120, 'secondly': 8121, 'gươg': 8122, 'pioneer': 8123, 'ốpla': 8124, 'giưa': 8125, 'picachu': 8126, 'cục': 8127, 'nhà_nghỉ': 8128, 'bột': 8129, 'cố_tình': 8130, 'đóng_hộp': 8131, 'tong_teo': 8132, 'cao_su': 8133, 'nheo': 8134, '527': 8135, 'này': 8136, 'ra_lò': 8137, '10m2': 8138, 'xem_thường': 8139, 'mậu_thân': 8140, 'úa': 8141, 'chọ': 8142, 'excellent': 8143, 'đêns': 8144, 'bann': 8145, 'phổ': 8146, 'oặt_ẹo': 8147, 'sặc_mùi': 8148, 'cải_cách': 8149, 'đax': 8150, 'trở_thành': 8151, 'lươngj': 8152, 'pha_lê': 8153, 'tttt': 8154, 'khakha': 8155, 'kính': 8156, 'gò': 8157, 'thẳng_thớm': 8158, 'outside': 8159, '300g': 8160, 'nuong': 8161, 'vòng_vòng': 8162, 'hữu_ý': 8163, 'nếp_cái': 8164, 'cho_hay': 8165, 'giao_phó': 8166, 'dạy_học': 8167, 'lg': 8168, 'côla': 8169, 'bữa_qua': 8170, 'tây': 8171, 'kỹ_thuật': 8172, 'mưa_bão': 8173, 'xe_ôm': 8174, 'trờ': 8175, 'di_chuyển': 8176, 'ngày_sau': 8177, 'thành_đạt': 8178, '278': 8179, '12h05': 8180, 'tương_đối': 8181, 'trụng': 8182, 'humans': 8183, 'điều_ước': 8184, 'cầm_cập': 8185, 'mũm_mĩm': 8186, 'tấy': 8187, 'kiệt': 8188, 'tương_ớt': 8189, 'toàn_thể': 8190, 'location': 8191, '20ng': 8192, 'hành_tinh': 8193, 'nghiệp_dư': 8194, 'phải_biết': 8195, 'tụ_hội': 8196, '399k': 8197, 'cook': 8198, 'giảng_đường': 8199, 'giẫm': 8200, 'cầu_là': 8201, 'năm_lần_bảy_lượt': 8202, '2912': 8203, 'bùng_bục': 8204, 'non': 8205, 'nothing': 8206, 'dật_dờ': 8207, 'tấp': 8208, 'buôn_mê': 8209, 'mb': 8210, 'ủ': 8211, 'sushi': 8212, 'nước_sạch': 8213, 'phát_huy': 8214, 'sựng': 8215, 'quýêt': 8216, 'dài_lâu': 8217, 'màng': 8218, 'lắt_léo': 8219, 'dở_ẹc': 8220, 'rườm_rà': 8221, '4c': 8222, 'together': 8223, 'công_đoạn': 8224, 'hjj': 8225, 'idol': 8226, 'thoã': 8227, 'enchanting': 8228, 'ヾ': 8229, 'luyến_tiếc': 8230, 'phục_vụ': 8231, 'đơn_điệu': 8232, 'thân_thương': 8233, '45h': 8234, 'lăng': 8235, 'đà_lạt': 8236, 'ngọc_bích': 8237, '1711': 8238, 'newfeed': 8239, 'cải_trời': 8240, 'thực_tiễn': 8241, 'visiting': 8242, 'nói_ngoa': 8243, 'elisa': 8244, 'đồng_sen': 8245, 'thẻ': 8246, 'hiếc': 8247, 'nầy': 8248, 'mầm': 8249, 'apparently': 8250, 'tb': 8251, 'biếm': 8252, 'dễ_thở': 8253, 'xíu': 8254, 'thật_thà': 8255, 'bừa': 8256, 'á': 8257, 'shoyu': 8258, 'sheraton': 8259, 'kết_từ': 8260, 'mãng_cầu': 8261, 'không_gian': 8262, 'brothers': 8263, 'trở_lại': 8264, 'nge': 8265, 'quành': 8266, 'hợp_ý': 8267, 'ổ_khoá': 8268, 'giải_khát': 8269, 'xe_đạp': 8270, 'cứu_tinh': 8271, 'tính_năng': 8272, 'khỏi_phải_nói': 8273, 'happy': 8274, '78g': 8275, 'toàn_diện': 8276, 'vô_tư_lự': 8277, 'chột': 8278, 'trừu_tượng': 8279, 'năm_tháng': 8280, 'cl': 8281, 'chan_chát': 8282, 'dồn': 8283, '29000': 8284, 'gd': 8285, 'dubai': 8286, 'vác_mặt': 8287, 'leek': 8288, 'my': 8289, 'đos': 8290, 'hà': 8291, 'tươi_vui': 8292, 'thiếu_thốn': 8293, 'côc': 8294, 'rù': 8295, 'md': 8296, 'kiêng_kỵ': 8297, 'bệt': 8298, 'preparation': 8299, 'giờ': 8300, '98000': 8301, 'nậm': 8302, 'edible': 8303, 'sàigon': 8304, 'irish': 8305, 'ứng_xử': 8306, 'design': 8307, 'bận': 8308, 'kì_cạch': 8309, 'tous': 8310, 'of': 8311, 'chủng_loại': 8312, 'sửu': 8313, 'doanh_số': 8314, 'khương': 8315, 'classical': 8316, 'tùi': 8317, 'ngân': 8318, '550000': 8319, 'trân_trọng': 8320, 'tầm': 8321, 'chăm_chăm': 8322, 'chút_ít': 8323, 'kết_dính': 8324, 'bác': 8325, 'phân_bua': 8326, 'phấn_khởi': 8327, 'up': 8328, 'bánh_nậm': 8329, 'trọng': 8330, 'ngưng': 8331, 'sv': 8332, 'như': 8333, 'đậc': 8334, 'ngẫu': 8335, 'lotter': 8336, 'tác_phẩm': 8337, 'ngya': 8338, 'riê': 8339, 'thượng_đế': 8340, 'conversation': 8341, 'liên_hệ': 8342, 'luc': 8343, 'nhất_nhì': 8344, 'haizzzzzz': 8345, 'đông_nam': 8346, 'có_lý': 8347, 'hành_hạ': 8348, 'ngạc_nhiên': 8349, 'vui_tai': 8350, 'ép': 8351, 'xoa_bóp': 8352, 'thửng': 8353, 'khung_giá': 8354, 'giann': 8355, 'lợn_cợn': 8356, '5li': 8357, 'găn': 8358, 'nhâm': 8359, 'liệu_trình': 8360, 'muộn': 8361, 'royal_city': 8362, 'ngội': 8363, 'khoanh_tay': 8364, 'hanoi': 8365, 'nhân_tài': 8366, '6h5': 8367, 'măm': 8368, 'mong_chờ': 8369, 'còng': 8370, 'dươ': 8371, '1triệu': 8372, 'tân_trang': 8373, 'cáo_lỗi': 8374, 'quá_chừng': 8375, 'toong': 8376, 'phỏng': 8377, 'vui_lòng': 8378, 'giữ_chân': 8379, 'soát': 8380, 'bảo_trì': 8381, 'nhột': 8382, 'milo': 8383, 'trụ_trì': 8384, 'cold': 8385, 'thiếu_nữ': 8386, 'nước_rửa_bát': 8387, 'lệnh': 8388, 'lên': 8389, 'chỉ': 8390, 'cún': 8391, 'điii': 8392, 'sứt': 8393, 'vpop': 8394, 'lửa_trại': 8395, 'tay_xách_nách_mang': 8396, 'hải_châu': 8397, 'ha': 8398, 'mốc': 8399, 'cảm_quan': 8400, 'lớm': 8401, 'ngoài_mặt': 8402, 'đầuu': 8403, 'xúc': 8404, 'lá_cẩm': 8405, 'sugar': 8406, '6k': 8407, 'thanh_lịch': 8408, 'nguyên_đại': 8409, 'àk': 8410, 'ngẫm': 8411, 'tiết': 8412, 'ôt': 8413, 'ì_xèo': 8414, 'chiêc': 8415, 'đa': 8416, 'ngang_hàng': 8417, '1912': 8418, 'trúg': 8419, 'kiếu': 8420, '10d': 8421, 'koa': 8422, 'tươi_tắn': 8423, 'kiẻu': 8424, 'nhảm_nhí': 8425, 'phiếu': 8426, 'macarons': 8427, 'giề': 8428, 'hứ': 8429, 'vỗ_béo': 8430, 'sường': 8431, 'joie': 8432, 'start': 8433, 'xia': 8434, 'hơi_hướm': 8435, 'worthy': 8436, 'sit': 8437, 'den': 8438, 'dán': 8439, 'chụt_chụt': 8440, 'quấc': 8441, 'làm_bằng': 8442, 'bến': 8443, 'dấm': 8444, 'hihii': 8445, 'đàg': 8446, 'quyền': 8447, 'togo': 8448, 'tră': 8449, 'diu': 8450, 'sashimi': 8451, '1973': 8452, 'nw': 8453, 'đức': 8454, 'cầu': 8455, 'mớn': 8456, 'nóg': 8457, 'ab': 8458, 'tào_lao': 8459, 'đáng_lẽ': 8460, 'rắc_rối': 8461, 'ngỏ': 8462, 'ngoại_hình': 8463, 'recipes': 8464, 'because': 8465, 'lollipop': 8466, 'lịch_thiệp': 8467, 'nể': 8468, 'ảo_tưởng': 8469, 'opera': 8470, 'kai': 8471, 'nhân_tiện': 8472, 'đầu_hôm': 8473, 'phật': 8474, 'túi': 8475, 'ủg': 8476, 'dấu_ấn': 8477, 'agan': 8478, 'tuỳ_tiện': 8479, 'bâu': 8480, 'tốn_phí': 8481, 'drove': 8482, 'ritz': 8483, 'lúc_nào': 8484, 'yellow': 8485, 'điên': 8486, '10m': 8487, 'vuốt_ve': 8488, 'quietly': 8489, 'boi': 8490, 'lầy': 8491, 'triễn': 8492, 'hại': 8493, 'lương_tâm': 8494, 'huốt': 8495, 'nilong': 8496, 'nguyển': 8497, 't4': 8498, 'thiệt_thòi': 8499, 'hippo': 8500, 'huơng': 8501, 'nhướng': 8502, 'ss': 8503, 'ghánh': 8504, 'loại_hình': 8505, 'mỡi': 8506, 'ngón_trỏ': 8507, 'sươ': 8508, 'phong_thái': 8509, 'hệt': 8510, 'dầu_nhớt': 8511, 'đoong': 8512, 'board': 8513, 'trở': 8514, 'seafood': 8515, 'bởi_vì': 8516, 'toẹt': 8517, 'gặm_nhấm': 8518, 'gật': 8519, 'thách_thức': 8520, 'lao_xao': 8521, 'biểu_lộ': 8522, 'mửa': 8523, 'ốp': 8524, 'lạc_lõng': 8525, 'mã_số': 8526, 'cai': 8527, 'office': 8528, 'liên_tục': 8529, 'ngon_giấc': 8530, 'bn': 8531, 'haru': 8532, 'ẩn': 8533, 'chát': 8534, 'hiếm_hoi': 8535, 'tunh': 8536, 'óng': 8537, 'ot': 8538, 'gế': 8539, 'đàn_áp': 8540, 'figure': 8541, 'bẵng': 8542, 'chuông': 8543, 'kể_cả': 8544, 'loanh': 8545, 'hjt': 8546, 'hoco': 8547, 'tụi': 8548, 'pistachio': 8549, 'thể': 8550, 'completely': 8551, 'mìnk': 8552, 'hoan_hỷ': 8553, 'have': 8554, 'since': 8555, 'thăn': 8556, 'tam_giang': 8557, 'mìk': 8558, 'chaka': 8559, 'màu_mè': 8560, 'lãi': 8561, 'dở': 8562, '250': 8563, 'rieng': 8564, '24cm': 8565, 'nèh': 8566, 'zồi': 8567, 'thời_trang': 8568, 'trung_ương': 8569, 'bấp_bênh': 8570, 'siêu_âm': 8571, 'kinh_qua': 8572, 'terminal': 8573, 'bánh_bao': 8574, 'thầy_giáo': 8575, 'dến': 8576, 'ràng': 8577, 'làm_nhục': 8578, 'xùi': 8579, 'tôn': 8580, 'phân': 8581, 'tròi': 8582, '10c': 8583, 'cao_nhòng': 8584, 'khả_quan': 8585, 'đẽ': 8586, 'chớn': 8587, 'thanh_yên': 8588, 'xe': 8589, 'wad': 8590, 'trong': 8591, 'triple': 8592, 'mì_ăn_liền': 8593, 'toàm': 8594, 'xanhh': 8595, 'hòn': 8596, 'hier': 8597, 'carbonara': 8598, 'phức_tạp': 8599, 'chìa_vôi': 8600, 'shoot': 8601, 'week': 8602, 'dessert': 8603, 'mosquitoes': 8604, 'pháp_luật': 8605, 'cưới': 8606, 'thoai': 8607, 'găng_tay': 8608, 'bố': 8609, 'lặt': 8610, 'lý_thú': 8611, 'girlfriend': 8612, 'kiếm': 8613, 'định_cư': 8614, 'qá': 8615, 'salon': 8616, 'gạch': 8617, 'tiền_chẵn': 8618, 'kiến': 8619, 'ỏng': 8620, 'phục_hồi': 8621, 'trúng_thực': 8622, 'emoticon': 8623, 'cappuccino': 8624, 'cạp': 8625, 'she': 8626, 'suýt': 8627, '1b': 8628, 'lt': 8629, 'khổ_thân': 8630, 'gợi_ý': 8631, 'tiến_hành': 8632, '205k': 8633, 'cug': 8634, 'tai_nạn': 8635, 'hj': 8636, 'đặp': 8637, 'sáng_sáng': 8638, 'nựng': 8639, 'world_cup': 8640, 'đợi_chờ': 8641, '6pm': 8642, 'brulee': 8643, 'bư': 8644, 'ăn_cắp': 8645, 'menly': 8646, 'nhưnh': 8647, 'giao_thông': 8648, 'giá_như': 8649, 'mềm_dẻo': 8650, 'đại_gia_đình': 8651, 'bonus': 8652, 'galaxy': 8653, 'xứg': 8654, '56g': 8655, 'xới': 8656, 'đánh_lừa': 8657, 'sunday': 8658, 'rải_rác': 8659, 'q9': 8660, 'sừng_sững': 8661, 'pnc': 8662, 'tumbler': 8663, 'lừ_đừ': 8664, 'vck': 8665, 'đỏ_ngầu': 8666, 'bát_phố': 8667, 'ruốc': 8668, 'quết': 8669, 'quy_tiên': 8670, 'bằng_không': 8671, 'hiện_tượng': 8672, 'lít': 8673, 'chap': 8674, 'ếp': 8675, 'dô': 8676, 'tham_quan': 8677, 'truyện_tranh': 8678, 'kiến_lửa': 8679, '191': 8680, '5s': 8681, 'nặng_nề': 8682, 'tập_trung': 8683, 'ngy': 8684, 'nhiw': 8685, 'ảnh': 8686, 'tậu': 8687, 'đằm': 8688, 'ốt': 8689, 'hồi_sức': 8690, 'khônng': 8691, 'ưu_điểm': 8692, 'sấu': 8693, 'vè': 8694, 'pose': 8695, 'luông': 8696, 'thánh_địa': 8697, '240': 8698, 'used': 8699, 'khoàng': 8700, 'dâu_tằm': 8701, 'little': 8702, 'xep': 8703, 'được_giá': 8704, 'hôn': 8705, 'truớc': 8706, 'lền': 8707, 'hope': 8708, 'phấn_khích': 8709, 'dinning': 8710, 'đôgn': 8711, 'mề_gà': 8712, 'mê_hồn': 8713, 'búi': 8714, 'vé_số': 8715, '8h45': 8716, 'lạng': 8717, 'talk': 8718, 'zữ': 8719, 'ccùng': 8720, '100k': 8721, 'tin_hin': 8722, 'mành': 8723, 'sốt': 8724, 'dorm': 8725, 'rình_rập': 8726, 'tân_bình': 8727, 'ngai_ngái': 8728, 'kéc': 8729, 'hải_đăng': 8730, 'les': 8731, 'hé': 8732, '325k': 8733, 'zí': 8734, 'cử': 8735, 'thiết_đãi': 8736, 'anyone': 8737, 'anime': 8738, 'management': 8739, 'khang': 8740, 'treasures': 8741, 'click': 8742, 'pattern': 8743, 'quặp': 8744, 'muổng': 8745, 'ròi': 8746, 'tiệc_trà': 8747, 'quãng': 8748, 'nhai': 8749, 'welcome': 8750, 'biểm': 8751, 'ca_ngợi': 8752, 'mét': 8753, 'che': 8754, 'kih': 8755, 'chỉ_tội': 8756, 'hăm_hở': 8757, '0944': 8758, 'nâ': 8759, 'bò_cạp': 8760, 'bung': 8761, 'phán': 8762, 'tệ': 8763, 'standard': 8764, '66m2': 8765, '182000': 8766, 'pictures': 8767, 'phóng_đại': 8768, 'mò': 8769, 'makes': 8770, 'hên': 8771, 'even': 8772, 'ngẩu': 8773, 'bàn_chải': 8774, 'đĩnh': 8775, 'khoan': 8776, 'sệch': 8777, 'vỏ_lụa': 8778, 'ík': 8779, 'pogo': 8780, 'dừ': 8781, 'xe_cộ': 8782, 'khung_cảnh': 8783, 'ngút': 8784, 'rẽ': 8785, 'phối': 8786, 'becgie': 8787, 'hợp_tình_hợp_lý': 8788, 'khj': 8789, '800ml': 8790, 'virgin': 8791, 'tháu': 8792, 'bộ_đồ': 8793, 'dẵ': 8794, 'soho': 8795, 'mare': 8796, 'sauna': 8797, 'chinsu': 8798, 'soc': 8799, 'lambo': 8800, 'quác': 8801, 'lay': 8802, 'thíc': 8803, 'sofia': 8804, 'thei': 8805, 'bồng_bế': 8806, 'trung_quốc': 8807, '81': 8808, 'cạy': 8809, 'tài_sản': 8810, 'tởm': 8811, 'thiết_tha': 8812, 'dơ_bẩn': 8813, 'nàn': 8814, 'buildings': 8815, 'capsule': 8816, 'nền': 8817, 'cừa': 8818, '30000': 8819, 'uốg': 8820, 'trè': 8821, 'lưa_thưa': 8822, 'hi_lạp': 8823, 'brochure': 8824, 'lủi': 8825, 'yêu_đời': 8826, 'vàg': 8827, 'khí_thế': 8828, 'tuyê': 8829, 'xuog': 8830, 'đặt_hàng': 8831, 'lhông': 8832, 'trí_nhớ': 8833, 'serving': 8834, '79k': 8835, 'fen': 8836, 'xảo_trá': 8837, 'đứt': 8838, 'riếp': 8839, 'đẽo': 8840, 'favorite': 8841, 'đường_trục': 8842, 'said': 8843, 'bis': 8844, '490': 8845, 'bánh_cam': 8846, 'vòn': 8847, '357': 8848, 'sữ': 8849, 'cẩn': 8850, 'linh_ứng': 8851, 'xe_lăn': 8852, 'song_hành': 8853, 'caphê': 8854, 'barbecue': 8855, 'bôi_trơn': 8856, 'sất': 8857, 'khê': 8858, 'nhoáng': 8859, 'chị_em': 8860, 'form': 8861, 'âm_thầm': 8862, 'ún': 8863, 'lil': 8864, 'ấn': 8865, 'acoustic': 8866, 'đại_sảnh': 8867, 'tao_nhã': 8868, 'tinh_chế': 8869, 'chiều_hôm': 8870, 'uno': 8871, 'loe': 8872, 'gép': 8873, '8h10': 8874, 'langs': 8875, 'calm': 8876, 'milimet': 8877, 'char': 8878, 'quyen': 8879, 'phù_hợp': 8880, 'zo': 8881, 'mall': 8882, 'điên_đảo': 8883, 'ngoài': 8884, 'chung': 8885, 'rược': 8886, '6h30': 8887, 'đạp': 8888, '1050k': 8889, 'tí_xíu': 8890, 'staffs': 8891, 'rưỡi': 8892, 'kieng': 8893, 'cay_đắng': 8894, 'lừa': 8895, 'vtt': 8896, 'ministop': 8897, 'salat': 8898, 'dầy': 8899, 'tissues': 8900, 'kim_mã': 8901, 'rùng_mình': 8902, 'tapi': 8903, 'berries': 8904, '1550000': 8905, 'until': 8906, '430k': 8907, 'trưng_bày': 8908, 'hùa': 8909, 'ội': 8910, 'sl': 8911, 'tận_thu': 8912, 'phòng_thí_nghiệm': 8913, 'suon': 8914, 'again': 8915, 'lai_rai': 8916, 'áo_quần': 8917, 'rện': 8918, '12000000': 8919, 'đồng_bóng': 8920, 'khuân': 8921, 'kịt': 8922, 'xích_lô': 8923, 'nhào_nặn': 8924, 'đẫ': 8925, 'phải': 8926, 'ờh': 8927, 'tâm_trí': 8928, 'giứoi': 8929, 'may_rủi': 8930, 'lạ_miệng': 8931, 'min': 8932, 'nhức': 8933, 'nick': 8934, 'ngày_mai': 8935, 'hnoi': 8936, 'chuô': 8937, 'xuống': 8938, 'ẵm': 8939, 'before': 8940, 'thở_dài': 8941, 'die': 8942, 'ủng_hộ': 8943, 'thư': 8944, 'hết_mình': 8945, 'gthieu': 8946, 'creative': 8947, 'chần': 8948, 'thậc': 8949, 'sucks': 8950, 'wf': 8951, 'gấp_gáp': 8952, 'been': 8953, 'nhèo': 8954, 'bio': 8955, 'nong': 8956, 'cho_dù': 8957, '83000': 8958, 'quây': 8959, 'phương_thức': 8960, 'cay_cay': 8961, 'sớt': 8962, 'decoration': 8963, 'đẹp_mặt': 8964, 'giã': 8965, 'dổi': 8966, 'hò': 8967, 'sát_sàn_sạt': 8968, 'raibow': 8969, 'zùi': 8970, 'vùng_trời': 8971, 'mieng': 8972, 'tép': 8973, 'công_thức': 8974, 'tổ_chức': 8975, 'trẻ_con': 8976, 'quý_giá': 8977, 'chewy': 8978, 'orther': 8979, 'xịn': 8980, 'kakaka': 8981, 'doanh_nghiệp': 8982, 'dáng_vẻ': 8983, 'hớn': 8984, 'chú_ý': 8985, 'tuy_thế': 8986, 'phim_hoạt_hoạ': 8987, 'hoa_hồng': 8988, 'len': 8989, 'đại_hồi': 8990, 'thuở': 8991, 'nữ_sinh': 8992, 'sựa': 8993, 'cộng_đồng': 8994, 'chơi_chơi': 8995, 'rocker': 8996, 'khéo_miệng': 8997, 'mặt_đường': 8998, 'mẩu': 8999, 'nhak': 9000, 'huyền_diệu': 9001, '70000': 9002, 'arrange': 9003, 'áy_náy': 9004, 'chyen': 9005, 'hư_hỏng': 9006, 'miếu': 9007, 'nkư': 9008, 'mộc_mạc': 9009, 'nhưn': 9010, 'cấu_kết': 9011, 'tò_mò': 9012, 'nhui': 9013, '131000': 9014, '450k': 9015, 'unfriendly': 9016, 'khó': 9017, 'siêu_nhân': 9018, 'nhien': 9019, 'ru': 9020, 'mọng': 9021, 'triều': 9022, 'phòng': 9023, 'alice': 9024, 'nem_chua': 9025, '18000': 9026, 'đường_ray': 9027, 'trêu': 9028, 'diamond': 9029, 'phí': 9030, 'dai': 9031, 'yamaha': 9032, 'vun': 9033, 'chỏi': 9034, 'reef': 9035, 'đưa_đón': 9036, '10nam': 9037, 'mích': 9038, 'luẩn_quẩn': 9039, 'nhek': 9040, 'hào_nhoáng': 9041, 'điêm': 9042, 'cotton': 9043, 'phú_quý': 9044, 'súng': 9045, 'sa_mạc': 9046, 'kì_lạ': 9047, 'với_lại': 9048, '3540': 9049, 'đee': 9050, 'đưa': 9051, 'tối_kị': 9052, 'nhạc': 9053, 'nhớ_mong': 9054, 'thảo_luận': 9055, 'vẹt': 9056, 'ngoại_giao': 9057, 'yolo': 9058, 'thành_phẩm': 9059, 'phun': 9060, 'rươi': 9061, 'khuôn_mặt': 9062, 'nhiền': 9063, 'nhập_khẩu': 9064, '7': 9065, 'tổn_thương': 9066, 'thân_ái': 9067, 'điên_điên': 9068, 'nghĩ_bụng': 9069, '37k': 9070, 'lẩu': 9071, 'huyet': 9072, 'biên_lai': 9073, 'somerset': 9074, 'nguyễn_biểu': 9075, 'chất_lượng': 9076, 'ngành': 9077, 'thán_phục': 9078, 'xắc': 9079, 'giận': 9080, 'điểu': 9081, '3000000': 9082, 'mensa': 9083, 'meal': 9084, 'car': 9085, 'được': 9086, 'oan': 9087, 'xem': 9088, 'thiêng': 9089, 'tinh_mơ': 9090, 'gecko': 9091, 'chân_tay': 9092, 'rạng_rỡ': 9093, 'xe_lửa': 9094, 'thuỷ': 9095, 'nước_lớn': 9096, 'xôm': 9097, 'nthe': 9098, 'taken': 9099, 'tuyển': 9100, 'tgian': 9101, 'halloween': 9102, 'tận_mắt': 9103, 'bù_đắp': 9104, 'luýnh_quýnh': 9105, 'holds': 9106, 'hoạt_náo': 9107, 'steak': 9108, 'thị_trấn': 9109, 'steeds': 9110, 'đầi': 9111, 'freedom': 9112, 'rỗng': 9113, 'hospitality': 9114, 'bmi': 9115, 'ăn_ý': 9116, 'hường': 9117, 'bỏ_bà': 9118, 'ra_mắt': 9119, 'hìh': 9120, 'menh': 9121, '285k': 9122, 'smooth': 9123, 'scenery': 9124, 'zalo': 9125, 'gru': 9126, 'shot': 9127, 'lỡ_đường': 9128, 'honey': 9129, 'thưởng_thức': 9130, 'thoả_đáng': 9131, 'nủa': 9132, 'thực_đơn': 9133, 'chủ_nhân': 9134, 'choi_choi': 9135, 'một_mạch': 9136, 'nhiềy': 9137, 'tôm_cá': 9138, 'chưng_hửng': 9139, 'trương_định': 9140, 'đồn_thổi': 9141, 'ao': 9142, 'nhăn': 9143, 'lõm': 9144, '148k': 9145, 'vú_sữa': 9146, '195': 9147, 'vườn': 9148, 'oto': 9149, 'tìm_tòi': 9150, 'nhà_mồ': 9151, 'hitman': 9152, '8d': 9153, 'ào': 9154, 'understood': 9155, 'expect': 9156, 'gym': 9157, 'koibito': 9158, 'lạo_xạo': 9159, 'vâng_vâng_dạ_dạ': 9160, 'vantage': 9161, 'rong_ruổi': 9162, '61': 9163, 'trị_an': 9164, 't3': 9165, 'khoáy': 9166, 'hàng': 9167, 'chowder': 9168, 'hero': 9169, 'maxx': 9170, 'end': 9171, 'vách': 9172, 'pháo_bông': 9173, 'dúng': 9174, 'mjn': 9175, 'từ_từ': 9176, 'phiêu': 9177, 'huyền_ảo': 9178, '40h': 9179, 'tạo_hình': 9180, 'diễn_tả': 9181, 'chớm': 9182, 'khép_kín': 9183, 'pateso': 9184, 'bánh_ít': 9185, 'dáo': 9186, 'viber': 9187, 'bịch': 9188, '175k': 9189, 'cleanliness': 9190, 'veggies': 9191, 'cầu_tàu': 9192, 'tích_hợp': 9193, 'eat': 9194, 'đuô': 9195, 'xơ': 9196, 'tỉa': 9197, 'đọng': 9198, 'hx': 9199, 'phụ_trợ': 9200, 'gí': 9201, 'chơi_xỏ': 9202, 'thi_vị': 9203, 'ngầy': 9204, 'biên_giới': 9205, 'chộ': 9206, 'vai_trò': 9207, 'chanh_chua': 9208, 'chỉ_đạo': 9209, 'pico': 9210, 'trống_không': 9211, 'khômg': 9212, 'hồng_bàng': 9213, 'phâ': 9214, 'cụm_từ': 9215, 'chẵng': 9216, '137': 9217, 'thế_giới': 9218, 'giảm_giá': 9219, 'trễ': 9220, 'thất_sách': 9221, 'đau_đầu': 9222, 'cộng_hoà': 9223, 'toàn_thân': 9224, 'tưới': 9225, 'khựng': 9226, 'kì_dị': 9227, 'ép_uổng': 9228, 'tửơng': 9229, '1210': 9230, 'ngớt': 9231, 'thảo': 9232, 'u_ơ': 9233, 'nhã': 9234, 'càg': 9235, 'vậy_mà': 9236, 'gui': 9237, 'fruits': 9238, 'к': 9239, 'nghèo': 9240, 'rằm': 9241, 'ngải': 9242, 'suy_dinh_dưỡng': 9243, 'chòi': 9244, 'huhuu': 9245, 'nĩa': 9246, 'từơng': 9247, 'trắc_trở': 9248, 'xả_láng': 9249, 'guitar': 9250, '299k': 9251, 'tánh': 9252, 'cày': 9253, 'vàng_son': 9254, 'pororo': 9255, 'trìn': 9256, 'mayone': 9257, 'nhình': 9258, 'doner': 9259, 'indochina': 9260, 'cắt': 9261, 'tính_từ': 9262, 'thế_là': 9263, 'húc': 9264, 'bakery': 9265, 'upon': 9266, 'bâng_quơ': 9267, 'thặc': 9268, 'măng_le': 9269, 'thể_tích': 9270, 'winner': 9271, 'diễn_viên': 9272, 'đại_bản_doanh': 9273, 'bún_bò': 9274, 'mixes': 9275, 'quân_đội': 9276, '454g': 9277, 'thế': 9278, 'um': 9279, '8h30': 9280, 'vũng_tàu': 9281, 'hầm_hố': 9282, 'tonkotsu': 9283, 'cam_kết': 9284, 'trơ': 9285, 'speed': 9286, 'rev': 9287, 'thĩ': 9288, 'name': 9289, 'giàu_có': 9290, 'ai_đời': 9291, 'chếnh_choáng': 9292, 'cây_cối': 9293, '3s': 9294, 'huỷ_hoại': 9295, 'rar': 9296, 'thổ_địa': 9297, 'packaging': 9298, 'tuong': 9299, 'đường_quốc_lộ': 9300, 'dơi': 9301, 'pets': 9302, '46': 9303, 'quởn': 9304, 'giăng_mắc': 9305, 'mua_bán': 9306, 'brasserie': 9307, 'đề_xuất': 9308, 'е': 9309, 'big_bang': 9310, 'mocha': 9311, 'quan_hệ': 9312, '231': 9313, 'hình_dung': 9314, 'thanh_long': 9315, 'chèn': 9316, 'hoà_mình': 9317, 'rài': 9318, 'hậu_giang': 9319, 'khánh_thành': 9320, 'muoi': 9321, 'gấp_rút': 9322, 'hiện_diện': 9323, 'ktqd': 9324, 'ác_đức': 9325, 'bình_thản': 9326, 'xúi_giục': 9327, 'chắc': 9328, 'alpha': 9329, 'rủng_rỉnh': 9330, 'passio': 9331, 'amy': 9332, 'rk': 9333, 'thơm': 9334, 'tẩy_trang': 9335, 'án': 9336, 'phương_hướng': 9337, '235': 9338, 'hoạ': 9339, 'háng': 9340, 'noel': 9341, 'job': 9342, 'junior': 9343, 'luồng': 9344, 'zụ': 9345, 'ăn_theo': 9346, 'cười_nhạt': 9347, 'nèo': 9348, 'vắng_hoe': 9349, 'tổng_kết': 9350, 'xui_xẻo': 9351, 'thành_quả': 9352, 'sờ_sờ': 9353, 'ưu_đãi': 9354, 'gòi': 9355, 'thuôi': 9356, 'nhueng': 9357, 'bí_hiểm': 9358, 'ngãng': 9359, 'chệch': 9360, 'phọt': 9361, 'ưng': 9362, 'hoà_tấu': 9363, 'tri': 9364, 'laoij': 9365, 'núp': 9366, 'thưởng_ngoạn': 9367, 'less': 9368, 'chấp': 9369, 'supporting': 9370, 'ság': 9371, 'nù': 9372, 'trẻ_măng': 9373, 'kì_cục': 9374, 'hàm_hồ': 9375, 'gắp': 9376, 'hà_thành': 9377, 'rolls': 9378, 'hàng_hoá': 9379, 'hoàng_thành': 9380, 'giá_trần': 9381, 'gé': 9382, 'gaz': 9383, 'xìu': 9384, '1bàn': 9385, 'mof': 9386, 'rử': 9387, 'nửa_mùa': 9388, 'thực_hư': 9389, 'lug': 9390, 'tươi_roi_rói': 9391, 'hoà_quyện': 9392, 'nuô': 9393, 'nho': 9394, 'măng_tây': 9395, 'thanh_thảo': 9396, '2ng': 9397, 'liền_tù_tì': 9398, 'zero': 9399, 'bí_mật': 9400, 'chơi_vơi': 9401, 'rít': 9402, 'violon': 9403, 'xăng': 9404, 'suối': 9405, 'insane': 9406, 'tuyệt_giao': 9407, 'buột': 9408, 'float': 9409, 'chanh_đào': 9410, 'độc_lập': 9411, 'juices': 9412, 'thấu_đáo': 9413, 'máy_tiện': 9414, 'kích_thước': 9415, 'chứng': 9416, 'giọng': 9417, 'hfhf': 9418, 'ngòn_ngọt': 9419, 't20': 9420, 'cửa_ngõ': 9421, 'cíu': 9422, '315': 9423, 'vưà': 9424, 'đen_sì': 9425, 'offline': 9426, 'phía': 9427, 'dậy_mùi': 9428, 'places': 9429, 'chém_đẹp': 9430, 'pancake': 9431, '19g': 9432, 'taro': 9433, '22000': 9434, 'uồng': 9435, 'bia_bọt': 9436, 'lì_xì': 9437, 'sẳn': 9438, 'boyfriend': 9439, '2tr6': 9440, 'nheng': 9441, 'tĩnh': 9442, 'khiêm': 9443, 'nhung_nhúc': 9444, 'phủ': 9445, 'sụp_đổ': 9446, 'je': 9447, 'cổ_trang': 9448, 'uy_nghiêm': 9449, 'nâng': 9450, 'royal': 9451, 'hon': 9452, 'qbt': 9453, 'liveshow': 9454, '169': 9455, 'cao_giá': 9456, 'lọn': 9457, 'lễ_phục': 9458, 'bb': 9459, 'đại_ca': 9460, 'tiến': 9461, 'văn_minh': 9462, 'on': 9463, 'chúa_tể': 9464, 'xah': 9465, 'lava': 9466, 'inedible': 9467, 'the_long': 9468, 'làm_bếp': 9469, 'atgt': 9470, 'nguyễn_xí': 9471, 'vinh': 9472, 'giá_cạnh_tranh': 9473, 'nguwofi': 9474, 'locker': 9475, 'oimeoi': 9476, 'duy_trì': 9477, 'tín': 9478, 'salát': 9479, 'thần_thánh': 9480, 'hă': 9481, 'tí_tởn': 9482, 'chê_bai': 9483, '63000': 9484, 'ic': 9485, 'đèn_pha': 9486, '21k': 9487, 'quy_tắc': 9488, 'how': 9489, 'đốg': 9490, 'ụn': 9491, 'sinh_nhật': 9492, 'chièu': 9493, 'du_học_sinh': 9494, 'yên_ắng': 9495, 'cano': 9496, 'chợ_cóc': 9497, 'quá_trình': 9498, 'thươngg': 9499, 'vào_khoảng': 9500, 'liệt_sĩ': 9501, 'ùn_tắc': 9502, 'ngón_cái': 9503, '35km': 9504, 'phả': 9505, '0': 9506, 'spa': 9507, 'buồn_bực': 9508, 'biễu': 9509, 'đội_hình': 9510, 'hó_hé': 9511, 'costa': 9512, 'đó': 9513, 'yên': 9514, 'nghỉ_việc': 9515, 'hoài_cổ': 9516, 'mommy': 9517, 'vô_ích': 9518, 'zất': 9519, 'nam_nữ': 9520, 'oặt': 9521, 'sođa': 9522, 'kpop': 9523, 'lunn': 9524, 'kìa': 9525, 'daruma': 9526, 'uông': 9527, 'súc_tích': 9528, 'hành_tây': 9529, 'nhãn_mác': 9530, 'tachi': 9531, 'trách_nhiệm': 9532, 'quá_trớn': 9533, '15414': 9534, '930': 9535, '10000đ': 9536, 'ồi': 9537, 'khờ': 9538, 'giây': 9539, 'bổ_dưỡng': 9540, 'fansipan': 9541, 'tàn_canh': 9542, 'serin': 9543, 'megastar': 9544, 'kiên_trì': 9545, 'satế': 9546, 'replay': 9547, 'thuỷ_tạ': 9548, 'đời_mới': 9549, 'redsun': 9550, 'tattoo': 9551, 'thước': 9552, 'lạng_lách': 9553, 'chec': 9554, 'chôn': 9555, 'zới': 9556, 'câc': 9557, 'york': 9558, '8v': 9559, 'tuyệt_đỉnh': 9560, 'ě': 9561, 'sụp': 9562, 'tiên_tiến': 9563, 'măi': 9564, 'choẻ': 9565, 'sạc': 9566, 'tẹ': 9567, 'đũa': 9568, 'google': 9569, 'vt': 9570, 'wan': 9571, 'cải': 9572, 'teong': 9573, 'xúc_phạm': 9574, 'túc_cầu': 9575, 'điển_trai': 9576, 'bụn': 9577, 'hung_dữ': 9578, 'sim': 9579, '16000': 9580, 'tím': 9581, 'giàn': 9582, 'ngon_mắt': 9583, 'nhộng': 9584, 'oan_ức': 9585, 'điển_hình': 9586, 'lâ': 9587, 'lã_vọng': 9588, 'birthday': 9589, 'lèo_nhèo': 9590, 'giong': 9591, 'nhản': 9592, 'đú': 9593, 'sắc': 9594, 'ttong': 9595, 'mũi': 9596, 'đường_cái': 9597, 'report': 9598, 'bida': 9599, 'gàng': 9600, 'xă': 9601, 'trông_đợi': 9602, 'trước_mắt': 9603, 'công_khai': 9604, 'chặn': 9605, 'outdoor': 9606, 'người_nhà': 9607, 'cầu_an': 9608, 'nhín': 9609, 'bộ_dạng': 9610, '1520': 9611, 'bàn_ghế': 9612, 'sóc_trăng': 9613, 'right': 9614, 'sém': 9615, 'es': 9616, 'sảng_khoái': 9617, 'dmz': 9618, '3giờ': 9619, 'bển': 9620, 'lóng_lánh': 9621, 'lich': 9622, 'cây': 9623, 'bánh_mướt': 9624, 'dưa_lê': 9625, 'h1': 9626, 'hoẻn': 9627, 'thế_mà': 9628, 'côn_trùng': 9629, 'phi': 9630, 'worry': 9631, 'khử': 9632, 'nhắng': 9633, 'chuyên_sâu': 9634, 'neu': 9635, 'nghèn_nghẹt': 9636, 'sẵn': 9637, 'bày': 9638, '8c': 9639, 'gió': 9640, 'mua_lẻ': 9641, 'chanyeol': 9642, 'trak': 9643, 'vị_tha': 9644, '5g': 9645, 'sọ': 9646, 'vột': 9647, 'bbe': 9648, 'thêm': 9649, 'shabu_shabu': 9650, 'quái': 9651, 'bá_đạo': 9652, 'chôi': 9653, 'kendo': 9654, '8đ': 9655, '1đĩa': 9656, 'mắc_cỡ': 9657, 'ngoắc': 9658, 'phomai': 9659, 'giáo_dục': 9660, 'hỷ': 9661, '1tr3': 9662, 'meat': 9663, 'off': 9664, 'ché': 9665, 'themed': 9666, 'cmt8': 9667, 'too': 9668, 'ạ': 9669, 'thương_yêu': 9670, 'arabica': 9671, 'tán': 9672, 'lịch_sự': 9673, 'mhưng': 9674, 'quyển': 9675, 'xúc_tiến': 9676, 'gân': 9677, 'offer': 9678, 'hchc': 9679, 'sister': 9680, 'where': 9681, 'thfi': 9682, 'cuộc_gọi': 9683, 'qly': 9684, 'popular': 9685, 'ngta': 9686, 'iô': 9687, 'đồng_tháp': 9688, 'tính_chất': 9689, 'bun': 9690, 'minutes': 9691, 'mồng': 9692, 'xương': 9693, 'cầm_cự': 9694, 'lợp': 9695, 'riêng': 9696, 'định_giá': 9697, 'lấy_làm': 9698, 'chuột_cống': 9699, 'kao': 9700, 'xoè': 9701, 'ngắc_ngoải': 9702, 'tuyệ': 9703, 'ý': 9704, 'guy': 9705, 'mesa': 9706, 'hd': 9707, 'nhưg': 9708, '180k': 9709, 'quản_gia': 9710, 'tu_dưỡng': 9711, 'xe_ca': 9712, 'huỷ': 9713, 'thính': 9714, 'quantity': 9715, 'very': 9716, 'kiểm_chứng': 9717, 'organic': 9718, 'thảo_nào': 9719, 'over': 9720, '5m': 9721, 'vuvuzela': 9722, 'mgay': 9723, 'pnl': 9724, 'người_tình': 9725, 'thá': 9726, 'tù_mù': 9727, '1946': 9728, 'tano': 9729, 'cải_tạo': 9730, 'âm_binh': 9731, 'sizzling': 9732, 'nghiêm': 9733, 'nhjều': 9734, 'eee': 9735, 'chi_bằng': 9736, 'thăm_thú': 9737, 'bánh_dẻo': 9738, 'ь': 9739, 'tư_trang': 9740, 'old': 9741, 'bẫn': 9742, 'fly': 9743, 'hht': 9744, 'clu': 9745, 'tiếc_nuối': 9746, 'từ_tốn': 9747, 'tiếp_tục': 9748, 'mậu': 9749, 'chống_chế': 9750, 'ét': 9751, 'thiếu_điều': 9752, 'trổ': 9753, 'gìo': 9754, 'tok': 9755, 'wm': 9756, 'trường_học': 9757, 'vâ': 9758, 'thi_đấu': 9759, 'japan': 9760, 'tomyum': 9761, 'đau_lòng': 9762, 'camera': 9763, 'minh_khai': 9764, 'thằng': 9765, '8000': 9766, 'martini': 9767, 'ý_tưởng': 9768, 'cháo': 9769, 'măng': 9770, 'hứng': 9771, 'cực_kỳ': 9772, 'tươi_cười': 9773, 'cẩu': 9774, 'maika': 9775, 'trống_đồng': 9776, 'cọn': 9777, 'quấy_phá': 9778, 'răn': 9779, 'any': 9780, 'khoàn': 9781, 'trứng': 9782, 'xe_khách': 9783, 'zk': 9784, 'vậy': 9785, 'cao_tốc': 9786, 'đường_bộ': 9787, 'hajzzz': 9788, 'hình': 9789, 'ngã_ngửa': 9790, 'ể': 9791, 'định_tính': 9792, 'thất_thế': 9793, 'riêng_biệt': 9794, 'xé': 9795, 'rông': 9796, 'mịn_màng': 9797, 'chia': 9798, 'mark': 9799, 'sáng_choang': 9800, 'điên_tiết': 9801, 'mạnh_dạn': 9802, 'givral': 9803, 'thúi': 9804, 'giấc_mơ': 9805, 'tiếp_theo': 9806, 'guys': 9807, 'tháp': 9808, 'đồng_tiền': 9809, 'й': 9810, '66k': 9811, 'phân_khu': 9812, 'xác_định': 9813, 'quai_hàm': 9814, 'lòng': 9815, 'ồn_ào': 9816, 'natural': 9817, 'tôi': 9818, 'làm_ma': 9819, 'chài': 9820, 'chạy': 9821, 'thị_thành': 9822, 'nhịn_đói': 9823, 'đò': 9824, 'gây_dựng': 9825, 'cuisine': 9826, 'gắn_bó': 9827, 'nhíu': 9828, '7tr': 9829, 'phù_dâu': 9830, 'inbox': 9831, 'tôm_sú': 9832, 'bụg': 9833, 'auto': 9834, 'ngưng_đọng': 9835, 'toạ': 9836, 'hổm': 9837, 'ngoiaf': 9838, 'ưmmm': 9839, 'cảm_tính': 9840, 'đén': 9841, 'kính_viễn_vọng': 9842, 'male': 9843, 'thường_phục': 9844, 'suki': 9845, 'vtc': 9846, 'chợ_trời': 9847, 'lặng': 9848, 'liệng': 9849, 'tăg': 9850, 'thắm': 9851, 'rột': 9852, 'tìên': 9853, 'wished': 9854, 'internet': 9855, 'máu_huyết': 9856, 'cơ': 9857, 'biếg': 9858, 'slogan': 9859, 'sex': 9860, '500000': 9861, 'bua': 9862, 'trào_lưu': 9863, 'đêm_tối': 9864, 'nhăm_nhăm': 9865, 'tiện_thể': 9866, 'hốt': 9867, 'okie': 9868, 'nhièu': 9869, 'ngày_nay': 9870, 'viết': 9871, 'ê_hề': 9872, 'mặc_xác': 9873, 'phân_tâm': 9874, 'housekeeping': 9875, 'bản_hiệu': 9876, 'bởi': 9877, 'never': 9878, 'chần_chờ': 9879, 'road': 9880, 'rau_cỏ': 9881, 'iu': 9882, 'quí': 9883, 'tí_hon': 9884, 'vừa_vặn': 9885, '84k': 9886, 'đậm_đà': 9887, 'grandma': 9888, 'thoi': 9889, 'sa': 9890, 'hiệt': 9891, 'bứt_rứt': 9892, 'phụ_vụ': 9893, 'ăn_chơi': 9894, 'phụ_trách': 9895, 'mãn_nguyện': 9896, 'đậu_hũ': 9897, 'xít': 9898, 'nỡ': 9899, 'hải_sư': 9900, 'cơ_khí': 9901, 'dẫn_đầu': 9902, 'bóng_bàn': 9903, 'gian_dối': 9904, 'chẹp': 9905, 'vận_động_viên': 9906, 'sầm_uất': 9907, 'momo': 9908, 'tâm': 9909, 'oánh': 9910, 'budweiser': 9911, 'capu': 9912, 'hazzz': 9913, 'scam': 9914, 'thic': 9915, 'nhổn': 9916, 'góc_học_tập': 9917, 'đag': 9918, 'july': 9919, 'blizzard': 9920, 'ville': 9921, 'nhiệttình': 9922, 'loreal': 9923, 'thru': 9924, 'thất_bại': 9925, 'lớp': 9926, 'lead': 9927, 'quite': 9928, 'tỉ_mỉ': 9929, 'chuyển_đổi': 9930, '44k': 9931, '215k': 9932, 'macdonald': 9933, 'proper': 9934, 'kẻo': 9935, 'nộp': 9936, 'xóc': 9937, 'hiểm': 9938, 'web': 9939, 'nonstop': 9940, '5k': 9941, '333': 9942, 'nghiêm_nghị': 9943, 'phao': 9944, 'vội_vã': 9945, 'sát_thủ': 9946, 'number': 9947, 'chât': 9948, 'cliff': 9949, 'suggestion': 9950, 'hửi': 9951, 'dải': 9952, 'cờ': 9953, 'luống_cuống': 9954, 'hướng_nội': 9955, 'lề_lối': 9956, 'malai': 9957, 'xịch': 9958, 'ecopark': 9959, 'mối': 9960, 'tải': 9961, 'cộng': 9962, 'shirt': 9963, 'nhà_kinh_doanh': 9964, 'nhầm': 9965, 'hòm_thư': 9966, 'chăn': 9967, 'tiềm_ẩn': 9968, 'hssv': 9969, 'bát_ngát': 9970, 'tớ': 9971, 'chìu': 9972, 'cặn': 9973, 'thảo_điền': 9974, 'tô_điểm': 9975, 'giỡi': 9976, 'rực': 9977, 'nhớn_nhác': 9978, 'tội_nghiệp': 9979, 'giày': 9980, 'kà': 9981, 'dân_chúng': 9982, 'trang_hoàng': 9983, '150': 9984, 'sát': 9985, 'stalk': 9986, 'hutech': 9987, 'linh_thiêng': 9988, 'usually': 9989, 'ngột_ngạt': 9990, 'chắc_tay': 9991, 'hổ_lốn': 9992, 'đí': 9993, 'đục': 9994, '199000': 9995, 'tin_đồn': 9996, 'nghề_nghiệp': 9997, 'viettel': 9998, 'rùi': 9999, 'bước': 10000, 'tâm_lý': 10001, 'động_vật_có_vú': 10002, 'con_cháu': 10003, 'nươ': 10004, 'kỉ_luật': 10005, 'waste': 10006, 'truyền_miệng': 10007, 'gameboy': 10008, 'bắt_mắt': 10009, 'phoma': 10010, 'hoành_thánh': 10011, 'nguyễn_khang': 10012, 'a': 10013, 'bẻ': 10014, 'lần_lượt': 10015, 'khẳng_định': 10016, 'cá_rô': 10017, 'làm_mối': 10018, 'chần_chừ': 10019, 'châu_đốc': 10020, 'giấy_vệ_sinh': 10021, 'rau_sạch': 10022, 'giả_vờ': 10023, 'thanh_sơn': 10024, 'coopmart': 10025, 'tiền_đường': 10026, 'da_diết': 10027, 'trừu': 10028, '56': 10029, 'càe': 10030, '3h00': 10031, 'cưc': 10032, 'sệt': 10033, 'chòng_chọc': 10034, 'máy_bay': 10035, 'memories': 10036, 'cưỡn': 10037, 'yoga': 10038, 'vũ_điệu': 10039, 'đườg': 10040, 'khách_quan': 10041, 'đạm': 10042, 'sách_vở': 10043, 'zen': 10044, 'thây': 10045, 'bap': 10046, 'bóng': 10047, 'khỏi': 10048, 'lãnh': 10049, 'hội_chợ': 10050, 'cocktails': 10051, '12h15': 10052, 'suối_tiên': 10053, 'cá_bống': 10054, 'làm_ngơ': 10055, 'vó': 10056, 'vỡ': 10057, 'quay_cuồng': 10058, 'ngĩ': 10059, 'danh_tiếng': 10060, 'tiêu': 10061, 'tươi_đẹp': 10062, 'the_one': 10063, 'dặt': 10064, 'pàn': 10065, '10cm': 10066, 'tàu_hũ': 10067, 'chức_vụ': 10068, 'cho_biết': 10069, '20l': 10070, 'chõi': 10071, 'phia': 10072, 'pần': 10073, 'hiện_hữu': 10074, 'mònh': 10075, 'rau_diếp': 10076, 'picky': 10077, '400k': 10078, 'con_dấu': 10079, 'baba': 10080, 'mediamart': 10081, 'quật': 10082, '20112015': 10083, 'hổ': 10084, '1m': 10085, 'khk': 10086, '1163': 10087, 'jh': 10088, 'mỉa': 10089, 'nói_ngọt': 10090, '1000đ': 10091, 'giác_quan': 10092, 'heehee': 10093, '10đ': 10094, 'giản_dị': 10095, 'thầm': 10096, 'khoai_mỡ': 10097, 'sai_gon': 10098, 'tiếp_nhận': 10099, 'parabon': 10100, 'sà': 10101, 'dọn_dẹp': 10102, 'quieter': 10103, 'house': 10104, 'lod': 10105, 'lướt_ván': 10106, 'rập': 10107, 'district': 10108, '18ly': 10109, 'finger': 10110, 'think': 10111, 'tặn': 10112, 'ngấm': 10113, 'nổi_bật': 10114, 'dự_đoán': 10115, 'nhơ_nhuốc': 10116, 'grace': 10117, 'lều': 10118, 'bất_kể': 10119, 'mĩa': 10120, 'thùng': 10121, 'ía': 10122, 'vầ': 10123, 'desserts': 10124, 'lộng_óc': 10125, 'reach': 10126, 'da_bọc_xương': 10127, 'then': 10128, 'cao_minh': 10129, 'riu': 10130, 'hết': 10131, 'kiếp': 10132, 'zê': 10133, 'second': 10134, 'còm': 10135, 'chằm_chặp': 10136, 'ban': 10137, 'cả': 10138, 'nếu': 10139, 'cực_hình': 10140, 'crowds': 10141, 'etown': 10142, 'đối_với': 10143, 'beerclub': 10144, 'mõ': 10145, 'ứng_nghiệm': 10146, 'laik': 10147, 'aof': 10148, '79': 10149, '9': 10150, 'potato': 10151, 'mãi': 10152, 'qen': 10153, 'đỏ_chói': 10154, 'chủ_quản': 10155, '1m5': 10156, 'suy_đoán': 10157, 'setup': 10158, 'pizza': 10159, 'rối_rít': 10160, 'há_hốc': 10161, 'hổng': 10162, 'hỳ': 10163, 'canh_chừng': 10164, 'phomat': 10165, '1tr500k': 10166, 'masterchef': 10167, 'âm_nhạc': 10168, 'zầy': 10169, '168k': 10170, 'ft': 10171, 'đéo': 10172, 'rib': 10173, '185k': 10174, 'ví_dụ': 10175, 'zip': 10176, 'mến': 10177, 'ngóm': 10178, 'thươc': 10179, '9h15': 10180, 'trời_ơi': 10181, 'hoạt_động': 10182, 'capri': 10183, 'nấm_rơm': 10184, 'finish': 10185, 'dzị': 10186, 'xông': 10187, 'ấu': 10188, 'nude': 10189, 'đụng_chạm': 10190, 'nánh': 10191, 'fat': 10192, 'extra': 10193, 'ngét': 10194, 'close': 10195, 'oliu': 10196, 'hí_hửng': 10197, 'chua_ngọt': 10198, 'bánh_chay': 10199, 'tròm_trèm': 10200, 'maintain': 10201, 'hửa': 10202, 'đâp': 10203, 'sài_thành': 10204, 'tằm': 10205, 'khúc': 10206, 'ngoại': 10207, 'chúg': 10208, 'mago': 10209, 'trang_thiết_bị': 10210, 'mĩ_thuật': 10211, 'phượng': 10212, 'caesar': 10213, 'mảng': 10214, 'lgi': 10215, 'mont': 10216, '80s': 10217, '250ml': 10218, 'đèn_vàng': 10219, 'đaay': 10220, 'khối_lượng': 10221, 'sệ': 10222, 'xửa': 10223, '220gr': 10224, '7k': 10225, 'chênh': 10226, 'amour': 10227, 'quắt_queo': 10228, 'lập_nghiệp': 10229, 'tortillas': 10230, 'ng': 10231, 'spagetti': 10232, 'express': 10233, 'hia': 10234, 'bedroom': 10235, 'phổ_quang': 10236, 'phòg': 10237, 'code': 10238, 'tay': 10239, 'gap': 10240, 'tèo': 10241, 'vải': 10242, 'studio': 10243, 'tay_áo': 10244, 'nát': 10245, 'bánh_xèo': 10246, 'hoang_mang': 10247, 'tật': 10248, 'nguyễn': 10249, 'sáng_tác': 10250, 'làm_ăn': 10251, 'ẹc': 10252, 'muỗn': 10253, 'dọc': 10254, 'lơ_lớ': 10255, 'fast_food': 10256, '35k': 10257, 'tiễn': 10258, 'press': 10259, 'hjc': 10260, 'poem': 10261, 'huấn_luyện': 10262, 'mở_mắt': 10263, 'п': 10264, 'kafe': 10265, 'titi': 10266, 'giỏi': 10267, 'ràm': 10268, 'hơu': 10269, '600k': 10270, 'qản': 10271, 'miê': 10272, 'tưng_tửng': 10273, 'tiếng': 10274, 'lamington': 10275, 'chằng': 10276, 'chipchip': 10277, 'môn': 10278, 'boa': 10279, '30ph': 10280, '5th': 10281, 'ứn': 10282, 'gởi': 10283, 'con_người': 10284, 'sur': 10285, 'mơi': 10286, 'chôm_chôm': 10287, '270': 10288, 'mạt': 10289, 'teo': 10290, 'dựng': 10291, 'za': 10292, 'xoay': 10293, 'intercontinental': 10294, 'kím': 10295, 'life': 10296, 'phơi': 10297, 'chu_toàn': 10298, 'theo': 10299, 'phí_phạm': 10300, 'kín_mít': 10301, 'vệ_sĩ': 10302, 'tri_ân': 10303, 'nóng_ăn': 10304, 'nhửng': 10305, '12người': 10306, 'yêu': 10307, 'meets': 10308, 'cồn': 10309, 'mồ_hôi': 10310, 'robusta': 10311, 'chắn': 10312, 'san_hô': 10313, 'đưa_ma': 10314, 'nước_mũi': 10315, 'xoạt': 10316, 'yep': 10317, 'đanh': 10318, 'đồng_bào': 10319, 'bồi_thường': 10320, 'cap': 10321, 'chocolate': 10322, '12000': 10323, 'thẳng_tay': 10324, 'doppio': 10325, 'starts': 10326, 'nội': 10327, 'mới_mẻ': 10328, 'gầu': 10329, 'lợt': 10330, 'quạo': 10331, 'vần': 10332, 'nhỉn': 10333, 'ngữ': 10334, 'vô_tận': 10335, 'e_hèm': 10336, 'sky': 10337, 'phũ_phàng': 10338, 'không_nói_không_rằng': 10339, 'dẹo': 10340, 'uốn_tóc': 10341, 'đêm_hôm': 10342, '3103': 10343, 'tươi_trẻ': 10344, 'hải': 10345, 'cho': 10346, 'treo': 10347, '25000': 10348, 'đếnn': 10349, 'e_ngại': 10350, 'sít': 10351, 'loa': 10352, 'đi_đêm': 10353, 'khẻo': 10354, 'khủn': 10355, 'kêo': 10356, 'y_dược': 10357, 'nhàm': 10358, 'khs': 10359, 'mùi_vị': 10360, 'chê': 10361, 'khoi': 10362, '84': 10363, 'nắng_nôi': 10364, 'đươ': 10365, 'observatory': 10366, 'recommended': 10367, 'thù_địch': 10368, 'đeu': 10369, 'wind': 10370, 'lòng_vòng': 10371, 'filled': 10372, 'rô_ti': 10373, 'buffe': 10374, 'niềm': 10375, 'đc': 10376, 'đội_ngũ': 10377, 'năng': 10378, 'miso': 10379, 'mamy': 10380, 'ngửi': 10381, 'grey': 10382, 'hảo_hạng': 10383, 'cơ_hội': 10384, 'câi': 10385, 'nhận_định': 10386, 'swing': 10387, 'chow': 10388, 'follow': 10389, 'nhặng': 10390, 'ngậm_ngùi': 10391, 'cổ_họng': 10392, 'phúc_kiến': 10393, 'got': 10394, 'bóp_mũi': 10395, 'nau': 10396, 'giây_phút': 10397, 'khoái_khẩu': 10398, 'rác': 10399, 'xối_xả': 10400, 'xq': 10401, 'reosort': 10402, '74k': 10403, 'linh_đan': 10404, 'gấc': 10405, 'đánh_vần': 10406, 'cao_độ': 10407, 'msg': 10408, 'đặt_điều': 10409, 'thaks': 10410, 'khai_trương': 10411, 'truyền_thông': 10412, 'uuu': 10413, 'đầu_tàu': 10414, 'hiền_khô': 10415, 'kiên_nhẫn': 10416, 'ma': 10417, 'trông_chờ': 10418, 'phá': 10419, 'dế': 10420, 'crowd': 10421, 'khug': 10422, 'tacos': 10423, 'mấc': 10424, 'mia': 10425, 'sí': 10426, 'bánh_đa': 10427, 'để': 10428, 'blabla': 10429, 'ăn_kiêng': 10430, 'bất_thành': 10431, '2000đ': 10432, 'mạng_lưới': 10433, 'đông_nghìn_nghịt': 10434, '610': 10435, 'hơn_nữa': 10436, 'bai': 10437, 'nhao': 10438, 'hưng_phấn': 10439, 'thuong': 10440, 'warning': 10441, 'kiên': 10442, 'cự': 10443, 'bản_thảo': 10444, 'như_ý': 10445, 'dây_pha': 10446, 'dressing': 10447, 'otô': 10448, 'и': 10449, 'phú_nhuận': 10450, 'chậm_chạp': 10451, 'thỏ': 10452, 'chiều_tối': 10453, 'trà_vinh': 10454, 'goed': 10455, 'ý_đồ': 10456, 'nia': 10457, '219k': 10458, 'cú': 10459, 'vz': 10460, 'khọt': 10461, 'whoever': 10462, 'chả_giò': 10463, 'ròn': 10464, 'tỉnh': 10465, 'vầy': 10466, 'pm': 10467, 'tôn_nghiêm': 10468, 'pullman': 10469, 'êm_ái': 10470, 'key': 10471, 'tokyo': 10472, 'cali': 10473, 'rịt': 10474, 'lv': 10475, 'vườn_ươm': 10476, 'luxury': 10477, 'một': 10478, 'vera': 10479, 'đói_meo': 10480, 'xoay_xở': 10481, 'xăm': 10482, 'kham': 10483, 'hêh': 10484, 'peanut': 10485, 'khinh_miệt': 10486, 'mách': 10487, 'choe': 10488, '01': 10489, 'síu': 10490, 'động': 10491, 'smiley': 10492, 'luk': 10493, 'lõ': 10494, 'lũ': 10495, 'chua_cay': 10496, 'nsl': 10497, 'toan': 10498, 'tré': 10499, 'ngộp': 10500, 'sân_vận_động': 10501, 'ngất_ngư': 10502, 'stay': 10503, '30cm': 10504, 'xăn': 10505, 'con_heo': 10506, 'khôg': 10507, 'メ': 10508, '855': 10509, 'tích': 10510, '5pm': 10511, 'dâu_tây': 10512, 'thẩn': 10513, 'gốm': 10514, 'máy_may': 10515, 'một_số': 10516, 'chắc_hẳn': 10517, 'ghế_dựa': 10518, 'âm_ấm': 10519, 'nôn_nao': 10520, 'ngơ': 10521, 'viếng': 10522, 'vứ': 10523, 'dex': 10524, '2512': 10525, 'cũ_kỹ': 10526, 'cười_duyên': 10527, 'chét': 10528, 'vỗ_ngực': 10529, 'sherbet': 10530, 'số_chẵn': 10531, 'hin': 10532, 'mín': 10533, 'hun': 10534, 'tp': 10535, 'tranh_sơn_dầu': 10536, 'đoàn_tụ': 10537, 'tầng': 10538, 'signal': 10539, 'thiếu_vắng': 10540, 'nước_lọc': 10541, 'map': 10542, 'already': 10543, 'vệ_tinh': 10544, 'coem': 10545, 'sảng': 10546, 'du': 10547, 'decorated': 10548, 'lao_động': 10549, 'vô_địch': 10550, 'hẫy': 10551, 'mỉnh': 10552, 'cần_thiết': 10553, 'alcohol': 10554, 'mới_toanh': 10555, '200': 10556, '710': 10557, 'family': 10558, 'ních': 10559, 'dah': 10560, 'suô': 10561, 'nhại': 10562, 'phụ_kiện': 10563, 'đi_đôi': 10564, 'zá': 10565, 'bender': 10566, 'bí_ngô': 10567, 'sinh_lý': 10568, 'ghép': 10569, 'nhảy_múa': 10570, 'âu_yếm': 10571, 'vạy': 10572, 'tat': 10573, 'bank': 10574, 'khiếu': 10575, 'diêm': 10576, 'ngân_hà': 10577, 'mẹ_tròn_con_vuông': 10578, 'ac': 10579, 'xê': 10580, 'xử_sự': 10581, 'nhing': 10582, 'ửa': 10583, 'luke': 10584, 'onl': 10585, 'phăng_phắc': 10586, 'linh_tính': 10587, 'thần': 10588, '100000': 10589, 'mobi': 10590, 'sặc_sỡ': 10591, '240g': 10592, 'họi': 10593, 'sợt': 10594, 'rớt': 10595, 'xôi_vò': 10596, 'european': 10597, 'trước_sau': 10598, 'sĩ': 10599, 'nest': 10600, '10s': 10601, 'hàn': 10602, 'kun': 10603, 'hiện_trường': 10604, 'bã': 10605, 'thịt': 10606, 'ohm': 10607, 'trọi': 10608, 'cánh': 10609, 'sang': 10610, 'ngong': 10611, 'buốt': 10612, 'giò': 10613, 'ông_cha': 10614, 'nhẫn': 10615, 'lãng_tử': 10616, 'khoai_lang': 10617, 'ktx': 10618, 'ăn_liền': 10619, 'tự_mãn': 10620, 'city': 10621, 'suôn_sẻ': 10622, 'ú': 10623, 'lủi_thủi': 10624, 'lh': 10625, 'phait': 10626, 'siêu': 10627, 'móc_xích': 10628, 'xụm': 10629, 'thoáng': 10630, 'dung_lượng': 10631, 'bình_tân': 10632, 'thị_giác': 10633, 'đầm_đìa': 10634, 'thìa': 10635, 'cười_trừ': 10636, '025': 10637, 'lẫm': 10638, 'ngờ': 10639, 'view': 10640, 'pmc': 10641, 'rất': 10642, 'quan_tâm': 10643, 'churros': 10644, 'đấm': 10645, 'ngáy': 10646, 'cho_nên': 10647, 'chung_kết': 10648, 'donuts': 10649, 'tội_ác': 10650, 'nhập_tâm': 10651, 'chim_chóc': 10652, '15000đ': 10653, 'lúc': 10654, 'nghiền': 10655, 'châu_á': 10656, 'đầu_nước': 10657, 'một_mực': 10658, 'giai': 10659, 'mống': 10660, 'ngay': 10661, 'tot': 10662, 'áp_tải': 10663, 'cno': 10664, 'gợi_mở': 10665, 'thôn_quê': 10666, 'tách_bạch': 10667, '58': 10668, 'bye_bye': 10669, 'đản': 10670, 'rụng_rời': 10671, 'dược': 10672, 'sa_đéc': 10673, 'mô': 10674, 'pải': 10675, 'niềng': 10676, 'mắng_chửi': 10677, 'lập_dị': 10678, 'viện': 10679, 'thán': 10680, 'đầu_hàng': 10681, 'turn': 10682, 'hoan': 10683, 'hog': 10684, 'bến_bờ': 10685, 'vùng_đất': 10686, 'nhồi': 10687, '22h': 10688, 'xa_xỉ': 10689, 'tốc_lực': 10690, 'huê': 10691, 'tản': 10692, 'hiền_hoà': 10693, 'mậu_dịch': 10694, 'cá_leo': 10695, 'kì_thị': 10696, 'biết_điều': 10697, 'đầu_tiên': 10698, '70': 10699, 'ghe': 10700, 'chít': 10701, 'nói_nhỏ': 10702, 'than': 10703, 'bổ': 10704, 'hall': 10705, 'potay': 10706, 'massage': 10707, 'without': 10708, 'cáu_giận': 10709, 'khoắng': 10710, 'pik': 10711, 'back': 10712, 'múp': 10713, 'pự': 10714, 'nhất_là': 10715, 'tổng_vệ_sinh': 10716, 'passion': 10717, 'hihiii': 10718, 'principe': 10719, 'tránh': 10720, 'look': 10721, 'noa': 10722, 'cơn_sốt': 10723, 'gifts': 10724, 'đặc_tính': 10725, 'past': 10726, 'đại_lý': 10727, 'mật': 10728, 'rành_rành': 10729, 'khoogn': 10730, 'amiđan': 10731, 'đỏ_con_mắt': 10732, 'châc': 10733, 'tiếp_tay': 10734, 'guard': 10735, 'sự_việc': 10736, 'hào_phóng': 10737, '2004': 10738, 'vợt': 10739, 'đìu': 10740, 'bên': 10741, 'remote': 10742, 'mắ': 10743, 'ovaltine': 10744, 'bắc_kinh': 10745, 'kẹp': 10746, 'typical': 10747, 'random': 10748, 'khỗ': 10749, 'thrown': 10750, 'thực_chất': 10751, 'tucked': 10752, 'trân': 10753, 'suggest': 10754, 'hap': 10755, 'sabôchê': 10756, 'cát': 10757, 'lu_mờ': 10758, 'nhớt': 10759, 'it': 10760, 'lưu_ý': 10761, 'mông': 10762, 'gem': 10763, 'vèo': 10764, 'tuấn': 10765, 'pandora': 10766, 'forest': 10767, 'địa_phương': 10768, 'dey': 10769, 'giáo': 10770, 'dình': 10771, 'cây_xăng': 10772, 'đi_nữa': 10773, 'đến': 10774, 'tân_thời': 10775, '3g30': 10776, 'một_đôi': 10777, 'lá_sen': 10778, 'ghi_chú': 10779, 'thất_thường': 10780, 'thừa_nhận': 10781, 'đáo': 10782, 'chợt': 10783, 'donut': 10784, 'đoá': 10785, '1111': 10786, 'thực_phẩm': 10787, 'nhân_văn': 10788, '0509': 10789, 'cầm_lòng': 10790, 'homemade': 10791, '10phut': 10792, 'tề': 10793, 'rau_quả': 10794, 'nam_kỳ_khởi_nghĩa': 10795, 'từ_thiện': 10796, '650gr': 10797, 'roh': 10798, 'duyê': 10799, 'bóng_đèn': 10800, 'skills': 10801, 'hãi_hùng': 10802, 'cơm_rang': 10803, 'sour': 10804, 'sôcôla': 10805, 'sống_còn': 10806, 'liến': 10807, 'beans': 10808, 'giằm': 10809, 'lưu_niệm': 10810, 'tức': 10811, 'khô_cứng': 10812, 'chồn': 10813, 'ship': 10814, 'lựu': 10815, 'đầu_từ': 10816, 'voka': 10817, 'iph': 10818, 'quan': 10819, 'either': 10820, 'hearts': 10821, 'nguyễn_tuân': 10822, 'đệch': 10823, 'men_sứ': 10824, 'bật_lửa': 10825, '27': 10826, 'khũng': 10827, 'tours': 10828, 'nhà_nước': 10829, 'bob': 10830, 'lover': 10831, '162': 10832, 'muôn_năm': 10833, 'cần_câu': 10834, 'nikko': 10835, 'dút': 10836, 'chỉ_mỗi_tội': 10837, 'phe_phẩy': 10838, 'nườm': 10839, 'gướm': 10840, 'đám_cưới': 10841, 'tièn': 10842, 've_chai': 10843, '4g30': 10844, 'sent': 10845, 'nhịp': 10846, 'phân_bổ': 10847, 'tàn': 10848, 'lobster': 10849, '248': 10850, '6y': 10851, 'hôm_nay': 10852, 'nghèo_đói': 10853, 'bă': 10854, 'hẳ': 10855, 'thử_hỏi': 10856, 'down': 10857, 'động_viên': 10858, 'bừng': 10859, 'marquis': 10860, 'lăn_tăn': 10861, 'kịch_liệt': 10862, 'motor': 10863, '9đ': 10864, 'ngổn_ngang': 10865, 'lời_qua_tiếng_lại': 10866, 'bụt': 10867, 'sứng': 10868, 'cùi': 10869, 'thậtt': 10870, 'gọi': 10871, 'nghi_ngại': 10872, 'cadé': 10873, 'lol': 10874, '58000': 10875, 'buffets': 10876, 'quyết_định': 10877, 'staples': 10878, 'não_nề': 10879, 'nghen': 10880, 'sầu': 10881, 'tin_học': 10882, 'lach': 10883, 'phiền_lòng': 10884, 'lôn': 10885, 'nàooooo': 10886, 'bow': 10887, 'kè': 10888, 'hợp_đồng': 10889, 'tạp_dề': 10890, 'răng': 10891, 'trước_kia': 10892, 'trứng_cá': 10893, '275k': 10894, 'xó_xỉnh': 10895, 'hề_hề': 10896, 'cưỡng': 10897, 'gái': 10898, 'thầu': 10899, 'sang_sảng': 10900, 'người_quản_lí': 10901, 'tnay': 10902, 'khí_chất': 10903, 'miễn_là': 10904, 'nắn': 10905, 'biểu_tình': 10906, 'đăng': 10907, 'rét_buốt': 10908, 'quơi': 10909, 'hội_ý': 10910, 'dẹp_lép': 10911, 'xuất_chúng': 10912, 'sẳng': 10913, 'newyork': 10914, 'trnag': 10915, 'rạo': 10916, 'pz': 10917, 'gươm': 10918, 'gạo': 10919, 'rooftop': 10920, 'chiêu': 10921, 'meringue': 10922, 'trơ_trẽn': 10923, 'khả': 10924, 'tự_ý': 10925, 'khởi_nghĩa': 10926, 'vĩnh_biệt': 10927, 'quét': 10928, 'sog': 10929, 'ngày_giờ': 10930, 'relax': 10931, 'ù_ù_cạc_cạc': 10932, 'lònh': 10933, 'cám_ơn': 10934, 'phát_hiện': 10935, 'dff': 10936, 'vưa': 10937, 'túc_trực': 10938, 'ken': 10939, 'tin_cậy': 10940, 'xời': 10941, 'che_khuất': 10942, 'đầy_ắp': 10943, 'bật': 10944, 'nhệt': 10945, 'ord': 10946, 'đài': 10947, 'bất_hợp_lý': 10948, 'keke': 10949, '11giờ': 10950, 'chuyên_nghiệp': 10951, 'đủng': 10952, 'cửa': 10953, 'kim_dung': 10954, 'fc': 10955, 'comple': 10956, 'need': 10957, 'cakes': 10958, 'cà': 10959, 'phenomenal': 10960, 'akb48': 10961, '660': 10962, 'phụt': 10963, 'khánh': 10964, 'flowers': 10965, 'miễn': 10966, '90120': 10967, 'thành_đô': 10968, 'ướt': 10969, 'nứt': 10970, 'số1': 10971, 'lườn': 10972, 'mượt': 10973, 'thúc_giục': 10974, 'qui_nhơn': 10975, 'iếc': 10976, 'bình_minh': 10977, 'score': 10978, '3phút': 10979, 'businesses': 10980, 'cao_sang': 10981, 'dè_dặt': 10982, 'balanced': 10983, 'across': 10984, 'vò': 10985, 'hô': 10986, 'chân_chất': 10987, 'yên_tâm': 10988, 'bắc': 10989, '7080': 10990, 'vô_can': 10991, 'hội': 10992, 'tòn': 10993, '300ml': 10994, 'đồng_bạc': 10995, 'stumbled': 10996, 'kebab': 10997, 'man_mát': 10998, 'biến_hoá': 10999, 'katy': 11000, 'tăng_giá': 11001, 'went': 11002, 'quâ': 11003, 'đầy_rẫy': 11004, 'hẹ': 11005, 'detected': 11006, 'hallyu': 11007, 't7': 11008, 'sdx': 11009, 'cheo_leo': 11010, 'mầm_non': 11011, 'thuơng': 11012, 'stopped': 11013, 'coi_bộ': 11014, 'tận_tình': 11015, 'hắc': 11016, 'tình_sử': 11017, 'vô_tâm': 11018, 'hàng_rào': 11019, 'đun': 11020, 'cp': 11021, 'dễ': 11022, 'women': 11023, 'lèo': 11024, 'ngkhac': 11025, 'dụg': 11026, 'creme': 11027, 'tank': 11028, 'mắt_xanh': 11029, 'mountain': 11030, 'bolognese': 11031, 'fải': 11032, 'giọt': 11033, 'copulate': 11034, 'unlimited': 11035, 'xuống_nước': 11036, 'những': 11037, 'uy_nghi': 11038, 'wi': 11039, 'săn_lùng': 11040, 'lọc_cọc': 11041, '74': 11042, 'metropole': 11043, 'to_nhỏ': 11044, 'quang_cảnh': 11045, 'khác': 11046, 'dành': 11047, 'vôt': 11048, 'young': 11049, 'bâyh': 11050, 'phòng_bệnh': 11051, 'chiếu': 11052, 'lất_phất': 11053, 'bánh_răng': 11054, 'stroll': 11055, 'nhím': 11056, 'sald': 11057, 'hour': 11058, 'lễ_lạt': 11059, 'mua': 11060, 'lum': 11061, 'put': 11062, 'nhấm_nháp': 11063, 'chớp_nhoáng': 11064, 'turned': 11065, 'monti': 11066, 'tối_cao': 11067, 'cực': 11068, 'nhà_tầng': 11069, 'rich': 11070, 'khổ_sở': 11071, 'crash': 11072, 'bucks': 11073, 'mịn': 11074, 'áh': 11075, 'chac': 11076, 'lu': 11077, 'vô_duyên': 11078, 'hic': 11079, 'tranh_thủ': 11080, 'cước': 11081, 'tỗ': 11082, 'thói_quen': 11083, 'căn_số': 11084, 'vị_thế': 11085, '62k': 11086, 'hi_vọng': 11087, 'há': 11088, 'quan_họ': 11089, 'dairy': 11090, 'sảnh': 11091, 'ợ': 11092, 'mỷ': 11093, 'hự': 11094, 'hỏng': 11095, 'smoking': 11096, 'piece': 11097, 'cr': 11098, 'chật': 11099, 'ruột': 11100, 'giải': 11101, 'tuân_thủ': 11102, 'thể_loại': 11103, 'for': 11104, 'our': 11105, 'xát': 11106, 'khin': 11107, 'niêm': 11108, 'bồn': 11109, 'nguyễn_huệ': 11110, 'bui': 11111, 'chấn': 11112, 'tâm_đắc': 11113, 'chú_thích': 11114, 'health': 11115, 'nhận_lời': 11116, 'inc': 11117, 'mệt_mỏi': 11118, 'đối_tác': 11119, 'năn': 11120, 'giốg': 11121, 'cùa': 11122, 'bồn_cầu': 11123, 'nhiếp_ảnh': 11124, '40k': 11125, 'nguồi': 11126, 'đông_y': 11127, 'hạt_tiêu': 11128, 'chiu': 11129, 'tụ_họp': 11130, 'diện': 11131, 'nố': 11132, 'chùm': 11133, 'ăn_đứt': 11134, 'niu': 11135, 'căn_cứ': 11136, 'nhắc_đi_nhắc_lại': 11137, 'bận_rộn': 11138, 'nhẹ_nhàng': 11139, 'lotteria': 11140, 'nem_lụi': 11141, 'vị_chi': 11142, 'đậu_nành': 11143, 'đắm_đuối': 11144, 'only': 11145, 'srilanka': 11146, 'iced': 11147, 'were': 11148, 'bia_ôm': 11149, 'nă': 11150, 'ngát': 11151, 'ngám': 11152, 'kinh_tởm': 11153, 'dè': 11154, 'toilet': 11155, 'nội_quy': 11156, 'điểm_xuyết': 11157, 'site': 11158, 'xêm': 11159, 'hổi': 11160, '2030': 11161, 'đóng': 11162, 'tây_ninh': 11163, '150kg': 11164, 'adds': 11165, 'củ_đậu': 11166, '133': 11167, 'from': 11168, 'dập_dìu': 11169, 'club': 11170, 'mih': 11171, 'thèm_thuồng': 11172, '335k': 11173, 'giữ': 11174, '109k': 11175, 'rong_rêu': 11176, '9k': 11177, 'khàn': 11178, 'tranh_giành': 11179, 'dịch_vụ': 11180, 'nấm_mèo': 11181, 'rì': 11182, 'hố': 11183, 'nhứng': 11184, 'sục': 11185, 'tin': 11186, 'pho_mát': 11187, 'during': 11188, 'www': 11189, 'hambuger': 11190, 'né_tránh': 11191, 'torng': 11192, 'nâm': 11193, 'xuống_cấp': 11194, '20k': 11195, 'qoai': 11196, 'pai': 11197, '5h30': 11198, '3con': 11199, 'khìa': 11200, 'nạp': 11201, 'đặt_chân': 11202, 'tiếp_rước': 11203, 'chỏng_chơ': 11204, 'cantho': 11205, 'hiều': 11206, 'simon': 11207, 'planning': 11208, 'hsinh': 11209, 'dăm_bảy': 11210, 'macchiato': 11211, 'nhắc_chừng': 11212, 'hiếu_khách': 11213, 'feedback': 11214, 'iphone': 11215, 'cổ_hủ': 11216, 'nửa_vời': 11217, 'bầu_không_khí': 11218, 'tra_cứu': 11219, 'tăm_hơi': 11220, 'amway': 11221, 'thưởng': 11222, 'hồnh': 11223, '50t': 11224, 'cười': 11225, 'sướng': 11226, 'xì': 11227, 'nô': 11228, 'xe_tăng': 11229, 'rv': 11230, 'đối_tượng': 11231, 'video': 11232, 'thông_thạo': 11233, 'chả_quế': 11234, 'già': 11235, 'feedbacks': 11236, 'quấy': 11237, 'zulu': 11238, 'bảo': 11239, 'thảng_thốt': 11240, 'ẩn_náu': 11241, 'chán_chường': 11242, 'lamb': 11243, 'sẻ_chia': 11244, 'ma_mị': 11245, 'miễn_sao': 11246, 'vớ': 11247, 'dem': 11248, '20p': 11249, 'cà_ná': 11250, 'viền': 11251, 'khuyến_mại': 11252, 'bèo': 11253, 'mẫm': 11254, 'trẻ_trung': 11255, '2505': 11256, 'xunh': 11257, '780000': 11258, 'cfe': 11259, 'ghế_mềm': 11260, 'phầ': 11261, 'ăn_lận': 11262, 'giả_tạo': 11263, 'once': 11264, 'đào_tạo': 11265, 'tất_bật': 11266, 'tổ_quốc': 11267, 'wings': 11268, 'wines': 11269, 'khoai_môn': 11270, 'xưn': 11271, 'nieu': 11272, '85k': 11273, 'kín_đáo': 11274, 'tib': 11275, 'lếch': 11276, 'rôt': 11277, 'mơis': 11278, 'kêu_la': 11279, 'đuọc': 11280, 'anh_chị_em': 11281, 'tự_tin': 11282, 'couldn': 11283, '39000': 11284, 'thủ_đức': 11285, 'thưa_thớt': 11286, 'garden': 11287, 'đứt_đoạn': 11288, 'làu_bàu': 11289, 'điện_tử': 11290, 'daar': 11291, 'thành_phần': 11292, 'trỗng': 11293, 'make': 11294, 'noí': 11295, 'tsy': 11296, 'võ_sĩ_đạo': 11297, 'xầm_xì': 11298, 'đồng_tình': 11299, '400': 11300, 'không_thể': 11301, 'nặng_trình_trịch': 11302, 'bands': 11303, 'quan_niệm': 11304, 'trap': 11305, 'rôn': 11306, 'róc_rách': 11307, 'sở_hữu': 11308, 'lê_lai': 11309, 'zinh': 11310, 'beverage': 11311, 'thương_mại': 11312, 'mệt_nghỉ': 11313, '102015': 11314, 'hari': 11315, '3040': 11316, 'dại': 11317, 'chuyện': 11318, 'ảo': 11319, 'bùng': 11320, 'quịt': 11321, 'ỳ': 11322, 'thk': 11323, 'kiểm': 11324, 'become': 11325, 'pha_chế': 11326, 'tởm_lợm': 11327, 'cooking': 11328, 'từ_học': 11329, 'bó_tay': 11330, 'hnai': 11331, 'sang_năm': 11332, 'wao': 11333, 'choai_choai': 11334, 'điều_lệ': 11335, 'caramel': 11336, 'khử_trùng': 11337, '41k': 11338, 'nk': 11339, 'p15': 11340, 'gia_giảm': 11341, 'https': 11342, 'giúp_ích': 11343, 'dạ_dày': 11344, 'làm_phiền': 11345, 'nhà_sàn': 11346, 'thấm_nhuần': 11347, 'tẽn_tò': 11348, 'nhà_thi_đấu': 11349, 'lải_nhải': 11350, 'bil': 11351, 'quá_đỗi': 11352, 'hư_không': 11353, 'no_tròn': 11354, 'cháu': 11355, 'công_quyền': 11356, 'goi': 11357, 'trọn_vẹn': 11358, 'vùng': 11359, '700gr': 11360, 'fire': 11361, 'flake': 11362, 'kip': 11363, 'ảnh_hưởng': 11364, 'thất_tình': 11365, 'hèn_gì': 11366, 'xuất_xứ': 11367, 'hơ': 11368, 'thực_tập': 11369, 'tin_dùng': 11370, 'tổ_tiên': 11371, 'hằm': 11372, '99': 11373, 'toái': 11374, 'thơm_lừng': 11375, 'lơ_xe': 11376, 'đọt': 11377, 'had': 11378, '2003': 11379, 'visa': 11380, 'phè': 11381, 'con': 11382, 'cỡ': 11383, 'cầu_kì': 11384, 'bãng': 11385, 'câ': 11386, 'met': 11387, 'phâng': 11388, 'nới': 11389, 'chri': 11390, 'cứu_hoả': 11391, 'chesse': 11392, 'webtretho': 11393, 'rưng_rức': 11394, 'ngợp': 11395, 'canada': 11396, 'thành_kính': 11397, 'favourite': 11398, 'original': 11399, 'average': 11400, 'such': 11401, 'đàn_đúm': 11402, 'chạt': 11403, 'nghĩ_lại': 11404, 'french': 11405, 'nhữg': 11406, 'đòi': 11407, 'chọt': 11408, 'kee': 11409, 'xầm': 11410, 'xúng_xính': 11411, 'gai': 11412, 'bl': 11413, '10pm': 11414, 'ecstasy': 11415, 'bỏi': 11416, 'thấy': 11417, 'că': 11418, 'hương_vị': 11419, 'muối': 11420, 'hs': 11421, 'mãnh': 11422, 'mắc_lừa': 11423, 'họp_mặt': 11424, 'taking': 11425, 'thòng': 11426, 'cồn_cào': 11427, 'quang_đãng': 11428, 'sáo': 11429, 'có_một_không_hai': 11430, 'xoăn': 11431, 'toang': 11432, 'cứu': 11433, 'anybody': 11434, 'khét': 11435, 'nhỏ_con': 11436, 'tiểu_đường': 11437, 'sẵng': 11438, 'thất_vọng': 11439, 'đi': 11440, 'beautifully': 11441, 'ú_ớ': 11442, 'guestbook': 11443, 'rồiii': 11444, 'nhưnng': 11445, 'càfe': 11446, 'fivimart': 11447, 'tội_đồ': 11448, '18': 11449, 'đoán': 11450, 'xem_ra': 11451, '130': 11452, 'xoài': 11453, 'alle': 11454, 'tảng': 11455, 'khiêu_khích': 11456, 'bụi': 11457, 'mị': 11458, '1cái': 11459, 'may_ra': 11460, 'vợ_chồng': 11461, 'vệ_sinh': 11462, 'mật_ong': 11463, 'ghia': 11464, 'lec': 11465, 'hoa_viên': 11466, 'xì_xào': 11467, 'hoài_linh': 11468, 'chhủ': 11469, 'mỡ': 11470, 'thơm_phưng_phức': 11471, 'chết_mê': 11472, 'chấm_hết': 11473, 'nao_nao': 11474, '1000': 11475, 'xún': 11476, 'bốn': 11477, '10g15': 11478, 'kiếng': 11479, 'bào_mòn': 11480, 'đặng_dung': 11481, 'tua': 11482, 'dạo': 11483, 'sân_bay': 11484, 'lèo_tèo': 11485, 'rubbish': 11486, 'mân': 11487, 'cảm_nghĩ': 11488, 'đề_xướng': 11489, 'phin': 11490, 'quăn': 11491, 'snowflake': 11492, 'quái_dị': 11493, 'bể_bơi': 11494, 'nem_rán': 11495, 'flavour': 11496, 'ih': 11497, 'previous': 11498, 'quỳnh': 11499, 'quê_hương': 11500, '570k': 11501, '8': 11502, 'ăn_không': 11503, 'tùng_xẻo': 11504, 'lâng_lâng': 11505, 'dup': 11506, '00': 11507, 'xíu_mại': 11508, 'ngoi': 11509, 'xjn': 11510, 'idecaf': 11511, 'compliments': 11512, 'guide': 11513, 'vị_giác': 11514, 'xua_tan': 11515, 'cư_xử': 11516, 'kiêu_ngạo': 11517, 'tíêp': 11518, 'nhá': 11519, 'người_thân': 11520, 'mó': 11521, 'quyên': 11522, 'đỏ_lòm': 11523, '10ph': 11524, 'nhaz': 11525, 'đồng_tiến': 11526, 'rộng': 11527, 'aaa': 11528, 'buồn_phiền': 11529, 'xơ_xác': 11530, 'hành_trang': 11531, 'bao_gồm': 11532, 'tối_om': 11533, 'đảm': 11534, 'hoa_lá': 11535, 'cv': 11536, '1phần': 11537, 'du_parc': 11538, 'nấu_nướng': 11539, 'khóc_dở_mếu_dở': 11540, 'thúc': 11541, 'điề': 11542, 'cnf': 11543, 'ướt_sũng': 11544, 'bonte': 11545, 'da': 11546, 'nê': 11547, 'cá_chình': 11548, 'thôy': 11549, 'kt': 11550, 'cửa_hàng_trưởng': 11551, 'rock': 11552, 'ohayo': 11553, 'trâ': 11554, 'mặt_trận': 11555, 'blablabla': 11556, 'khó_coi': 11557, 'phen': 11558, 'discotheque': 11559, 'chảy': 11560, 'trainning': 11561, 'hạt_dẻ': 11562, 'coloring': 11563, 'chèm': 11564, 'thuyền': 11565, 'khuyê': 11566, 'buggy': 11567, 'baoh': 11568, 'xoay_xoay': 11569, 'kô': 11570, 'bình_thuỷ': 11571, 'đại_gia': 11572, 'cổng': 11573, 'stop': 11574, 'thực_tập_sinh': 11575, 'mức_độ': 11576, 'hợp': 11577, 'trsi': 11578, 'giá_trị': 11579, 'dõi': 11580, 'vegetables': 11581, '210k': 11582, 'phuc': 11583, 'xấu_hổ': 11584, 'cửa_kính': 11585, 'products': 11586, 'sạch_sành_sanh': 11587, 'nàooo': 11588, 'doo': 11589, 'allow': 11590, 'phạm_tội': 11591, 'skill': 11592, 'lí_do': 11593, 'rung_rinh': 11594, 'bà': 11595, 'nhw': 11596, '22': 11597, 'hoẹ': 11598, 'crowded': 11599, 'nhớt_nhát': 11600, 'tuốt_luốt': 11601, '3112': 11602, 'chuồn': 11603, 'cô_đọng': 11604, 'bye': 11605, 'warm': 11606, 'realized': 11607, '5sao': 11608, '60000': 11609, 'kỳ_quan': 11610, 'ngách': 11611, 'làm_khách': 11612, 'ráp': 11613, 'jong': 11614, 'gochujang': 11615, 'xách': 11616, 'tếu': 11617, 'hjk': 11618, '5f': 11619, 'sgn': 11620, 'êm_đềm': 11621, 'thiêng_liêng': 11622, 'dựt': 11623, 'tiếng_nói': 11624, 'rong_biển': 11625, 'công_dụng': 11626, 'biết_chừng_nào': 11627, 'xe_lam': 11628, 'độc_nhất_vô_nhị': 11629, 'gac': 11630, 'buoi': 11631, 'toàn_tập': 11632, 'kỹ_thuật_viên': 11633, 'viem': 11634, 'khă': 11635, 'wonderland': 11636, 'hản': 11637, 'nặng': 11638, 'jambong': 11639, 'điệp': 11640, 'bất_nghĩa': 11641, 'hee': 11642, 'tae': 11643, 'nìêm': 11644, 'bê_bối': 11645, 'minigame': 11646, 'chàu': 11647, 'tiếp': 11648, 'hđ': 11649, 'trầm_mặc': 11650, 'thoa': 11651, 'tennis': 11652, 'hư_vô': 11653, 'thanh_hoá': 11654, 'gầm_gừ': 11655, 'lãng_mạn': 11656, 'điềm': 11657, 'can_đảm': 11658, 'tự_tạo': 11659, 'thi_thoảng': 11660, 'đạng': 11661, 'bừa_bộn': 11662, 'spice': 11663, 'hơnn': 11664, 'imac': 11665, 'bình_thạnh': 11666, 'vegetable': 11667, '270k': 11668, 'cota': 11669, 'cấp': 11670, 'xèm': 11671, 'núi_lửa': 11672, 'đồng_nội': 11673, 'lách': 11674, 'luxe': 11675, 'curry': 11676, 'tẩy_chay': 11677, 'liến_thoắng': 11678, 'dâm': 11679, 'tận': 11680, 'hài_hước': 11681, 'lơn': 11682, 'bộ_phận': 11683, 'ọt': 11684, 'xung_quanh': 11685, 'tiền_lẻ': 11686, 'săn_tìm': 11687, 'imported': 11688, 'hoăc': 11689, 'mấy_mươi': 11690, 'qui_trình': 11691, 'cãi': 11692, 'tivi': 11693, 'đầu': 11694, 'huynh_đệ': 11695, 'thailan': 11696, 'tốn_kém': 11697, '12p': 11698, 'hôi': 11699, '189k': 11700, 'vay': 11701, 'phồng': 11702, 'ghê': 11703, 'kekekeke': 11704, 'otaku': 11705, 'lả_tả': 11706, 'ook': 11707, 'hịn': 11708, 'đất_đỏ': 11709, 'bins': 11710, 'ngốt': 11711, 'cứng': 11712, 'sundeck': 11713, 'sườn': 11714, 'dear': 11715, 'mu': 11716, 'dăm_ba': 11717, 'nước_lã': 11718, 'hoè': 11719, 'lười_biếng': 11720, 'gém': 11721, 'bỡ_ngỡ': 11722, 'vô_lý': 11723, 'fondant': 11724, 'cực_từ': 11725, 'thú_vui': 11726, '2010': 11727, 'langbiang': 11728, 'diếp_cá': 11729, 'mú': 11730, 'thought': 11731, 'mỹ_tho': 11732, 'họp_hành': 11733, 'snsd': 11734, 'equally': 11735, 'đường_huyết': 11736, 'bọn': 11737, 'thông': 11738, 'dẻo_dai': 11739, 'a_bảo': 11740, 'sò_huyết': 11741, 'ngưoi': 11742, 'tiec': 11743, 'khắp': 11744, '134': 11745, '4v': 11746, 'đừg': 11747, 'càphe': 11748, 'léc': 11749, 'ròng_rọc': 11750, '1m7': 11751, 'bất_kì': 11752, 'oài': 11753, 'nghĩa_dũng': 11754, 'môi': 11755, 'vòi_voi': 11756, 'thầy_cô_giáo': 11757, 'hoa_lá_cành': 11758, 'grand': 11759, 'khoá': 11760, 'hình_ảnh': 11761, '50100': 11762, 'nhẩm': 11763, 'có_hạn': 11764, 'gộp': 11765, 'văn_phòng_phẩm': 11766, 'e_dè': 11767, 'lít_nhít': 11768, 'france': 11769, 'xa_lơ_xa_lắc': 11770, 'được_thể': 11771, 'ea': 11772, 'đèn_đỏ': 11773, 'bồi_dưỡng': 11774, 'đơn_vị': 11775, 'bằng_chứng': 11776, 'khoai_tây': 11777, 'gio': 11778, 'cằn_cỗi': 11779, 'patin': 11780, 'panchan': 11781, 'nhĩ': 11782, 'dòng': 11783, 'khét_lẹt': 11784, 'tình_hình': 11785, 'kiu': 11786, '4m': 11787, 'domaine': 11788, 'tì_tì': 11789, 'rockfan': 11790, 'thí_dụ': 11791, 'ruộng_muối': 11792, 'aquafina': 11793, 'ói': 11794, 'gin': 11795, 'suy_giảm': 11796, 'bản_thân': 11797, 'liều_mình': 11798, 'dù_sao': 11799, 'lăm_lăm': 11800, 'vid': 11801, 'cụng': 11802, 'tần': 11803, 'áp_chảo': 11804, 'vẫy_vẫy': 11805, 'phổng': 11806, 'ôc': 11807, 'rạc': 11808, 'square': 11809, 'help': 11810, 'phét': 11811, 'tequila': 11812, 'ngợi': 11813, 'reasonable': 11814, 'âu': 11815, 'thăm_dò': 11816, 'rạn': 11817, 'thôi_việc': 11818, 'độp': 11819, 'diã': 11820, 'thủ_công': 11821, 'khú': 11822, '950k': 11823, 'thừơng': 11824, 'dã_ngoại': 11825, 'giảng_giải': 11826, 'túi_xách': 11827, 'bẳn': 11828, 'simple': 11829, 'sỏi': 11830, '206': 11831, 'sứt_đầu_mẻ_trán': 11832, 'a_la': 11833, '4th': 11834, 'bản_quán': 11835, 'nhũ': 11836, 'khác_gì': 11837, 'lau': 11838, 'tập_quán': 11839, 'màh': 11840, '60k': 11841, 'cranberry': 11842, 'trấn_an': 11843, 'raspberry': 11844, 'lõi': 11845, 'lằn': 11846, '42': 11847, 'lic': 11848, 'lui_tới': 11849, 'skywalk': 11850, 'nhuw': 11851, 'mixer': 11852, 'quái_gở': 11853, 'rai': 11854, 'siêu_phàm': 11855, '3000đ': 11856, 'thân_hình': 11857, 'bèo_nhèo': 11858, '11g30': 11859, 'toner': 11860, 'đốp_chát': 11861, 'mệt_lả': 11862, 'tăng_gia': 11863, 'lạy': 11864, 'chuột_bạch': 11865, 'hale': 11866, 'clarke': 11867, 'navy': 11868, 'giơi': 11869, 'chicken': 11870, 'đăt': 11871, 'chè_chén': 11872, 'xot': 11873, 'khoáng_chất': 11874, 'sg': 11875, 'giả_bộ': 11876, 'ăn_chia': 11877, 'nước_xốt': 11878, '6b': 11879, 'tteokbokki': 11880, '25t': 11881, 'nồi': 11882, 'mặt_khác': 11883, 'sớ': 11884, 'mướt_mồ_hôi': 11885, 'matter': 11886, 'bánh_chưng': 11887, 'rộm': 11888, '24k': 11889, 'thực_sự': 11890, 'lưu_giữ': 11891, 'đôi': 11892, 'svien': 11893, 'meni': 11894, 'người': 11895, '2c': 11896, 'khoai': 11897, 'sài_gòn': 11898, 'bjo': 11899, 'hẹn_hò': 11900, 'heng': 11901, 'cookies': 11902, 'nghẻ': 11903, '1h30p': 11904, 'lộ_thiên': 11905, 'barista': 11906, 'sờ_mó': 11907, 'ahh': 11908, 'không_lẽ': 11909, 'q6': 11910, 'phẩm': 11911, 'nóng_hôi_hổi': 11912, 'thổ': 11913, 'đậu_bắp': 11914, 'ngâ': 11915, 'nửa_đêm': 11916, 'đóng_chai': 11917, 'ánh': 11918, 'khô_rang': 11919, 'ngắm_nghía': 11920, 'chế_biến': 11921, 'mụp': 11922, 'thiên_lý': 11923, 'gian_hàng': 11924, 'mũ': 11925, 'al': 11926, 'dã': 11927, 'thich': 11928, 'godzilla': 11929, 'nhuộm': 11930, 'niềm_tin': 11931, 'portion': 11932, 'cá_tính': 11933, 'lược': 11934, 'bình_chọn': 11935, 'dạy': 11936, '184': 11937, 'chuyên_môn': 11938, 'kbiet': 11939, 'ghế_tựa': 11940, 'bộn_bề': 11941, 'cô_chú': 11942, 'excuse': 11943, 'bội_phần': 11944, 'tưng_bừng': 11945, '4sao': 11946, 'thẩy': 11947, 'một_chiều': 11948, 'đơ': 11949, 'herbal': 11950, 'chớ': 11951, 'vừa_rồi': 11952, 'sách': 11953, 'chiện': 11954, 'u_ám': 11955, 'pnp': 11956, 'góc_cạnh': 11957, 'pumping': 11958, 'tẹt': 11959, 'ngót_nghét': 11960, 'hiểu': 11961, 'chtrình': 11962, 'làng': 11963, 'định_bụng': 11964, 'massages': 11965, 'liền': 11966, 'thực_lòng': 11967, 'ocean': 11968, 'y_tá': 11969, '1000000': 11970, 'ọ': 11971, 'hen': 11972, 'them': 11973, 'lôi': 11974, 'quán': 11975, 'nhìều': 11976, 'vời_vợi': 11977, 'tì': 11978, 'tuỵêt': 11979, 'qui': 11980, '38000': 11981, 'gave': 11982, 'phúc_hậu': 11983, 'through': 11984, 'clam': 11985, 'xé_phay': 11986, 'quân_phục': 11987, 'href': 11988, 'nảy': 11989, 'lên_khuôn': 11990, 'kinh_dị': 11991, 'nhiệm_vụ': 11992, 'tuyet': 11993, 'đường': 11994, 'đạ': 11995, 'lề_đường': 11996, 'lệch': 11997, 'xài': 11998, 'khởi_nghiệp': 11999, '23cm': 12000, 'sologan': 12001, '5ng': 12002, 'mytour': 12003, 'hướng_dẫn': 12004, 'bóng_đá': 12005, 'điệp_khúc': 12006, 'hẹn': 12007, 'trang_nghiêm': 12008, 'đổ_bộ': 12009, 'trí_huệ': 12010, 'thành_tích': 12011, 'advance': 12012, 'cao_thắng': 12013, 'okai': 12014, 'dừa_xiêm': 12015, 'chấn_thương': 12016, 'ui_ui': 12017, 'xe_đò': 12018, '2gram': 12019, 'tit': 12020, '200g': 12021, 'and': 12022, 'ăn_trộm': 12023, 'đe': 12024, 'valentino': 12025, 'một_cách': 12026, 'không_trung': 12027, 'nhạt_phèo': 12028, 'thế_ra': 12029, 'trẩy_hội': 12030, 'bud': 12031, 'đột_kích': 12032, 'bảng_biểu': 12033, 'cơm_bụi': 12034, 'con_con': 12035, 'mặt_trời': 12036, 'âm_lịch': 12037, '83k': 12038, 'nhão': 12039, 'điện_đóm': 12040, 'hùng_hổ': 12041, 'đau': 12042, 'hiệu_quả': 12043, 'tổ_tông': 12044, 'hật': 12045, '2tr4': 12046, 'chẵ': 12047, 'dâng': 12048, 'gorgeous': 12049, 'trùm': 12050, 'nghxi': 12051, 'cách_trở': 12052, 'cuô': 12053, 'jacuzzi': 12054, 'trung': 12055, 'trường_hợp': 12056, 'cành': 12057, 'hug': 12058, 'võ': 12059, 'xuýt_xoa': 12060, 'lưu_luyến': 12061, 'mùi': 12062, 'quậy_phá': 12063, 'cờ_tướng': 12064, 'placed': 12065, 'fish': 12066, 'vui': 12067, 'náo': 12068, 'beard': 12069, 'quiet': 12070, 'ushi': 12071, 'nguyệt_quế': 12072, 'tới_tấp': 12073, 'sẹo': 12074, 'nghiêp': 12075, 'quám': 12076, 'bánh_mì': 12077, 'coo': 12078, 'vấn_đề': 12079, 'ti': 12080, 'nhăn_nhó': 12081, 'búc': 12082, 'lắng_nghe': 12083, 'quen_mặt': 12084, 'động_vật': 12085, 'ghế_bố': 12086, 'biểu_cảm': 12087, 'bất_an': 12088, 'loading': 12089, 'samui': 12090, 'rẻ_rúng': 12091, 'thụ': 12092, 'khạ': 12093, 'bía': 12094, 'ua': 12095, 'hối_tiếc': 12096, '630k': 12097, 'thang_cuốn': 12098, 'ngọc_thạch': 12099, 'đại_bộ_phận': 12100, 'cửa_mở': 12101, 'nâng_giá': 12102, 'ca_sĩ': 12103, 'hiện_vật': 12104, 'nan': 12105, 'chịt': 12106, 'starup': 12107, 'xe_nước': 12108, 'từng': 12109, '6000đ': 12110, 'part': 12111, 'meo': 12112, 'single': 12113, 'cảm_nhận': 12114, 'nhiệt_lượng': 12115, 'nhân_cách': 12116, 'vian': 12117, 'fim': 12118, 'xèo_xèo': 12119, 'mắm_muối': 12120, 'gf': 12121, 'rổi': 12122, 'vitamin': 12123, 'cấp_cứu': 12124, 'tiểu_tiết': 12125, 'dzời': 12126, 'đown': 12127, 'tôn_thất': 12128, 'naye': 12129, 'kíp': 12130, '316': 12131, 'kcc': 12132, 'kèm': 12133, 'nước_đá': 12134, 'kiệm_lời': 12135, 'đại_nhân': 12136, 'đích_danh': 12137, 'text': 12138, 'du_di': 12139, 'rực_rỡ': 12140, 'phấn_chấn': 12141, 'nử': 12142, 'đậu_xanh': 12143, 'trâu_bò': 12144, 'thì': 12145, 'mướn': 12146, 'biệt': 12147, 'model': 12148, 'cổ': 12149, 'cửa_lò': 12150, 'hoian': 12151, 'câu_khách': 12152, 'đồg': 12153, 'diện_tích': 12154, 'chân_thật': 12155, 'chi_chít': 12156, 'lây': 12157, 'picnic': 12158, 'chiến_thắng': 12159, 'vụn': 12160, 'thcs': 12161, 'dập': 12162, 'siro': 12163, 'nhẹo': 12164, 'star': 12165, 'tấp_nập': 12166, 'thanh_toán': 12167, 'thế_kỉ': 12168, 'đưng': 12169, 'tớii': 12170, 'phcụ': 12171, 'nhầy_nhụa': 12172, 'sơn_ca': 12173, '922': 12174, 'phau': 12175, 'cấm': 12176, 'hobbit': 12177, 'văn_quán': 12178, 'kháchh': 12179, 'я': 12180, 'pr': 12181, 'xịt': 12182, 'thú_thật': 12183, 'dớt': 12184, 'satisfy': 12185, 'hoàn_toàn': 12186, 'verry': 12187, 'đà_nẵng': 12188, 'agency': 12189, 'giủ': 12190, 'tuỷên': 12191, 'tđn': 12192, 'hạch_sách': 12193, 'hẻo_lánh': 12194, 'hnào': 12195, 'quy_trình': 12196, 'bình_an': 12197, 'cẩm_lệ': 12198, 'fahasa': 12199, 'nặng_lời': 12200, 'côn': 12201, 'đỉa': 12202, 'bản_đồ': 12203, 'chuyên_dụng': 12204, 'tomboy': 12205, 'la_ó': 12206, 'sát_phạt': 12207, 'ù': 12208, 'lạc_loài': 12209, 'qn': 12210, 'http': 12211, 'truy_cập': 12212, 'phân_vân': 12213, '149k': 12214, 'ông_bà': 12215, 'địa_ngục': 12216, 'ngoáy': 12217, '385k': 12218, '220k': 12219, 'giứ': 12220, 'pè': 12221, 'bở_hơi_tai': 12222, 'co_co': 12223, 'o_bế': 12224, 'no': 12225, 'giấu': 12226, '10g30': 12227, 'tranh_chấp': 12228, 'dứt_khoát': 12229, 'íu': 12230, 'hề': 12231, 'đãng_trí': 12232, 'xúc_cảm': 12233, 'vô_chừng': 12234, 'trưóc': 12235, 'tầng_lớp': 12236, 'dale': 12237, 'thâng': 12238, 'vô_nhân': 12239, 'cì': 12240, 'mang_máng': 12241, 'khen': 12242, 'collagen': 12243, 'biết_đâu': 12244, 'coconut': 12245, 'căng_thẳng': 12246, 'thiên_phước': 12247, 'cha_anh': 12248, 'gúm': 12249, 'í': 12250, 'sực': 12251, 'lét': 12252, 'trơ_mắt': 12253, 'trần_truồng': 12254, 'pháo': 12255, 'rình': 12256, 'van_xin': 12257, 'liền_tay': 12258, 'đnag': 12259, 'mòn': 12260, 'nâng_cấp': 12261, 'local': 12262, '300k': 12263, 'theo_đuổi': 12264, 'con_nhỏ': 12265, 'bánh_flan': 12266, 'đượ': 12267, 'rút_gọn': 12268, 'vật_vờ': 12269, 'lát': 12270, 'glad': 12271, 'ách': 12272, 'nilon': 12273, 'chứng_tỏ': 12274, 'phile': 12275, 'âm_hưởng': 12276, 'mường': 12277, 'vừ': 12278, 'vui_buồn': 12279, 'ama': 12280, 'nhục': 12281, 'xa_tít': 12282, 'sao_la': 12283, 'nghỉ_ngơi': 12284, 'nhỏ_nhoi': 12285, 'phản_ánh': 12286, 'vàng_choé': 12287, 'xử_lý': 12288, 'khó_tính': 12289, 'included': 12290, '1736': 12291, 'rầu': 12292, 'vại': 12293, 'rộ': 12294, 'cun': 12295, 'chuyên_đề': 12296, 'quạt_thông_gió': 12297, 'bulgogi': 12298, '28': 12299, 'cận_cảnh': 12300, 'thiêu_thân': 12301, 'lộ_liễu': 12302, 'bám': 12303, 'ha_hả': 12304, 'cua_gạch': 12305, 'bắp_thịt': 12306, 'cầm': 12307, 'giếng': 12308, 'cà_chua': 12309, 'do_vậy': 12310, 'hoạc': 12311, 'thờ_ơ': 12312, 'phù_thuỷ': 12313, 'ngắn_gọn': 12314, 'diem': 12315, 'đáng_ra': 12316, 'tuyệt_đối': 12317, 'kể_ra': 12318, 'forever': 12319, 'đang': 12320, 'mêt': 12321, 'hômnay': 12322, 'chta': 12323, 'vui_mừng': 12324, 'cay_cú': 12325, 'đóng_đô': 12326, 'giòi': 12327, 'aren': 12328, 'tuyển_tập': 12329, 'sàn': 12330, 'bổ_sung': 12331, 'nghĩa_tân': 12332, 'whisky': 12333, 'cmn': 12334, 'xúi': 12335, 'gác_lửng': 12336, 'thuốc_tây': 12337, 'dominno': 12338, 'tình_thương': 12339, 'voucher': 12340, 'càn_quét': 12341, 'cữ': 12342, 'cõ': 12343, 'coa': 12344, 'giỏ': 12345, 'bỏ_hoang': 12346, 'đầu_óc': 12347, 'rảnh_rang': 12348, 'quỷ_quái': 12349, 'thờ': 12350, 'réo': 12351, 'similar': 12352, 'domino': 12353, '102': 12354, 'thăc': 12355, 'vì_vậy': 12356, 'hình_thành': 12357, 'nay_mai': 12358, 'yiu': 12359, 'nghệ_sĩ': 12360, 'lung': 12361, 'cấp_độ': 12362, 'tởi': 12363, 'cá_thu': 12364, 'thà': 12365, 'rmit': 12366, 'em_trai': 12367, 'gào': 12368, '87': 12369, 'đầu_cuối': 12370, '25p': 12371, 'đánh': 12372, 'call': 12373, 'log': 12374, 'nhã_nhặn': 12375, '0903': 12376, 'tờ_rơi': 12377, 'damage': 12378, 'lùng_bùng': 12379, 'bác_sĩ': 12380, '49000': 12381, 'đèn_neon': 12382, 'rĩnh': 12383, 'ít_nhiều': 12384, 'đách': 12385, 'tự': 12386, 'chân_như': 12387, 'đắm': 12388, '560k': 12389, 'thành_thực': 12390, 'sih': 12391, '10h15': 12392, 'lô_cốt': 12393, 'selection': 12394, 'nhợ': 12395, 'checkin': 12396, 'sơ_suất': 12397, 'khay': 12398, '70k': 12399, 'vìa': 12400, 'services': 12401, 'chôc': 12402, 'beach': 12403, 'cảnh_sắc': 12404, 'cá_tầm': 12405, 'let': 12406, 'golden': 12407, 'hàm_nghi': 12408, 'imperial': 12409, 'dai_dẳng': 12410, 'california': 12411, '45300': 12412, 'chứ': 12413, 'công_bằng': 12414, '57': 12415, 'hấy': 12416, 'xùm': 12417, 'bửu': 12418, 'ban_ngày': 12419, 'phối_hợp': 12420, 'chắt': 12421, '420k': 12422, 'suy': 12423, 'chè_xanh': 12424, 'nghi_ngờ': 12425, 'rấtt': 12426, 'than_ôi': 12427, 'trân_trối': 12428, 'purin': 12429, 'du_côn': 12430, 'biển_hiệu': 12431, 'bđ': 12432, 'đâu_đây': 12433, 'truyền_thống': 12434, 'lớp_học': 12435, 'tất_nhiên': 12436, 'tiêu_chuẩn': 12437, 'bắp_cải': 12438, 'nước_mặn': 12439, 'như_thường': 12440, 'nguyện': 12441, 'ngoại_văn': 12442, 'airport': 12443, 'diện_kiến': 12444, 'vô_cùng': 12445, '52': 12446, 'đở': 12447, 'trực': 12448, 'đường_biển': 12449, 'long_nhãn': 12450, 'nhạt_nhẽo': 12451, '8g30': 12452, 'amore': 12453, 'nhợt_nhạt': 12454, 'hội_tụ': 12455, 'chữ_nổi': 12456, 'nhân_duyên': 12457, 'ỉu': 12458, '6510': 12459, 'bứng': 12460, 'pastuer': 12461, 'dont': 12462, 'bus': 12463, 'thun': 12464, 'vê': 12465, 'xà_phòng': 12466, 'trung_trực': 12467, 'phé': 12468, 'lợi_dụng': 12469, 'thớt': 12470, 'vụng': 12471, 'nhập': 12472, 'máy': 12473, 'ăn_mừng': 12474, 'củ_chi': 12475, 'dân_tình': 12476, 'hót': 12477, 'hạt_é': 12478, 'trịch_thượng': 12479, 'mặc_kệ': 12480, 'ghi_điểm': 12481, 'gon': 12482, 'thấm_đậm': 12483, 'tìn': 12484, 'rô': 12485, 'lùng_sục': 12486, 'rướt': 12487, '4km': 12488, 'mù': 12489, 'xanh_ngắt': 12490, 'mixed': 12491, 'rude': 12492, 'namy': 12493, 'xien': 12494, 'bãi_tắm': 12495, 'kio': 12496, 'phổ_thông': 12497, 'ngửa_tay': 12498, 'tỉnh_lộ': 12499, 'mặc_dầu': 12500, 'dislike': 12501, 'fet': 12502, 'kết_thúc': 12503, 'ngon_ngọt': 12504, 'bop': 12505, 'đồng_bọn': 12506, 'professional': 12507, 'y_nguyên': 12508, 'dich': 12509, 'ghẻ_lở': 12510, '3937': 12511, 'đề_cập': 12512, 'dang': 12513, 'ngây_ngấy': 12514, 'mocking': 12515, 'nhà_ăn': 12516, 'с': 12517, 'thiễn': 12518, 'doesnt': 12519, 'trấn_quốc': 12520, 'tức_tối': 12521, 'phiên': 12522, 'tỉ': 12523, 'thoòng': 12524, 'băng_nhạc': 12525, 'hai': 12526, 'mass': 12527, 'contact': 12528, 'chẳng_nói_chẳng_rằng': 12529, 'căn': 12530, 'êm_ấm': 12531, 'mon': 12532, 'nông_dân': 12533, 'lảnh': 12534, 'phim_trường': 12535, 'nail': 12536, 'grill': 12537, 'ờm': 12538, 'chi_phí': 12539, 'thợ_mộc': 12540, '3050': 12541, 'hắt': 12542, 'con_số': 12543, 'sửa_sang': 12544, 'công_xưởng': 12545, 'riêu': 12546, 'buồn_vui': 12547, 'cute': 12548, 'lỗi_thời': 12549, 'y_chang': 12550, 'hoocmon': 12551, 'xắn': 12552, 'vênh_vênh': 12553, 'laoi': 12554, 'khu_phố': 12555, 'gourmet': 12556, 'kém_cỏi': 12557, 'chờ_đợi': 12558, 'bạch_tuột': 12559, 'hidden': 12560, 'từ_vựng': 12561, 'khô_khan': 12562, 'dang_dở': 12563, 'nhách': 12564, 'lắ': 12565, 'cháo_hoa': 12566, 'tí_ti': 12567, 'đông_đủ': 12568, 'kí_gửi': 12569, '13000': 12570, 'nhận': 12571, 'sofa': 12572, 'chãy': 12573, 'bây_giờ': 12574, 'trông_chừng': 12575, 'pet': 12576, 'tháng_chạp': 12577, 'landmark': 12578, 'hiem': 12579, 'từ_bi': 12580, 'cẳ': 12581, 'thao': 12582, 'sập_tiệm': 12583, 'mỏi_mòn': 12584, '59b': 12585, 'lưng_lửng': 12586, 'moderately': 12587, 'thoàng': 12588, 'sờn': 12589, 'đầu_vào': 12590, 'tình_nhân': 12591, 'mắt_nhắm_mắt_mở': 12592, 'tụ': 12593, 'hán': 12594, 'tiểu_học': 12595, 'trệt': 12596, 'đứg': 12597, 'b1': 12598, 'osin': 12599, 'giao_tiếp': 12600, 'chong': 12601, 'nhờ': 12602, 'thanh_tú': 12603, 'chân': 12604, 'góp_phần': 12605, 'óp': 12606, 'nhạn': 12607, 'watch': 12608, 'bốc': 12609, 'đỏ_chót': 12610, 'nhà_vườn': 12611, 'thiêu_đốt': 12612, 'chỗ_đứng': 12613, 'tick': 12614, 'tối': 12615, 'tượng_đài': 12616, 'phớ': 12617, 'nhở': 12618, 'r': 12619, 'tựa': 12620, 'len_lỏi': 12621, 'phần_nhiều': 12622, 'văn_thân': 12623, 'câu_chuyện': 12624, 'hơi_nước': 12625, 'lâm_sàng': 12626, 'nặng_ký': 12627, 'huỳnh': 12628, 'lẫn_lộn': 12629, 'thập_niên': 12630, 'milan': 12631, 'diễn_đạt': 12632, 'downstairs': 12633, 'sười': 12634, 'chã': 12635, 'chóng': 12636, 'lưu_thông': 12637, 'mươi': 12638, 'tos': 12639, 'xổng': 12640, 'chứng_nhận': 12641, 'package': 12642, 'qtrong': 12643, 'đien': 12644, 'hôm_qua': 12645, 'khuyết_tật': 12646, 'lốt': 12647, 'thảo_nguyên': 12648, 'huệ': 12649, 'năm_ngoái': 12650, 'duyên': 12651, 'toast': 12652, 'cả_gói': 12653, 'ơiii': 12654, 'heniken': 12655, 'dth': 12656, 'quả_nhiên': 12657, 'quạt': 12658, 'public': 12659, 'tiếng_thơm': 12660, 'oculus': 12661, 'phập_phù': 12662, 'quát_mắng': 12663, 'hỗ': 12664, 'hẩu': 12665, 'lèm_bèm': 12666, '70p': 12667, 'boutique': 12668, 'trang_nhã': 12669, 'râm_ran': 12670, 'dzẻ': 12671, 'ngoại_lệ': 12672, 'đầu_ra': 12673, 'tuki': 12674, 'blu': 12675, 'thiếu_sót': 12676, 'thông_tin': 12677, 'nvien': 12678, 'unique': 12679, 'maz': 12680, 'hong_kong': 12681, 'xuất_bản': 12682, 'quốc_doanh': 12683, 'rather': 12684, 'nouvo': 12685, 'tác_hại': 12686, '30000đ': 12687, 'hưa': 12688, 'trung_thu': 12689, 'pachan': 12690, 'nhiệm_sở': 12691, 'sống_nhăn': 12692, 'nạn_nhân': 12693, 'tây_ban_nha': 12694, 'upin': 12695, 'thiên_vị': 12696, 'đắc': 12697, 'ngãi': 12698, 'ẩm_ương': 12699, 'khu_tập_thể': 12700, 'sành': 12701, 'phân_phối': 12702, 'kích_thích': 12703, 'hhehe': 12704, 'ii': 12705, 'lật': 12706, '0120': 12707, 'đk': 12708, 'tờ': 12709, 'ke': 12710, 'dâncư': 12711, 'gr': 12712, '250k': 12713, 'ah': 12714, 'hội_ngộ': 12715, 'ч': 12716, 'thing': 12717, 'xu_hướng': 12718, 'giải_pháp': 12719, 'cảm_hứng': 12720, 'đẹp': 12721, 'swe': 12722, 'tiế': 12723, 'hóc_môn': 12724, 'tt': 12725, 'ctrinh': 12726, 'ngắm': 12727, 'thí_nghiệm': 12728, 'quốc_sư': 12729, 'cò': 12730, 'burger': 12731, 'diệm': 12732, 'đẵ': 12733, 'sự_thật': 12734, 'cungmua': 12735, 'du_khách': 12736, 'tự_tiện': 12737, 'xó': 12738, 'chùa': 12739, 'bac': 12740, 'baymax': 12741, 'lân_la': 12742, 'nện': 12743, 'nhăm': 12744, 'lố_bịch': 12745, 'pan': 12746, 'thoát': 12747, 'miệt_thị': 12748, '45phút': 12749, '154': 12750, 'lưu_lạc': 12751, 'bótay': 12752, 'nhận_biết': 12753, 'lai': 12754, 'coming': 12755, 'gig': 12756, 'tài_liệu': 12757, 'nẹ': 12758, 'escape': 12759, 'góp': 12760, 'giám_đốc': 12761, 'ước': 12762, 'phở': 12763, 'phuong': 12764, 'thiên_hướng': 12765, 'hoa_mai': 12766, 'phi_ngựa': 12767, 'tài_xế': 12768, 'these': 12769, 'thử_thách': 12770, 'ru_ngủ': 12771, 'bim_bim': 12772, 'vỉa_hè': 12773, 'gạc': 12774, 'cương_vị': 12775, 'út': 12776, 'mother': 12777, 'chu_đáo': 12778, 'hotel': 12779, 'bốp': 12780, 'ate': 12781, 'giửa': 12782, 'lá_lốt': 12783, 'seating': 12784, 'thảm_đỏ': 12785, 'whom': 12786, 'thanh_khiết': 12787, 'vô_chủ': 12788, 'điểm_tâm': 12789, 'loãng_toẹt': 12790, 'kha': 12791, 'bét_nhè': 12792, 'du_dương': 12793, 'ban_phát': 12794, '30phút': 12795, 'tíh': 12796, 'tiểu': 12797, 'located': 12798, 'khuếch': 12799, 'hát_dạo': 12800, 'ngèo': 12801, 'ngày_xưa': 12802, 'nào_là': 12803, '1832': 12804, 'chẽm': 12805, 'khoang': 12806, 'cắp': 12807, 'chỵ': 12808, 'ẫm': 12809, 'nước_biển': 12810, 'đô': 12811, '98': 12812, 'huân': 12813, 'chầm_chậm': 12814, 'bánh_bò': 12815, 'thành': 12816, 'sansan': 12817, '๑': 12818, 'about': 12819, 'diềm': 12820, 'bình_quới': 12821, 'nhận_dạng': 12822, 'lipton': 12823, 'ăn_hỏi': 12824, 'win': 12825, 'như_chơi': 12826, 'bực': 12827, '100gr': 12828, 'hãng': 12829, 'phá_cách': 12830, 'nhỏ_giọt': 12831, 'drink': 12832, 'cụa': 12833, 'nơm_nớp': 12834, 'zun': 12835, 'ordinary': 12836, 'mạnh_bạo': 12837, 'phê_bình': 12838, 'huỳnh_mai': 12839, 'tiếc': 12840, 'lữoi': 12841, 'chời': 12842, 'truờng': 12843, 'thức_ăn': 12844, 'camino': 12845, 'tại_gia': 12846, 'matxa': 12847, 'sluts': 12848, 'wonder': 12849, 'mit': 12850, 'đổi_mới': 12851, 'bla': 12852, 'khè': 12853, 'confit': 12854, 'anything': 12855, 'chức_năng': 12856, 'những_tưởng': 12857, 'chiến': 12858, 'nhê': 12859, '99k': 12860, 'rain': 12861, 'hjhj': 12862, 'kiểm_tra': 12863, '65a': 12864, 'ngoại_ô': 12865, 'tam_tạng': 12866, '1km': 12867, 'sữa_đậu_nành': 12868, 'đông_tây': 12869, 'đi_khách': 12870, 'tủi': 12871, 'cốc': 12872, 'load': 12873, 'stress': 12874, 'trải_nghiệm': 12875, 'bán_đứng': 12876, 'trời_có_mắt': 12877, '95': 12878, 'quanh_quanh': 12879, 'trở_nên': 12880, '2000km': 12881, 'shao': 12882, 'chải_chuốt': 12883, '30v': 12884, 'tá_tràng': 12885, 'thảm_hoạ': 12886, 'liên_chiểu': 12887, 'nghe_ra': 12888, 'trông_coi': 12889, 'hre': 12890, 'đoa': 12891, 'nhơm_nhớp': 12892, 'buô': 12893, 'bài_trí': 12894, 'búng': 12895, 'chở': 12896, '404': 12897, 'coins': 12898, 'cá_basa': 12899, '515': 12900, 'ngai': 12901, 'xxx': 12902, 'loại_trừ': 12903, 'bừa_bãi': 12904, 'tươi_sáng': 12905, 'ngất': 12906, 'y_khoa': 12907, 'trinh': 12908, 'bon_chen': 12909, 'demo': 12910, 'phụ_tùng': 12911, 'tuk_tuk': 12912, 'sở_thích': 12913, '14k': 12914, 'much': 12915, 'gà_ác': 12916, 'xoong': 12917, 'phụ_phí': 12918, 'chào_mừng': 12919, 'od': 12920, 'vingroup': 12921, 'pre': 12922, 'nhét': 12923, 'a_tây': 12924, 'een': 12925, 'hihi': 12926, 'xột': 12927, '239': 12928, 'xàm': 12929, 'náo_nhiệt': 12930, '480k': 12931, 'ăn_chặn': 12932, 'gay_gắt': 12933, '2015': 12934, 'dong': 12935, 'xpress': 12936, 'bắt_gặp': 12937, 'vvv': 12938, 'mục_đích': 12939, 'cj': 12940, 'da_lat': 12941, 'đề_mục': 12942, 'kí_ức': 12943, 'chiê': 12944, 'woa': 12945, 'móc_túi': 12946, 'bình_hưng': 12947, 'chuyên_viên': 12948, 'nghệ': 12949, 'tapas': 12950, 'siêu_lợi_nhuận': 12951, 'ngọc_dương': 12952, 'mọn': 12953, 'thanh_thoát': 12954, 'bản_địa': 12955, 'tu': 12956, 'xối': 12957, 'kênh_tẻ': 12958, 'thời_điểm': 12959, 'bậy_bạ': 12960, 'va': 12961, 'hít_hà': 12962, 'packed': 12963, 'dày': 12964, 'rèm': 12965, 'thần_dân': 12966, 'lóc': 12967, 'dông': 12968, 'mội': 12969, 'lượn': 12970, 'kian': 12971, 'thj': 12972, 'chua': 12973, 'chợ_nổi': 12974, 'ghim': 12975, 'rỏ': 12976, '249k': 12977, 'lũ_lụt': 12978, 'khoảnh_khắc': 12979, 'cầu_cứu': 12980, '129k': 12981, 'tek': 12982, 'quanh_quẩn': 12983, 'đành_đạch': 12984, 'followed': 12985, 'tròn': 12986, 'choa': 12987, 'u_tối': 12988, 'tê_tái': 12989, 'phô_mai': 12990, 'mịa': 12991, 'sứ': 12992, 'tô_vẽ': 12993, 'vl': 12994, 'meatballs': 12995, 'sướg': 12996, 'xã': 12997, 'bấm_bụng': 12998, 'xèo': 12999, 'ỹ': 13000, 'gạo_lức': 13001, 'thuận_lợi': 13002, 'lười': 13003, 'họn': 13004, 'known': 13005, 'thuộc': 13006, 'lân': 13007, 'doanh_nhân': 13008, 'cty': 13009, 'tận_dụng': 13010, 'fill': 13011, 'chắm': 13012, 'cá_chép': 13013, 'vô_học': 13014, 'seoul': 13015, 'chỉnh_đốn': 13016, 'bột_nở': 13017, 'bọ_cạp': 13018, '1hộp': 13019, 'overall': 13020, 'phực': 13021, 'sài': 13022, 'đứng': 13023, 'things': 13024, 'người_thương': 13025, 'da_gà': 13026, 'du_lịch': 13027, 'nhười': 13028, 'hi_hi': 13029, 'waffle': 13030, 'giờ_đây': 13031, 'drinks': 13032, 'bán_nước': 13033, 'sậm': 13034, '1set': 13035, 'fresco': 13036, 'nước_độc': 13037, 'giâ': 13038, 'tạp': 13039, 'xiểm': 13040, '1tr2': 13041, 'pt': 13042, 'new_world': 13043, 'li_ti': 13044, 'tạm': 13045, 'chất_béo': 13046, 'bún_đậu': 13047, 'dưa_hấu': 13048, 'mặn': 13049, 'hào_hoa': 13050, 'soán': 13051, 'candy': 13052, 'reveiw': 13053, 'nuoc': 13054, 'nhau': 13055, 'mipec': 13056, 'chuộng': 13057, 'hoàng_hôn': 13058, 'chèo': 13059, 'sấm': 13060, 'ngkhác': 13061, 'hăng': 13062, 'hết_sức': 13063, 'chủ_quan': 13064, 'cớ': 13065, 'chọc_ghẹo': 13066, 'court': 13067, 'xjnh': 13068, 'bười': 13069, 'vừa_ý': 13070, 'huy_động': 13071, '690k': 13072, 'trụ': 13073, 'sparkling': 13074, 'flow': 13075, 'bào_ngư': 13076, 'bùng_binh': 13077, 'chị': 13078, 'vịt_xiêm': 13079, 'dũm': 13080, 'repeat': 13081, 'anhem': 13082, '9h20': 13083, '11h20': 13084, 'thuật': 13085, 'đút': 13086, 'ale': 13087, 'thờ_thẫn': 13088, 'dung_dịch': 13089, 'mặt_biển': 13090, 'cá_nhân': 13091, '19g30': 13092, 'lén': 13093, 'nhiên': 13094, 'yaour': 13095, 'does': 13096, 'pricey': 13097, 'ong': 13098, 'tròn_vo': 13099, 'tội_phạm': 13100, 'punica': 13101, 'nghẹt_thở': 13102, 'thế_nhưng': 13103, 'xa_vời': 13104, 'comments': 13105, '40mm': 13106, 'uw': 13107, '47k': 13108, 'òi': 13109, 'sịn': 13110, 'núc_ních': 13111, 'rữa': 13112, 'dùng': 13113, 'qtqđ': 13114, 'giải_cứu': 13115, 'sạn': 13116, 'nhỷ': 13117, 'invited': 13118, 'nuni': 13119, 'satisfied': 13120, 'hiu': 13121, 'nhìm': 13122, 'nhiệt': 13123, 'nộm': 13124, 'ngau': 13125, 'nhet': 13126, 'wên': 13127, 'onze': 13128, 'thoy': 13129, 'ngươi': 13130, 'sạch_bong': 13131, 'prep': 13132, 'cây_bút': 13133, 'bán_tín_bán_nghi': 13134, 'hy_sinh': 13135, '200000đ': 13136, 'fastfood': 13137, '4ng': 13138, 'sửa_đổi': 13139, 'nhát': 13140, 'rờ': 13141, 'dzui': 13142, 'vỗ_về': 13143, 'bay': 13144, 'trắng': 13145, '2011': 13146, 'numberone': 13147, 'easy': 13148, 'ăn_vận': 13149, 'khả_thi': 13150, 'trên_dưới': 13151, 'xả_hơi': 13152, 'khuyến_mãi': 13153, 'sốt_dẻo': 13154, 'bó_buộc': 13155, 'sauce': 13156, 'dầy_dặn': 13157, 'giãn': 13158, 'ngố': 13159, 'kiềm_chế': 13160, 'tất_tần_tật': 13161, 'nản': 13162, 'đãng': 13163, 'claim': 13164, 'ruốt': 13165, 'cupon': 13166, 'trăm_ngàn': 13167, 'led': 13168, 'noodles': 13169, 'hoàng_gia': 13170, 'tự_cảm': 13171, 'láo_toét': 13172, 'muợn': 13173, 'metro': 13174, 'đãg': 13175, 'lâu_dài': 13176, 'hăng_say': 13177, 'mặn_mà': 13178, 'lie': 13179, 'thì_thầm': 13180, 'chộp_giật': 13181, 'kiểu_cách': 13182, 'được_lòng': 13183, 'set': 13184, 'chg': 13185, 'khởi_động': 13186, 'chua_chua': 13187, 'sung': 13188, 'choux': 13189, 'ph': 13190, 'tinh_dầu': 13191, 'thần_linh': 13192, 'ăn_người': 13193, 'cacao': 13194, 'uầy': 13195, 'omachi': 13196, 'cao_tầng': 13197, 'bier': 13198, '165k': 13199, 'như_điên': 13200, 'great': 13201, 'hiền_hiền': 13202, '9g': 13203, 'tuy_nhiên': 13204, 'arrived': 13205, 'poor': 13206, 'dung': 13207, 'cân_bằng': 13208, 'xửng': 13209, '207': 13210, 'surprise': 13211, 'mạng': 13212, 'loài': 13213, 'reception': 13214, 'nhìn': 13215, 'thù': 13216, 'ô_uế': 13217, 'bacon': 13218, 'thach': 13219, 'nhà_bè': 13220, 'bik': 13221, 'chìa': 13222, 'trả': 13223, 'tiện_dụng': 13224, 'reserve': 13225, 'thứ_thiệt': 13226, 'thun_thút': 13227, 'đầu_đuôi': 13228, 'tai_nghe_mắt_thấy': 13229, 'yam': 13230, 'máy_bay_trực_thăng': 13231, 'nhào': 13232, 'chầm': 13233, 'đời_sống': 13234, 'ngăn_chặn': 13235, 'ghẹo': 13236, 'coopmark': 13237, 'mồ': 13238, 'như_vầy': 13239, 'pạch': 13240, 'kỳ_lạ': 13241, 'heh': 13242, 'lượt_đi': 13243, 'lở': 13244, 'vị': 13245, 'bước_đầu': 13246, 'haizz': 13247, 'lên_đường': 13248, 'tray': 13249, 'bòng': 13250, 'nực': 13251, 'ì_oạp': 13252, 'tks': 13253, 'kiếm_hiệp': 13254, 'ngồi': 13255, 'bồ_tát': 13256, 'hix': 13257, 'thường': 13258, 'nhơ': 13259, 'keep': 13260, 'lạt': 13261, 'doanh_thu': 13262, 'ăn_nhậu': 13263, 'ù_ù': 13264, 'cod': 13265, 'keangnam': 13266, 'ngãn': 13267, 'ngoại_thành': 13268, 'rùa': 13269, 'cãm': 13270, 'done': 13271, 'mơ_màng': 13272, 'asked': 13273, 'đường_xá': 13274, 'hộc': 13275, 'bìa': 13276, 'muôn': 13277, 'nước_ngọt': 13278, 'ai_lại': 13279, 'thiê': 13280, 'hut': 13281, 'luy': 13282, 'chép': 13283, 'mó_tay': 13284, 'thần_tiên': 13285, 'real': 13286, 'moji': 13287, 'chết': 13288, 'naruto': 13289, '53k': 13290, 'compo': 13291, 'buddy': 13292, 'cgái': 13293, 'vao': 13294, 'aeon': 13295, 'hành_khách': 13296, 'xuất_gia': 13297, 'times': 13298, 'thường_thức': 13299, 'quầy': 13300, 'deserves': 13301, 'hoỉ': 13302, 'premium': 13303, 'heart': 13304, 'count': 13305, 'sơ_lược': 13306, 'ô_liu': 13307, 'cấn': 13308, 'oysters': 13309, 'dịa': 13310, 'tuôn': 13311, '345': 13312, 'tụ_hợp': 13313, 'crust': 13314, 'giá_cả': 13315, 'slightly': 13316, 'khách_vãng_lai': 13317, 'cục_cằn': 13318, 'trị': 13319, 'xem_lại': 13320, 'cây_leo': 13321, 'pudding': 13322, 'khơi_gợi': 13323, 'buồn_rầu': 13324, '10010': 13325, 'tróng': 13326, 'ỷ': 13327, 'hơh': 13328, 'suprise': 13329, 'thật_sự': 13330, 'sway': 13331, 'đầm': 13332, 'động_tác': 13333, 'lởm_chởm': 13334, 'thương_lượng': 13335, 'rê': 13336, 'vịnh': 13337, 'sjnh': 13338, 'dịu': 13339, 'khuyển': 13340, 'luch': 13341, 'chửng': 13342, 'ngâp': 13343, 'totally': 13344, 'thd': 13345, 'đáng_giá': 13346, 'thích_đáng': 13347, 'mash': 13348, 'tn': 13349, 'gu': 13350, 'ngọi': 13351, 'luống': 13352, 'báo_hiệu': 13353, 'khóm': 13354, 'tích_cực': 13355, 'zư': 13356, 'mớ': 13357, 'carry': 13358, 'chác': 13359, 'bàn_cãi': 13360, 'không_lưu': 13361, 'tủi_thân': 13362, 'gầy_gò': 13363, 'bất_tử': 13364, 'bgai': 13365, 'hóng': 13366, 'instagram': 13367, 'hoá_ra': 13368, 'chân_giò': 13369, 'mờ_mờ': 13370, 'assure': 13371, 'bùn': 13372, 'tạp_nham': 13373, 'di_động': 13374, '17h': 13375, '35p': 13376, 'bàn_luận': 13377, '20f': 13378, 'miết': 13379, 'visit': 13380, 'màu': 13381, 'bịnh': 13382, 'tưởng_tượng': 13383, 'happily': 13384, 'phách_lối': 13385, 'đông_lạnh': 13386, 'dày_dặn': 13387, 'oki': 13388, 'ny': 13389, 'iz': 13390, 'brown': 13391, 'khoảnh': 13392, 'xoáy_ốc': 13393, 'lượt': 13394, 'vương_vấn': 13395, 'bùng_nổ': 13396, 'láng': 13397, 'limited': 13398, 'hn': 13399, 'độc_thoại': 13400, 'fun': 13401, 'quét_dọn': 13402, 'youth': 13403, 'camellia': 13404, 'cookie': 13405, 'quảng_ngãi': 13406, 'lố_nhố': 13407, 'rôti': 13408, 'tiều': 13409, 'tạc': 13410, 'fes': 13411, 'địa_đạo': 13412, 'gượng_gạo': 13413, 'otherwise': 13414, 'đoái_hoài': 13415, 'phai': 13416, 'bà_con': 13417, 'sút': 13418, 'tranh_luận': 13419, 'tự_phục_vụ': 13420, 'rạ': 13421, 'bu': 13422, 'dry': 13423, 'tiện': 13424, 'láng_bóng': 13425, 'tạm_thời': 13426, 'boom': 13427, 'đèn_xanh': 13428, 'phài': 13429, 'ung_dung': 13430, 'bảo_trang': 13431, 'kv': 13432, 'rụt_rè': 13433, 'sat': 13434, 'hằng': 13435, 'matte': 13436, 'thường_trực': 13437, 'xùng': 13438, 'chie': 13439, 'le_te': 13440, 'panini': 13441, 'ghi': 13442, 'học_sinh': 13443, 'canh_cải': 13444, '2tầng': 13445, 'chung_cư': 13446, 'bèn': 13447, 'crepe': 13448, 'nò': 13449, 'phấn_son': 13450, 'háo_hức': 13451, 'hộp': 13452, 'sunwah': 13453, 'trảng': 13454, 'giầy': 13455, 'huynh': 13456, '15': 13457, 'liệu': 13458, 'búp_bê': 13459, 'đầu_sách': 13460, 'thailand': 13461, '5060': 13462, 'bảo_mật': 13463, 'já': 13464, 'khen_tặng': 13465, 'stronger': 13466, 'beet': 13467, 'cững': 13468, 'nghi': 13469, 'nhọt': 13470, 'cãi_cọ': 13471, 'nhốt': 13472, 'chèo_kéo': 13473, 'tuk': 13474, 'zay': 13475, 'báh': 13476, 'cảm': 13477, 'cari': 13478, 'chay': 13479, 'uki': 13480, 'hư': 13481, 'bnhiêu': 13482, 'tù_tì': 13483, '180ml': 13484, 'ld': 13485, 'mỏi': 13486, 'girl': 13487, 'linh_hoạt': 13488, 'mui': 13489, 'tàng_hình': 13490, 'tiên': 13491, 'tastes': 13492, 'tàng': 13493, 'finishing': 13494, 'skylight': 13495, 'diao': 13496, 'yaourt': 13497, 'tràn': 13498, 'wasn': 13499, 'new_york': 13500, 'serve': 13501, 'sketch': 13502, '241': 13503, 'giải_toả': 13504, 'plate': 13505, 'cơ_cấu': 13506, 'cây_cổ_thụ': 13507, '4tr': 13508, 'bé_bé': 13509, 'acc': 13510, 'ra_hiệu': 13511, 'nêm': 13512, 'chuyển': 13513, 'pinocchio': 13514, 'xừ': 13515, 'thông_suốt': 13516, 'đướng': 13517, 'tem': 13518, 'đặ': 13519, 'hay_là': 13520, 'taxi': 13521, 'bề_ngoài': 13522, 'crepes': 13523, 'cảnh_tượng': 13524, 'bắt_cóc': 13525, 'chocopie': 13526, 'rồiiii': 13527, 'tiêu_đề': 13528, 'hồn_vía': 13529, 'khẩn_cấp': 13530, 'nườm_nượp': 13531, 'nghèo_nàn': 13532, '43k': 13533, 'tỏn': 13534, '228': 13535, 'htrc': 13536, 'đặc_quyền': 13537, 'dí': 13538, 'ca': 13539, 'dò_xét': 13540, 'tosta': 13541, 'cowboy': 13542, '30': 13543, 'vịt': 13544, 'xởi': 13545, 'aucostic': 13546, 'đế': 13547, 'áo_thun': 13548, 'thức_thời': 13549, 'zio': 13550, 'bún_thang': 13551, 'giở_giọng': 13552, '725': 13553, 'ghita': 13554, 'uất_ức': 13555, 'nấm': 13556, 'dân_tộc_thiểu_số': 13557, 'nuo': 13558, 'dầu_khí': 13559, 'mêm': 13560, 'bín': 13561, 'uổng_phí': 13562, 'đươck': 13563, 'kiên_quyết': 13564, 'vinamilk': 13565, 'mafa': 13566, 'lãnh_đạo': 13567, 'nồng_nàn': 13568, 'lên_giọng': 13569, 'haiza': 13570, 'pilot': 13571, 'philipine': 13572, 'mái_tóc': 13573, 'kong': 13574, 'information': 13575, 'quá_đi_chứ': 13576, 'lào': 13577, 'mĩ_mãn': 13578, 'nuoi': 13579, '10500': 13580, 'ô_mai': 13581, 'trung_thành': 13582, 'trăm_tuổi': 13583, 'ốc_nhồi': 13584, 'poster': 13585, 'bắn': 13586, 'àh': 13587, 'green': 13588, 'hoàng_diệu': 13589, 'săn': 13590, 'chặt': 13591, 'tuyệt_thế': 13592, 'chắc_mẩm': 13593, 'sức_sống': 13594, 'sối': 13595, '8r': 13596, 'kekee': 13597, 'lằng': 13598, 'điện_máy': 13599, 'vòng_tròn': 13600, '20052006': 13601, 'tén': 13602, 'ngượi': 13603, 'stick': 13604, 'tiền_thân': 13605, 'elizabeth': 13606, 'làm_ơn': 13607, 'tuan': 13608, 'vẫm': 13609, 'câng_câng': 13610, 'bnhieu': 13611, 'lamd': 13612, 'giàn_giụa': 13613, 'fong': 13614, 'minion': 13615, 'ngưởi': 13616, 'thỉnh': 13617, 'starbuck': 13618, 'khô': 13619, 'thập': 13620, 'gỉam': 13621, 'thế_chiến': 13622, 'mềm_nhũn': 13623, 'mưc': 13624, 'envy': 13625, 'different': 13626, 'thàng': 13627, 'hí_ha_hí_hửng': 13628, 'du_học': 13629, 'hugo': 13630, 'yêm': 13631, 'mặt_bằng': 13632, 'cân_não': 13633, 'fruz': 13634, '280k': 13635, 'soa': 13636, 'chỉ_số': 13637, 'ngành_nghề': 13638, 'đứng_như_trời_trồng': 13639, 'container': 13640, 'thợ': 13641, '150gram': 13642, 'tục': 13643, 'nhà_ga': 13644, 'hoặc': 13645, 'xa_gần': 13646, 'lép': 13647, 'bức_xúc': 13648, 'nha': 13649, 'nhữ': 13650, 'tiếp_viên': 13651, 'other': 13652, '23k': 13653, 'đánh_đố': 13654, 'rết': 13655, 'khoẻ_mạnh': 13656, 'ika': 13657, 'ẩu': 13658, 'kín': 13659, 'ngày_ngày': 13660, 'quen_biết': 13661, 'quỉ': 13662, 'hơi_hướng': 13663, 'suýt_nữa': 13664, 'đàng_hoàng': 13665, 'giao_thừa': 13666, 'màn': 13667, 'owned': 13668, 'vla': 13669, 'cam': 13670, 'cây_nhà_lá_vườn': 13671, 'tìh': 13672, 'thể_dục': 13673, 'spicy': 13674, 'ty': 13675, 'onder': 13676, 'bánh_bèo': 13677, 'anh_chàng': 13678, 'matcha': 13679, 'ane': 13680, 'everytime': 13681, 'cô_giáo': 13682, 'bistro': 13683, 'mẫu': 13684, 'cô_dâu': 13685, 'đồng_phục': 13686, 'quan_khách': 13687, 'pun': 13688, 'soda': 13689, 'đươi': 13690, 'phiền_hà': 13691, 'rao': 13692, 'moka': 13693, 'chữa_cháy': 13694, 'thưn': 13695, 'muối_ăn': 13696, 'sính': 13697, 'dã_man': 13698, 'lịch_sử': 13699, 'bình_phục': 13700, 'favor': 13701, 'cc': 13702, 'tình_cảm': 13703, '10k': 13704, 'đệ_tử': 13705, 'hoho': 13706, '129': 13707, 'đựoc': 13708, 'phảo': 13709, 'tc': 13710, 'tráng_lệ': 13711, '666': 13712, 'layout': 13713, '7g': 13714, 'luoon': 13715, 'hoà_tan': 13716, 'tăm_tắp': 13717, 'ngot': 13718, 'hoà': 13719, 'đom_đóm': 13720, 'trắng_muốt': 13721, 'quần_đảo': 13722, 'enjoy': 13723, 'đều_đặn': 13724, 'flavors': 13725, 'sặt': 13726, 'shushi': 13727, 'quán_tính': 13728, 'sunrise': 13729, 'đèn_cầy': 13730, 'feels': 13731, 'đổi': 13732, 'considering': 13733, 'me': 13734, 'busy': 13735, 'công_nghệ': 13736, 'phân_cách': 13737, 'dọng': 13738, 'đại_trà': 13739, 'driver': 13740, 'vận_dụng': 13741, '320': 13742, 'sắc_đẹp': 13743, 'miệng_ăn': 13744, 'đèn_chiếu': 13745, 'giờ_phút': 13746, 'lỉnh_kỉnh': 13747, 'bibimbap': 13748, 'ae': 13749, 'quy_hoạch': 13750, 'phan': 13751, '4t': 13752, 'lipid': 13753, 'boba': 13754, 'quê': 13755, 'un': 13756, 'trung_nghĩa': 13757, 'chen': 13758, 'ky': 13759, 'a6': 13760, 'ễnh': 13761, 'line': 13762, 'dương_minh': 13763, 'ý_thức': 13764, 'thỉ': 13765, 'caia': 13766, '55k': 13767, 'nhưng_mà': 13768, 'làm_thịt': 13769, '1h10': 13770, 'mon_men': 13771, 'văng_tục': 13772, 'dzậy': 13773, 'hứng_chí': 13774, 'chuỷên': 13775, 'apps': 13776, 'id': 13777, 'cù': 13778, 'quya': 13779, 'cho_xong': 13780, 'nước_lạnh': 13781, 'bánh_canh': 13782, 'mướt_mát': 13783, 'ngứ': 13784, '48000': 13785, 'đồng_ý': 13786, 'khách_qua_đường': 13787, 'ノ': 13788, 'vời': 13789, 'béo_tròn': 13790, 'tép_riu': 13791, 'khoáng': 13792, 'mính': 13793, 'hồng_hạc': 13794, 'xuân_thu': 13795, 'international': 13796, 'chết_chóc': 13797, 'xiteen': 13798, '42000': 13799, 'salad': 13800, 'nở_rộ': 13801, 'really': 13802, 'bắt_đầu': 13803, 'years': 13804, '19h30': 13805, 'dried': 13806, 'trữ': 13807, 'retrospective': 13808, 'standing': 13809, 'huyện': 13810, 'gắt_gỏng': 13811, 'rợ': 13812, 'nguyễn_oanh': 13813, 'sòm': 13814, 'xí_xớn': 13815, 'công_phu': 13816, 'công_ty_cổ_phần': 13817, 'áp_giải': 13818, 'showbiz': 13819, 'hoa_mỹ': 13820, 'sò_điệp': 13821, 'benton': 13822, 'gang': 13823, 'lầm_bầm': 13824, 'sôi_động': 13825, 'thịnh': 13826, '6070': 13827, 'khoái': 13828, 'xuc': 13829, 'sâu_thẳm': 13830, 'milktea': 13831, '1tr1': 13832, 'tony': 13833, 'phần_nào': 13834, 'trang_web': 13835, 'sjeu': 13836, 'mib': 13837, 'phường': 13838, 'maps': 13839, 'phạm_hùng': 13840, '71': 13841, 'pug': 13842, 'tai': 13843, 'michi': 13844, 'qúan': 13845, '20km': 13846, 'vỗ': 13847, 'an_nhơn': 13848, 'ji': 13849, 'mẻ': 13850, 'buớc': 13851, 'đen_trắng': 13852, 'khum': 13853, 'bỏ_dở': 13854, 'dzo': 13855, 'vvvv': 13856, 'lọng': 13857, 'đác': 13858, '1416': 13859, '33k': 13860, 'cuống_cuồng': 13861, 'giòn': 13862, 'nhà': 13863, 'kèo': 13864, 'sáp': 13865, 'trust': 13866, 'chặp': 13867, 'kĩ_càng': 13868, 'khônh': 13869, 'truyền': 13870, 'dkien': 13871, 'thổ_công': 13872, '93': 13873, 'ên': 13874, 'ngụi': 13875, 'tương_tư': 13876, 'khì': 13877, 'ra_vào': 13878, 'year': 13879, 'khủg': 13880, 'ogen': 13881, 'xước': 13882, 'bởi_thế': 13883, 'cộ': 13884, 'tạng': 13885, 'chính_quyền': 13886, '500gr': 13887, 'thuồn': 13888, 'đâu_đó': 13889, 'exploring': 13890, 'tướt': 13891, 'sai': 13892, '279k': 13893, 'tậm': 13894, 'đĩa': 13895, 'rẩ': 13896, 'zax': 13897, 'ctm': 13898, 'moon': 13899, 'chim': 13900, 'ló': 13901, 'trái_mùa': 13902, 'hũ': 13903, 'blah': 13904, 'ăn_rơ': 13905, 'nhà_kho': 13906, 'cocktail': 13907, 'phải_chi': 13908, 'sở_trường': 13909, 'trái_đào': 13910, 'khoảng': 13911, 'sôfa': 13912, 'đùi': 13913, '3333': 13914, 'thg': 13915, 'trá_hình': 13916, '1112': 13917, 'tham_dự': 13918, 'đông_đúc': 13919, 'zú': 13920, 'kc': 13921, 'tiết_kiệm': 13922, 'hươ': 13923, 'úng': 13924, 'thô': 13925, 'vẫy_gọi': 13926, 'cán': 13927, 'nah': 13928, 'đa_dụng': 13929, 'rgv': 13930, 'đổng': 13931, 'quát': 13932, 'sinh_viên': 13933, 'náo_loạn': 13934, 'gelato': 13935, 'nauy': 13936, 'block': 13937, 'mỗi_tội': 13938, 'stores': 13939, 'stt': 13940, 'mường_khương': 13941, 'khai_mạc': 13942, 'cùng_đường': 13943, 'sen': 13944, 'bami': 13945, 'ko': 13946, 'đâng': 13947, 'ngập_tràn': 13948, 'chập_tối': 13949, 'đựng': 13950, 'hlv': 13951, 'đúng': 13952, 'liền_liền': 13953, 'tội_tình': 13954, 'bcr': 13955, 'cancel': 13956, 'tăm_tia': 13957, 'thoăn_thoắt': 13958, 'thum_thủm': 13959, 'ik': 13960, 'biểu_tượng': 13961, 'loads': 13962, 'cót': 13963, '200m': 13964, 'uong': 13965, 'xẻ': 13966, 'sự_cố': 13967, 'cua_đồng': 13968, 'vừa_miệng': 13969, 'râm': 13970, 'vác': 13971, 'khién': 13972, 'ranh': 13973, 'lọc': 13974, 'ầm_ĩ': 13975, 'thiệp': 13976, 'bõ': 13977, 'furios': 13978, 'tr': 13979, 'cua_biển': 13980, 'barrel': 13981, 'bjt': 13982, 'bing': 13983, 'chém': 13984, 'anymore': 13985, 'promotion': 13986, 'xa_cách': 13987, 'quá_cỡ': 13988, 'cui': 13989, 'một_tẹo': 13990, 'chiểu': 13991, 'sẵn_lòng': 13992, 'tìm_kiếm': 13993, 'giải_thích': 13994, 'ce': 13995, 'róc': 13996, 'sống_lưng': 13997, 'vất': 13998, 'tuốt': 13999, 'if': 14000, 'chui': 14001, 'lái': 14002, 'pùn': 14003, 'giập': 14004, 'nhễ': 14005, 'sũng': 14006, 'trúc': 14007, 'ngủ': 14008, 'cấu_hình': 14009, 'gia_vị': 14010, 'qua_ngày': 14011, 'kinh_hãi': 14012, 'buồn_tẻ': 14013, 'giật_cục': 14014, 'reset': 14015, 'viva': 14016, 'ở': 14017, 'hoàn_tất': 14018, 'da_bò': 14019, 'lềnh_bềnh': 14020, 'lụi': 14021, 'cá_nục': 14022, 'brainstorm': 14023, 'giang': 14024, 'từ_bỏ': 14025, 'soundmax': 14026, 'nam_định': 14027, 'thanh_niên': 14028, 'tich': 14029, 'loạn': 14030, 'ghẻ': 14031, 'công_việc': 14032, 'đàng': 14033, 'bí_quyết': 14034, 'cho_phép': 14035, 'lời_lẽ': 14036, 'thấm_thía': 14037, 'cô': 14038, 'nước_bọt': 14039, 'ất': 14040, 'nũa': 14041, 'tắc_kè': 14042, 'cảnh_quan': 14043, 'đánh_thức': 14044, 'thực_hiện': 14045, 'than_vãn': 14046, 'chỉ_được_cái': 14047, 'lq': 14048, 'lò_dò': 14049, 'nóng_ruột': 14050, 'thi_hành': 14051, 'am_hiểu': 14052, 'bánh_phồng': 14053, 'khủng': 14054, 'mặt_phố': 14055, 'ì': 14056, 'ổ_cắm': 14057, 'xung': 14058, 'nghía': 14059, 'chềnh_ềnh': 14060, 'điêp': 14061, 'cắn_xé': 14062, 'cer': 14063, 'hau': 14064, 'luân': 14065, 'ox': 14066, 'víp': 14067, 'ức_chế': 14068, 'cải_cay': 14069, 'hêt': 14070, 'brings': 14071, 'đại_la': 14072, 'brand': 14073, 'thân_thích': 14074, 'thuồng_luồng': 14075, 'thuc': 14076, '622': 14077, 'tuàn': 14078, 'nơ': 14079, 'tượng': 14080, 'bình_bịch': 14081, 'se_sắt': 14082, 'chắt_lọc': 14083, '87k': 14084, 'khá_khẩm': 14085, 'chù': 14086, 'lùa': 14087, '350gr': 14088, 'than_tổ_ong': 14089, 'lang_thang': 14090, 'ba_lô': 14091, 'đóg': 14092, 'pháp': 14093, 'pat': 14094, 'vua': 14095, 'văn_đàn': 14096, 'sượng': 14097, 'hắc_ám': 14098, 'nói_trắng_ra': 14099, '6316': 14100, 'đích_thân': 14101, 'buộc': 14102, '1977': 14103, 'gđ': 14104, 'cừu': 14105, 'nhà_hàng': 14106, 'chát_chúa': 14107, 'moist': 14108, 'lùn': 14109, 'dí_dỏm': 14110, 'syrup': 14111, 'cứng_còng': 14112, 'wellcome': 14113, 'reserved': 14114, '530000': 14115, 'titles': 14116, 'define': 14117, 'tắc_nghẽn': 14118, 'mai': 14119, 'trộn': 14120, '2312': 14121, 'korea': 14122, 'quá_tải': 14123, 'hoa_lan': 14124, 'buy': 14125, 'ballad': 14126, 'hầu': 14127, 'băm': 14128, 'trỏng': 14129, 'hum': 14130, 'teen': 14131, 'lực_lượng': 14132, 'khái_niệm': 14133, 'gắn': 14134, 'tuền': 14135, 'modern': 14136, 'nguyên_lành': 14137, 'sơ_sài': 14138, 'gy': 14139, 'đăng_kí': 14140, 'ngập': 14141, 'retro': 14142, 'quang_thảo': 14143, 'hcmc': 14144, 'trỗi': 14145, 'hamburg': 14146, 'trìh': 14147, 'wine': 14148, '975': 14149, 'miển': 14150, 'lúng_túng': 14151, 'lày': 14152, 'buồng': 14153, 'okonomiyaki': 14154, 'nhà_báo': 14155, 'tân_an': 14156, 'dẹp_tiệm': 14157, 'triển': 14158, 'eo_hẹp': 14159, 'trót': 14160, 'ậy': 14161, 'biến': 14162, 'vf': 14163, 'chuyên': 14164, 'vô_vọng': 14165, 'khí': 14166, 'bát': 14167, 'chụp_giựt': 14168, 'định_kì': 14169, 'mìnn': 14170, 'lã': 14171, 'ơ_hay': 14172, 'cà_tím': 14173, 'kỉu': 14174, 'nhẽ': 14175, 'expats': 14176, 'chẩy': 14177, 'sinh_tố': 14178, 'giáng_sinh': 14179, '202': 14180, 'trượt': 14181, 'xúm_xít': 14182, 'soạt': 14183, 'xích_đu': 14184, 'trọn_gói': 14185, 'chí_cốt': 14186, 'bõng': 14187, 'trình_tự': 14188, 'those': 14189, 'dư_thừa': 14190, 'biến_tấu': 14191, 'chất_độc': 14192, 'thấp_thoáng': 14193, 'hợi': 14194, 'điêu_khắc': 14195, 'sviên': 14196, 'thuyết_trình': 14197, 'truyền_hình': 14198, 'đền': 14199, 'will': 14200, '1xe': 14201, 'xâm_xấp': 14202, 'grilled': 14203, 'lườm': 14204, '711': 14205, 'tê_tê': 14206, 'bery': 14207, 'jờ': 14208, 'watering': 14209, 'lụp': 14210, 'xoạch': 14211, 'tí_tẹo': 14212, 'tài_trợ': 14213, 'phog': 14214, 'cáp': 14215, 'ký': 14216, 'mustard': 14217, 'trần_ai': 14218, 'lãng_quên': 14219, 'us': 14220, 'đóng_gói': 14221, 'hang_động': 14222, 'ràg': 14223, 'tỷ_lệ': 14224, 'nồng_nặc': 14225, 'lem_nhem': 14226, 'xưng': 14227, 'hyhy': 14228, 'cửa_miệng': 14229, 'dieu': 14230, 'kiên_cố': 14231, 'pháo_hoa': 14232, 'seed': 14233, 'tếch': 14234, 'bỏ_lửng': 14235, 'phần_phụ': 14236, '91': 14237, 'đơi': 14238, 'chán_nản': 14239, 'đầu_cơ': 14240, 'giặc': 14241, 'mng': 14242, 'absolutely': 14243, 'ôi': 14244, 'merely': 14245, 'nệm': 14246, 'chuộc': 14247, 'lỗi': 14248, 'bất_lợi': 14249, '9999': 14250, 'catton': 14251, 'sag': 14252, 'trung_tính': 14253, 'ngồng': 14254, 'rùng_rợn': 14255, 'quốc_khánh': 14256, 'zan': 14257, 'ngó_nghiêng': 14258, 'ckhông': 14259, 'vỏn_vẹn': 14260, 'thăm_quan': 14261, 'làn': 14262, 'phá_án': 14263, 'si_mê': 14264, 'tính_khí': 14265, 'sách_báo': 14266, 'gentle': 14267, 'san_sát': 14268, 'rượu_vang': 14269, 'з': 14270, 'vướng_víu': 14271, 'đon': 14272, 'lũn': 14273, 'trức': 14274, 'addition': 14275, 'khinh_khỉnh': 14276, 'ngược_lại': 14277, 'kêu_ca': 14278, 'confession': 14279, 'diễn_văn': 14280, 'mọt': 14281, 'snacks': 14282, 'trơn_tuột': 14283, 'từn': 14284, 'chỉa': 14285, 'hoành_phi': 14286, 'phẩm_chất': 14287, 'chi_trả': 14288, 'brewing': 14289, '67': 14290, 'mine': 14291, 'next': 14292, 'nv': 14293, 'thạch': 14294, 'scl': 14295, 'ech': 14296, 'months': 14297, 'dq': 14298, 'tiêu_chí': 14299, 'đèn': 14300, 'cảm_động': 14301, 'ball': 14302, 'bếp': 14303, 'ấy': 14304, '11h40': 14305, 'kb': 14306, 'xu': 14307, 'trừ_hao': 14308, 'xin': 14309, 'cat': 14310, 'tuỳ_hứng': 14311, 'hợp_khẩu': 14312, 'sư': 14313, 'vắng_tanh': 14314, 'giải_phóng': 14315, 'ăn_bám': 14316, 'thập_cẩm': 14317, 'trời': 14318, 'centre': 14319, 'leng_keng': 14320, 'dẫm': 14321, 'lao_công': 14322, 'động_lực': 14323, 'không_những': 14324, 'chao_chát': 14325, 'hieu': 14326, 'bigbang': 14327, 'góc': 14328, 'rác_thải': 14329, 'rág': 14330, 'cứu_chữa': 14331, 'lunches': 14332, 'trơ_trơ': 14333, 'tuỳ_ý': 14334, 'lão': 14335, 'nững': 14336, 'tò': 14337, 'station': 14338, 'nhưu': 14339, 'game': 14340, 'uống': 14341, 'thênh_thang': 14342, 'answer': 14343, 'vô_bờ': 14344, 'hòng': 14345, 'nợ': 14346, 'sub': 14347, 'trọc': 14348, 'so_bì': 14349, 'nớc': 14350, 'òy': 14351, 'we': 14352, 'whether': 14353, 'nt': 14354, 'lanh': 14355, 'lever': 14356, '1200000': 14357, 'others': 14358, 'lạp_xưởng': 14359, 'chă': 14360, 'thườg': 14361, 'ỏ': 14362, '20m': 14363, 'sơr': 14364, 'yêu_cầu': 14365, 'ngát_hương': 14366, 'mạnh_miệng': 14367, 'định_hình': 14368, 'creams': 14369, 'vnd': 14370, 'tỉ_phú': 14371, 'atmos': 14372, 'try': 14373, 'q7': 14374, 'zẽ': 14375, 'tasted': 14376, 'chăm': 14377, 'lững': 14378, 'đèn_điện': 14379, 'diễn': 14380, 'nhúc': 14381, 'piano': 14382, 'tràn_ngập': 14383, 'khuyến_khích': 14384, 'started': 14385, '237': 14386, 'xẵn': 14387, 'khù_khờ': 14388, 'veo': 14389, 'fuc': 14390, 'xi': 14391, 'tụm': 14392, 'cửa_hàng': 14393, 'thf': 14394, 'lucky': 14395, 'bich': 14396, 'nức': 14397, 'ngút_ngàn': 14398, 'wondering': 14399, 'sâu': 14400, 'lo_liệu': 14401, 'triệu_chứng': 14402, 'oai_nghiêm': 14403, 'lơ_thơ': 14404, 'độc_quyền': 14405, 'giảng_viên': 14406, 'sửa_soạn': 14407, 'vx': 14408, 'nhậu': 14409, 'géc': 14410, 'dây_leo': 14411, 'tell': 14412, '178': 14413, '138': 14414, 'chất': 14415, 'xa_lạ': 14416, 'khoai_sọ': 14417, 'nice': 14418, 'hào_hùng': 14419, 'hiện_thực': 14420, '56k': 14421, 'thieu': 14422, 'nghoe': 14423, 'rảnh': 14424, 'loved': 14425, '514': 14426, 'thường_thường': 14427, 'nhân_sự': 14428, 'thắc': 14429, 'food': 14430, 'nước_miếng': 14431, 'muốn': 14432, 'đơn': 14433, 'donald': 14434, '0h': 14435, 'pink': 14436, 'nước_khoáng': 14437, 'cơ_quan': 14438, 'lướt': 14439, 'đầu_lòng': 14440, 'làm_công': 14441, 'tuoi': 14442, 'teapot': 14443, 'gở': 14444, 'đột_nhiên': 14445, 'essentiel': 14446, 'rhum': 14447, 'trầy': 14448, 'long_thành': 14449, 'dip': 14450, 'bỏng': 14451, 'twice': 14452, 'ớn': 14453, 'gato': 14454, 'passport': 14455, '196': 14456, 'nội_bài': 14457, 'phá_giới': 14458, 'quô': 14459, '21': 14460, 'ụ': 14461, 'dúi': 14462, 'vợ': 14463, 'cây_số': 14464, 'mày_mò': 14465, 'leo_thang': 14466, '260k': 14467, 'kềnh': 14468, 'lí': 14469, 'nhủn': 14470, 'chữa': 14471, '650kg': 14472, 'ngao_ngán': 14473, 'trường_chinh': 14474, 'làm_việc': 14475, 'nền_nã': 14476, 'hoàng_bào': 14477, 'không_khéo': 14478, 'lời': 14479, 'chọi': 14480, 'spacious': 14481, 'liếm': 14482, 'đèo': 14483, 'đay': 14484, 'cái': 14485, 'ót': 14486, 'hóc': 14487, 'rare': 14488, 'xyz': 14489, 'took': 14490, 'luạn': 14491, 'ý_kiến': 14492, 'biểu': 14493, 'vãnh': 14494, 'ãi': 14495, 'viêt': 14496, 'kiem': 14497, 'vali': 14498, 'bà_xã': 14499, 'alf': 14500, 'khiến': 14501, 'luốn': 14502, 'vớt': 14503, 'change': 14504, 'khụ': 14505, 'cmmt': 14506, 'vĩnh': 14507, 'luộc': 14508, 'cá_ngựa': 14509, 'wc': 14510, 'tỉnh_bơ': 14511, 'dzữ': 14512, 'tị_nạn': 14513, 'áy': 14514, 'duyên_dáng': 14515, 'looks': 14516, 'phạm': 14517, 'ngỉu': 14518, 'hana': 14519, 'uh': 14520, '2530': 14521, 'enjoyable': 14522, 'gơ': 14523, 'kimono': 14524, 'dờn': 14525, 'ôi_thôi': 14526, 'battle': 14527, 'mặt_mày': 14528, 'a_ha': 14529, 'thậm_tệ': 14530, 'film': 14531, 'thơi': 14532, 'mít': 14533, 'mát_rượi': 14534, 'thăng_long': 14535, 'wê': 14536, 'túng': 14537, 'trà_đạo': 14538, 'vàng': 14539, 'khoảng_cách': 14540, 'lesson': 14541, 'ca_sỹ': 14542, 'xrm': 14543, 'snel': 14544, 'ghi_bàn': 14545, 'lm': 14546, 'thanks': 14547, 'tât': 14548, 'quattro': 14549, 'papa': 14550, 'xì_xụp': 14551, '11h45': 14552, 'thời_đại': 14553, 'roof': 14554, 'đăm_đăm': 14555, 'hất': 14556, 'văn_sỹ': 14557, 'itu': 14558, 'vă': 14559, 'tự_trọng': 14560, 'gần_gụi': 14561, 'siết': 14562, 'nghệ_an': 14563, 'nhàn_nhã': 14564, 'cá_da_trơn': 14565, 'rụn': 14566, 'vô_thường': 14567, '234': 14568, '1600': 14569, '350000': 14570, 'hình_phật': 14571, 'ara': 14572, 'mộ': 14573, 'kỹ_tính': 14574, 'trời_đất_ơi': 14575, 'dzã': 14576, 'mấu': 14577, 'thái_cực': 14578, 'hoe': 14579, 'chầu_chực': 14580, 'âm_phủ': 14581, 'căn_hộ': 14582, 'hè': 14583, 'mênh_mông': 14584, 'thuần_tuý': 14585, 'nhăn_nheo': 14586, '3575': 14587, 'giun': 14588, 'niên': 14589, 'tạ': 14590, 'độg': 14591, 'kiki': 14592, 'đòi_hỏi': 14593, 'laị': 14594, 'sạch_sẽ': 14595, 'platinum': 14596, 'việt': 14597, 'ngon': 14598, 'mao': 14599, 'nỗ_lực': 14600, 'bố_láo_bố_lếu': 14601, 'thiên_nhiên': 14602, 'cầu_xin': 14603, 'mad': 14604, 'lạch': 14605, 'phình': 14606, 'gja': 14607, 'ngon_lành': 14608, 'vs': 14609, 'tan_binh': 14610, 'choảnh': 14611, 'lí_nhí': 14612, 'guitarist': 14613, 'tùm_lum': 14614, 'tính_tình': 14615, 'nắg': 14616, 'ti_vi': 14617, 'its': 14618, 'chăn_gối': 14619, 'nói_điêu': 14620, 'điệu': 14621, 'phíu': 14622, 'vô_trách_nhiệm': 14623, 'đối_phó': 14624, 'goc': 14625, 'kẹt': 14626, 'kệ': 14627, 'cập': 14628, '112': 14629, 'suốt': 14630, 'những_ai': 14631, 'người_quản_lý': 14632, 'tbt': 14633, 'sự_đời': 14634, 'chúng_nó': 14635, 'trãi': 14636, 'liên_hoa': 14637, 'ruồi': 14638, 'tân_binh': 14639, 'khọ': 14640, 'cực_đại': 14641, 'ý_muốn': 14642, 'china': 14643, 'salmon': 14644, 'nhiê': 14645, 'mục_sở_thị': 14646, 'nguyễn_chí': 14647, 'lộc': 14648, 'ha_ha': 14649, 'cone': 14650, 'bàn_chân': 14651, 'xoa': 14652, 'leo': 14653, 'thiêu': 14654, 'bà_chúa': 14655, 'mèm': 14656, 'trực_tuyến': 14657, 'hướng_dẫn_viên': 14658, 'hgb': 14659, 'sunlight': 14660, 'hải_vân': 14661, 'gout': 14662, 'zã': 14663, '365k': 14664, 'uất': 14665, 'cofee': 14666, 'hangout': 14667, '212': 14668, 'cứ': 14669, '290': 14670, 'mấy_ai': 14671, 'theem': 14672, 'chịu_đựng': 14673, 'quote': 14674, 'qươ': 14675, 'd': 14676, 'nầm': 14677, 'tym': 14678, 'tiền_mặt': 14679, 'ủa': 14680, 'thân_thuộc': 14681, 'away': 14682, 'quạt_gió': 14683, 'đỗi': 14684, 'vỡ_mộng': 14685, 'hv': 14686, 'volka': 14687, 'bmt': 14688, 'trở_mặt': 14689, 'xếp': 14690, 'non_bộ': 14691, 'đài_truyền_hình': 14692, 'hỗn_láo': 14693, 'cướp': 14694, '418': 14695, 'đạn': 14696, 'deck': 14697, 'tình_đầu': 14698, 'shooting': 14699, 'chấu': 14700, 'thím': 14701, 'chuối': 14702, 'shh': 14703, 'mập_mạp': 14704, 'lợm': 14705, 'khều': 14706, 'nghịch_lý': 14707, 'yesterday': 14708, 'phục_vụ_bàn': 14709, 'har': 14710, 'nếp_cẩm': 14711, 'yêu_thương': 14712, 'cheesecake': 14713, 'ới': 14714, 'nguyên_xi': 14715, '1h': 14716, 'thiệ': 14717, 'hiện_giờ': 14718, 'chính_khách': 14719, '50': 14720, 'chép_chép': 14721, 'cặm_cụi': 14722, 'tầm_cỡ': 14723, 'có_lẽ_nào': 14724, 'yến_sào': 14725, 'phút': 14726, '65c': 14727, 'zào': 14728, 'giân': 14729, 'giảng': 14730, 'every': 14731, 'chảo': 14732, 'ngon_ăn': 14733, 'darts': 14734, 'vũ_nữ': 14735, 'hardcore': 14736, 'bình_dân': 14737, 'ﾟ': 14738, 'người_lớn': 14739, 'đồng_đỏ': 14740, 'thoáng_đãng': 14741, 'cơ_động': 14742, 'rot': 14743, 'juice': 14744, 'xl': 14745, 'element': 14746, 'cbị': 14747, 'đẵng': 14748, '15k': 14749, 'bad': 14750, 'nữ_tính': 14751, 'jjimjilbang': 14752, 'mở_cửa': 14753, 'wefie': 14754, 'okey': 14755, 'nam_tính': 14756, 'lớ': 14757, 'sắn': 14758, '11h35': 14759, 'an_khánh': 14760, 'khi': 14761, 'có_tuổi': 14762, 'ngăm': 14763, 'thơm_ngát': 14764, 'giữ_gìn': 14765, 'master': 14766, 'inter': 14767, 'mắt_cá': 14768, 'chật_hẹp': 14769, 'chua_lòm': 14770, '139k': 14771, 'ngọt_lịm': 14772, 'cửa_hiệu': 14773, 'cộc_lốc': 14774, 'nki': 14775, 'hou': 14776, 'lắp': 14777, 'bưã': 14778, 'phu_thê': 14779, 'đầu_lưỡi': 14780, 'staff': 14781, 'pất': 14782, 'sê': 14783, 'blues': 14784, '502': 14785, '230k': 14786, 'thấu_hiểu': 14787, '45000': 14788, 'vi_tính': 14789, 'bí_bách': 14790, 'phà': 14791, 'rủ': 14792, 'bản_năng': 14793, 'từ': 14794, 'cng': 14795, 'đuôi': 14796, 'giả_sử': 14797, 'crabs': 14798, 'itself': 14799, 'tấm': 14800, 'ppl': 14801, '399': 14802, 'oà': 14803, 'nguyên_liệu': 14804, 'nitơ': 14805, 'gió_mùa': 14806, 'trình': 14807, 'rốn': 14808, 'châm': 14809, 'tomato': 14810, 'tiêu_hoá': 14811, 'khak': 14812, 'th': 14813, '0013': 14814, 'hơi_hám': 14815, 'quê_mùa': 14816, '176': 14817, 'sàng': 14818, 'nối_tiếp': 14819, 'lăng_mộ': 14820, 'ũng': 14821, 'chạy_ngược_chạy_xuôi': 14822, 'chk': 14823, 'am': 14824, 'đãi': 14825, '250g': 14826, '180': 14827, 'chót_vót': 14828, 'lấp_liếm': 14829, 'nguyên': 14830, 'đời_đầu': 14831, 'mía': 14832, 'pé': 14833, 'tuyểt': 14834, 'cul': 14835, 'vồn': 14836, 'tím_tái': 14837, 'rửa': 14838, 'tuy_vậy': 14839, 'rầm_rầm': 14840, 'kênh_kiệu': 14841, 'bụi_bậm': 14842, 'tập_luyện': 14843, 'sắp_đặt': 14844, 'please': 14845, 'tóc_đuôi_gà': 14846, 'rượu_đế': 14847, 'xan': 14848, 'english': 14849, 'ctrai': 14850, 'jay': 14851, 'driving': 14852, 'kí': 14853, 'galang': 14854, 'nên': 14855, 'clean': 14856, 'thảm': 14857, 'thanh_minh': 14858, 'hag': 14859, 'date': 14860, 'aloe': 14861, 'như_không': 14862, 'gác': 14863, '12pm': 14864, 'birdy': 14865, 'snack': 14866, 'đán': 14867, 'quên_lãng': 14868, 'khổ_cực': 14869, 'kíêm': 14870, 'xế': 14871, 'hành_trình': 14872, 'hậm_hực': 14873, 'cà_rỡn': 14874, 'chậm_tiến': 14875, 'sơ_sót': 14876, 'hắn': 14877, 'vết': 14878, 'sưng': 14879, 'nikon': 14880, 'ag': 14881, 'nhiện': 14882, 'addicted': 14883, 'giỗ': 14884, 'ơi_là': 14885, 'bóng_chày': 14886, 'when': 14887, 'shouldn': 14888, 'dụng_ý': 14889, 'đồ_vật': 14890, 'đất': 14891, 'bịa_đặt': 14892, '313': 14893, 'dội': 14894, 'bingsu': 14895, 'pane': 14896, 'fân': 14897, 'bánh_rán': 14898, 'bét': 14899, 'chao': 14900, 'lee': 14901, 'băng': 14902, 'nguyên_tắc': 14903, 'điem': 14904, 'nốt_nhạc': 14905, 'cầu_thang_máy': 14906, '94': 14907, 'tuồn': 14908, 'kaf': 14909, 'wed': 14910, 'woon': 14911, 'lơ_ngơ': 14912, 'ja': 14913, 'tàu': 14914, 'hờn': 14915, 'vạ_vật': 14916, 'nguyễn_hoàng': 14917, 'làu': 14918, 'christmas': 14919, 'nằm_mơ': 14920, 'aladin': 14921, 'haa': 14922, 'quá_lời': 14923, 'buổi_trưa': 14924, 'thượng_khách': 14925, 'nhủ': 14926, 'cảm_ơn': 14927, 'dream': 14928, '308': 14929, 'lội_bộ': 14930, 'nhèo_nhẽo': 14931, 'moo': 14932, 'bánh_đa_nem': 14933, 'xuyến': 14934, 'lăng_xê': 14935, 'ib': 14936, 'nha_khoa': 14937, 'cosa': 14938, 'trĩu': 14939, 'dạn': 14940, 'ala': 14941, 'duới': 14942, '14': 14943, 'chữ_cái': 14944, 'nhóm_họp': 14945, 'tốt_bụng': 14946, 'hack': 14947, 'hũng': 14948, 'ít_ra': 14949, 'nỏi': 14950, 'vọng': 14951, 'crispy': 14952, '950ml': 14953, 'hứg': 14954, 'định_vị': 14955, 'bỗng_nhiên': 14956, 'thiu': 14957, 'hăm': 14958, 'hái': 14959, 'hứa_hẹn': 14960, 'dở_tệ': 14961, 'thìngười': 14962, 'gateaux': 14963, 'đầy_đủ': 14964, 'loft': 14965, 'mất_lòng': 14966, 'khách': 14967, 'thần_hồn': 14968, 'cong_queo': 14969, 'ưu_tiên': 14970, 'bánh_tráng': 14971, 'cả_tin': 14972, 'mướt': 14973, 'khắt_khe': 14974, 'quoài': 14975, 'xẹt': 14976, '10000': 14977, 'hachiko': 14978, '50p': 14979, 'lẹ_làng': 14980, 'chấm': 14981, 'cắm': 14982, 'giăng': 14983, 'gò_bó': 14984, 'âm': 14985, 'thủ_đoạn': 14986, 'cạ': 14987, 'hàm': 14988, 'bất_chấp': 14989, 'dơ': 14990, 'giất': 14991, 'riếng': 14992, 'đâm_ra': 14993, 'hươu': 14994, 'truong': 14995, 'nông_choèn': 14996, 'dàn_nhạc': 14997, 'cảm_thụ': 14998, 'to_tướng': 14999, 'lầm_lầm_lì_lì': 15000, 'bạn_đọc': 15001, 'vạch': 15002, 'full': 15003, 'trên': 15004, 'ưa': 15005, 'nổi_tiếng': 15006, 'hấp_thu': 15007, 'gia_chủ': 15008, 'thăm_nom': 15009, 'gyudon': 15010, 'kỳ_cục': 15011, '122': 15012, 'ub': 15013, 'cáh': 15014, 'vùng_miền': 15015, 'ngườ': 15016, 'uốn': 15017, 'thư_thái': 15018, '2pm': 15019, 'vtv': 15020, 'virut': 15021, 'hehehhe': 15022, 'vết_thương': 15023, 'thận_trọng': 15024, 'nóng_tính': 15025, 'zj': 15026, 'tùân': 15027, 'tường_tận': 15028, 'while': 15029, 'vù': 15030, 'bacio': 15031, 'đạo_quán': 15032, 'luan': 15033, 'xmas': 15034, 'té_ngửa': 15035, 'ca_ri': 15036, 'vù_vù': 15037, 'vơis': 15038, 'vi': 15039, 'ná': 15040, 'mong_muốn': 15041, 'contener': 15042, 'sấm_sét': 15043, 'khư': 15044, '1500đ': 15045, 'dằm': 15046, 'đb': 15047, 'mê_tơi': 15048, 'cầu_giấy': 15049, 'lờ_tịt': 15050, 'qán': 15051, 'hhk': 15052, 'chịu_chơi': 15053, 'hoa_giấy': 15054, 'cụ': 15055, 'típ': 15056, 'đậu_phộng': 15057, 'ge': 15058, 'lộm_cộm': 15059, 'đúp': 15060, 'tây_tây': 15061, 'ráo_hoảnh': 15062, 'nx': 15063, 'huyên': 15064, 'thửơng': 15065, 'mùg': 15066, 'yên_vui': 15067, 'vương': 15068, 'bỗng_dưng': 15069, 'côn_đồ': 15070, 'hộng': 15071, 'lực': 15072, 'cờ_bạc': 15073, 'chuyên_cần': 15074, 'giầm': 15075, 'bao': 15076, 'biểu_đồ': 15077, 'lầ': 15078, 'châu': 15079, 'wall': 15080, 'kleine': 15081, 'cộm': 15082, 'ghế': 15083, 'công_sức': 15084, 'dừa': 15085, 'đắn_đo': 15086, 'để_dành': 15087, 'êm': 15088, 'hy_lạp': 15089, 'nhấn': 15090, 'cứ_việc': 15091, 'bông': 15092, 'mail': 15093, 'top5': 15094, 'sized': 15095, 'rổ': 15096, 'tam': 15097, 'are': 15098, 'đét': 15099, 'ăn1': 15100, 'dark': 15101, 'tum': 15102, 'rum': 15103, 'each': 15104, '257': 15105, 'eland': 15106, 'glass': 15107, 'nhựng': 15108, 'q10': 15109, 'link': 15110, 'sắc_thái': 15111, 'lì': 15112, 'hậu': 15113, 'vừng': 15114, 'kiến_thức': 15115, 'ngậm': 15116, '120': 15117, '4con': 15118, 'thời_buổi': 15119, 'ẩm_thấp': 15120, 'cơn': 15121, 'tonkatsu': 15122, 'se_se': 15123, 'bắp': 15124, 'sụt_giảm': 15125, 'nganh': 15126, '3t': 15127, 'tươi_tỉnh': 15128, 'ề': 15129, 'trò_chơi': 15130, 'khéo_tay': 15131, 'thiết_kế': 15132, 'khà': 15133, 'quốc_tế': 15134, 'giống': 15135, 'qăng': 15136, 'tai_nghe': 15137, 'suong': 15138, 'làm_quen': 15139, 'vây': 15140, 'xử_lí': 15141, 'xông_hơi': 15142, 'bản_sắc': 15143, 'chặng': 15144, 'ven': 15145, 'xéo': 15146, 'hết_hồn': 15147, 'pmai': 15148, 'rưới': 15149, 'công_nhân_viên': 15150, 'học_phí': 15151, 'pq': 15152, 'mứt': 15153, '112016': 15154, 'sinh_động': 15155, 'tính': 15156, 'klein': 15157, 'viu': 15158, 'stars': 15159, 'nặn': 15160, 'lè': 15161, 'ra_dáng': 15162, 'rưõi': 15163, 'dự_trữ': 15164, 'mặc_cả': 15165, 'trứ': 15166, 'quản_lý': 15167, 'sượt': 15168, 'thỉnh_thoảng': 15169, 'tức_là': 15170, 'áo_cưới': 15171, 'trạng_thái': 15172, 'chao_ôi': 15173, 'dè_bỉu': 15174, 'quăng': 15175, 'huyệt': 15176, 'dien': 15177, 'ngõ': 15178, 'xuất_sắc': 15179, 'tơ': 15180, 'tẻo': 15181, 'jt': 15182, 'tiếp_tân': 15183, 'gói': 15184, 'yersin': 15185, 'wlan': 15186, 'truyện_cổ_tích': 15187, 'èm': 15188, 'cu': 15189, 'ghi_ghi': 15190, 'hình_mẫu': 15191, 'bgirl': 15192, '9h30': 15193, 'hệ_thống': 15194, 'miễn_cưỡng': 15195, 'thiện': 15196, 'trư': 15197, '110815': 15198, 'trụ_sở': 15199, 'nóng': 15200, 'macca': 15201, '50km': 15202, 'máu_nóng': 15203, 'lứm': 15204, 'đừ': 15205, 'bảo_hiểm_y_tế': 15206, 'bả': 15207, 'ngoai': 15208, 'phèo': 15209, 'sặc': 15210, 'sinh_hoạt': 15211, 'xoắn': 15212, 'hẻm': 15213, 'kỹ_càng': 15214, 'nap': 15215, 'chê_trách': 15216, 'đìu_hiu': 15217, 'chang_chang': 15218, 'xạo': 15219, 'nãy_giờ': 15220, 'đã': 15221, 'moly': 15222, 'they': 15223, 'cẩn_thận': 15224, 'alaska': 15225, '1509': 15226, 'chym': 15227, 'dân_quê': 15228, 'hối_lộ': 15229, 'nhũng': 15230, 'strange': 15231, 'sướt': 15232, 'chà_bá': 15233, 'sẻ': 15234, 'alot': 15235, 'phá_sản': 15236, 'đi_đường_vòng': 15237, 'etc': 15238, 'rỗng_tuếch': 15239, 'loại': 15240, '1kg5': 15241, 'tuởng': 15242, 'bất_mãn': 15243, 'điều_kiện': 15244, 'giường': 15245, 'bfa': 15246, 'bạc_hà': 15247, 'hoạ_sĩ': 15248, 'corona': 15249, 'rau_ngổ': 15250, 'tiéng': 15251, 'festival': 15252, 'vừa': 15253, 'động_trời': 15254, 'vật_liệu': 15255, 'đễ': 15256, 'rewiew': 15257, 'halal': 15258, '190k': 15259, 'con_thoi': 15260, '360': 15261, 'ban_đêm': 15262, 'wiffi': 15263, 'mắn': 15264, 'giành': 15265, 'bừa_phứa': 15266, '1a': 15267, '2k': 15268, 'bẩn_thỉu': 15269, '10n': 15270, 'mổ_xẻ': 15271, 'billiards': 15272, '6h45': 15273, 'máy_vi_tính': 15274, 'mệ': 15275, 'isn': 15276, 'bắt_đền': 15277, 'hời_hợt': 15278, 'zì': 15279, 'đấm_bóp': 15280, 'ftu': 15281, 'số_lẻ': 15282, 'điệu_bộ': 15283, 'giết': 15284, 'hàng_đầu': 15285, 'ăn_may': 15286, 'nguyên_bản': 15287, 'ksao': 15288, 'hắt_hủi': 15289, 'ngào_ngạt': 15290, 'rộp': 15291, 'động_thái': 15292, 'vụ': 15293, 'cuốn_hút': 15294, 'sùng_sục': 15295, 'wants': 15296, 'ngần': 15297, 'lân_cận': 15298, 'khốn_nạn': 15299, 'pepperoni': 15300, 'xả': 15301, 'nấu_ăn': 15302, 'hén': 15303, 'sang_trọng': 15304, 'mỹ_đình': 15305, 'su_su': 15306, 'địh': 15307, 'thẩm_mỹ': 15308, 'lăn': 15309, 'váo': 15310, 'lảng': 15311, 'mưu_sinh': 15312, 'bánh_quế': 15313, 'chứng_tích': 15314, 'kì_vọng': 15315, 'quyễn': 15316, 'trường_sơn': 15317, 'nhạc_sĩ': 15318, '41g': 15319, 'dimsum': 15320, 'mòng': 15321, 'rót': 15322, 'perfect': 15323, 'triển_lãm': 15324, '1chỗ': 15325, 'cậu': 15326, 'tết_âm_lịch': 15327, 'hồn': 15328, 'pg': 15329, 'sỉ_nhục': 15330, 'max': 15331, 'cherry': 15332, 'kịp_thời': 15333, 'vegetarian': 15334, 'đẫn': 15335, 'khog': 15336, '1993': 15337, 'chừng_mực': 15338, 'gạ_gẫm': 15339, 'shuffle': 15340, 'trà': 15341, 'spirulina': 15342, 'phân_loại': 15343, 'greatly': 15344, 'lời_nói': 15345, 'rơm': 15346, 'đất_nung': 15347, 'la_cà': 15348, 'trc': 15349, 'mềnh': 15350, 'chai': 15351, 'aq': 15352, 'văn_hoá': 15353, 'đăng_đắng': 15354, 'báo_cáo': 15355, 'hiuhiu': 15356, 'bede': 15357, '3920': 15358, 'nhaaaaa': 15359, 'could': 15360, 'thô_thiển': 15361, 'hẳn': 15362, '500': 15363, '800': 15364, 'chery': 15365, 'thượng_lưu': 15366, 'rếu': 15367, 'hững_hờ': 15368, '1l': 15369, '6đ': 15370, 'rỉ': 15371, 'ồng': 15372, 'truyền_cảm': 15373, 'sàn_nhảy': 15374, 'exc': 15375, 'tộn': 15376, 'sp': 15377, 'ngui': 15378, 'nghé': 15379, 'bí_đao': 15380, 'buồn_buồn': 15381, 'tổng_thống': 15382, '1500k': 15383, 'vendor': 15384, 'vui_vẻ': 15385, 'đủa': 15386, 'kì': 15387, 'flap': 15388, 'mcdonald': 15389, 'đưa_mắt': 15390, '195k': 15391, '18a': 15392, '15m': 15393, 'jasmine': 15394, 'kjh': 15395, 'lưu_trú': 15396, 'trùng': 15397, 'nhân_số': 15398, 'mood': 15399, 'đổ_vỡ': 15400, 'trloi': 15401, 'đối_xứng': 15402, 'yummy': 15403, 'công_ti': 15404, 'nô_tỳ': 15405, 'yêu_mến': 15406, 'miệt_vườn': 15407, 'mỏ': 15408, 'np': 15409, 'nhân_dân': 15410, 'nhấm': 15411, 'bươ': 15412, 'sỉn': 15413, 'lôi_kéo': 15414, '198k': 15415, 'windmills': 15416, 'hiên': 15417, 'deu': 15418, 'tồi_tàn': 15419, 'nhịn_nhục': 15420, '12g': 15421, 'khảnh': 15422, 'bạch_tuộc': 15423, 'dỡ': 15424, 'gãy': 15425, 'tùn': 15426, 'mộc_nhĩ': 15427, 'lạy_lục': 15428, 'nhỉnh': 15429, 'lâm': 15430, 'requests': 15431, 'cau_có': 15432, 'đối_xử': 15433, 'lập_hạ': 15434, 'tường': 15435, 'tiu': 15436, '1pm': 15437, '267': 15438, 'rợn': 15439, 'căm': 15440, '350': 15441, 'liều': 15442, 'cải_củ': 15443, 'mở': 15444, 'hùng': 15445, 're': 15446, 'ơng': 15447, 'rung': 15448, 'ăn_nhập': 15449, 'tob': 15450, 'cáu_bẳn': 15451, 'paster': 15452, 'clip': 15453, 'lúc_nhúc': 15454, 'xoáy': 15455, 'á_âu': 15456, '11': 15457, 'dầy_cộp': 15458, 'thích_thú': 15459, 'lam_nham': 15460, 'vơ': 15461, 'mẹ_con': 15462, 'vsinh': 15463, 'tay_phải': 15464, 'quên': 15465, 'thig': 15466, 'bánh_ướt': 15467, 'vỉ': 15468, 'scoop': 15469, 'yên_chí': 15470, 'xao': 15471, 'inox': 15472, 'least': 15473, 'cổ_phần': 15474, 'nghĩa_lý': 15475, 'mới_lạ': 15476, 'mog': 15477, 'thoái': 15478, 'blue': 15479, '113': 15480, 'trầm_trầm': 15481, '20815': 15482, 'perdu': 15483, 'đồng_khởi': 15484, 'năm_kia': 15485, 'cười_cợt': 15486, 'nxét': 15487, 'trách_móc': 15488, 'phươg': 15489, 'một_khi': 15490, 'ngạy': 15491, 'rong': 15492, 'quá_đáng': 15493, 'running': 15494, 'cằm': 15495, 'course': 15496, 'hìa': 15497, 'workshop': 15498, 'bộ_đội': 15499, 'lớn': 15500, 'hoay': 15501, 'để_mắt': 15502, 'đy': 15503, 'sôi_nổi': 15504, 'sớm_muộn': 15505, 'hiện_tại': 15506, 'hưng': 15507, 'd2': 15508, 'tập_hợp': 15509, '1lau': 15510, 'e': 15511, 'thực_khách': 15512, 'trái_lại': 15513, '24h': 15514, 'nhẵn': 15515, 'lờ_mờ': 15516, 'xấu_tính': 15517, 'lacquer': 15518, 'hỗn_loạn': 15519, 'lẽ_ra': 15520, 'lottemart': 15521, 'và': 15522, 'chõ': 15523, 'tăng': 15524, 'lim': 15525, 'do': 15526, 'zou': 15527, 'tó': 15528, 'tranh_cãi': 15529, 'jo': 15530, 'dữ_dằn': 15531, 'chế_nhạo': 15532, 'nghĩ': 15533, '43': 15534, 'hơm': 15535, 'tràn_đầy': 15536, 'buble': 15537, 'fí': 15538, 'khâ': 15539, 'duyen': 15540, 'mồn_một': 15541, 'screaming': 15542, 'farewell': 15543, 'vơí': 15544, 'đg': 15545, 'phản_biện': 15546, 'tài_sắc': 15547, 'trung_nguyên': 15548, 'đan_xen': 15549, 'dấu_hiệu': 15550, 'cá_mập': 15551, 'deluxe': 15552, 'sả': 15553, 'sơ_ý': 15554, 'im': 15555, 'gơi': 15556, 'đỏ_rực': 15557, 'lương': 15558, 'hình_thức': 15559, 'cũm': 15560, 'luong': 15561, 'kích_cỡ': 15562, 'fin': 15563, 'bỏ_ngoài_tai': 15564, 'card': 15565, 'nhất_quán': 15566, 'phải_chăng': 15567, 'chúng': 15568, 'chua_loét': 15569, 'nhé': 15570, 'đầu_máy': 15571, 'giật_mình': 15572, 'suờn': 15573, 'phiến': 15574, 'rằn': 15575, 'nhun': 15576, 'rỉ_tai': 15577, 'nói_xấu': 15578, 'lnh': 15579, 'yamamoto': 15580, 'an_bình': 15581, 'nói_chơi': 15582, 'quá_xá': 15583, 'nghỉ_chân': 15584, 'trộm_cắp': 15585, 'lấp': 15586, 'lè_nhè': 15587, 'có_mang': 15588, 'luận': 15589, 'só': 15590, 'di_dân': 15591, 'cach': 15592, 'có_hậu': 15593, 'phổi': 15594, 'long_lanh': 15595, 'pãi': 15596, 'feeling': 15597, 'overflowing': 15598, 'chàng_trai': 15599, 'naar': 15600, 'thoang': 15601, 'ca_tụng': 15602, 'lông': 15603, 'thưc': 15604, 'tí': 15605, 'disgusting': 15606, 'nhàu_nát': 15607, 'marry': 15608, 'chi_tiêu': 15609, 'nàng_thơ': 15610, 'tóc_tai': 15611, 'bụ': 15612, 'góc_độ': 15613, 'cú_mèo': 15614, 'tối_tăm': 15615, 'nhảm': 15616, 'ngọ': 15617, 'nhu': 15618, 'decord': 15619, 'kaze': 15620, 'cổg': 15621, 'big_c': 15622, 'm7': 15623, 'hìn': 15624, 'chận': 15625, 'spaghetti': 15626, 'mật_khẩu': 15627, 'ếy': 15628, 'câu': 15629, '300m': 15630, 'mv': 15631, 'room': 15632, 'viiên': 15633, 'mĩ': 15634, 'kingdom': 15635, 'phủ_đầu': 15636, 'vặn': 15637, 'khang_gia': 15638, 'gjan': 15639, 'ngàn': 15640, 'cư_xá': 15641, 'cuống': 15642, 'olympus': 15643, 'qian': 15644, 'guardian': 15645, 'vĩnh_bảo': 15646, 'welcoming': 15647, '2cai': 15648, 'nhay': 15649, 'xích_mích': 15650, 'phom': 15651, 'cây_thế': 15652, '300gam': 15653, 'nàh': 15654, 'huhuh': 15655, 'early': 15656, 'event': 15657, 'lợ': 15658, 'kéo_dài': 15659, 'bc': 15660, 'nông_nỗi': 15661, 'bản_làng': 15662, 'dó': 15663, 'loè': 15664, 'khẩu_hiệu': 15665, 'dửng_dừng_dưng': 15666, 'xuề_xoà': 15667, 'phương': 15668, 'trừ': 15669, 'dinh_dưỡng': 15670, 'tỏ_vẻ': 15671, 'lục_lạc': 15672, 'quản': 15673, 'đầm_sen': 15674, 'đx': 15675, 'q2': 15676, 'đuông': 15677, 'xong_xuôi': 15678, 'hồng_đào': 15679, 'ỏm_tỏi': 15680, 'cá_sấu': 15681, 'học_hỏi': 15682, 'nhug': 15683, 'pleased': 15684, 'thành_hình': 15685, 'daz': 15686, 'hịc': 15687, 'ý_định': 15688, 'recently': 15689, 'xon': 15690, 'ban_đầu': 15691, 'chỉ_trỏ': 15692, 'biện_pháp': 15693, 'bảng_số': 15694, 'rét': 15695, 'ngổ_ngáo': 15696, 'bản_nhạc': 15697, '21h': 15698, 'chuyên_khoa': 15699, 'vut': 15700, 'vung': 15701, 'vde': 15702, 'hoá_đơn': 15703, 'giá_vốn': 15704, 'bánh_cắt': 15705, 'ghè': 15706, 'phóng_sự': 15707, 'trung_hoa': 15708, 'thảy': 15709, 'đốn': 15710, 'napoli': 15711, '560': 15712, 'mủi': 15713, 'ông': 15714, 'superme': 15715, 'vuông': 15716, 'going': 15717, 'lsf': 15718, 'papparoti': 15719, 'yakiniku': 15720, 'quẫy': 15721, 'quý_tộc': 15722, 'lung_lay': 15723, 'nào_ngờ': 15724, 'cơm_bữa': 15725, 'chốn': 15726, 'tốt_lành': 15727, 'thủ_đô': 15728, 'ж': 15729, 'emm': 15730, 'kon': 15731, 'laa': 15732, 'bộp': 15733, 'chuột': 15734, 'nam_giới': 15735, 'cồm': 15736, 'ㅠ': 15737, '32': 15738, 'ngoét': 15739, 'tích_luỹ': 15740, 'husband': 15741, 'qua_lại': 15742, '45p': 15743, 'tưg': 15744, 'hăn': 15745, 'khối': 15746, 'home': 15747, 'chim_cút': 15748, 'thăng': 15749, 'thòm_thèm': 15750, 'bất_tận': 15751, 'ngại_ngùng': 15752, 'gonna': 15753, 'tin_tưởng': 15754, 'seems': 15755, 'violet': 15756, 'lá': 15757, 'hãi': 15758, 'gừng': 15759, 'ham_hố': 15760, 'dần_dà': 15761, 'wordt': 15762, 'page': 15763, 'xè_xè': 15764, 'chính_tả': 15765, 'quý': 15766, 'giắc': 15767, 'teo_tóp': 15768, 'đánh_vật': 15769, 'td': 15770, 'tg': 15771, 'ngọc_trai': 15772, 'hờ': 15773, 'ấm_ức': 15774, 'luôi': 15775, 'đâ': 15776, 'ngoan_ngoãn': 15777, 'chính_cống': 15778, 'văng': 15779, 'living': 15780, 'hết_mức': 15781, 'càm': 15782, 'sick': 15783, 'lỳ': 15784, 'ngac': 15785, 'crazy': 15786, 'pana': 15787, '45ph': 15788, 'sopha': 15789, '30g': 15790, 'standar': 15791, '224': 15792, 'heaven': 15793, 'surprisingly': 15794, 'mê_ly': 15795, '9g30': 15796, 'khớp': 15797, 'băp': 15798, 'sony': 15799, 'downgrade': 15800, 'xui': 15801, 'cannot': 15802, 'vờ': 15803, 'diê': 15804, 'qus': 15805, 'aka': 15806, 'rt': 15807, 'hẵn': 15808, 'cam_ly': 15809, 'lẹc': 15810, 'delicious': 15811, 'phượt': 15812, 'thận': 15813, 'lắn': 15814, 'kiên_giang': 15815, 'el': 15816, 'gen': 15817, 'concept': 15818, 'rời': 15819, 'đi_tu': 15820, 'mong_đợi': 15821, 'việt_trì': 15822, 'sạch_bóng': 15823, 'nóng_giận': 15824, 'panna': 15825, 'xuong': 15826, 'xù': 15827, 'lop': 15828, 'bia_chai': 15829, 'nhây': 15830, 'liked': 15831, 'cánh_tay': 15832, 'thăg': 15833, 'amen': 15834, 'đồng_cỏ': 15835, 'lê': 15836, 'chudu': 15837, 'thiên': 15838, 'bh': 15839, 'kit': 15840, 'nghiê': 15841, 'thuôc': 15842, 'а': 15843, 'taps': 15844, 'kế_toán': 15845, 'thời_hạn': 15846, 'pa': 15847, 'molten': 15848, 'vĩa': 15849, 'tiệc_đứng': 15850, 'hẻ': 15851, 'hợp_tác': 15852, 'có_dễ': 15853, 'vêu': 15854, 'cầu_hôn': 15855, 'chú_rể': 15856, 'thanh_tâm': 15857, 'lốm_đốm': 15858, 'cô_gái': 15859, 'ticket': 15860, '3a': 15861, 'xtreme': 15862, 'hời': 15863, 'ngì': 15864, 'phý': 15865, 'mều': 15866, 'check': 15867, 'ria': 15868, 'hôm': 15869, 'nhạc_cụ': 15870, '5km': 15871, 'sms': 15872, 'gâ': 15873, 'ngày_mùa': 15874, 'au': 15875, 'cản_trở': 15876, 'mời_mọc': 15877, 'điên_cuồng': 15878, 'far': 15879, 'hiện_nay': 15880, 'trr': 15881, 'ănn': 15882, 'thứ_bậc': 15883, 'phân_nửa': 15884, 'enchilada': 15885, 'niêm_yết': 15886, 'đứng_tim': 15887, 'dì': 15888, 'good': 15889, 'ok': 15890, 'hậu_quả': 15891, 'náo_nức': 15892, '58k': 15893, 'xưa': 15894, 'rảo': 15895, 'sọc': 15896, 'chào_thua': 15897, 'khinh': 15898, 'máng': 15899, 'khuyết_điểm': 15900, 'hởi': 15901, 'sarang': 15902, 'casanova': 15903, 'tiêp': 15904, 'bữa_nay': 15905, 'lấn': 15906, 'sầu_riêng': 15907, 'no_đủ': 15908, 'xich': 15909, 'phiên_bản': 15910, 'bianco': 15911, 'tập_thể_dục': 15912, 'superb': 15913, 'ương': 15914, 'sez': 15915, 'mặt_nạ': 15916, 'hải_nam': 15917, 'xương_máu': 15918, 'bánh_hỏi': 15919, 'trơn': 15920, 'hawaiian': 15921, 'kiêm': 15922, 'kid': 15923, 'holine': 15924, 'quẳng': 15925, 'phần_mềm': 15926, 'dân': 15927, 'ngóng': 15928, 'mặt_hàng': 15929, 'quấn': 15930, '170': 15931, 'hồ_hởi': 15932, 'many': 15933, 'dày_đặc': 15934, 'nguyên_văn': 15935, 'fine': 15936, 'phũ': 15937, 'blended': 15938, 'cua_đỏ': 15939, '2016': 15940, 'câm_điếc': 15941, 'uncomfortable': 15942, 'quáng': 15943, 'bạc': 15944, 'bạch': 15945, 'gơn': 15946, 'đối_lập': 15947, 'đỡ': 15948, 'ma_trận': 15949, 'đại_lộ': 15950, 'biết': 15951, 'lặm': 15952, 'đáng_kể': 15953, 'hỡi': 15954, 'tóm_tắt': 15955, 'lương_thực': 15956, 'nhượng': 15957, 'hỗn': 15958, 'chuỵên': 15959, 'luck': 15960, 'feel': 15961, 'hoá_học': 15962, 'rustic': 15963, 'noticed': 15964, 'nghĩa_vụ': 15965, 'bỏ_mẹ': 15966, '10h10': 15967, 'honeycomb': 15968, 'tăng_trọng': 15969, 'trasua': 15970, 'profit': 15971, 'tả': 15972, 'seo': 15973, 'jjj': 15974, 'stones': 15975, 'ăn_hàng': 15976, 'ăn_cướp': 15977, 'rơ': 15978, 'thai': 15979, 'náy': 15980, '3012': 15981, 'báu': 15982, 'ấm': 15983, 'nhue': 15984, 'bình_trưng': 15985, 'thiết_yếu': 15986, 'thuyết_minh': 15987, 'lam_sơn': 15988, 'cảm_thấy': 15989, 'chén': 15990, 'phân_bố': 15991, 'mijn': 15992, 'nhin': 15993, 'nhiẹt': 15994, 'pos': 15995, 'phơ': 15996, 'v': 15997, 'kìm': 15998, 'cân_đo': 15999, 'đưa_đẩy': 16000, 'ngón_tay': 16001, 'dữ_liệu': 16002, 'merci': 16003, 'trều': 16004, 'ba_khía': 16005, 'giởn': 16006, 'lứng': 16007, 'hmmm': 16008, 'tút': 16009, '161': 16010, 'rại': 16011, 'la_làng': 16012, 'xếp_hàng': 16013, 'rũ_rượi': 16014, 'duong': 16015, 'miềm': 16016, 'qa': 16017, 'ơii': 16018, 'tóp': 16019, 'mốt': 16020, 'nhéo': 16021, 'restroom': 16022, 'gravy': 16023, 'dụng': 16024, 'toilette': 16025, '3tầng': 16026, 'đài_loan': 16027, 'xỏ': 16028, 'mụn': 16029, 'pá': 16030, 'một_mình': 16031, 'rộng_rãi': 16032, 'worst': 16033, 'nhược_điểm': 16034, 'zách': 16035, 'đắng_ngắt': 16036, 'chăng': 16037, 'bv': 16038, 'khổng': 16039, 'mất_mùa': 16040, 'nghiệp_vụ': 16041, 'jch': 16042, 'đoan': 16043, 'hạy': 16044, 'hđộng': 16045, 'vô_ý': 16046, 'mầu_sắc': 16047, 'kkhi': 16048, 'phóng_khoáng': 16049, '18h': 16050, 'quynh': 16051, 'smothie': 16052, '126': 16053, 'cớ_sao': 16054, 'bậy': 16055, 'động_đất': 16056, 'б': 16057, 'bia': 16058, 'caramen': 16059, 'pot': 16060, 'kén': 16061, 'wat': 16062, 'gỉa': 16063, 'đỉêm': 16064, 'sadec': 16065, 'nêu': 16066, 'cũa': 16067, 'sản': 16068, 'thi_công': 16069, 'lựơt': 16070, 'phụ': 16071, 'thuỷ_cung': 16072, 'muộn_màng': 16073, '3k': 16074, 'a1': 16075, 'lầy_lội': 16076, 'ăn_mòn': 16077, 'chăm_sóc': 16078, 'chen_lấn': 16079, 'hell': 16080, 'cá_rô_phi': 16081, 'vườn_tược': 16082, 'đồng_hương': 16083, '72': 16084, 'oan_uổng': 16085, 'chiều_chiều': 16086, 'cáng_đáng': 16087, 'đường_sắt': 16088, 'mắt_mũi': 16089, 'vov': 16090, 'sweets': 16091, 'hom': 16092, 'trang_trọng': 16093, 'tĩng': 16094, 'sprite': 16095, 'comeback': 16096, 'overpriced': 16097, 'phát_tài': 16098, 'bầy_nhầy': 16099, 'facebook': 16100, 'đường_kính': 16101, 'cũmg': 16102, 'trung_niên': 16103, 'nguẩy': 16104, 'whip': 16105, 'dạng_thức': 16106, 'nháh': 16107, 'đzai': 16108, 'vitage': 16109, 'nhieu': 16110, 'mien': 16111, 'chung_thuỷ': 16112, 'ổng': 16113, 'cổ_thụ': 16114, 'recomment': 16115, 'trắng_trợn': 16116, 'tản_bộ': 16117, 'tối_ngày': 16118, 'lặc_lè': 16119, 'tặg': 16120, 'kì_kèo': 16121, 'box': 16122, 'hình_vuông': 16123, 'kei': 16124, 'ghi_nhớ': 16125, 'toi': 16126, 'lăng_xăng': 16127, '44': 16128, 'ởn': 16129, 'tươg': 16130, 'ă': 16131, 'chí': 16132, 'xường': 16133, 'sago': 16134, 'hải_quân': 16135, 'nhớp_nháp': 16136, 'xệ': 16137, 'an_lạc': 16138, 'đắng': 16139, 'hok': 16140, 'sộp': 16141, 'nhễ_nhại': 16142, 'ẩm': 16143, 'bêb': 16144, 'nạ': 16145, 'ưi': 16146, 'thân_phận': 16147, 'nak': 16148, 'ngoảnh': 16149, 'edm': 16150, 'bắt_chước': 16151, 'bật_mí': 16152, 'ơ': 16153, 'rõ_ràng': 16154, 'vịêc': 16155, '7r': 16156, 'tét': 16157, 'loanh_quanh': 16158, 'đối_ngoại': 16159, 'gú': 16160, 'đói': 16161, 'ớt': 16162, 'bát_nháo': 16163, 'tối_ưu': 16164, 'giật': 16165, 'buồi': 16166, 'thiên_thần': 16167, 'đánh_gục': 16168, 'def': 16169, '199': 16170, 'rainbow': 16171, 'israel': 16172, 'biscuit': 16173, 'gôm': 16174, 'người_làm': 16175, 'đẩy_mạnh': 16176, 'đón_nhận': 16177, 'cồ': 16178, 'rũng': 16179, 'tằng': 16180, 'cá_song': 16181, 'trớ_trêu': 16182, 'ngạt': 16183, 'bịêt': 16184, 'sock': 16185, 'hủ_tiếu': 16186, 'trộng': 16187, 'tạo_dựng': 16188, 'bạch_mã': 16189, 'champagne': 16190, 'range': 16191, 'bắc_giang': 16192, 'lita': 16193, 'nhg': 16194, 'lo_âu': 16195, 'thuỷ_thủ': 16196, 'wa': 16197, 'đỗ': 16198, 'bành': 16199, '374': 16200, 'owen': 16201, 'hoang_vu': 16202, 'bóng_loáng': 16203, 'chúng_ta': 16204, 'cái_trò': 16205, 'trả_giá': 16206, 'amazing': 16207, 'chụ': 16208, 'kute': 16209, 'dương_cầm': 16210, 'confirm': 16211, '262': 16212, 'review': 16213, 'uốn_lượn': 16214, 'hỏi_đi_hỏi_lại': 16215, 'cabine': 16216, 'mứt_gừng': 16217, 'mid': 16218, 'thụt': 16219, 'lạ_lẫm': 16220, '1002': 16221, 'công_tác': 16222, 'giảm_sút': 16223, 'sause': 16224, 'quý_khách': 16225, 'hoạt': 16226, 'phân_hoá': 16227, 'saooo': 16228, 'bồ_bịch': 16229, 'mê_mẩn': 16230, 'cajon': 16231, 'lux': 16232, 'ngat': 16233, 'explained': 16234, 'bụng': 16235, 'điều_tiết': 16236, 'trưng': 16237, 'cùng_cực': 16238, 'nhả': 16239, 'phọng': 16240, 'nghĩa': 16241, 'oxy': 16242, 'dzở': 16243, '830': 16244, 'phè_phỡn': 16245, 'sản_xuất': 16246, 'lots': 16247, 'dtdd': 16248, 'lùng': 16249, 'xướng': 16250, 'creepy': 16251, 'cả_thảy': 16252, 'thưong': 16253, 'unlike': 16254, 'hii': 16255, 'làm_đầu': 16256, 'miều': 16257, 'chè_tươi': 16258, 'campuchia': 16259, 'fan': 16260, 'sức_mạnh': 16261, '62': 16262, 'đjểm': 16263, '1chai': 16264, 'com': 16265, 'luư': 16266, 'pík': 16267, '65k': 16268, 'hesitation': 16269, 'xươg': 16270, 'toe': 16271, 'casi': 16272, 'loét': 16273, 'sell': 16274, 'sản_phẩm': 16275, 'doraemon': 16276, 'định_kỳ': 16277, 'múa_rối_nước': 16278, 'cường': 16279, 'nghịêp': 16280, 'siam': 16281, 'hỗn_hợp': 16282, '245': 16283, 'kịp': 16284, 'huflit': 16285, 'nghỉ_mát': 16286, 'não': 16287, 'robert': 16288, 'chênh_lệch': 16289, 'lờ_đờ': 16290, 'chau': 16291, 'dứt': 16292, 'thực_tình_mà_nói': 16293, 'khẩu_trang': 16294, 'cordon': 16295, 'phiêu_lưu': 16296, 'nostra': 16297, 'kén_chọn': 16298, 'lắt': 16299, 'cgv': 16300, 'nhuận': 16301, 'nvs': 16302, 'raisin': 16303, 'dài_ngoằng': 16304, 'tuyệt': 16305, 'mùng_tơi': 16306, 'càng_ngày_càng': 16307, 'ậm': 16308, 'woody': 16309, '30s': 16310, 'đảm_nhận': 16311, 'qân': 16312, '3bạn': 16313, 'chéc': 16314, 'lunch': 16315, 'lợn': 16316, 'lạ_thường': 16317, 'take': 16318, 'bộ_mặt': 16319, 'cổ_đông': 16320, 'xộn': 16321, 'thẩm': 16322, 'dak': 16323, 'nek': 16324, 'thâu': 16325, 'mỏng_tang': 16326, 'đá_vôi': 16327, 'ekip': 16328, 'cooki': 16329, 'đi_tắt': 16330, 'bưu_điện': 16331, 'terrible': 16332, 'trũng': 16333, 'làm': 16334, 'lạu': 16335, '2b': 16336, 'cuốn': 16337, 'giảm': 16338, 'trùng_tu': 16339, 'hát_hò': 16340, 'chiềng': 16341, 'typography': 16342, '4d': 16343, '831': 16344, '20m2': 16345, 'kiểu': 16346, 'tàu_điện_ngầm': 16347, 'tưng_tưng': 16348, 'thức': 16349, 'riệu': 16350, 'chán_ngán': 16351, 'gây_sự': 16352, 'sai_lệch': 16353, 'fusion': 16354, 'thành_lập': 16355, 'đôi_lúc': 16356, 'celeb': 16357, 'sức': 16358, 'côi': 16359, 'mour': 16360, 'cố_ý': 16361, 'brought': 16362, 'sụt_sùi': 16363, 'thổi': 16364, 'nguòi': 16365, 'madness': 16366, 'nhãy': 16367, 'bíêt': 16368, 'đè': 16369, 'mĩ_vị': 16370, 'khtn': 16371, 'ba_má': 16372, 'mê_li': 16373, 'xf': 16374, 'đia': 16375, 'hnay': 16376, 'toa_lét': 16377, 'frappuccino': 16378, 'dau': 16379, 'nhiêm': 16380, '1010': 16381, 'ndc': 16382, 'zề': 16383, 'khởi_my': 16384, 'thiền': 16385, 'thành_thử': 16386, 'thướt_tha': 16387, 'phục_thù': 16388, '500k': 16389, 'hoen': 16390, 'angela': 16391, 'jav': 16392, 'đắng_cay': 16393, 'croissant': 16394, 'hanu': 16395, 'lôm_côm': 16396, 'định_dạng': 16397, 'mỗi': 16398, 'chiến_lược': 16399, 'vocal': 16400, '90s': 16401, 'gũi': 16402, 'sau_này': 16403, 'thức_tỉnh': 16404, 'balô': 16405, 'né': 16406, 'tác_dụng': 16407, 'híc': 16408, 'slim': 16409, 'lắc': 16410, 'chun': 16411, 'lừa_gạt': 16412, 'kimpap': 16413, 'cam_vắt': 16414, 'chưa_thể': 16415, 'cư': 16416, 'máp': 16417, 'del': 16418, 'nhô': 16419, 'gật_gật': 16420, 'mù_quáng': 16421, 'nùi': 16422, 'công_suất': 16423, 'bánh_cưới': 16424, 'lỗ': 16425, 'mếu': 16426, 'tạm_bợ': 16427, 'mang_tiếng': 16428, 'đôn_đáo': 16429, 'yê': 16430, 'đuổi': 16431, 'q5': 16432, 'tào': 16433, 'ncc': 16434, '12014': 16435, 'dữ_dội': 16436, '10h20': 16437, 'lịch_lãm': 16438, 'thuâ': 16439, 'bernard': 16440, 'đồng_bằng': 16441, 'kẽo_kẹt': 16442, 'con_nghiện': 16443, 'bottle': 16444, 'chuyên_dùng': 16445, 'khám': 16446, 'a_dua': 16447, 'có_nhân': 16448, 'hihe': 16449, 'quy_nhơn': 16450, 'xúc_động': 16451, 'thùm': 16452, 'rau_răm': 16453, 'joi': 16454, 'cầu_thang': 16455, 'monster': 16456, 'nhưkhông': 16457, 'ào_ào': 16458, 'thướng': 16459, 'vui_thích': 16460, 'bễ': 16461, 'lưu': 16462, 'pc': 16463, 'cẩm_tú': 16464, 'xinh': 16465, 'bợm': 16466, 'money': 16467, 'ghê_gớm': 16468, 'lức': 16469, 'barley': 16470, 'đuoc': 16471, 'đường_hoàng': 16472, 't8m': 16473, 'lãg': 16474, 'mediocre': 16475, 'idea': 16476, 'scored': 16477, 'hairdresser': 16478, 'sáng_qua': 16479, 'chói': 16480, 'sâ': 16481, 'nghén': 16482, 'dbp': 16483, 'cũn': 16484, '702': 16485, 'chiến_đấu': 16486, 'lụân': 16487, 'cua': 16488, 'vincom': 16489, 'bắt_buộc': 16490, 'cân_đối': 16491, 'đong': 16492, 'tức_mình': 16493, 'nở': 16494, 'khuyêt': 16495, 'ẹt': 16496, 'ngả_ngốn': 16497, 'toàn_cầu': 16498, '5c': 16499, 'smt': 16500, 'cách_mạng': 16501, 'tokachi': 16502, 'u': 16503, 'đợi': 16504, 'trág': 16505, 'chỉnh_sửa': 16506, 'forgot': 16507, 'xòm': 16508, 'valentine': 16509, 'sửa_chữa': 16510, 'pancakes': 16511, 'cụm': 16512, 'lychee': 16513, 'từ_đường': 16514, 'vòi': 16515, 'tù_nhân': 16516, 'nguậy': 16517, 'tốn': 16518, 'ntnay': 16519, 'im_ắng': 16520, 'đây': 16521, 'bãi_biển': 16522, 'diên': 16523, 'chiều_chuộng': 16524, 'lòng_trắng': 16525, 'takeaway': 16526, 'ca_khúc': 16527, 'cúp': 16528, 'gòn': 16529, 'uố': 16530, 'đung': 16531, 'khanh': 16532, 'books': 16533, 'hồ_tây': 16534, 'vậy_thì': 16535, 'cực_khổ': 16536, 'bảo_đảm': 16537, 'không_mấy_khi': 16538, 'nhah': 16539, 'tận_tuỵ': 16540, 'oai': 16541, 'marshmallow': 16542, '23': 16543, '2300': 16544, 'ngáng': 16545, 'qđịnh': 16546, 'nàoc': 16547, 'korean': 16548, '4k': 16549, '135p': 16550, 'thứ_vị': 16551, 'chiller': 16552, 'thươg': 16553, '1612': 16554, 'founder': 16555, 'bat': 16556, 'bất_cứ': 16557, 'thánh': 16558, '19h15': 16559, 'brest': 16560, 'chào_đón': 16561, 'táp': 16562, 'đthoai': 16563, 'nhaaaa': 16564, 'hook': 16565, 'tơ_duyên': 16566, 'bali': 16567, 'la_hét': 16568, 'lớn_tiếng': 16569, 'thý': 16570, 'tồn_tại': 16571, 'gia': 16572, 'ám': 16573, 'mở_mặt': 16574, 'trục': 16575, 'hồ': 16576, 'minhd': 16577, '3l': 16578, 'cva': 16579, 'trum': 16580, 'ba_lê': 16581, 'trắng_ởn': 16582, 'mơ_ước': 16583, 'looking': 16584, 'cửa_khẩu': 16585, 'nưoc': 16586, 'thảm_thực_vật': 16587, 'đại_để': 16588, 'metals': 16589, 'cafes': 16590, 'gate': 16591, 'ối': 16592, 'hop': 16593, 'sting': 16594, 'phòi': 16595, 'didn': 16596, 'khy': 16597, 'both': 16598, 'cù_lao': 16599, 'hải_sâm': 16600, 'tưởng': 16601, 'pastries': 16602, 'nhõ': 16603, 'tí_tách': 16604, 'đoạn': 16605, 'awesome': 16606, 'tiệm': 16607, 'ngôi': 16608, '343': 16609, 'cụ_thể': 16610, 'nguyên_vật_liệu': 16611, 'năm': 16612, 'đáng_lý': 16613, 'không': 16614, 'dìu_dịu': 16615, 'cõi_đời': 16616, 'tuột_dốc': 16617, 'hàng_hiệu': 16618, 'được_cái_là': 16619, 'margarita': 16620, 'gj': 16621, 'nói_khó': 16622, 'gần_gũi': 16623, 'phê': 16624, 'định_hướng': 16625, '1tr4': 16626, 'nều': 16627, 'lý_do': 16628, 'qtam': 16629, 'đỉnh': 16630, 'the_manor': 16631, 'bớp': 16632, 'trang_điểm': 16633, 'mục_đồng': 16634, 'cùn': 16635, 'shooters': 16636, 'gư': 16637, 'khiê': 16638, 'chú_trọng': 16639, 'rệu': 16640, 'breakfast': 16641, 'thuởng': 16642, '295k': 16643, 'quảng_bá': 16644, 'mạnh_mẽ': 16645, 'elite': 16646, 'lằng_nhằng': 16647, 'thân_yêu': 16648, 'con_gái': 16649, 'nhíc': 16650, 'creativity': 16651, 'messages': 16652, 'shipper': 16653, 'rated': 16654, 'ỗng': 16655, 'đếm': 16656, 'philipin': 16657, 'linh_động': 16658, 'mấy': 16659, 'hều': 16660, 'đeo': 16661, 'hữu': 16662, 'dường_như': 16663, 'bj': 16664, 'hân': 16665, 'nự': 16666, 'deliver': 16667, 'thái_hà': 16668, 'balcon': 16669, 'zi': 16670, 'gấu_mèo': 16671, 'lâu': 16672, 'khoải': 16673, 'bút': 16674, 'kim_sa': 16675, 'paramount': 16676, 'coffee': 16677, 'deadpool': 16678, 'khắp_nơi': 16679, 'xe_điện': 16680, 'kêu_trời': 16681, 'ribs': 16682, 'chả_trách': 16683, '30p': 16684, 'thiên_thiên': 16685, 'yên_ả': 16686, 'tương_tự': 16687, 'singgum': 16688, 'hoàn_chỉnh': 16689, 'ai_ngờ': 16690, 'tiệp': 16691, 'nhiễu': 16692, 'bươm': 16693, 'toát': 16694, '490k': 16695, 'tut': 16696, '135': 16697, 'phú_quốc': 16698, 'mã_thượng': 16699, 'hợp_lệ': 16700, 'â': 16701, 'vị_ngữ': 16702, 'đâyyy': 16703, 'uóng': 16704, 'huy_hoàng': 16705, 'chót': 16706, 'phụ_gia': 16707, 'quẹt': 16708, 'aussie': 16709, 'luô': 16710, 'đoàn_kết': 16711, 'nà': 16712, 'bòi': 16713, 'vồ': 16714, 'word': 16715, 'bay_bổng': 16716, 'trọng_lượng': 16717, 'nma': 16718, 'tắm_rửa': 16719, 'bàng_hoàng': 16720, 'ů': 16721, 'dzẫn': 16722, 'gõ_cửa': 16723, 'khéo_léo': 16724, 'lọ_mọ': 16725, 'miễng': 16726, 'thực_tình': 16727, 'bổ_chửng': 16728, 'sốg': 16729, 'bánh_nướng': 16730, 'ruộm': 16731, 'hâm_mộ': 16732, 'khâm_phục': 16733, 'võng': 16734, 'yên_bình': 16735, 'sc': 16736, 'gh': 16737, 'wuan': 16738, 'cake': 16739, 'moha': 16740, 'mâ': 16741, 'pb': 16742, 'sơ': 16743, 'cung_điện': 16744, 'đjep': 16745, 'partners': 16746, '1con': 16747, 'ngần_ngại': 16748, 'mền': 16749, 'ngồn_ngộn': 16750, 'nhà_bếp': 16751, 'giới_thiệu': 16752, 'uyển_chuyển': 16753, 'tried': 16754, 'by': 16755, 'nhà_riêng': 16756, 'trái_cây': 16757, 'mém': 16758, 'thương': 16759, 'vì': 16760, 'quán_xá': 16761, 'xin_xỏ': 16762, 'quần_áo': 16763, 'cá_sơn': 16764, 'lotus': 16765, '11cm': 16766, '1h45': 16767, 'lập_trường': 16768, 'tạch': 16769, 'khôbg': 16770, 'búp': 16771, 'lowcarb': 16772, 'nhớp': 16773, 'kĩ_thuật': 16774, 'hỡi_ôi': 16775, 'kì_lân': 16776, 'dx': 16777, 'paris': 16778, 'bán_nguyệt': 16779, 'ngờ_đâu': 16780, 'miếng': 16781, '59': 16782, 'nhất': 16783, 'tóp_mỡ': 16784, 'thèm_muốn': 16785, 'ca_rô': 16786, 'ừm': 16787, 'bận_bịu': 16788, 'đố': 16789, 'access': 16790, 'famous': 16791, 'qq': 16792, 'into': 16793, 'bàn_tay': 16794, 'thanh_nhã': 16795, 'luna': 16796, '1g30': 16797, 'morning': 16798, 'nhâm_nhi': 16799, 'weet': 16800, 'mhư': 16801, 'giãy': 16802, 'đùa_cợt': 16803, 'ngỡ': 16804, 'đâu': 16805, 'trui': 16806, 'menu': 16807, 'wifi': 16808, 'nói_ngang': 16809, 'tỉnh_queo': 16810, 'bệnh': 16811, 'zs': 16812, 'phát_xít': 16813, 'thề': 16814, 'khốn_khổ': 16815, 'like': 16816, '0ff': 16817, 'phep': 16818, 'ốp_lát': 16819, 'muc': 16820, 'shisha': 16821, 'highlands': 16822, 'shiper': 16823, 'yakisoba': 16824, 'trơi': 16825, 'ngễnh': 16826, 'osaka': 16827, 'bần': 16828, 'ig': 16829, 'tă': 16830, 'nhưq': 16831, 'cí': 16832, 'ngập_ngụa': 16833, 'tò_te': 16834, 'người_bệnh': 16835, 'choán': 16836, 'electro': 16837, 'xi_măng': 16838, 'incredibly': 16839, 'đồng_nai': 16840, 'trô': 16841, 'rượi': 16842, 'lõng_bõng': 16843, 'kiêng': 16844, 'đệm': 16845, 'nhì': 16846, 'color': 16847, 'nước_nôi': 16848, 'nồng_nhiệt': 16849, 'tronng': 16850, 'khác_nào': 16851, 'tâm_sự': 16852, 'khổ': 16853, 'tuổi_thơ': 16854, 'vùng_biển': 16855, 'tran': 16856, 'ông_địa': 16857, 'nhựa': 16858, 'trộm': 16859, 'nhờn_nhợt': 16860, 'đải': 16861, 'chăm_nom': 16862, 'rip': 16863, 'tonight': 16864, 'hiê': 16865, 'áo': 16866, 'xâ': 16867, 'cưỡng_hôn': 16868, 'xâc': 16869, 'lho': 16870, 'village': 16871, 'mác': 16872, 'emulsion': 16873, 'oẳn': 16874, 'rapper': 16875, 'yoyo': 16876, 'vòng_tay': 16877, 'làm_khó': 16878, 'cắc': 16879, 'nghành': 16880, 'tương_đồng': 16881, 'kế_tiếp': 16882, 'as': 16883, 'tinh_tươm': 16884, 'ltt': 16885, 'miến': 16886, 'flamenco': 16887, 'tàm': 16888, 'ngỗi': 16889, 'thôn': 16890, 'thân_quen': 16891, 'rond': 16892, 'của': 16893, 'ngày_tháng': 16894, 'bar': 16895, 'trôi': 16896, 'mun': 16897, 'bato': 16898, 'bến_xe': 16899, 'hấp': 16900, 'tầm_thường': 16901, 'quỵt': 16902, '2h45': 16903, 'starbucks': 16904, 'smoke': 16905, 'tậ': 16906, 'xỉa_xói': 16907, 'trố': 16908, 'lấu': 16909, 'vấn': 16910, 'cà_na': 16911, 'p': 16912, 'điều': 16913, 'phong_trào': 16914, 'thể_hiện': 16915, 'đền_bù': 16916, 'rồ': 16917, 'giả_lả': 16918, 'dè_chừng': 16919, '10p': 16920, 'tổng_quan': 16921, 'tổg': 16922, '310k': 16923, '830k': 16924, 'cừoi': 16925, 'sự_thực': 16926, 'trào_dâng': 16927, 'phô': 16928, 'tiếp_nối': 16929, 'tăm': 16930, 'cươi': 16931, 'thông_dụng': 16932, 'trug': 16933, 'váng': 16934, 'improved': 16935, 'boys': 16936, 'beo': 16937, 'thành_viên': 16938, 'i': 16939, 'đất_nước': 16940, 'sai_lầm': 16941, 'cơ_man': 16942, 'mama': 16943, 'đúng_đắn': 16944, 'tenshi': 16945, 'ứ_hự': 16946, 'oạt': 16947, 'crescent': 16948, 'nguyễn_thiếp': 16949, 'match': 16950, 'muỗng': 16951, 'thang_máy': 16952, 'viêc': 16953, 'su': 16954, '69k': 16955, 'cửa_sổ': 16956, 'quy': 16957, '95000': 16958, 'khoãng': 16959, 'xào': 16960, 'cầm_đồ': 16961, 'phương_tây': 16962, 'hàng_chợ': 16963, 'tông': 16964, 'xây_dựng': 16965, 'vốn_dĩ': 16966, 'ghet': 16967, 'lởn': 16968, 'gằn': 16969, 'mùn_cưa': 16970, 'though': 16971, 'о': 16972, 'bg': 16973, '232': 16974, 'hứng_khởi': 16975, 'xương_rồng': 16976, '104': 16977, 'suri': 16978, 'lạc_đề': 16979, 'giành_giật': 16980, '45': 16981, 'vsattp': 16982, 'nhạo': 16983, 'đanh_đá': 16984, 'qủa': 16985, 'củ_mì': 16986, 'was': 16987, 'liu': 16988, 'tủm': 16989, 'còi': 16990, 'ươ': 16991, 'quạn': 16992, 'xin_lỗi': 16993, 'kết_nghĩa': 16994, 'phần': 16995, 'la_thành': 16996, 'thành_đoàn': 16997, 'mề': 16998, 'vọc': 16999, 'hành_chính': 17000, 'an_tâm': 17001, 'láo_xược': 17002, 'rose': 17003, 'goá': 17004, 'wth': 17005, 'quang_trung': 17006, 'whilst': 17007, 'mù_tịt': 17008, 'offerings': 17009, 'trĩ': 17010, 'khứ_hồi': 17011, 'đậm_nét': 17012, 'chili': 17013, 'tabasco': 17014, 'tiện_lợi': 17015, 'ngấy': 17016, 'sbox': 17017, 'haaaa': 17018, 'zal': 17019, 'xục': 17020, 'trạm': 17021, 'hni': 17022, 'quạch': 17023, 'blocked': 17024, 'nhắn': 17025, 'bóng_dáng': 17026, 'câm_nín': 17027, 'xoành_xoạch': 17028, 'sự_kiện': 17029, 'startup': 17030, 'hộp_đen': 17031, 'í_ới': 17032, 'bái': 17033, 'mạ': 17034, 'thể_thống': 17035, 'lạnh_ngắt': 17036, 'lứt': 17037, 'cải_bắp': 17038, 'hài_lòng': 17039, 'nghiệm': 17040, 'smell': 17041, 'trao': 17042, '8999': 17043, 'ruộng_bậc_thang': 17044, 'be_bét': 17045, 'đành': 17046, 'nhà_thờ': 17047, 'hibicus': 17048, '27m': 17049, 'tách_biệt': 17050, 'rán': 17051, 'ậm_ừ': 17052, 'quá_bộ': 17053, 'mũ_bảo_hiểm': 17054, 'rau_rút': 17055, 'tình_duyên': 17056, 'nghĩa_là': 17057, '3d': 17058, 'mart': 17059, 'zô': 17060, 'rẻ_tiền': 17061, 'restaurants': 17062, '25k': 17063, 'firstly': 17064, 'chậc': 17065, 'cải_tiến': 17066, 'phân_bón': 17067, 'nấc': 17068, '6tr': 17069, 'chánh': 17070, 'rôì': 17071, 'kỵ': 17072, 'erro': 17073, 'zè': 17074, 'tê_liệt': 17075, 'tây_đô': 17076, 'ăn_giá': 17077, 'sn': 17078, 'mays': 17079, 'may': 17080, 'bike': 17081, 'em_út': 17082, 'nhớ_đời': 17083, 'thánh_thần': 17084, 'nhếch_nhác': 17085, 'woai': 17086, 'đoàn': 17087, 'tây_hồ': 17088, 'awful': 17089, 'thong': 17090, '18500': 17091, 'mào': 17092, 'sk': 17093, 'hu': 17094, 'đh': 17095, 'hoà_đồng': 17096, 'toalet': 17097, 'đề_cao': 17098, 'facial': 17099, '45k': 17100, '329': 17101, 'dặc': 17102, 'hỏi_thăm': 17103, 'dots': 17104, 'ngh': 17105, 'ức': 17106, 'giàu': 17107, 'gần': 17108, 'nearby': 17109, 'sụn': 17110, 'ốm': 17111, 'misu': 17112, 'minhg': 17113, 'ha_noi': 17114, 'nói_chung': 17115, 'ngái': 17116, 'quày': 17117, 'cuoi': 17118, 'gượng_ép': 17119, 'gateau': 17120, 'bạc_phơ': 17121, 'kekek': 17122, 'tái_nhợt': 17123, 'lasted': 17124, 'một_mặt': 17125, 'cá_đối': 17126, '8k': 17127, 'cher': 17128, '128k': 17129, 'béo_béo': 17130, 'miya': 17131, 'lẳng': 17132, 'cách_ly': 17133, 'thầy_cô': 17134, 'trữ_tình': 17135, 'nhi_khoa': 17136, 'đi_ngoài': 17137, 'buồn_thiu': 17138, 'gia_viên': 17139, 'eo': 17140, 'công_viên_nước': 17141, 'có_giá': 17142, 'dàn_trải': 17143, 'đưoc': 17144, 'máy_in': 17145, 'hao_hao': 17146, 'khôn_cùng': 17147, '2911': 17148, 'tuyp': 17149, 'khinh_thường': 17150, '4r': 17151, 'hành_xử': 17152, 'bùôn': 17153, 'nến': 17154, 'tên': 17155, 'nghê': 17156, 'gemini': 17157, 'quy_tụ': 17158, 'nồm': 17159, 'thumb': 17160, '13510': 17161, 'các': 17162, 'nsau': 17163, 'một_hơi': 17164, 'lộn': 17165, 'kinh_hồn': 17166, 'chươg': 17167, 'tca': 17168, 'hết_hơi': 17169, 'pử': 17170, 'điện_lực': 17171, 'mô_típ': 17172, 'hểt': 17173, 'bate': 17174, 'consider': 17175, '170k': 17176, 'cà_rem': 17177, 'saw': 17178, 'hầm_hầm': 17179, 'nhái': 17180, 'rủ_rê': 17181, 'nổ': 17182, 'viet': 17183, '6h15': 17184, '175': 17185, 'vạn': 17186, 'thanh_xuân': 17187, 'e_ấp': 17188, 'traffic': 17189, 'torii': 17190, 'chính': 17191, 'quotes': 17192, 'hehhe': 17193, 'ván': 17194, 'giao_lưu': 17195, 'tổng_chi': 17196, 'tram': 17197, 'vũng': 17198, 'bồ_kết': 17199, 'lavie': 17200, '2d': 17201, 'ngoan': 17202, '1530': 17203, 'bẹp': 17204, 'nặm': 17205, 'cinema': 17206, 'mên': 17207, 'han': 17208, '0209': 17209, 'luckily': 17210, 'obviously': 17211, '208': 17212, 'nhầm_lẫn': 17213, 'phone': 17214, '318': 17215, 'lác_đác': 17216, 'cgi': 17217, 'thanh_tĩnh': 17218, 'gợn': 17219, 'muffin': 17220, 'lột': 17221, 'brands': 17222, 'thời_kì': 17223, '15n': 17224, '375k': 17225, 'kì_quái': 17226, 'đuợc': 17227, 'rề_rà': 17228, 'sẵn_sàng': 17229, 'khuê': 17230, 'cá_đuối': 17231, 'lắng_đọng': 17232, 'anh_chị': 17233, 'dậy': 17234, 'mìên': 17235, 'lạt_lẽo': 17236, 'password': 17237, 'mặ': 17238, 'kiểm_soát': 17239, 'mất_cắp': 17240, 'mi': 17241, 'hà_đông': 17242, 'dương_cực': 17243, 'toả': 17244, 'soiree': 17245, 'mini': 17246, 'phan_rang': 17247, 'dáo_dác': 17248, 'rắt': 17249, '100a': 17250, 'điếc': 17251, 'mụt': 17252, 'nhún': 17253, 'móm': 17254, 'lâu_đài': 17255, 'nhạt_thếch': 17256, 'ntt': 17257, 'ketchup': 17258, 'hương_liệu': 17259, 'business': 17260, 'ta_đây': 17261, 'gúa': 17262, 'lùi': 17263, 'nguy_nga': 17264, 'thăng_thiên': 17265, 'jazz': 17266, 'đứng_đường': 17267, 'con_mẹ': 17268, 'culi': 17269, 'uruguay': 17270, 'xực': 17271, 'thọ': 17272, 'chiaki': 17273, 'lằm': 17274, 'bạo_chúa': 17275, 'phân_tích': 17276, 'tổn': 17277, 'nvh': 17278, 'rãi': 17279, 'hụ': 17280, 'nhắt': 17281, 'lẩn_quẩn': 17282, 'liễu': 17283, '337': 17284, 'sio': 17285, 'ngự': 17286, 'mả': 17287, 'sang_tên': 17288, 'thuờg': 17289, 'xa': 17290, 'sơn_tây': 17291, 'đông': 17292, 'nước_trắng': 17293, 'sắc_sảo': 17294, 'sashi': 17295, 'bỏ_mứa': 17296, 'skewer': 17297, 'liên_kết': 17298, 'thành_nhân': 17299, 'nói_riêng': 17300, 'shin': 17301, 'hì_hụi': 17302, 'ciao': 17303, 'mins': 17304, 'cũq': 17305, 'kém_cạnh': 17306, 'giúp': 17307, 'ngày_sinh': 17308, 'gương': 17309, 'quang_gánh': 17310, 'hài_cốt': 17311, 'cảm_giác': 17312, 'peal': 17313, 'pax': 17314, 'thoả': 17315, 'cơ_số': 17316, 'vo_ve': 17317, 'ò': 17318, 'vus': 17319, 'zị': 17320, 'tuoc': 17321, 'thành_công': 17322, 'như_thế_nào': 17323, 'đỏ_au': 17324, 'thổn_thức': 17325, 'school': 17326, 'cõi_lòng': 17327, 'mĩn': 17328, 'party': 17329, 'quá': 17330, 'fortunate': 17331, 'đen_đen': 17332, 'lgbt': 17333, 'trưu': 17334, 'luot': 17335, '13': 17336, 'xã_giao': 17337, 'dẻo': 17338, 'bằg': 17339, 'ngõ_ngách': 17340, 'tuyên_bố': 17341, 'khach': 17342, 'genki': 17343, 'nok': 17344, 'quớt': 17345, 'phong': 17346, 'highland': 17347, 'vừa_qua': 17348, 'people': 17349, 'thú_thực': 17350, 'đẫm': 17351, 'tham_gia': 17352, 'bãn': 17353, 'nặc': 17354, 'thô_lỗ': 17355, 'theo_dõi': 17356, 'ác_mộng': 17357, 'bất_cập': 17358, 'sentosa': 17359, 'trán': 17360, 'năng_lượng': 17361, 'vả_lại': 17362, 'lan_can': 17363, 'essentially': 17364, 'ké': 17365, 'ừ': 17366, 'thương_hiệu': 17367, '800g': 17368, 'nập': 17369, 'lể': 17370, 'okay': 17371, 'fg': 17372, 'la': 17373, 'thụ_động': 17374, 'xylitol': 17375, 'gê': 17376, 'thay_thế': 17377, 'nat': 17378, 'ngoe': 17379, 'dãi': 17380, 'nhàng': 17381, 'fãi': 17382, 'thấp_thỏm': 17383, 'thi_hài': 17384, 'rượu': 17385, 'nghĩ_ngợi': 17386, 'ring': 17387, 'hơpj': 17388, 'một_thể': 17389, 'distinctive': 17390, 'chuyền': 17391, 'thân': 17392, 'xôi_gấc': 17393, '870k': 17394, 'áp_dụng': 17395, 'bi': 17396, 'nuơc': 17397, 'thoág': 17398, 'nách': 17399, 'dẵn': 17400, 'kỳ_vọng': 17401, 'kẹo_cao_su': 17402, 'dân_ca': 17403, 'ấp_ủ': 17404, 'bữa_kia': 17405, 'đoảng': 17406, 'tốt_nghiệp': 17407, 'nhà_sách': 17408, 'xụ': 17409, 'xe_ngựa': 17410, '900k': 17411, 'quảy': 17412, 'bổi': 17413, 'mention': 17414, 'basically': 17415, 'cắn_răng': 17416, 'dừng': 17417, 'lẩy': 17418, 'lưng_chừng': 17419, 'khoing': 17420, 'here': 17421, 'đậm': 17422, 'chào_hỏi': 17423, 'cửa_đại': 17424, 'ứng': 17425, 'bê_tông': 17426, '1h40': 17427, 'man_mác': 17428, '1400': 17429, 'càng_cua': 17430, 'dn': 17431, 'háo': 17432, 'bancon': 17433, 'chất_độc_màu_da_cam': 17434, 'uot': 17435, 'bảo_tồn': 17436, 'giùm': 17437, 'nghiên_cứu': 17438, 'cao_ráo': 17439, 'sổ': 17440, 'btw': 17441, 'tloi': 17442, 'tước_đoạt': 17443, 'tận_hưởng': 17444, 'ổg': 17445, 'thị': 17446, '20h00': 17447, 'nuớng': 17448, 'universal': 17449, 'thú': 17450, 'thỏ_thẻ': 17451, 'đà_điểu': 17452, 'đúng_mực': 17453, 'kind': 17454, 'chỗ': 17455, 'vui_tính': 17456, 'thu_hồi': 17457, 'ứng_cử_viên': 17458, 'mê_đắm': 17459, 'khac': 17460, 'đồ_bộ': 17461, 'olong': 17462, 'nặg': 17463, 'guess': 17464, 'background': 17465, 'quen_thuộc': 17466, 'nvậy': 17467, 'xẩm': 17468, 'cheddar': 17469, 'careful': 17470, 'claims': 17471, 'xuống_đường': 17472, 'craps': 17473, 'uô': 17474, '48': 17475, 'lúc_lắc': 17476, 'found': 17477, 'nghiêng': 17478, 'dễ_thường': 17479, 'lạnh_lẽo': 17480, 'rộng_lớn': 17481, 'lagu': 17482, 'combination': 17483, 'đâu_đấy': 17484, 'gọt': 17485, '21h45': 17486, 'hình_dáng': 17487, 'stacked': 17488, 'xẹ': 17489, 'hấu': 17490, 'hiệu_trưởng': 17491, 'plus': 17492, 'cà_mau': 17493, 'rịa': 17494, 'nhe': 17495, 'son_phấn': 17496, 'rễ': 17497, 'huyết': 17498, 'lênh_láng': 17499, 'crawfish': 17500, 'mát_tay': 17501, 'ba_lá': 17502, 'nhất_định': 17503, 'vùi_đầu': 17504, 'cá_trích': 17505, '22k': 17506, 'zl': 17507, 'lap': 17508, 'mỏng_tanh': 17509, 'air': 17510, 'xog': 17511, 'atmosphere': 17512, 'bean': 17513, 'xấc_xược': 17514, 'don': 17515, 'hớ': 17516, 'úi_chà': 17517, 'gớm': 17518, 'nguệch_ngoạc': 17519, 'nhúc_nhích': 17520, 'thử': 17521, 'hichic': 17522, 'quá_thể': 17523, 'zon': 17524, 'selfie': 17525, 'yes': 17526, 'ông_già': 17527, '306': 17528, 'dl': 17529, 'regular': 17530, 'vo': 17531, 'safa': 17532, 'công_nghiệp': 17533, 'thien': 17534, 'mag': 17535, 'ciu': 17536, 'ăn_hớt': 17537, 'nghịch': 17538, 'tại_sao': 17539, 'sgv': 17540, 'tare': 17541, 'chefs': 17542, 'gây': 17543, 'văn': 17544, 'có_vẻ': 17545, 'dứi': 17546, 'dồng': 17547, 'mường_thanh': 17548, 'sirloin': 17549, 'nôi': 17550, 'nhẹp': 17551, 'miền': 17552, 'ngoại_trừ': 17553, 'bán_đảo': 17554, 'bảo_trợ': 17555, 'xâu': 17556, 'chân_thành': 17557, 'chỉn_chu': 17558, 'bọ': 17559, 'chủ_lực': 17560, 'mc': 17561, 'vằn': 17562, 'quanh_năm': 17563, 'trọg': 17564, 'lă': 17565, 'everything': 17566, '9pm': 17567, 'dứơi': 17568, 'chợ_búa': 17569, 'diệu': 17570, 'cookbook': 17571, 'gà': 17572, 'display': 17573, 'tâm_thất': 17574, 'sợ_sệt': 17575, 'colonthree': 17576, 'bấy': 17577, 'is': 17578, 'trực_tiếp': 17579, 'trường_sa': 17580, 'trop': 17581, 'ngay_lập_tức': 17582, 'lẽ_phải': 17583, 'sô': 17584, 'ruby': 17585, 'linh_hồn': 17586, 'an': 17587, 'lễ_hội': 17588, 'person': 17589, 'bmc': 17590, 'bập_bẹ': 17591, 'lợi_ích': 17592, 'rúc': 17593, 'bất_nhân': 17594, 'ngộ': 17595, 'ruột_gan': 17596, 'chạc': 17597, 'tr3': 17598, 'bầy': 17599, 'thứ_tư': 17600, 'chậm': 17601, 'hội_họp': 17602, 'vẹm': 17603, 'thiệt_thà': 17604, 'sandwich': 17605, 'fá': 17606, 'bih': 17607, 'hermann': 17608, 'kimbap': 17609, 'bà_ba': 17610, 'chẳng_những': 17611, 'mận': 17612, 'tương_xứng': 17613, 'việt_kiều': 17614, 'bài_vở': 17615, 'tĩnh_tại': 17616, 'ngơ_ngơ': 17617, 'đồng_nghiệp': 17618, '265k': 17619, 'first': 17620, 'trội': 17621, 'trong_veo': 17622, 'hữu_tình': 17623, 'quy_định': 17624, 'hot': 17625, 'hảo': 17626, 'hungry': 17627, 'vô_cực': 17628, 'dò': 17629, 'tiệt': 17630, 'pmh': 17631, 'cau': 17632, 'eye': 17633, 'hàng_thùng': 17634, 'qi': 17635, 'đem': 17636, 'khiếu_nại': 17637, 'thư_pháp': 17638, '760k': 17639, 'thởi': 17640, 'mé': 17641, 'phát_sinh': 17642, 'tnao': 17643, 'giáp': 17644, 'fien': 17645, 'anh_trai': 17646, 'cống_rãnh': 17647, 'puzzle': 17648, 'xúc_xích': 17649, 'hàng_không': 17650, 'nhaf': 17651, 'chụo': 17652, 'bánh_quy': 17653, '26216': 17654, 'ngôn': 17655, 'khau': 17656, 'đần': 17657, 'nhất_tâm': 17658, 'coi_chừng': 17659, 'trình_bày': 17660, 'various': 17661, 'tài_tử': 17662, 'địa_chỉ': 17663, 'bức': 17664, 'yaua': 17665, 'ngay_ngáy': 17666, 'đương': 17667, 'rinh': 17668, 'tơi_tả': 17669, '1st': 17670, 'hây': 17671, 'same': 17672, 'hứng_thú': 17673, 'although': 17674, 'ladyfinger': 17675, 'hao': 17676, 'to': 17677, 'nhaaa': 17678, 'cay_cực': 17679, 'ze': 17680, 'av': 17681, 'nãn': 17682, 'pikachu': 17683, 'khổng_lồ': 17684, 'lặt_vặt': 17685, 'từ_ngữ': 17686, 'brodard': 17687, 'san': 17688, 'te': 17689, 'ngăn': 17690, 'bij': 17691, 'dây_chun': 17692, '7cm': 17693, 'đáh': 17694, 'mát_dịu': 17695, 'vui_thú': 17696, '700ml': 17697, 'thô_tục': 17698, 'paratha': 17699, 'tái': 17700, 'gẫn': 17701, 'góp_ý': 17702, 'kids': 17703, 'chàn': 17704, 'bánh_trái': 17705, 'mộc': 17706, 'store': 17707, 'mủn': 17708, 'trượt_băng': 17709, '19000': 17710, 'lãn': 17711, 'ẹo': 17712, '1001': 17713, 'gấp': 17714, 'lia_chia': 17715, 'đông_nghẹt': 17716, 'sưởng': 17717, 'raining': 17718, 'liết': 17719, 'bánh_giò': 17720, 'yến': 17721, 'nhạt': 17722, 'xị': 17723, 'phố_xá': 17724, '5000đ': 17725, 'dần_dần': 17726, 'toàn_bộ': 17727, '500m': 17728, 'tá_hoả': 17729, 'tình_cờ': 17730, 'rầt': 17731, 'quốc_lộ': 17732, 'chẳng_hạn': 17733, 'cũ': 17734, 'phản_ứng': 17735, 'bục': 17736, 'maid': 17737, 'thiết_nghĩ': 17738, 'nôn_thốc_nôn_tháo': 17739, 'burgers': 17740, 'ecard': 17741, 'nhún_nhảy': 17742, 'kn': 17743, 'thê': 17744, 'thị_hiếu': 17745, 'sin': 17746, 'chưng': 17747, 'br': 17748, '400000': 17749, 'tảo': 17750, 'kết_quả': 17751, 'ood': 17752, 'chả_lụa': 17753, 'hừ_hừ': 17754, 'gà_tây': 17755, 'gầm': 17756, 'ầm': 17757, 'dìm': 17758, 'con_bé': 17759, 'trong_suốt': 17760, 'aw': 17761, 'dép': 17762, '54': 17763, 'anhh': 17764, 'cảm_thông': 17765, 'chững': 17766, 'doreamon': 17767, 'plain': 17768, 'getting': 17769, 'nội_trợ': 17770, 'tracks': 17771, 'uớp': 17772, 'xơi': 17773, 'se': 17774, 'nguyên_sinh': 17775, 'unacceptable': 17776, 'ẻm': 17777, 'thiện_chí': 17778, 'pool': 17779, 'phì_nhiêu': 17780, 'loving': 17781, 'attitude': 17782, 'kakakaka': 17783, 'đậu_ván': 17784, 'nựa': 17785, 'opposite': 17786, 'sóng': 17787, 'e1': 17788, 'đồng_nghĩa': 17789, 'hiehie': 17790, 'tiêc': 17791, 'trieu': 17792, 'bẹt': 17793, 'price': 17794, 'viêu': 17795, 'bết': 17796, '1100000': 17797, 'cac': 17798, 'thập_phương': 17799, 'âm_mưu': 17800, '11h50': 17801, 'pop': 17802, 'đâm_đầu': 17803, 'vón': 17804, '1loại': 17805, 'hầm_hập': 17806, 'kaka': 17807, 'thủ_phạm': 17808, '2kg': 17809, 'nhiu': 17810, 'dzô': 17811, 'wel': 17812, 'exo': 17813, 'beng': 17814, '3ph': 17815, 'phản_cảm': 17816, 'ỉu_xìu': 17817, 'xư': 17818, 'phóng_sinh': 17819, 'tươm': 17820, 'kem': 17821, 'lòi': 17822, 'xà_lách': 17823, 'đạo': 17824, '90k': 17825, 'nhạc_đồng_quê': 17826, 'dim': 17827, 'cách_âm': 17828, 'đi_rửa': 17829, 'own': 17830, 'cô_đơn': 17831, 'moment': 17832, 'sẹt': 17833, 'xiu': 17834, 'loang': 17835, 'nhạy_cảm': 17836, 'ớt_hiểm': 17837, 'phát_triển': 17838, 'minimum': 17839, '2211': 17840, 'xớ_rớ': 17841, 'kiểu_dáng': 17842, 'ửo': 17843, 'kinh_khủng': 17844, 'tẹo': 17845, '567': 17846, 'ngaỳ': 17847, 'sea': 17848, 'dish': 17849, 'ahhhhhh': 17850, 'chan': 17851, 'đại_tiện': 17852, 'ka': 17853, '200ml': 17854, 'chaos': 17855, 'không_tưởng': 17856, 'thiên_hạ': 17857, 'ra_đời': 17858, 'hoài_niệm': 17859, 'đầu_gấu': 17860, 'mặt_trăng': 17861, 'nhju': 17862, 'gion': 17863, 'nênn': 17864, 'đồng_xuân': 17865, 'sơn_trà': 17866, 'ám_ảnh': 17867, 'flesh': 17868, 'vĩnh_cửu': 17869, 'khoảng_không': 17870, 'tráo': 17871, 'gane': 17872, 'vất_vả': 17873, 'beo_béo': 17874, 'turkish': 17875, 'hồ_lô': 17876, 'buon': 17877, '73': 17878, 'nj': 17879, 'ip6s': 17880, 'mislead': 17881, 'triều_đình': 17882, 'số_lượng': 17883, 'thôi_miên': 17884, '4': 17885, 'uôi': 17886, 'thâ': 17887, 'đồi_núi': 17888, 'nf': 17889, 'fix': 17890, 'yogurt': 17891, 'khởi_nguồn': 17892, 'around': 17893, 'kq': 17894, 'long_xuyên': 17895, 'phương_châm': 17896, 'ngồi_bệt': 17897, 'bươc': 17898, 'tròn_xoe': 17899, 'phối_màu': 17900, 'soi_mói': 17901, 'thẳng_tắp': 17902, 'fantastic': 17903, 'tuỳ': 17904, 'sỉ': 17905, '63': 17906, 'xét': 17907, 'tập_tành': 17908, 'nghiến': 17909, 'đêu': 17910, 'nguyên_mẫu': 17911, 'trựng': 17912, 'máy_ảnh': 17913, 'thực_vật': 17914, 'xiền': 17915, '7h10': 17916, 'hiển_thị': 17917, 'tỷ_lệ_thuận': 17918, 'nghệp': 17919, 'đan_mạch': 17920, 'ranger': 17921, 'expectations': 17922, 'caffee': 17923, 'front': 17924, 'tịên': 17925, 'marie': 17926, 'trỏ': 17927, 'râm_bụt': 17928, 'threw': 17929, '12k': 17930, 'bệnh_viện': 17931, 'bằng_lăng': 17932, 'chục': 17933, 'phòng_không': 17934, 'ước_lượng': 17935, 'đuối': 17936, 'quickly': 17937, 'hầu_bao': 17938, 'hà_lan': 17939, 'cá_chiên': 17940, 'robbins': 17941, 'tâm_ngọc': 17942, 'zé': 17943, 'chìm': 17944, 'cuả': 17945, 'yêu_quái': 17946, 'đãi_ngộ': 17947, 'soạn': 17948, 'buc': 17949, 'miêu_tả': 17950, 'biến_mất': 17951, 'tâ': 17952, 'ôg': 17953, 'service': 17954, 'xà': 17955, 'xoxo': 17956, 'inari': 17957, 'chef': 17958, 'đề_phòng': 17959, 'bô': 17960, 'chẳg': 17961, 'cây_xanh': 17962, 'bình_quân': 17963, 'biti': 17964, 'tủ_lạnh': 17965, 'bon_bon': 17966, 'interesting': 17967, 'tempura': 17968, 'bồ_công_anh': 17969, 'cocacola': 17970, 'khiếm_nhã': 17971, 'waiter': 17972, 'hía': 17973, 'đại_nghĩa': 17974, 'thiệu': 17975, 'nguội_ngắt': 17976, 'kiê': 17977, 'lò': 17978, 'nhà_tắm': 17979, 'toàng': 17980, 'mới_đây': 17981, 'khứa': 17982, 'mas': 17983, 'chon': 17984, 'triệt': 17985, 'càng': 17986, 'sanh_sánh': 17987, 'n_mo': 17988, 'mở_miệng': 17989, 'giao_hưởng': 17990, 'coc': 17991, 'hihihihi': 17992, 'mta': 17993, '68k': 17994, 'đv': 17995, 'chen_chân': 17996, 'ếnh': 17997, '11am': 17998, 'cấm_chỉ': 17999, 'xì_xầm': 18000, 'nũi': 18001, '07': 18002, 'vô_gia_cư': 18003, 'vé': 18004, 'quên_mình': 18005, 'thay_mặt': 18006, 'cáu_kỉnh': 18007, 'phong_lan': 18008, '79000': 18009, 'đánh_bài': 18010, 'nhắc': 18011, 'thó': 18012, 'giá_mà': 18013, 'ninh': 18014, 'nì': 18015, 'cesar': 18016, '100000đ': 18017, 'lập_tức': 18018, 'tầg': 18019, 'choáng_váng': 18020, 'bù': 18021, 'điã': 18022, 'pretty': 18023, 'nguyện_ước': 18024, 'chậu': 18025, 'cới': 18026, 'sh': 18027, 'nhẽo': 18028, '18h30': 18029, 'xả_đông': 18030, 'cubgx': 18031, 'ban_tặng': 18032, 'sapa': 18033, 'ắng': 18034, 'tợn': 18035, '225': 18036, 'quaen': 18037, '1chiều': 18038, 'quéo': 18039, 'đểnh': 18040, 'hậu_đậu': 18041, 'hp': 18042, 'cám': 18043, 'vươn': 18044, 'sôi_sục': 18045, 'rạch_giá': 18046, 'windy': 18047, 'sư_phạm': 18048, 'choáng': 18049, 'khiểng': 18050, 'bong': 18051, 'xúng': 18052, 'hoàng_sa': 18053, 'sứa': 18054, 'trưởng_thành': 18055, 'rứt': 18056, 'dvu': 18057, 'lặp_đi_lặp_lại': 18058, 'tân_phú': 18059, 'chân_thực': 18060, 'áp_lực': 18061, 'laksa': 18062, 'cảnh_trí': 18063, 'phong_độ': 18064, 'nóng_hổi': 18065, 'thật': 18066, 'devil': 18067, 'xỉa': 18068, 'oải': 18069, 'ngìn': 18070, 'thuận_tiện': 18071, 'coffe': 18072, '78p': 18073, 'tượng_trưng': 18074, 'đôi_lứa': 18075, 'con_giai': 18076, 'tịt': 18077, 'totoro': 18078, 'tình_nguyện': 18079, 'tiem': 18080, '1m70': 18081, 'mùa_hè': 18082, '3000': 18083, 'get': 18084, 'kiểm_điểm': 18085, 'bthường': 18086, 'tha_thiết': 18087, 'thanh_thuỷ': 18088, 'checkout': 18089, 'tdo': 18090, 'dựa': 18091, 'cq': 18092, 'bệnh_tâm_thần': 18093, 'trợt': 18094, 'trắng_đen': 18095, 'móc': 18096, '8ng': 18097, 'hcm': 18098, 'gias': 18099, 'coco': 18100, 'list': 18101, 'chánh_hưng': 18102, 'ngọn': 18103, 'trước_nay': 18104, 'huế': 18105, 'đ': 18106, 'diễn_xuất': 18107, 'rộg': 18108, 'nhưng': 18109, 'nụ': 18110, 'lém': 18111, 'bố_mẹ': 18112, 'marinara': 18113, '190': 18114, 'thuốc_muối': 18115, 'kên': 18116, 'qf': 18117, 'nói_tóm_lại': 18118, 'vọt': 18119, 'spin': 18120, 'bình_phẩm': 18121, 'ahihi': 18122, 'thay_đổi': 18123, '0đ': 18124, 'đìêu': 18125, 'tasty': 18126, 'trò_chuyện': 18127, 'thậy': 18128, 'tiền_nào_của_nấy': 18129, '3h15': 18130, 'bếu': 18131, 'keo': 18132, '2511': 18133, 'gô': 18134, 'hiphop': 18135, 'crep': 18136, 'tiếp_chuyện': 18137, 'xu_thế': 18138, 'cung_bậc': 18139, 'manga': 18140, 'steam': 18141, 'hẳn_hoi': 18142, 'thgian': 18143, 'drawings': 18144, 'tự_xưng': 18145, 'dăt': 18146, '17h10': 18147, 'buỏi': 18148, 'ragu': 18149, 'preview': 18150, 'đờn': 18151, 'đại_lộc': 18152, 'rục': 18153, 'ngày_một': 18154, 'cởn': 18155, 'buồn_nôn': 18156, 'lốc': 18157, 'sorry': 18158, '227': 18159, 'quả': 18160, 'rè': 18161, 'dòi': 18162, 'thiên_sứ': 18163, 'ignore': 18164, 'dối_trá': 18165, 'sướng_rơn': 18166, 'so_le': 18167, 'phủ_định': 18168, 'thể_diện': 18169, 'thấu': 18170, '21h30': 18171, '15h': 18172, 'graphics': 18173, 'đơn_cử': 18174, 'qcao': 18175, 'chủ_ngữ': 18176, 'cạn': 18177, 'nóng_vội': 18178, 'poping': 18179, 'bế': 18180, 'phềnh': 18181, 'thời_khắc': 18182, 'núi': 18183, 'cương_quyết': 18184, 'quyet': 18185, 'bãi': 18186, 'tiềm': 18187, 'rì_rào': 18188, 'tạp_chí': 18189, 'nữa_là': 18190, 'la_liệt': 18191, 'jf': 18192, 'giằng': 18193, 'chạy_bàn': 18194, 'care': 18195, '6h': 18196, 'closed': 18197, 'tồm': 18198, 'vỡ_lẽ': 18199, 'có_thai': 18200, 'khánh_hoà': 18201, 'chế_giễu': 18202, 'yêu_kiều': 18203, 'lòng_đỏ': 18204, 'nguyên_chất': 18205, '549': 18206, 'xem_bói': 18207, 'entered': 18208, '259k': 18209, 'nước_màu': 18210, 'would': 18211, '146': 18212, 'biến_thái': 18213, 'ăn_gian': 18214, 'white': 18215, 'đàn_hồi': 18216, 'đậu_phụ': 18217, 'chết_dở': 18218, 'xỉu': 18219, 'lâu_lâu': 18220, 'actually': 18221, 'dashi': 18222, 'uhm': 18223, 'hellokitty': 18224, 'thanh_tịnh': 18225, 'post': 18226, 'wife': 18227, 'gèn': 18228, 'mệnh_danh': 18229, 'khắt': 18230, 'mô_hình': 18231, 'weed': 18232, 'tồi_tệ': 18233, 'đỗ_quang': 18234, 'tràm': 18235, 'đông_hà': 18236, 'maison': 18237, 'roma': 18238, 'biện_minh': 18239, 'trôn': 18240, 'wink': 18241, 'bàn_bạc': 18242, 'recommend': 18243, 'ngoài_ra': 18244, 'gét': 18245, 'noon': 18246, 'vênh_váo': 18247, '17k': 18248, 'son': 18249, 'accoustic': 18250, 'dòn': 18251, 'nằn_nì': 18252, 'ins': 18253, 'ời': 18254, 'cảm_ứng': 18255, '621': 18256, 'drive': 18257, 'dươi': 18258, 'seri': 18259, 'huyen': 18260, 'mênh_mang': 18261, '233': 18262, 'queo': 18263, 'sập': 18264, 'vấn_nạn': 18265, 'im_lặng': 18266, 'bóng_bì': 18267, 'oi_ả': 18268, 'fanny': 18269, 'voor': 18270, 'chia_tay': 18271, 'giă': 18272, 'singum': 18273, 'zòng': 18274, 'lơ_vơ': 18275, 'vơi': 18276, 'nấm_mỡ': 18277, 'khâu': 18278, 'bưởi': 18279, 'năm2015': 18280, 'mỏng': 18281, 'delay': 18282, 'đỉnh_cao': 18283, 'sapo': 18284, 'đồng_loạt': 18285, 'phổ_biến': 18286, 'miếg': 18287, 'cửa_quan': 18288, 'thuốc_tẩy': 18289, 'đồng_quê': 18290, 'xắp': 18291, '2014': 18292, 'thót_tim': 18293, 'galant': 18294, 'pow': 18295, 'làm_giàu': 18296, 'ngẹt': 18297, 'quyện': 18298, '0803': 18299, 'boardgame': 18300, 'ghế_cứng': 18301, 'đòn_gánh': 18302, 'lấm_tấm': 18303, 'beef': 18304, 'trình_diễn': 18305, 'bigc': 18306, 'đều': 18307, 'ry': 18308, 'duoi': 18309, 'customers': 18310, 'vữa': 18311, 'dà': 18312, 'yêu_thích': 18313, 'sales': 18314, 'mẳt': 18315, 'bụng_dạ': 18316, 'xúc_xắc': 18317, 'cs': 18318, 'deco': 18319, 'oiiii': 18320, 'tuổi_trẻ': 18321, 'grappa': 18322, 'playlist': 18323, 'lên_cơn': 18324, 'left': 18325, 'lẩn': 18326, 'basic': 18327, 'thay': 18328, 'trâm': 18329, 'singapore': 18330, 'lens': 18331, 'tables': 18332, 'herher': 18333, 'quan_nha': 18334, 'na': 18335, 'wasabi': 18336, 'nhấn_mạnh': 18337, 'lấy_lòng': 18338, 'him': 18339, 'mụ': 18340, '1giờ': 18341, 'chút_chít': 18342, 'nhék': 18343, 'ánh_sáng': 18344, 'upscale': 18345, 'từa': 18346, 'buta': 18347, 'nguyên_vị': 18348, 'xóm': 18349, 'bướm': 18350, 'đắp': 18351, 'linh_tinh_lang_tang': 18352, 'ngầu': 18353, 'august': 18354, 'vỏ_chai': 18355, 'ngứa': 18356, 'áo_mưa': 18357, 'tay_trong': 18358, '60km': 18359, 'hiểu_biết': 18360, 'nham_nhở': 18361, 'moc': 18362, '23h': 18363, 'ca_múa': 18364, 'charge': 18365, 'mù_tạt': 18366, 'toà': 18367, 'sông_nước': 18368, 'thể_thức': 18369, 'qên': 18370, 'nhà_may': 18371, 'website': 18372, 'oét': 18373, 'đành_lòng': 18374, 'gogi': 18375, 'slow': 18376, 'dạt': 18377, 'ngheu': 18378, 'tần_suất': 18379, 'dac': 18380, 'goác': 18381, 'liên_hoan': 18382, 'xuka': 18383, 'dạo_mát': 18384, 'exciting': 18385, 'pha': 18386, 'ntnao': 18387, 'ấm_cúng': 18388, 'oaj': 18389, 'jerry': 18390, 'loay_hoay': 18391, 'vừa_phải': 18392, 'hơi': 18393, 'hoàng': 18394, 'thanh_tao': 18395, 'lán': 18396, 'giòn_tan': 18397, 'nhan_nhản': 18398, 'nnghi': 18399, 'xuông': 18400, 'hình_nón': 18401, 'khaorng': 18402, 'thẳng': 18403, 'tẻ': 18404, 'hem': 18405, '250gr': 18406, 'nhạc_nhẹ': 18407, 'mất_tích': 18408, 'đậu_đen': 18409, 'quấn_quít': 18410, 'ghiền': 18411, 'móp': 18412, 'decent': 18413, 'điều_khoản': 18414, 'khủng_long': 18415, 'chong_chóng': 18416, 'nhiêu': 18417, 'hồi': 18418, 'bánh_đà': 18419, 'nuôi': 18420, 'pha_trò': 18421, 'americano': 18422, 'thứ': 18423, 'đựg': 18424, 'làm_mưa_làm_gió': 18425, 'em': 18426, 'cửa_nhà': 18427, 'hoằng': 18428, 'ỏi': 18429, 'níu': 18430, 'screwed': 18431, 'lạ_lạ': 18432, 'tinh_bột': 18433, '115': 18434, 'đợt': 18435, 'nvl': 18436, 'nổi_giận': 18437, 'rêng': 18438, 'tỏi': 18439, 'harry': 18440, 'hé_răng': 18441, 'tón': 18442, 'authentic': 18443, 'ăn_mặc': 18444, 'loc': 18445, 'mallow': 18446, 'vang': 18447, 'chuển': 18448, 'truyền_đạt': 18449, 'vô_lễ': 18450, 'hamster': 18451, 'đồng_bộ': 18452, 'gữi': 18453, 'thung_lũng': 18454, 'đèn_đóm': 18455, 'chẳng_qua': 18456, 'luôn_thể': 18457, 'rừng': 18458, 'cáu': 18459, 'dư_vị': 18460, 'gấn': 18461, 'chữ_nhật': 18462, 'detox': 18463, 'icecream': 18464, 'trúng_độc': 18465, 'balad': 18466, 'reservation': 18467, '50m': 18468, 'tròng': 18469, 'hy_vọng': 18470, 'chuyện_trò': 18471, 'sd': 18472, 'thủ_thiêm': 18473, 'nẻn': 18474, 'brownie': 18475, 'xây': 18476, 'om': 18477, 'hứa': 18478, 'tân_thuận': 18479, 'bbq': 18480, 'chếch': 18481, 'khang_trang': 18482, 'biệ': 18483, 'mõi': 18484, 'cungc': 18485, '158': 18486, 'kỳ_dị': 18487, 'tầm_bậy': 18488, 'tối_thiểu': 18489, 'hành_động': 18490, 'sủa': 18491, 'dậm': 18492, 'nguk': 18493, 'dằng': 18494, 'playstation': 18495, 'đồng_cảm': 18496, 'phai_nhạt': 18497, 'т': 18498, 'bowl': 18499, 'thế_chấp': 18500, 'thiết_bị': 18501, 'lẫu': 18502, 'còn': 18503, 'run_run': 18504, '915': 18505, 'tương_truyền': 18506, 'hoàn': 18507, 'ngoa': 18508, 'trách': 18509, 'shương': 18510, 'tay_trắng': 18511, 'hình_vẽ': 18512, 'dj': 18513, 'ngũ': 18514, 'cà_rốt': 18515, 'nguội_tanh_nguội_ngắt': 18516, 'không_thể_nào': 18517, 'khó_lòng': 18518, 'ngoại_quốc': 18519, 'gia_định': 18520, 'ụt': 18521, 'nình': 18522, 'bất_hợp_lí': 18523, 'hvh': 18524, 'sòn': 18525, '91b': 18526, 'bệp': 18527, 'bĩu': 18528, 'gõ': 18529, 'cảm_xúc': 18530, '41': 18531, 'strawberry': 18532, 'ngà': 18533, 'coz': 18534, 'bỡ': 18535, 'tro': 18536, 'sở_dĩ': 18537, 'dứa': 18538, 'java': 18539, 'rộn': 18540, 'mỹ_tâm': 18541, 'vắng_teo': 18542, 'beefsteak': 18543, 'kịch_nói': 18544, 'nhạp': 18545, 'oa': 18546, 'cjo': 18547, 'giư': 18548, 'attractive': 18549, 'nhiệu': 18550, '18cm': 18551, 'nhanh_nhẩu': 18552, '145k': 18553, 'hjjjj': 18554, 'zỵ': 18555, 'mẽ': 18556, 'hải_phòng': 18557, 'rạch': 18558, 'kung': 18559, 'mặp': 18560, 'ipad': 18561, '1tr5': 18562, 'thạch_sùng': 18563, 'bôi': 18564, 'watching': 18565, 'available': 18566, 'xôi': 18567, 'yc': 18568, 'khu': 18569, 'sưã': 18570, 'gọj': 18571, 'logo': 18572, 'unfollow': 18573, 'gia_kiệm': 18574, 'bão': 18575, 'zùm': 18576, 'ngứa_mắt': 18577, 'hc': 18578, 'chiếu_phim': 18579, 'giao_dịch': 18580, 'cài': 18581, 'lyn': 18582, 'đờ': 18583, 'thích': 18584, 'uể_oải': 18585, 'tớp': 18586, 'biên_phòng': 18587, 'suy_nghĩ': 18588, '1tr8': 18589, 'ráng': 18590, 'yên_lãng': 18591, 'cầu_dao': 18592, 'secret': 18593, 'gì': 18594, 'bóc': 18595, 'phương_pháp': 18596, 'duỗi': 18597, 'đau_khổ': 18598, 'mơ_mộng': 18599, '590k': 18600, 'cọp': 18601, 'quào': 18602, 'thực_tế': 18603, '1ly': 18604, 'tế_bào': 18605, 'war': 18606, 'phiền_muộn': 18607, 'bi_ve': 18608, 'hợp_lý': 18609, 'bánh_phở': 18610, 'nhắc_nhủ': 18611, 'ắn': 18612, 'củ': 18613, 'nhìn_nhận': 18614, 'nhật_nguyệt': 18615, 'bán_hoa': 18616, 'công_lý': 18617, 'hoàng_kim': 18618, 'dân_cư': 18619, 'mmm': 18620, 'khênh': 18621, 'khảng': 18622, 'oanh': 18623, 'ôn_tập': 18624, 'jv': 18625, '6cái': 18626, 'gruop': 18627, 'hardwell': 18628, 'quạt_cây': 18629, 'galery': 18630, 'glory': 18631, 'đau_đớn': 18632, 'receiving': 18633, 'hahaa': 18634, 'definitely': 18635, 'ba_chân_bốn_cẳng': 18636, 'building': 18637, 'quàng_quạc': 18638, 'năn_nỉ': 18639, 'thanh_trùng': 18640, '1thang': 18641, 'đến_nơi_đến_chốn': 18642, 'chung_chung': 18643, '320k': 18644, 'chủ_nghĩa_phát_xít': 18645, 'ngày_trước': 18646, 'u40': 18647, 'dạg': 18648, 'hanah': 18649, 'bạt': 18650, 'coi_khinh': 18651, 'buồn_hiu': 18652, 'đậm_đặc': 18653, 'tập_kích': 18654, 'trang_trí': 18655, 'loser': 18656, 'vẫn': 18657, 'đả': 18658, 'nước_thải': 18659, '32k': 18660, 'yuki': 18661, 'ngờ_ngợ': 18662, 'thơm_tho': 18663, 'điều_hoà': 18664, 'bằng_lòng': 18665, 'ản': 18666, 'hong': 18667, 'chịp': 18668, '251': 18669, 'blacklist': 18670, 'sáng_loáng': 18671, '500ml': 18672, 'peppermint': 18673, 'tổng': 18674, 'dẹt': 18675, 'xuất_trình': 18676, 'qà': 18677, 'nhũn': 18678, 'xấp': 18679, 'cuộc_đời': 18680, 'béo': 18681, 'nhà_xe': 18682, 'đáp': 18683, 'gi': 18684, 'giving': 18685, 'chồm': 18686, 'kkkkk': 18687, 'lùm': 18688, '44000': 18689, '69': 18690, 'méo': 18691, 'nói_khéo': 18692, 'khẩu': 18693, 'đẩy': 18694, 'ga': 18695, 'hạnh_phúc': 18696, 'bí_ẩn': 18697, 'chôm': 18698, 'singapor': 18699, 'sốc': 18700, 'vùa': 18701, 'rội': 18702, '49': 18703, 'choy': 18704, 'nhem_nhuốc': 18705, 'chuỗi': 18706, 'ngay_ngắn': 18707, '3km': 18708, 'fanpage': 18709, 'bát_quái': 18710, 'chang': 18711, 'tầng2': 18712, 'na_ná': 18713, '600000': 18714, 'hôi_tanh': 18715, 'uê': 18716, 'yên_ổn': 18717, 'hằm_hằm': 18718, 'di_dời': 18719, 'nguyễn_kiệm': 18720, 'coupon': 18721, 'lên_đèn': 18722, 'nđ': 18723, '9d': 18724, 'như_thế_này': 18725, 'cốm': 18726, 'know': 18727, 'vđề': 18728, 'vòi_vĩnh': 18729, 'địa_bàn': 18730, 'xe_buýt': 18731, 'htx': 18732, 'nháu': 18733, 'phóng': 18734, 'câu_lạc_bộ': 18735, 'uop': 18736, 'hớn_hở': 18737, 'hàng_hàng': 18738, 'sợ_hãi': 18739, 'title': 18740, 'dặn': 18741, 'zời': 18742, 'long_bong': 18743, 'ngay_tắp_lự': 18744, '6000': 18745, 'biết_mấy': 18746, 'xuat': 18747, 'not': 18748, 'công': 18749, 'xườn': 18750, 'mo': 18751, 'bàn': 18752, 'philippine': 18753, 'ngày_càng': 18754, 'uhmm': 18755, 'zậy': 18756, 'súc': 18757, 'bồ_câu': 18758, 'niềm_nở': 18759, 'thoii': 18760, 'khô_cằn': 18761, 'đôi_co': 18762, 'lợi': 18763, 'lỏng_lẻo': 18764, 'blueberry': 18765, 'anh_đào': 18766, 'chĩ': 18767, 'rọc': 18768, 'đại_hùng': 18769, 'pj': 18770, 'chiến_hữu': 18771, 'ống_kính': 18772, 'harsh': 18773, 'bigsize': 18774, 'doi': 18775, 'vế': 18776, 'nhếch': 18777, 'quảng_cáo': 18778, 'madrid': 18779, 'rips': 18780, 'lẽ': 18781, 'mây': 18782, 'tiệc': 18783, 'vào': 18784, 'copy': 18785, 'thắc_mắc': 18786, 'tắng': 18787, 'dong_hoi': 18788, '26h': 18789, 'lâun': 18790, 'hoài': 18791, 'lành_lạnh': 18792, 'qua': 18793, 'kỉ': 18794, 'bình': 18795, 'lost': 18796, 'nãy': 18797, 'một_tí': 18798, 'hawai': 18799, 'bóng_tối': 18800, 'thất': 18801, 'thàh': 18802, 'lin': 18803, 'allen': 18804, 'tka': 18805, 'toàn_quốc': 18806, 'naan': 18807, 'laii': 18808, 'cải_thiện': 18809, 'tín_ngưỡng': 18810, 'tựơng': 18811, 'từ_vị': 18812, 'hạ_tầng': 18813, 'waitress': 18814, 'suhi': 18815, 'ơi': 18816, 'modum': 18817, 'anh': 18818, 'rầm_rộ': 18819, 'chín': 18820, 'ác': 18821, 'vodka': 18822, 'chung_qui': 18823, 'ksan': 18824, '14h': 18825, 'ôn': 18826, 'ubnd': 18827, 'gx': 18828, 'chuyê': 18829, 'cẩn_trọng': 18830, 'dụ': 18831, 'fortuna': 18832, 'su_hào': 18833, 'mari': 18834, '2tr3': 18835, 'tiêt': 18836, 'tít_mù': 18837, '31': 18838, '10': 18839, 'giấm': 18840, 'lục_bình': 18841, 'class': 18842, 'k0': 18843, 'gỡ_gạc': 18844, 'điểm_số': 18845, 'hsau': 18846, 'chụi': 18847, 'xiết': 18848, 'ava': 18849, 'thứ_hai': 18850, 'nickname': 18851, '19': 18852, '269k': 18853, 'tái_tạo': 18854, 'chua_chát': 18855, 'hoa_quả': 18856, 'giám_sát': 18857, 'ace': 18858, 'cảnh_cáo': 18859, 'ục_ịch': 18860, 'thuốc': 18861, '7h00': 18862, 'đô_hội': 18863, 'xua_đuổi': 18864, 'trướng': 18865, 'trạch': 18866, 'country': 18867, 'uniform': 18868, 'glance': 18869, 'nướng': 18870, 'kien': 18871, 'thối': 18872, 'sẽ': 18873, 'viê': 18874, 'bán_lẻ': 18875, 'lii': 18876, 'gần_như': 18877, 'creamcheese': 18878, 'sandwiches': 18879, 'thường_tình': 18880, 'chôn_cất': 18881, 'thiêt': 18882, 'bài_bản': 18883, 'viết_tay': 18884, 'cajun': 18885, 'cơ_quan_hành_chính': 18886, 'bắc_bộ': 18887, 'nài_nỉ': 18888, 'nguyễn_xiển': 18889, 'lêm': 18890, 'đặn': 18891, 'bee': 18892, 'ê': 18893, 'hạch': 18894, 'cạo': 18895, 'đồng_đều': 18896, 'snag': 18897, 'bja': 18898, 'chợp': 18899, 'bjk': 18900, 'classic': 18901, 'huấn_luyện_viên': 18902, 'tổng_động_viên': 18903, 'lứa': 18904, 'unfriend': 18905, 'hương_giang': 18906, 'rành': 18907, 'mascarpone': 18908, 'viẹc': 18909, 'plenty': 18910, 'liquor': 18911, 'dởm': 18912, 'chằm_chằm': 18913, 'phát_ngôn': 18914, 'quy_mô': 18915, 'chàm': 18916, 'tói': 18917, 'kiếm_ăn': 18918, 'báng': 18919, 'nghe_nói': 18920, 'minh_chứng': 18921, 'boven': 18922, 'lousy': 18923, 'nhục_nhã': 18924, 'miên': 18925, 'mtb': 18926, 'gek': 18927, 'êu': 18928, 'sưu_tầm': 18929, 'quynhon': 18930, 'tây_phương': 18931, 'rêu': 18932, 'đội': 18933, 'lẹ': 18934, 'big_size': 18935, 'promote': 18936, 'ví_như': 18937, 'sociu': 18938, '390k': 18939, 'trước': 18940, 'căng': 18941, 'audiophile': 18942, 'hế': 18943, 'kayak': 18944, 'cũnh': 18945, 'dtu': 18946, 'xĩu': 18947, 'tui': 18948, 'nhai_lại': 18949, 'dk': 18950, 'đặc_điểm': 18951, 'sựt': 18952, '88': 18953, 'to_chuyện': 18954, 'hội_thảo': 18955, 'carrot': 18956, 'windsor': 18957, 'thê_lương': 18958, 'listening': 18959, 'ngoái': 18960, 'unbelievable': 18961, 'tha_thứ': 18962, 'lơ_tơ_mơ': 18963, 'ltk': 18964, 'phì_phèo': 18965, 'ohair': 18966, 'ons': 18967, 'ực': 18968, 'tư_liệu': 18969, 'trứg': 18970, 'thảo_mộc': 18971, 'sdt': 18972, 'lvs': 18973, 'sư_phụ': 18974, 'quan_trọng': 18975, 'cong_cớn': 18976, 'bêp': 18977, '51': 18978, 'tùm': 18979, 'phong_cách': 18980, '17g': 18981, 'gầy': 18982, 'quă': 18983, 'gthiệu': 18984, 'khêu_gợi': 18985, 've_sầu': 18986, 'tự_động': 18987, 'tttm': 18988, '38k': 18989, 'sapoche': 18990, 'thôi_nôi': 18991, 'nhà_tù': 18992, 'hit': 18993, '2g': 18994, 'màn_hình': 18995, 'lê_đình': 18996, 'penguin': 18997, 'chùn': 18998, 'chắng': 18999, 'gimbab': 19000, 'chín_tầng_mây': 19001, 'đôi_chút': 19002, 'go': 19003, 'thân_hữu': 19004, 'net': 19005, '346': 19006, 'cứng_nhắc': 19007, 'bookstore': 19008, 'ra_ngô_ra_khoai': 19009, 'dưỡng': 19010, '111': 19011, 'race': 19012, 'ca_dao': 19013, 'đàp': 19014, 'muội': 19015, 'cệ': 19016, 'cosplay': 19017, 'teaspoon': 19018, 'thật_ra': 19019, 'bòn': 19020, '125': 19021, 'đất_trời': 19022, 'tre': 19023, 'va_chạm': 19024, 'tường_trình': 19025, 'là_lạ': 19026, 'reader': 19027, 'kênh_truyền_hình': 19028, 'fu': 19029, 'blend': 19030, 'cánh_sen': 19031, 'drank': 19032, 'gọn_gàng': 19033, 'xã_hội': 19034, 'luôn_luôn': 19035, '14216': 19036, 'cosy': 19037, 'soju': 19038, 'cột': 19039, 'tira': 19040, 'hamberger': 19041, '311': 19042, 'lấc_cấc': 19043, 'hạng': 19044, 'nhat': 19045, 'lởm': 19046, 'đồng_nhất': 19047, '34k': 19048, 'sỹ': 19049, 'hay_ho': 19050, 'lắp_bắp': 19051, 'tệ_nạn': 19052, 'tâng': 19053, 'dug': 19054, 'xởi_lởi': 19055, 'bao_trùm': 19056, 'jam': 19057, 'mee': 19058, 'mắm_tép': 19059, 'nổi_nóng': 19060, 'bôt': 19061, 'girls': 19062, 'tori': 19063, 'nuốc': 19064, 'tả_tơi': 19065, 'lang': 19066, 'honeymoon': 19067, 'huề': 19068, 'mac': 19069, 'htm': 19070, 'vinpearl': 19071, 'hờ_hững': 19072, 'bth': 19073, 'hầu_hết': 19074, 'nguội': 19075, 'thắng': 19076, 'yêu_sách': 19077, 'nhận_diện': 19078, 'tâm_linh': 19079, 'đéc': 19080, 'hèn_chi': 19081, 'viec': 19082, 'tiến_bộ': 19083, 'tĩnh_lặng': 19084, 'cre': 19085, 'yển': 19086, 'miên_man': 19087, 'xoai': 19088, 'highly': 19089, 'đễn': 19090, 'almost': 19091, 'hô_hố': 19092, 'phồn_hoa': 19093, 'hú_hí': 19094, 'dài_dài': 19095, 'microwave': 19096, 'thứ_năm': 19097, 'chính_sách': 19098, 'nmà': 19099, 'seeder': 19100, 'nhìêu': 19101, 'vai': 19102, 'nói_tục': 19103, 'rất_đỗi': 19104, 'seats': 19105, '12h5': 19106, 'chờ': 19107, 'mướt_mượt': 19108, 'đùa_nghịch': 19109, 'gioi': 19110, 'dầu_phộng': 19111, 'óc': 19112, 'bánh_đúc': 19113, 'babies': 19114, 'extremely': 19115, 'circle': 19116, 'cao_cấp': 19117, 'xồn_xồn': 19118, 'soft': 19119, 'đôg': 19120, 'cây_cảnh': 19121, 'reviews': 19122, 'ngừa': 19123, 'có_tình': 19124, 'chilli': 19125, 'kimsa': 19126, 'os': 19127, 'hiiii': 19128, 'note': 19129, '2lần': 19130, 'nhà_hát': 19131, 'kim_khôi': 19132, 'nế': 19133, 'cơm_lam': 19134, 'lâm_đồng': 19135, 'ngung': 19136, 'súp_lơ': 19137, '030': 19138, 'khẫu': 19139, 'trương': 19140, 'tring': 19141, 'lót': 19142, 'cassiopeia': 19143, 'bưa': 19144, 'uổng': 19145, 'chilled': 19146, 'nydc': 19147, 'po': 19148, 'xanh_mét': 19149, 'tarot': 19150, 'điểm': 19151, 'ngấc': 19152, '57k': 19153, 'hùn': 19154, 'hắc_xì_dầu': 19155, 'truyền_hình_cáp': 19156, 'upstairs': 19157, 'nhà_trẻ': 19158, 'nứơng': 19159, 'lổ': 19160, 'vả': 19161, 'tôm_càng_xanh': 19162, 'vv': 19163, 'động_từ': 19164, 'jm': 19165, 'tốt_tính': 19166, 'khả_năng': 19167, 'broth': 19168, 'công_nhật': 19169, 'hoàn_hảo': 19170, 'tên_lửa': 19171, 'hâm_nóng': 19172, 'kẽ': 19173, 'lmà': 19174, 'lan_viên': 19175, 'hôk': 19176, 'nguyễn_sơn': 19177, 'bởn': 19178, 'gìơ': 19179, 'trùng_hợp': 19180, 'một_nửa': 19181, '7h': 19182, 'lừng_khừng': 19183, 'xinh_đẹp': 19184, 'giấu_giếm': 19185, 'hoa_hậu': 19186, 'lạm_phát': 19187, 'thượng_hạng': 19188, 'huhu': 19189, 'quả_thật': 19190, 'hâhha': 19191, 'award': 19192, 'thân_thiện': 19193, 'mọ': 19194, 'see': 19195, 'óng_ả': 19196, 'may_mà': 19197, 'zelf': 19198, 'bong_bóng': 19199, '3a3': 19200, 'cskh': 19201, 'hình_thù': 19202, 'tố_hữu': 19203, 'milk': 19204, 'nhí': 19205, 'miễn_giảm': 19206, 'nhân': 19207, 'vi_phạm': 19208, 'tự_do': 19209, 'bowling': 19210, 'mổ': 19211, 'bánh_trung_thu': 19212, 'độn': 19213, '10tr': 19214, 'monter': 19215, '249': 19216, 'cây_cỏ': 19217, 'đẳng_cấp': 19218, 'cọc': 19219, 'thừ': 19220, 'cách_biệt': 19221, 'ngoạp': 19222, 'bushido': 19223, 'nông_nổi': 19224, 'cười_cười': 19225, 'nhă': 19226, 'mệt': 19227, 'đóng_dấu': 19228, 'vòi_nước': 19229, 'xuể': 19230, 'nhảo': 19231, 'hanbok': 19232, 'leaf': 19233, 'nhà_gái': 19234, 'mẫu_mã': 19235, 'be_bé': 19236, 'voice': 19237, 'dynamite': 19238, 'bôn': 19239, 'best': 19240, '8h15': 19241, 'lock': 19242, 'goodies': 19243, 'văn_phòng': 19244, 'sate': 19245, 'chúng_tôi': 19246, 'ình': 19247, 'ôlong': 19248, 'pao': 19249, 'lị': 19250, 'rùm_beng': 19251, 'coctail': 19252, 'hoảng': 19253, 'khoẻ': 19254, 'đai': 19255, 'chọc': 19256, 'bao_la': 19257, 'nỗi': 19258, 'ngừi': 19259, 'mĩ_nhân': 19260, 'đủ': 19261, 'rdc': 19262, 'fizz': 19263, 'д': 19264, 'môn_học': 19265, 'thủng': 19266, 'đuỗi': 19267, 'lường': 19268, 'tán_dóc': 19269, 'bất': 19270, 'trong_vắt': 19271, 'perfectly': 19272, 'giận_dữ': 19273, 'bake': 19274, 'khuẩn': 19275, 'cảng': 19276, 'đa_phần': 19277, 'vốn': 19278, 'strangely': 19279, 'tiềng': 19280, '4050': 19281, 'lon_ton': 19282, 'elsewhere': 19283, 'bằng_phẳng': 19284, 'ră': 19285, 'tom': 19286, 'nẹp': 19287, 'ngỉ': 19288, 'nạm': 19289, 'ngớn': 19290, 'nướn': 19291, 'x': 19292, 'apple': 19293, 'rối_rắm': 19294, '20000đ': 19295, 'hởn': 19296, 'thiếu': 19297, 'thiên_đàng': 19298, 'khinh_rẻ': 19299, 'bồng': 19300, 'nhỏ_tuổi': 19301, 'thít': 19302, 'cất_công': 19303, 'nhiệm': 19304, 'cưới_hỏi': 19305, 'mic': 19306, 'new_zealand': 19307, 'bull': 19308, 'tỉ_lệ_nghịch': 19309, 'trăng_trắng': 19310, 'gảy': 19311, 'đánh_liều': 19312, 'bánh_khoai': 19313, 'y_như': 19314, 'thay_vì': 19315, 'umbrella': 19316, 'khây': 19317, 'sấy': 19318, 'rút_tiền': 19319, 'cong': 19320, 'vẹ': 19321, 'her': 19322, 'diện_mạo': 19323, 'chung_chạ': 19324, 'sốt_sắng': 19325, 'hích': 19326, 'thừa_thãi': 19327, 'ck': 19328, 'у': 19329, 'rầm': 19330, 'events': 19331, 'đông_du': 19332, 'exchange': 19333, 'rơi_rớt': 19334, 'foreigner': 19335, 'phủ_sóng': 19336, '12h20': 19337, '3g': 19338, 'rau_dền': 19339, '108': 19340, 'vủa': 19341, 'tế': 19342, 'tá': 19343, 'cũng_nên': 19344, 'chuẫn': 19345, 'rụng': 19346, 'liên_lạc': 19347, 'ho': 19348, 'vit': 19349, 'trưng_dụng': 19350, 'hửng': 19351, 'sum_vầy': 19352, 'nhạc_sống': 19353, 'nấm_hương': 19354, 'tột': 19355, 'teaches': 19356, 'hướg': 19357, 'ýt': 19358, 'bab': 19359, 'disappointed': 19360, 'mặn_chát': 19361, 'đọc': 19362, 'nghe': 19363, 'vourcher': 19364, 'tad': 19365, 'quất': 19366, 'dé': 19367, 'lành_mạnh': 19368, 'vắt': 19369, 'trà_lá': 19370, 'âu_lạc': 19371, 'dây_điện': 19372, 'cây_trồng': 19373, 'mig': 19374, 'khăn': 19375, 'poppin': 19376, 'casa': 19377, 'phú_yên': 19378, 'cây_bóng_mát': 19379, 'vẽ': 19380, 'dẫn_xác': 19381, 'tồn': 19382, 'music': 19383, 'nói_móc': 19384, 'đồ_sộ': 19385, 'mút': 19386, 'nhỏ_xíu': 19387, 'mouse': 19388, 'presented': 19389, 'tịch': 19390, 'mặc': 19391, 'bk': 19392, 'hay_hay': 19393, 'mìh': 19394, 'hmm': 19395, 'quàn': 19396, 'ung_ủng': 19397, 'súa': 19398, 'march': 19399, 'cấu_trúc': 19400, 'lót_dạ': 19401, 'vòng_vo': 19402, 'bất_thường': 19403, 'hòi': 19404, 'xe_con': 19405, 'chuyến': 19406, 'tốc_độ': 19407, 'luyện': 19408, 'hủ': 19409, 'nụ_cười': 19410, '50s': 19411, 'lush': 19412, 'mmi': 19413, 'xem_ngày': 19414, 'xác': 19415, 'vòm': 19416, 'miss': 19417, 'bartender': 19418, '1lần': 19419, 'hét': 19420, 'khát': 19421, 'siu': 19422, 'váy': 19423, 'nghênh': 19424, 'kiểm_nghiệm': 19425, 'fresh': 19426, 'giảng_dạy': 19427, 'hành_hương': 19428, 'xì_dầu': 19429, 'suat': 19430, 'chất_liệu': 19431, 'gáo': 19432, 'roy': 19433, 'indoor': 19434, 'ớ': 19435, 'mille': 19436, 'chậy': 19437, 'lộng_lẫy': 19438, 'patê': 19439, 'huo': 19440, 'đầut': 19441, 'từ_trường': 19442, 'beat': 19443, 'fục': 19444, 'cá_hồi': 19445, 'hừm': 19446, 'hps': 19447, 'gương_mặt': 19448, 'bặm': 19449, 'rọi': 19450, 'kéo': 19451, 'tít_mắt': 19452, 'ngẫm_nghĩ': 19453, 'ớn_ớn': 19454, 'sup': 19455, 'nhanh_nhảu': 19456, 'chỷ': 19457, 'động_năng': 19458, 'khập_khiễng': 19459, 'khó_đăm_đăm': 19460, 'belgium': 19461, 'ngải_cứu': 19462, 'cáu_gắt': 19463, 'bợ': 19464, 'tuy_rằng': 19465, 'nayy': 19466, 'sm': 19467, 'xủa': 19468, 'thích_hợp': 19469, '130g': 19470, 'nghề': 19471, 'miệt_mài': 19472, 'tận_tay': 19473, 'lâu_lắc': 19474, 'hiện': 19475, 'vòng': 19476, 'nặng_mùi': 19477, 'out': 19478, 'coop': 19479, 'hồ_sơ': 19480, 'kép': 19481, 'nguyễn_kim': 19482, 'dị': 19483, 'rỉnh': 19484, 'đuong': 19485, 'kingkong': 19486, 'robin': 19487, '68000': 19488, 'dư': 19489, 'định_lượng': 19490, 'owner': 19491, 'mới': 19492, 'rau_dưa': 19493, 'thược': 19494, 'corn': 19495, 'conner': 19496, 'ngụm': 19497, '1c': 19498, 'dên': 19499, 'khó_dễ': 19500, 'hole': 19501, 'chễm_chệ': 19502, 'fa': 19503, 'lanterns': 19504, 'đi_chăng_nữa': 19505, 'chim_cánh_cụt': 19506, 'rụt': 19507, 'báo_động': 19508, 'ohhhh': 19509, 'trên_hết': 19510, 'tromg': 19511, 'liên_hợp': 19512, 'tour': 19513, '90000': 19514, 'dành_dụm': 19515, 'iko': 19516, 'sắp_xếp': 19517, 'sành_điệu': 19518, 'uyên_ương': 19519, 'khơ': 19520, 'mềm_mại': 19521, 'watermelon': 19522, 'quanh_đi_quẩn_lại': 19523, 'phômai': 19524, 'ang': 19525, 'abit': 19526, 'slowly': 19527, 'cưn': 19528, 'giớ': 19529, 'dài': 19530, 'chuyển_mình': 19531, 'oca': 19532, 'có_thể': 19533, 'robb': 19534, 'phỏng_vấn': 19535, 'sangria': 19536, 'con_nít': 19537, 'mủ': 19538, 'nd': 19539, 'thăm_nuôi': 19540, 'rỗ': 19541, 'gumiho': 19542, 'nhà_trọ': 19543, 'bây': 19544, 'nồng_hậu': 19545, 'giả_lơ': 19546, 'cánh_gà': 19547, 'hiccc': 19548, 'mộng_mơ': 19549, 'liên_tưởng': 19550, 'iris': 19551, 'bấn_loạn': 19552, 'xộc': 19553, 'lôi_thôi': 19554, 'tối_qua': 19555, '261': 19556, 'discount': 19557, 'bịn': 19558, 'dnay': 19559, '11g': 19560, 'đên': 19561, 'cao': 19562, 'ngợm': 19563, 'chị_gái': 19564, 'ngươ': 19565, 'backgound': 19566, '9r': 19567, 'tuần_trăng_mật': 19568, 'hep': 19569, 'tân_kỳ': 19570, 'da_liễu': 19571, 'cloud': 19572, 'hảy': 19573, 'nường': 19574, 'ủi': 19575, 'enjoyed': 19576, 'thuô': 19577, 'share': 19578, 'uber': 19579, 'nhàm_chán': 19580, 'bảng_hiệu': 19581, 'mâu_thuẫn': 19582, 'êm_dịu': 19583, 'chủ': 19584, 'căng_tin': 19585, 'kumho': 19586, 'chăm_chỉ': 19587, 'ngc': 19588, '85': 19589, 'commnet': 19590, 'thooi': 19591, 'winter': 19592, 'chua_lè': 19593, 'join': 19594, 'thă': 19595, 'trỡ': 19596, 'ỉn': 19597, 'nguội_lạnh': 19598, 'vip': 19599, 'lọt_thỏm': 19600, 'sâng': 19601, 'lám': 19602, 'huyên_náo': 19603, 'taste': 19604, '189': 19605, 'cảnh_phục': 19606, 'buồn_đau': 19607, 'vã': 19608, 'đư': 19609, 'issues': 19610, 'cáo': 19611, 'văn_chương': 19612, 'phè_phè': 19613, 'boo': 19614, 'nho_nhỏ': 19615, 'phóc': 19616, 'hehehehe': 19617, 'bao_tay': 19618, 'trơ_trọi': 19619, 'trao_đổi': 19620, 'quân_sự': 19621, 'relaxed': 19622, 'nhiệt_đới': 19623, 'sóng_sánh': 19624, 'vùi': 19625, 'sá': 19626, 'buội': 19627, 'huơ': 19628, 'rượu_nho': 19629, 'lắc_rắc': 19630, 'việc': 19631, 'xích': 19632, 'vướn': 19633, 'gắt_gao': 19634, 'thành_ra': 19635, 'exotic': 19636, 'ám_chỉ': 19637, 'nõn': 19638, 'lãng_phí': 19639, 'juliet': 19640, 'đôi_khi': 19641, 'sương': 19642, 'ngối': 19643, 'bạch_dương': 19644, 'tâm_huyết': 19645, 'chiều': 19646, 'giống_hệt': 19647, 'ngốn': 19648, 'chộp': 19649, 'ẳng': 19650, 'tự_phát': 19651, '229': 19652, 'xiro': 19653, '164': 19654, 'tap': 19655, 'qg': 19656, 'techno': 19657, 'duty': 19658, 'không_trách': 19659, '2l': 19660, '1130': 19661, 'sẩy': 19662, 'bộc': 19663, 'ngặt_nghèo': 19664, 'trâu': 19665, '40p': 19666, '460': 19667, 'nghiêng_ngả': 19668, 'bù_giá': 19669, 'cha_truyền_con_nối': 19670, 'đồ_đạc': 19671, 'fondue': 19672, 'yen': 19673, 'quằn_quại': 19674, 'ảo_thuật': 19675, 'ôi_chao': 19676, 'niêu': 19677, 'lớn_nhỏ': 19678, 'đồng_đen': 19679, 'meet': 19680, 'ra_sức': 19681, 'chinh': 19682, 'wiew': 19683, 'host': 19684, 'quắt': 19685, 'mèo': 19686, 'sot': 19687, 'ẩm_mốc': 19688, 'originally': 19689, 'lady': 19690, 'tòm': 19691, 'nghiệp': 19692, 'litle': 19693, 'lỡ': 19694, '36000': 19695, 'chủ_đạo': 19696, 'fe': 19697, 'tam_giác': 19698, 'trốn_nắng': 19699, 'ái': 19700, 'mã': 19701, 'pha_trộn': 19702, 'cmnl': 19703, 'dòng_họ': 19704, 'bát_đàn': 19705, 'động_đậy': 19706, 'ị': 19707, '350k': 19708, 'hỏi': 19709, 'khiêm_tốn': 19710, 'comfort': 19711, 'mập_mờ': 19712, 'rôm_rả': 19713, 'đăc': 19714, 'ngực': 19715, 'tái_hiện': 19716, 'múa_hát': 19717, 'loàng_xoàng': 19718, 'ôm': 19719, 'đơn_giản': 19720, 'ngu': 19721, 'mại': 19722, 'đầm_ấm': 19723, 'vắng': 19724, 'chửi': 19725, 'chướng': 19726, 'nin': 19727, 'trường_thọ': 19728, 'ghi_chép': 19729, 'nen': 19730, 'chướng_ngại_vật': 19731, 'deo': 19732, 'gội': 19733, 'phởi': 19734, 'ghị': 19735, 'ra_vẻ': 19736, 'đoc': 19737, 'khé': 19738, 'đúc': 19739, '143': 19740, 'hình_tròn': 19741, 'trêu_đùa': 19742, 'kiện': 19743, 'bọng': 19744, 'láng_hạ': 19745, 'hiền_lành': 19746, 'bos': 19747, 'khiêng': 19748, 'trắg': 19749, '18k': 19750, 'đúi': 19751, 'giác': 19752, '76': 19753, 'kopi': 19754, '181': 19755, 'wilde': 19756, 'cảo': 19757, 'dai_nhách': 19758, 'tuyệt_vọng': 19759, 'trí_thức': 19760, 'trần_văn': 19761, 'negative': 19762, 'kiêu': 19763, 'tầm_tầm': 19764, 'forget': 19765, 'nẫu': 19766, 'yếu': 19767, 'chóng_mặt': 19768, 'colagen': 19769, 'ngọng': 19770, 'lit': 19771, 'ngọt': 19772, 'butter': 19773, 'senju': 19774, 'gỡ': 19775, 'lem': 19776, 'lame': 19777, 'servers': 19778, '100gram': 19779, 'lựa': 19780, 'nưong': 19781, 'cx': 19782, 'tay_ấn': 19783, '4và': 19784, 'bần_bật': 19785, 'deni': 19786, 'dâ': 19787, 'rơi_vãi': 19788, 'poca': 19789, 'tựong': 19790, 'yeahhhh': 19791, 'tuần': 19792, 'phẫu_thuật': 19793, 'vô_lại': 19794, 'hotpot': 19795, 'măt': 19796, 'lf': 19797, 'đa_dạng': 19798, 'trưng_vương': 19799, '254': 19800, 'fi': 19801, 'chẻ': 19802, '945': 19803, 'giảu': 19804, 'niệm': 19805, 'cất_tiếng': 19806, 'bọt_bèo': 19807, 'trơt': 19808, 'bơ_vơ': 19809, 'dân_phòng': 19810, 'vạm_vỡ': 19811, 'bùi': 19812, '2vc': 19813, 'nín': 19814, 'ứa': 19815, '2km': 19816, 'banana': 19817, 'da_nang': 19818, 'muôi': 19819, 'dubstep': 19820, 'xỉn': 19821, 'uni': 19822, 'karoke': 19823, 'nóng_nực': 19824, 'long_an': 19825, 'tỉ_lệ_thuận': 19826, 'hôi_rình': 19827, 'nghiêm_chỉnh': 19828, 'nhàn': 19829, 'nhà_thuốc': 19830, 'pn': 19831, 'vài_ba': 19832, 'chúng_bạn': 19833, 'lâu_la': 19834, 'nỗi_buồn': 19835, 'bé_con': 19836, 'ngán_ngẩm': 19837, 'garbage': 19838, 'thăm': 19839, 'cứu_hộ': 19840, 'pnt': 19841, 'đậu_trắng': 19842, 'cháp': 19843, 'ai_nấy': 19844, 'bgio': 19845, 'lụp_xụp': 19846, 'sung_mãn': 19847, '416': 19848, 'nhặn': 19849, 'gloria': 19850, 'kinh_doanh': 19851, '600ml': 19852, 'xuốg': 19853, 'loaị': 19854, 'buồn': 19855, 'khăn_ăn': 19856, 'tối_mù': 19857, 'biển': 19858, 'quý_phái': 19859, '05': 19860, 'ưa_thích': 19861, 'truyện': 19862, 'râu': 19863, 'bìh': 19864, 'healthy': 19865, 'month': 19866, 'bùi_bùi': 19867, 'xá_xị': 19868, 'slice': 19869, 'suc': 19870, 'hiend': 19871, 'zả': 19872, 'đảo': 19873, 'chinh_chiến': 19874, 'bia_hơi': 19875, 'dao_động': 19876, 'khoán': 19877, 'báo': 19878, 'vỗ_tay': 19879, 'vặt': 19880, 'cứng_đờ': 19881, 'học_việc': 19882, 'conan': 19883, '17': 19884, 'ân_nhân': 19885, 'tràng': 19886, 'mất_mặt': 19887, 'chểnh_mảng': 19888, 'yến_mạch': 19889, 'trongkhi': 19890, 'hâm': 19891, 'cửu_long': 19892, 'ngày_kia': 19893, 'spot': 19894, 'bừng_bừng': 19895, 'hạnh_nhân': 19896, 'summer': 19897, 'UNK': 19898}\n"
     ]
    }
   ],
   "source": [
    "word2idx = {w:i for i,w in enumerate(words_list)}\n",
    "print(word2idx)"
   ]
  },
  {
   "cell_type": "code",
   "execution_count": 14,
   "metadata": {
    "colab": {},
    "colab_type": "code",
    "id": "0K1PQH1Obpg4"
   },
   "outputs": [],
   "source": [
    "# Bước 1\n",
    "word = 'ngon'\n",
    "\n",
    "# Bước 2\n",
    "word_idx = word2idx[word]\n",
    "\n",
    "# Bước 3\n",
    "word_vec = word_vectors[word_idx]"
   ]
  },
  {
   "cell_type": "markdown",
   "metadata": {
    "colab_type": "text",
    "id": "kSnuCNtebphD"
   },
   "source": [
    "Thông qua dictionary `word2idx`, việc truy xuất chỉ số của một từ bất kì đã giảm độ phức tạp xuống còn O(1). Việc này sẽ giúp tăng tốc quá trình biến đổi tập dữ liệu của chúng ta ở dưới.\n"
   ]
  },
  {
   "cell_type": "markdown",
   "metadata": {
    "colab_type": "text",
    "id": "1BiSxTMTb0uA"
   },
   "source": [
    "### Tiền xử lý văn bản"
   ]
  },
  {
   "cell_type": "markdown",
   "metadata": {
    "colab_type": "text",
    "id": "Jo2OtPMzb0t7"
   },
   "source": [
    "Để tiết kiệm thời gian, tập dữ liệu được cung cấp đã được **tách từ** sẵn. Những từ ghép gồm nhiều tiếng sẽ có dấu '_' nối giữa các tiếng, ví dụ: 'sinh_viên', 'máy_chiếu_hình'.\n",
    "\n",
    "> *Tách từ tiếng Việt* là một bài toán không đơn giản, và cũng **nằm ngoài phạm vi của khóa học này**. Trong tiếng Anh, hầu hết các từ đều được tách bằng dấu cách. Tuy nhiên, trong tiếng Việt, dấu cách được dùng để tách biệt các **tiếng** chứ không phải các **từ**, nên đây là một vấn đề quan trọng cần lưu ý khi xử lý văn bản tiếng Việt.\n",
    "\n",
    "\n",
    "\n",
    "Ngoài ra, bạn cũng được cung cấp sẵn các hàm nhằm loại bỏ các ký tự đặc biệt trong văn bản. Tham khảo hàm `clean_sentences` ở dưới."
   ]
  },
  {
   "cell_type": "code",
   "execution_count": 15,
   "metadata": {
    "colab": {},
    "colab_type": "code",
    "id": "WMkBSmahb0td"
   },
   "outputs": [],
   "source": [
    "# Loại bỏ các dấu câu, dấu ngoặc, chấm than chấm hỏi, vân vân..., chỉ chừa lại các kí tự chữ và số\n",
    "import re\n",
    "# re = regular expressions\n",
    "strip_special_chars = re.compile(\"[^\\w0-9 ]+\")\n",
    "\n",
    "def clean_sentences(string):\n",
    "    string = string.lower().replace(\"<br />\", \" \")\n",
    "    return re.sub(strip_special_chars, \"\", string.lower())"
   ]
  },
  {
   "cell_type": "markdown",
   "metadata": {
    "colab_type": "text",
    "id": "5rX_Tybhbzlz"
   },
   "source": [
    "### TODO 1: Viết hàm biểu diễn văn bản thành ma trận biểu diễn từ"
   ]
  },
  {
   "cell_type": "markdown",
   "metadata": {
    "colab_type": "text",
    "id": "JEjFPtdbX-DG"
   },
   "source": [
    "Tiến thêm một bước từ việc biểu diễn một từ bằng một vector, ở phần này ta sẽ biểu diễn **một câu có nhiều từ** dưới dạng **một ma trận có nhiều vector**.\n",
    "\n",
    "Ví dụ: _\"Món này ăn hoài không biết chán\"_\n",
    "\n",
    "Đầu tiên, với mỗi từ trong câu trên, ta tìm chỉ số (index) tương ứng của từ trong `words_list`, rồi lưu tất cả các chỉ số đó vào một vector đặt tên là `sentence_indices`.\n",
    "\n",
    "Sau đó, chúng ta có thể sử dụng hàm tra cứu ma trận word embedding của thư viện Tensorflow `tf.nn.embedding_lookup` để tra các vector tại các chỉ số trong `sentence_indices`. \n",
    "\n",
    "Nếu ta đặt giới hạn độ dài tối đa của mỗi câu là 10 từ, thì **ma trận biểu diễn câu** sẽ có kích thước *10 x 300*, tương ứng với *10 từ*, mỗi từ là 1 vector *300 phần tử*. Dĩ nhiên, nếu trong tập dữ liệu có nhưng câu dài hơn 10 từ thì ta có thể nâng giới hạn này lên cho phù hợp.\n",
    "\n",
    "![Embedding](https://drive.google.com/uc?export=view&id=1UvvIa22H3RpWCs_kkzYPprjAPY2-9Ov5)"
   ]
  },
  {
   "cell_type": "markdown",
   "metadata": {
    "colab_type": "text",
    "id": "Sa5Rt8lTeFWK"
   },
   "source": [
    "**Lưu ý**: Trường hợp gặp từ nào không có trong `words_list`, là bộ \"từ điển\" chứa những từ mà ta \"biết\" (tức là có biểu diễn vector), thì ta sẽ gán cho từ đó chỉ số của từ `UNK` (unknown).\n"
   ]
  },
  {
   "cell_type": "code",
   "execution_count": 16,
   "metadata": {
    "colab": {},
    "colab_type": "code",
    "id": "MzPjHdRtWWHf"
   },
   "outputs": [],
   "source": [
    "def get_sentence_indices(sentence, max_seq_length, _words_list):\n",
    "    \"\"\"\n",
    "    Hàm này dùng để lấy index cho từng từ\n",
    "    trong câu (không có dấu câu, có thể in hoa)\n",
    "    Parameters\n",
    "    ----------\n",
    "    sentence là câu cần xử lý\n",
    "    max_seq_length là giới hạn số từ tối đa trong câu\n",
    "    _words_list là bản sao local của words_list, được truyền vào hàm\n",
    "    \"\"\"\n",
    "    indices = np.zeros((max_seq_length), dtype='int32')\n",
    "    \n",
    "    # Tách câu thành từng tiếng\n",
    "    words = [word.lower() for word in sentence.split()]\n",
    "    \n",
    "    # Lấy chỉ số của UNK\n",
    "    unk_idx = word2idx['UNK']\n",
    "    \n",
    "    ### TODO 1 ###\n",
    "    # Viết lệnh cần thực hiện trong vòng lặp dưới [tgay vào pass]\n",
    "    # Vòng lặp chạy qua tất cả các phần tử trong list `words`, tức các từ trong câu\n",
    "    # vd: iter 1: idx = 1, word = tôi\n",
    "    #     iter 2: idx = 2, word = đi\n",
    "    #     iter 3: idx = 3, word = học\n",
    "    #     iter 4: v.v\n",
    "    # Trong mỗi vòng lặp, hãy thay các phần tử tương ứng\n",
    "    # của `indices` bằng các chỉ số/index của các từ trong câu\n",
    "    # LƯU Ý 1: len(indices) có thể ngắn hơn len(words)\n",
    "    # LƯU Ý 2: câu có thể chứa những từ out of vocabulary (OOV), tức không có trong _word_list\n",
    "    ### START CODE HERE ###\n",
    "    for idx, word in enumerate(words):\n",
    "        if idx < max_seq_length:\n",
    "          if( word in _words_list):\n",
    "            word_idx = word2idx[word]\n",
    "          else:\n",
    "            word_idx = word2idx['UNK']       \n",
    "        \n",
    "          indices[idx] = word_idx \n",
    "        else:\n",
    "          break\n",
    "          \n",
    "    ### END CODE HERE ###\n",
    "    return indices"
   ]
  },
  {
   "cell_type": "markdown",
   "metadata": {
    "colab_type": "text",
    "id": "V-xtEqv_ZXaI"
   },
   "source": [
    "Ở ví dụ dưới đây, ta kiểm tra lại hàm vừa cài đặt ở TODO 1. Nếu bạn thực hiện đúng thì vector `sentence_indices` sẽ có giá trị là: `[119, 8136, 4884, 18791, 16614, 15951, 3371, 0, 0, 0]`"
   ]
  },
  {
   "cell_type": "code",
   "execution_count": 17,
   "metadata": {
    "colab": {
     "base_uri": "https://localhost:8080/",
     "height": 175
    },
    "colab_type": "code",
    "id": "O4gNv4udZSn-",
    "outputId": "9e01049f-0c7b-43e7-f980-f302d484dae0"
   },
   "outputs": [
    {
     "name": "stdout",
     "output_type": "stream",
     "text": [
      "món ---> 119\n",
      "này ---> 8136\n",
      "ăn ---> 4884\n",
      "hoài ---> 18791\n",
      "không ---> 16614\n",
      "biết ---> 15951\n",
      "chán ---> 3371\n",
      "[ 119 8136 4884 ...    0    0    0]\n",
      "Chú ý: các chỉ số thứ 7, 8, 9 của sentence_indices bằng 0\n"
     ]
    }
   ],
   "source": [
    "# Ví dụ:\n",
    "sentence = \"Món này ăn hoài không biết chán\"\n",
    "\n",
    "# Tiền xử lý câu\n",
    "sentence = clean_sentences(sentence)\n",
    "\n",
    "# Lấy index của từng từ\n",
    "sentence_indices = get_sentence_indices(sentence, max_seq_length=10, _words_list=words_list)\n",
    "\n",
    "# Hiển thị các chỉ số tương ứng với các từ trong câu\n",
    "for i in range(len(sentence.split())):\n",
    "  print(sentence.split()[i],'--->',sentence_indices[i])\n",
    "\n",
    "# Hiển thị đầy đủ sentence_indices\n",
    "print(sentence_indices)\n",
    "print('Chú ý: các chỉ số thứ 7, 8, 9 của sentence_indices bằng 0')"
   ]
  },
  {
   "cell_type": "code",
   "execution_count": 18,
   "metadata": {
    "colab": {
     "base_uri": "https://localhost:8080/",
     "height": 175
    },
    "colab_type": "code",
    "id": "qKdaY_Z2SBrL",
    "outputId": "5d2a3951-b019-40f3-b701-5e8ce7e58174"
   },
   "outputs": [
    {
     "name": "stdout",
     "output_type": "stream",
     "text": [
      "Vector representation of sentence:\n",
      "tf.Tensor(\n",
      "[[-0.1823 -0.0638  0.2376 ...  0.1462 -0.1092  0.0137]\n",
      " [ 0.027  -0.0542  0.1437 ... -0.0913  0.0114  0.0132]\n",
      " [ 0.021   0.0102  0.0096 ...  0.411  -0.2519  0.0151]\n",
      " ...\n",
      " [ 0.1882 -0.292   0.0072 ...  0.5919 -0.3094 -0.1228]\n",
      " [ 0.1882 -0.292   0.0072 ...  0.5919 -0.3094 -0.1228]\n",
      " [ 0.1882 -0.292   0.0072 ...  0.5919 -0.3094 -0.1228]], shape=(10, 300), dtype=float32)\n"
     ]
    }
   ],
   "source": [
    "# Ma trận biểu diễn:\n",
    "print('Vector representation of sentence:')\n",
    "print(tf.nn.embedding_lookup(word_vectors,sentence_indices))"
   ]
  },
  {
   "cell_type": "markdown",
   "metadata": {
    "colab_type": "text",
    "id": "MwvNkbiqbB3T"
   },
   "source": [
    "### Khảo sát tập dữ liệu huấn luyện"
   ]
  },
  {
   "cell_type": "markdown",
   "metadata": {
    "colab_type": "text",
    "id": "4gqrJmKhbHNy"
   },
   "source": [
    "Với khối lượng dữ liệu lớn (27,000 mẫu), nếu chúng ta chọn đặt **giới hạn số từ tối đa cho một câu** (`MAX_SEQ_LENGTH`) quá cao thì sẽ phí bộ nhớ khi biểu diễn những câu review quá ngắn. Ngược lại, nếu đặt giới hạn quá thấp thì ở những câu dài, ta sẽ bị mất các từ cuối, có khả năng ảnh hưởng đến việc suy đoán cảm xúc.\n",
    "\n",
    "Vì vậy, ta cần thống kê độ dài của các mẫu dữ liệu huấn luyện.\n"
   ]
  },
  {
   "cell_type": "code",
   "execution_count": 19,
   "metadata": {
    "colab": {
     "base_uri": "https://localhost:8080/",
     "height": 70
    },
    "colab_type": "code",
    "id": "kLZQxkJcaVu3",
    "outputId": "0ad80760-dc68-42a1-fb61-b5fd479c44d2"
   },
   "outputs": [
    {
     "name": "stdout",
     "output_type": "stream",
     "text": [
      "The total number of samples is 27000\n",
      "The total number of words in the files is 2252760\n",
      "The average number of words in the files is 83.43555555555555\n"
     ]
    }
   ],
   "source": [
    "num_words = [len(clean_sentences(x).split()) for x in list(train_df['text'])]\n",
    "print('The total number of samples is', len(train_df))\n",
    "print('The total number of words in the files is', sum(num_words))\n",
    "print('The average number of words in the files is', sum(num_words)/len(num_words))"
   ]
  },
  {
   "cell_type": "markdown",
   "metadata": {
    "colab_type": "text",
    "id": "nkMPLGXLc4_8"
   },
   "source": [
    "Chúng ta có thể sử dụng thư viện Matplotlib để minh họa phân bố về chiều dài của các câu review trong tập dữ liệu:"
   ]
  },
  {
   "cell_type": "code",
   "execution_count": 20,
   "metadata": {
    "colab": {
     "base_uri": "https://localhost:8080/",
     "height": 284
    },
    "colab_type": "code",
    "id": "C62SMwSvcvAg",
    "outputId": "d18becfc-4181-482f-bfa0-d428fb35ee7a"
   },
   "outputs": [
    {
     "data": {
      "image/png": "[encoded data removed]",
      "text/plain": [
       "<Figure size 432x288 with 1 Axes>"
      ]
     },
     "metadata": {
      "needs_background": "light"
     },
     "output_type": "display_data"
    }
   ],
   "source": [
    "import matplotlib.pyplot as plt\n",
    "plt.hist(num_words, 100)\n",
    "plt.xlabel('Số từ trong câu')\n",
    "plt.ylabel('Tần số')\n",
    "plt.axis([0, 600, 0, 5000])\n",
    "plt.show()"
   ]
  },
  {
   "cell_type": "markdown",
   "metadata": {
    "colab_type": "text",
    "id": "GeIifGzCdDBs"
   },
   "source": [
    "Dựa trên biểu đồ histogram ở trên chúng ta có thể thấy chọn đặt giới hạn `MAX_SEQ_LENGTH` 200 là tương đối hợp lý. "
   ]
  },
  {
   "cell_type": "code",
   "execution_count": 21,
   "metadata": {
    "colab": {},
    "colab_type": "code",
    "id": "1MLa3ZhQdBNY"
   },
   "outputs": [],
   "source": [
    "MAX_SEQ_LENGTH = 200"
   ]
  },
  {
   "cell_type": "markdown",
   "metadata": {
    "colab_type": "text",
    "id": "MGJSIDQydwjD"
   },
   "source": [
    "### Chuyển dữ liệu văn bản thành ma trận"
   ]
  },
  {
   "cell_type": "markdown",
   "metadata": {
    "colab_type": "text",
    "id": "ErpT7GSLeQ7Z"
   },
   "source": [
    "Trong phần này, chúng ta sẽ tiến hành biến đổi text của review thành vector index của các từ trong `words_list`. Tập hợp các vector của `train_df` sẽ tạo thành ma trận `train_ids`"
   ]
  },
  {
   "cell_type": "code",
   "execution_count": 22,
   "metadata": {
    "colab": {},
    "colab_type": "code",
    "id": "mLHgPdOHdVBM"
   },
   "outputs": [],
   "source": [
    "def text2ids(df, max_length, _word_list):\n",
    "    \"\"\"\n",
    "    Biến đổi các text trong dataframe thành ma trận index\n",
    "    \n",
    "    Parameters\n",
    "    ----------\n",
    "    df: DataFrame\n",
    "        dataframe chứa các text cần biến đổi\n",
    "    max_length: int\n",
    "        độ dài tối đa của một text\n",
    "    _word_list: numpy.array\n",
    "        array chứa các từ trong word vectors\n",
    "    \n",
    "    Returns\n",
    "    -------\n",
    "    numpy.array\n",
    "        len(df) x max_length contains indices of text\n",
    "    \"\"\"\n",
    "    ids = np.zeros((len(df), max_length), dtype='int32')\n",
    "    for idx, text in enumerate(tqdm(df['text'])):\n",
    "        ids[idx,:] = get_sentence_indices(clean_sentences(text), max_length, _word_list)\n",
    "    return ids"
   ]
  },
  {
   "cell_type": "code",
   "execution_count": 23,
   "metadata": {
    "colab": {
     "base_uri": "https://localhost:8080/",
     "height": 52
    },
    "colab_type": "code",
    "id": "uQpKnc3jMqNa",
    "outputId": "9c64eae3-c1bc-40b1-cfa4-79841e0a111d"
   },
   "outputs": [
    {
     "name": "stderr",
     "output_type": "stream",
     "text": [
      "  0%|          | 9/27000 [00:00<05:30, 81.58it/s]"
     ]
    },
    {
     "name": "stdout",
     "output_type": "stream",
     "text": [
      "Converting train_df...\n"
     ]
    },
    {
     "name": "stderr",
     "output_type": "stream",
     "text": [
      "100%|██████████| 27000/27000 [05:48<00:00, 77.42it/s]\n"
     ]
    }
   ],
   "source": [
    "# LƯU Ý: Bước thực hiện này tương đối mất thời gian.\n",
    "# Nếu đã có file train_ids.npy rồi thì ra có thể load lên\n",
    "# và sử dụng luôn ở bước tiếp theo\n",
    "\n",
    "print(\"Converting train_df...\")\n",
    "train_ids = text2ids(train_df, MAX_SEQ_LENGTH, words_list)\n",
    "np.save('train_ids.npy', train_ids)\n"
   ]
  },
  {
   "cell_type": "code",
   "execution_count": 24,
   "metadata": {
    "colab": {},
    "colab_type": "code",
    "id": "4fdCtmneNqZw"
   },
   "outputs": [],
   "source": [
    "# Trường hợp đã tính toán và lưu ma trận rồi thì ta có thể load lên\n",
    "train_ids = np.load('train_ids.npy')"
   ]
  },
  {
   "cell_type": "markdown",
   "metadata": {
    "colab_type": "text",
    "id": "h0yreBE3OCLf"
   },
   "source": [
    "In thử word indices của review đầu tiên:"
   ]
  },
  {
   "cell_type": "code",
   "execution_count": 25,
   "metadata": {
    "colab": {
     "base_uri": "https://localhost:8080/",
     "height": 52
    },
    "colab_type": "code",
    "id": "jk-esTk0OO5p",
    "outputId": "d33fa1d6-54df-4a79-a026-681beb46b9e0"
   },
   "outputs": [
    {
     "name": "stdout",
     "output_type": "stream",
     "text": [
      "Word indices of the first review: \n",
      "[10774 11975  4826 ...     0     0     0]\n"
     ]
    }
   ],
   "source": [
    "print('Word indices of the first review: ')\n",
    "print(train_ids[0])\n"
   ]
  },
  {
   "cell_type": "markdown",
   "metadata": {
    "colab_type": "text",
    "id": "1h6E82p0PiLn"
   },
   "source": [
    "### Chia dữ liệu thành train, validation và test"
   ]
  },
  {
   "cell_type": "markdown",
   "metadata": {
    "colab_type": "text",
    "id": "B2-eOZfKPrjo"
   },
   "source": [
    "Chia dữ liệu `train_ids` và cột `class` của `train_df` thành 3 phần **train : validation : test = 0.8 : 0.1 : 0.1**"
   ]
  },
  {
   "cell_type": "code",
   "execution_count": 26,
   "metadata": {
    "colab": {},
    "colab_type": "code",
    "id": "MoBzDNS6PqBH"
   },
   "outputs": [],
   "source": [
    "train_x, test_validation_x, train_y, test_validation_y  = train_test_split(train_ids, train_df['class'], test_size=0.2, random_state=2019)\n",
    "validation_x, test_x, validation_y, test_y = train_test_split(test_validation_x, test_validation_y, test_size=0.5, random_state=2018)"
   ]
  },
  {
   "cell_type": "markdown",
   "metadata": {
    "colab_type": "text",
    "id": "dcdjv-OhQD9N"
   },
   "source": [
    "### TODO 2: Khởi tạo các `train_dataset`, `validation_dataset`, `test_dataset`"
   ]
  },
  {
   "cell_type": "code",
   "execution_count": 27,
   "metadata": {
    "colab": {},
    "colab_type": "code",
    "id": "YhSxr4r7Qi92"
   },
   "outputs": [],
   "source": [
    "BATCH_SIZE = 256 # Có thể chạy trên Tesla K80 12GB VRAM"
   ]
  },
  {
   "cell_type": "code",
   "execution_count": 28,
   "metadata": {
    "colab": {},
    "colab_type": "code",
    "id": "DQTvO7lcQQ3C"
   },
   "outputs": [],
   "source": [
    "### TODO 2\n",
    "# Sử dụng các biến đã tạo ở trên, hình thành 3 tập dataset\n",
    "# train_dataset, validation_dataset, test_dataset\n",
    "#\n",
    "# GỢI Ý:\n",
    "# Cả 3 tập đều có quy trình tạo như nhau, chỉ khác về tham biến.\n",
    "#\n",
    "# Một dataset được tạo như sau:\n",
    "# dataset = tf.data.Dataset.from_tensor_slices((features,targets))\n",
    "#\n",
    "# Các dataset sau đó cần được chia thành batch.\n",
    "# dataset = dataset.batch(batch_size)\n",
    "#\n",
    "# Tham khảo: https://www.tensorflow.org/api_docs/python/tf/data/Dataset\n",
    "### START CODE HERE\n",
    "train_dataset = tf.data.Dataset.from_tensor_slices((train_x, train_y)) # train_x, train_y\n",
    "validation_dataset = tf.data.Dataset.from_tensor_slices((validation_x, validation_y)) # validation_x, validation_y\n",
    "test_dataset = tf.data.Dataset.from_tensor_slices((test_x, test_y)) # test_x, test_y\n",
    "\n",
    "train_dataset = train_dataset.batch(BATCH_SIZE)\n",
    "validation_dataset = validation_dataset.batch(BATCH_SIZE)\n",
    "test_dataset = test_dataset.batch(BATCH_SIZE)\n",
    "### END CODE HERE"
   ]
  },
  {
   "cell_type": "markdown",
   "metadata": {
    "colab_type": "text",
    "id": "SeYWgkmVSfW1"
   },
   "source": [
    "Chạy dòng lệnh sau để kiểm tra TODO 2:"
   ]
  },
  {
   "cell_type": "code",
   "execution_count": 29,
   "metadata": {
    "colab": {
     "base_uri": "https://localhost:8080/",
     "height": 210
    },
    "colab_type": "code",
    "id": "o1mQPWZnRy08",
    "outputId": "cf42388e-875d-4d15-dc2c-ac63af718c33"
   },
   "outputs": [
    {
     "name": "stdout",
     "output_type": "stream",
     "text": [
      "FIRST BATCH:\n",
      "X = tf.Tensor(\n",
      "[[12844  5596  4884 ...     0     0     0]\n",
      " [10774 16521 13952 ...     0     0     0]\n",
      " [ 7446 10698 10774 ...     0     0     0]\n",
      " ...\n",
      " [ 4884 16995  4601 ...     0     0     0]\n",
      " [ 3913 15085 14017 ...     0     0     0]\n",
      " [ 4788 14598   310 ...     0     0     0]], shape=(256, 200), dtype=int32)\n",
      "y = tf.Tensor([0 0 1 ... 0 1 1], shape=(256,), dtype=int32)\n",
      "Total:  84\n"
     ]
    }
   ],
   "source": [
    "for idx, (x,y) in enumerate(train_dataset):\n",
    "    if idx == 0:\n",
    "        print('FIRST BATCH:')\n",
    "        print('X =',x)\n",
    "        print('y =',y)\n",
    "print(\"Total: \", idx)"
   ]
  },
  {
   "cell_type": "markdown",
   "metadata": {
    "colab_type": "text",
    "id": "2rdROuRjTK3s"
   },
   "source": [
    "Nếu cài đặt đúng, kết quả sẽ có dạng như sau:\n",
    "```\n",
    "FIRST BATCH:\n",
    "X = tf.Tensor(\n",
    "[[12844  5596  4884 ...     0     0     0]\n",
    " [10774 16521 13952 ...     0     0     0]\n",
    " [ 7446 10698 10774 ...     0     0     0]\n",
    " ...\n",
    " [ 4884 16995  4601 ...     0     0     0]\n",
    " [ 3913 15085 14017 ...     0     0     0]\n",
    " [ 4788 14598   310 ...     0     0     0]], shape=(256, 200), dtype=int32)\n",
    "y = tf.Tensor(\n",
    "[0 0 1 0 0 1 1 0 0 1 1 1 0 0 1 1 1 0 0 0 1 1 1 0 0 1 0 1 1 0 0 1 0 0 1 1 0\n",
    " 0 0 1 0 1 1 1 0 0 0 1 0 1 1 0 1 1 0 0 1 1 0 1 0 0 1 0 0 1 1 1 0 1 0 1 0 0\n",
    " 0 1 1 0 1 1 1 0 1 0 0 1 0 0 1 1 0 1 1 0 0 0 1 0 1 0 1 1 1 0 0 1 0 0 1 1 1\n",
    " 0 1 1 0 1 0 0 0 1 1 0 1 1 1 0 1 0 1 0 0 0 0 0 0 1 0 0 1 1 0 1 1 1 1 1 1 1\n",
    " 0 0 0 0 0 0 1 1 1 1 0 0 0 1 1 0 1 1 1 1 1 1 0 1 0 1 1 0 0 1 1 1 1 1 0 0 0\n",
    " 0 0 0 0 0 0 1 0 0 0 0 0 1 0 0 0 0 0 1 1 0 1 1 0 0 0 0 0 1 0 0 0 0 1 1 1 0\n",
    " 1 0 1 0 1 0 1 0 0 0 0 0 0 1 0 1 0 0 0 0 0 1 1 0 0 1 0 0 1 1 1 0 1 1], shape=(256,), dtype=int32)\n",
    "Total:  84\n",
    "```"
   ]
  },
  {
   "cell_type": "markdown",
   "metadata": {
    "colab_type": "text",
    "id": "Cg5jiv6ldW6h"
   },
   "source": [
    "> *Câu hỏi phụ: số 84 trong kết quả trên nghĩa là gì? Liên hệ trở lại với BATCH_SIZE.*\n",
    "\n"
   ]
  },
  {
   "cell_type": "markdown",
   "metadata": {
    "colab_type": "text",
    "id": "YrtvxzmBlU5b"
   },
   "source": [
    "### Tổng kết quá trình chuẩn bị dữ liệu huấn luyện"
   ]
  },
  {
   "cell_type": "markdown",
   "metadata": {
    "colab_type": "text",
    "id": "iahwhDpVUu1o"
   },
   "source": [
    "Quá trình kết hợp ma trận chỉ số (indices) và ma trận biểu diễn từ (word embeddings) sang data tensor dùng để huấn luyện được mô tả như hình dưới đây:\n",
    "![caption](https://drive.google.com/uc?export=view&id=1SST9hIt4jboWYr4A41-wI2jMbKI25A9e)\n",
    "\n",
    "Từ ma trận indices và ma trận embedding, sử dụng `tf.nn.embedding_lookup` ta thu được ma trận có kích thước `(BATCH_SIZE, MAX_SEQUENCE_LENGTH, WORD_VEC_DIM)`.\n"
   ]
  },
  {
   "cell_type": "code",
   "execution_count": 30,
   "metadata": {
    "colab": {
     "base_uri": "https://localhost:8080/",
     "height": 914
    },
    "colab_type": "code",
    "id": "-tZmse4XJDo_",
    "outputId": "4bf1fe16-f981-4abf-dfde-4dce7a95e40a"
   },
   "outputs": [
    {
     "name": "stdout",
     "output_type": "stream",
     "text": [
      "EMBEDDING OF FIRST BATCH:\n",
      "tf.Tensor(\n",
      "[[[ 2.920e-02 -2.410e-02  7.960e-02 ...  8.000e-04 -2.180e-02 -7.700e-03]\n",
      "  [-7.600e-03 -4.540e-02  4.880e-02 ... -1.456e-01 -1.232e-01 -2.590e-02]\n",
      "  [ 2.100e-02  1.020e-02  9.600e-03 ...  4.110e-01 -2.519e-01  1.510e-02]\n",
      "  ...\n",
      "  [ 1.882e-01 -2.920e-01  7.200e-03 ...  5.919e-01 -3.094e-01 -1.228e-01]\n",
      "  [ 1.882e-01 -2.920e-01  7.200e-03 ...  5.919e-01 -3.094e-01 -1.228e-01]\n",
      "  [ 1.882e-01 -2.920e-01  7.200e-03 ...  5.919e-01 -3.094e-01 -1.228e-01]]\n",
      "\n",
      " [[-5.800e-03 -6.460e-02  1.976e-01 ... -1.739e-01  1.770e-02 -2.780e-02]\n",
      "  [-6.140e-02  4.890e-02  8.530e-02 ... -3.620e-02  4.590e-02 -6.180e-02]\n",
      "  [ 2.150e-02 -4.110e-02  2.015e-01 ... -9.910e-02 -4.840e-02  6.100e-03]\n",
      "  ...\n",
      "  [ 1.882e-01 -2.920e-01  7.200e-03 ...  5.919e-01 -3.094e-01 -1.228e-01]\n",
      "  [ 1.882e-01 -2.920e-01  7.200e-03 ...  5.919e-01 -3.094e-01 -1.228e-01]\n",
      "  [ 1.882e-01 -2.920e-01  7.200e-03 ...  5.919e-01 -3.094e-01 -1.228e-01]]\n",
      "\n",
      " [[ 4.510e-02 -2.430e-02  2.318e-01 ...  7.880e-02 -5.000e-04  7.280e-02]\n",
      "  [ 4.060e-02  2.700e-03  5.920e-02 ... -2.580e-02  2.230e-02  1.430e-02]\n",
      "  [-5.800e-03 -6.460e-02  1.976e-01 ... -1.739e-01  1.770e-02 -2.780e-02]\n",
      "  ...\n",
      "  [ 1.882e-01 -2.920e-01  7.200e-03 ...  5.919e-01 -3.094e-01 -1.228e-01]\n",
      "  [ 1.882e-01 -2.920e-01  7.200e-03 ...  5.919e-01 -3.094e-01 -1.228e-01]\n",
      "  [ 1.882e-01 -2.920e-01  7.200e-03 ...  5.919e-01 -3.094e-01 -1.228e-01]]\n",
      "\n",
      " ...\n",
      "\n",
      " [[ 2.100e-02  1.020e-02  9.600e-03 ...  4.110e-01 -2.519e-01  1.510e-02]\n",
      "  [ 2.880e-02  3.300e-03  1.828e-01 ...  3.690e-02 -3.850e-02  1.170e-02]\n",
      "  [-2.000e-04  8.060e-02 -2.290e-01 ...  3.588e-01  3.180e-02  5.780e-02]\n",
      "  ...\n",
      "  [ 1.882e-01 -2.920e-01  7.200e-03 ...  5.919e-01 -3.094e-01 -1.228e-01]\n",
      "  [ 1.882e-01 -2.920e-01  7.200e-03 ...  5.919e-01 -3.094e-01 -1.228e-01]\n",
      "  [ 1.882e-01 -2.920e-01  7.200e-03 ...  5.919e-01 -3.094e-01 -1.228e-01]]\n",
      "\n",
      " [[ 1.801e-01 -1.258e-01  1.759e-01 ... -5.200e-03 -1.485e-01  4.730e-02]\n",
      "  [-1.346e-01 -9.380e-02  4.480e-02 ...  5.680e-02  2.160e-02 -1.364e-01]\n",
      "  [-3.330e-02  6.300e-03 -5.372e-01 ... -1.747e-01  1.907e-01 -1.280e-02]\n",
      "  ...\n",
      "  [ 1.882e-01 -2.920e-01  7.200e-03 ...  5.919e-01 -3.094e-01 -1.228e-01]\n",
      "  [ 1.882e-01 -2.920e-01  7.200e-03 ...  5.919e-01 -3.094e-01 -1.228e-01]\n",
      "  [ 1.882e-01 -2.920e-01  7.200e-03 ...  5.919e-01 -3.094e-01 -1.228e-01]]\n",
      "\n",
      " [[ 3.490e-02 -2.000e-02  8.000e-04 ...  3.060e-02 -4.350e-02 -2.800e-03]\n",
      "  [-2.040e-02 -9.800e-03  2.290e-01 ... -5.420e-02 -6.620e-02  6.080e-02]\n",
      "  [ 4.660e-02 -5.350e-02  1.176e-01 ... -2.680e-02 -5.090e-02  3.610e-02]\n",
      "  ...\n",
      "  [ 1.882e-01 -2.920e-01  7.200e-03 ...  5.919e-01 -3.094e-01 -1.228e-01]\n",
      "  [ 1.882e-01 -2.920e-01  7.200e-03 ...  5.919e-01 -3.094e-01 -1.228e-01]\n",
      "  [ 1.882e-01 -2.920e-01  7.200e-03 ...  5.919e-01 -3.094e-01 -1.228e-01]]], shape=(256, 200, 300), dtype=float32)\n"
     ]
    }
   ],
   "source": [
    "for idx, (x,y) in enumerate(train_dataset):\n",
    "    if idx == 0:\n",
    "        print('EMBEDDING OF FIRST BATCH:')\n",
    "        print(tf.nn.embedding_lookup(word_vectors, x))"
   ]
  },
  {
   "cell_type": "markdown",
   "metadata": {
    "colab_type": "text",
    "id": "1yJHrV1XTSvm"
   },
   "source": [
    "Chú ý vào phần shape của tensor output ở trên, ta có thể thấy kích thước của từng batch dữ liệu, tương ứng với hình minh họa trên."
   ]
  },
  {
   "cell_type": "markdown",
   "metadata": {
    "colab_type": "text",
    "id": "rENHGOAuJDGo"
   },
   "source": [
    "Vậy là ta đã hoàn thành quá trình chuẩn bị dữ liệu!\n",
    "\n",
    "Tiếp theo, ta sẽ xây dựng mô hình RNN để huấn luyện trên dữ liệu này."
   ]
  },
  {
   "cell_type": "markdown",
   "metadata": {
    "colab_type": "text",
    "id": "RbGEuVimsf-L"
   },
   "source": []
  },
  {
   "cell_type": "markdown",
   "metadata": {
    "colab_type": "text",
    "id": "aQP1QMcKT0Kf"
   },
   "source": [
    "## Xây dựng mô hình RNN"
   ]
  },
  {
   "cell_type": "markdown",
   "metadata": {
    "colab_type": "text",
    "id": "6BRkJI6HlOQ3"
   },
   "source": [
    "Trong bài tập này, ta sẽ sử dụng mạng Long Short-Term Memory (LSTM) - Bộ nhớ Ngắn hạn Dài, một dạng kiến trúc RNN để gỉải quyết bài toán phân tích cảm xúc.\n",
    "\n",
    "**Kiến trúc mạng LSTM** ta sẽ sử dụng trong bài tập này được mô tả như hình dưới. Để tăng độ phức tạp của mô hình, ta chồng nhiều tầng LSTM lên nhau (**Stacked LSTM layers**). Giữa tầng LSTM dưới và tầng LSTM trên, ta đặt một lớp dropout.\n",
    "\n",
    "Việc chồng thêm các tầng LSTM sẽ giúp cho mô hình có khả năng \"suy luận\" ở những mức độ trừu tượng/abstraction cao hơn (tương tự như khi dùng nhiều tầng CNN), nhưng đồng thời cũng làm tăng số lượng tham số, đồng nghĩa với việc làm tăng đô phức tạp của mô hình và thời gian huấn luyện.\n",
    "\n",
    "![caption](https://drive.google.com/uc?export=view&id=10m5sPPmba__bHx6V9Wp3fp1Wot5uOhBG)"
   ]
  },
  {
   "cell_type": "markdown",
   "metadata": {
    "colab_type": "text",
    "id": "X2h7lPbXY-1R"
   },
   "source": [
    "### Chọn  LSTM layer"
   ]
  },
  {
   "cell_type": "markdown",
   "metadata": {
    "colab_type": "text",
    "id": "CtKZQCvQZRYc"
   },
   "source": [
    "Để hỗ trợ tốt nhất cho việc tính toán trên GPU, keras hỗ trợ hai loại LSTM layer: 1 loại dành được tối ưu cho các tính toán trên GPU, và một loại dành cho CPU."
   ]
  },
  {
   "cell_type": "code",
   "execution_count": 31,
   "metadata": {
    "colab": {
     "base_uri": "https://localhost:8080/",
     "height": 34
    },
    "colab_type": "code",
    "id": "hUZZ4d5nTIp4",
    "outputId": "773fe8be-6ab7-474e-ad8d-34a2dd192cb7"
   },
   "outputs": [],
   "source": [
    "# if tf.test.is_gpu_available():\n",
    "#     print('Using GPU LSTM')\n",
    "#     lstm_layer = tf.keras.layers.CuDNNLSTM\n",
    "# else:\n",
    "#     print('Using CPU LSTM')\n",
    "#     import functools\n",
    "#     lstm_layer = functools.partial(\n",
    "#             tf.keras.layers.LSTM, recurrent_activation='sigmoid')"
   ]
  },
  {
   "cell_type": "markdown",
   "metadata": {
    "colab_type": "text",
    "id": "wSbwoc2OZr9v"
   },
   "source": [
    "### TODO 3: Định nghĩa và tạo mô hình\n",
    "Ở bước này, chúng ta cần định nghĩa mô hình `SentimentAnalysisModel`, kế thừa từ `tf.keras.Model`. Chúng ta sẽ áp dụng mô hình stacked LSTM ở trên để xây dựng `SentimentAnalysisModel`.\n",
    "\n",
    "Các bạn theo dõi hướng dẫn cụ thể trong code ở dưới.\n",
    "\n",
    "Hoàn thành hàm `__init__` để tạo định nghĩa của `class SentimentAnalysisModel`.\n",
    "\n",
    "Hoàn thành hàm `call` để tạo lệnh feedforward khi gọi một `object` của `class SentimentAnalysisModel`."
   ]
  },
  {
   "cell_type": "code",
   "execution_count": 32,
   "metadata": {
    "colab": {},
    "colab_type": "code",
    "id": "JZNbIr7GZncE"
   },
   "outputs": [],
   "source": [
    "class SentimentAnalysisModel(tf.keras.Model):\n",
    "    \"\"\"\n",
    "    Mô hình phân tích cảm xúc của câu\n",
    "    \n",
    "    Properties\n",
    "    ----------\n",
    "    word2vec: numpy.array\n",
    "        word vectors \n",
    "    lstm_layers: list\n",
    "        list of lstm layers, lstm cuối cùng sẽ chỉ trả về output của lstm cuối cùng\n",
    "    dropout_layers: list\n",
    "        list of dropout layers\n",
    "    dense_layer: Keras Dense Layer\n",
    "        lớp dense layer cuối cùng nhận input từ lstm, \n",
    "        đưa ra output bằng số lượng class thông qua hàm softmax\n",
    "    \"\"\"\n",
    "    def __init__(self, word2vec, lstm_units, n_layers, num_classes, dropout_rate=0.25):\n",
    "        \"\"\"\n",
    "        Khởi tạo mô hình\n",
    "        \n",
    "        Paramters\n",
    "        ---------\n",
    "        word2vec: numpy.array\n",
    "            word vectors \n",
    "        lstm_units: int\n",
    "            số đơn vị lstm\n",
    "        n_layers: int\n",
    "            số layer lstm xếp chồng lên nhau\n",
    "        num_classes: int\n",
    "            số class đầu ra\n",
    "        dropout_rate: float\n",
    "            tỉ lệ dropout giữa các lớp\n",
    "        \"\"\"\n",
    "        super().__init__(name='sentiment_analysis')\n",
    "        \n",
    "        # Khởi tạo các đặc tính của model\n",
    "        self.word2vec = word2vec\n",
    "        \n",
    "        self.lstm_layers = []  # List chứa các tầng LSTM\n",
    "        self.dropout_layers = []  # List chứa các tầng dropout\n",
    "\n",
    "        ### TODO 3.1\n",
    "        # Vòng lặp dưới chạy qua N tầng trong stack\n",
    "        # mỗi tầng sẽ có 1 lstm_layer và 1 dropout_layer\n",
    "        # \n",
    "        # Khởi tạo lstm_layer (GPU) với các tham biến sau:\n",
    "        # lstm_layer(units=..., return_sequences=[True/False])\n",
    "        # Tham khảo: https://keras.io/layers/recurrent/#cudnnlstm\n",
    "        #\n",
    "        # Khởi tạo lstm_layer (CPU) với các tham biến sau:\n",
    "        # lstm_layer(units=..., return_sequences=[True/False])\n",
    "        # Tham khảo: https://www.tensorflow.org/api_docs/python/tf/keras/layers/LSTM\n",
    "        # \n",
    "        # LƯU Ý:\n",
    "        # return_sequence của lstm_layer nhận giá trị True ở mọi tầng  \n",
    "        # trong stack, ngoại trừ tầng cuối cùngg\n",
    "        #\n",
    "        # Khởi tạo dropout_layer với các tham biến sau:\n",
    "        # new_dropout = tf.keras.layers.Dropout(rate=...)\n",
    "        # Tham khảo: https://www.tensorflow.org/api_docs/python/tf/keras/layers/Dropout\n",
    "        # \n",
    "        # Sau khi khởi tạo lstm_layer và dropout_layer\n",
    "        # hãy thêm chúng vào 2 list tương ứng\n",
    "        # self.lstm_layers và self.dropout_layers\n",
    "        #\n",
    "        # Cuối cùng, khởi tạo tầng fully-connected/dense\n",
    "        # tf.keras.layers.Dense(num_classes=..., activation=' ')\n",
    "        # Tham khảo: https://www.tensorflow.org/api_docs/python/tf/keras/layers/Dense\n",
    "        #\n",
    "        ### START CODE HERE\n",
    "        \n",
    "        for i in range(n_layers):\n",
    "            new_lstm = tf.keras.layers.LSTM(units=lstm_units, return_sequences=True)\n",
    "            self.lstm_layers.append(new_lstm)\n",
    "            new_dropout = tf.keras.layers.Dropout(rate=dropout_rate)\n",
    "            self.dropout_layers.append(new_dropout)\n",
    "          \n",
    "        #Tầng cuối cùng  \n",
    "        new_lstm = tf.keras.layers.LSTM(units=lstm_units, return_sequences=False)\n",
    "        self.lstm_layers.append(new_lstm)\n",
    "        \n",
    "        self.dense_layer = tf.keras.layers.Dense(num_classes, activation=\"softmax\")\n",
    "        ### END CODE HERE\n",
    "        \n",
    "    def call(self, inputs):\n",
    "        ### TODO 3.2\n",
    "        # Thực hiện các bước biến đổi khi truyền thuận input qua mạng\n",
    "        # Điền code vào các đoạn pass\n",
    "        ### START CODE HERE\n",
    "        inputs = tf.cast(inputs, tf.int32)\n",
    "        # Input hiện là indices, cần chuyển sang dạng vector\n",
    "        # sử dụng:\n",
    "        # tf.nn.embeddings_lookup(embeddings, indices)\n",
    "        \n",
    "        x = tf.nn.embedding_lookup(self.word2vec, inputs)\n",
    "      \n",
    "        # Truyền thuận inputs lần lượt qua các tầng\n",
    "        # ở mỗi tầng, truyền input qua các layer: lstm > dropout\n",
    "        # vd: x = first_lstm(x)\n",
    "        #     x = first_dropout(x)\n",
    "        #     x = second_lstm(x)\n",
    "        #     v.v.\n",
    "        n_layers = len(self.dropout_layers)\n",
    "        \n",
    "        for i in range(n_layers):\n",
    "          x = self.lstm_layers[i](x)\n",
    "          x = self.dropout_layers[i](x)\n",
    "          \n",
    "        x = self.lstm_layers[-1](x)\n",
    "          \n",
    "        x = self.dense_layer(x)\n",
    "             \n",
    "        # Gán giá trị tầng cuối cùng vào out và trả về\n",
    "        out = x\n",
    "        \n",
    "        return out\n",
    "        ### END CODE HERE\n",
    "        "
   ]
  },
  {
   "cell_type": "markdown",
   "metadata": {
    "colab_type": "text",
    "id": "RVrxaBOujZTB"
   },
   "source": [
    "Tiếp theo, ta lựa chọn các hyperparameters (siêu tham số) phù hợp, rồi tạo mô hình dựa trên định nghĩa."
   ]
  },
  {
   "cell_type": "code",
   "execution_count": 33,
   "metadata": {
    "colab": {},
    "colab_type": "code",
    "id": "2a3sSbPxfuD0"
   },
   "outputs": [],
   "source": [
    "# Các hyperparameters\n",
    "LSTM_UNITS = 128\n",
    "N_LAYERS = 2\n",
    "NUM_CLASSES = 2"
   ]
  },
  {
   "cell_type": "code",
   "execution_count": 34,
   "metadata": {
    "colab": {},
    "colab_type": "code",
    "id": "nNJgl7bAfqaq"
   },
   "outputs": [],
   "source": [
    "model = SentimentAnalysisModel(word_vectors, LSTM_UNITS, N_LAYERS, NUM_CLASSES)"
   ]
  },
  {
   "cell_type": "markdown",
   "metadata": {
    "colab_type": "text",
    "id": "7IUyoz7Mmi36"
   },
   "source": [
    "### Huấn luyện mô hình"
   ]
  },
  {
   "cell_type": "markdown",
   "metadata": {
    "colab_type": "text",
    "id": "YTCY-93vL1ur"
   },
   "source": [
    "Đầu tiên, chọn các tham số huấn luyện:"
   ]
  },
  {
   "cell_type": "code",
   "execution_count": 35,
   "metadata": {
    "colab": {},
    "colab_type": "code",
    "id": "kVHRXfewLwFv"
   },
   "outputs": [],
   "source": [
    "LEARNING_RATE = 0.001\n",
    "EPOCHS = 100"
   ]
  },
  {
   "cell_type": "markdown",
   "metadata": {
    "colab_type": "text",
    "id": "wM_zGomKL7dc"
   },
   "source": [
    "Ta sẽ sử dụng thuật toán tối ưu hoá Adam với learning rate là `LEARNING_RATE`:\n",
    "\n",
    "> Tham khảo thêm về Adam ở các link dưới:\n",
    ">  * tiếng Anh: https://ml-cheatsheet.readthedocs.io/en/latest/optimizers.html#adam\n",
    ">  * tiếng Anh: http://ruder.io/optimizing-gradient-descent/index.html#adam\n",
    ">  * tiếng Việt: https://viblo.asia/p/thuat-toan-toi-uu-adam-aWj53k8Q56m\n",
    "\n"
   ]
  },
  {
   "cell_type": "code",
   "execution_count": 36,
   "metadata": {
    "colab": {},
    "colab_type": "code",
    "id": "Jx1pYLwDv5sD"
   },
   "outputs": [],
   "source": [
    "import tensorflow.compat.v1 as tf\n",
    "optimizer = tf.train.AdamOptimizer(LEARNING_RATE)"
   ]
  },
  {
   "cell_type": "markdown",
   "metadata": {
    "colab_type": "text",
    "id": "10hSNxcUeSqt"
   },
   "source": [
    "Các biến khác hỗ trợ cho việc huấn luyện:"
   ]
  },
  {
   "cell_type": "code",
   "execution_count": 37,
   "metadata": {
    "colab": {},
    "colab_type": "code",
    "id": "mPTbllQyHaVt"
   },
   "outputs": [],
   "source": [
    "global_step = tf.train.get_or_create_global_step()\n",
    "# Thư mục chứa checkpoint\n",
    "checkpoint_dir = './model'\n",
    "# Mẫu tên checkpoint\n",
    "checkpoint_prefix = os.path.join(checkpoint_dir, \"ckpt_{score}\")"
   ]
  },
  {
   "cell_type": "markdown",
   "metadata": {
    "colab_type": "text",
    "id": "M2iyx0MKMo_0"
   },
   "source": [
    "#### TODO 4: Viết hàm huấn luyện từng epoch"
   ]
  },
  {
   "cell_type": "markdown",
   "metadata": {
    "colab_type": "text",
    "id": "JCzyQPxLNlaw"
   },
   "source": [
    "Trước tiên, ta sẽ import vài thành phần từ thư viện `fastprogress` để tiện cho việc biểu diễn \n",
    "quy trình huấn luyện:"
   ]
  },
  {
   "cell_type": "code",
   "execution_count": 38,
   "metadata": {
    "colab": {},
    "colab_type": "code",
    "id": "ApouuAjoPIuy"
   },
   "outputs": [],
   "source": [
    "from fastprogress import master_bar, progress_bar"
   ]
  },
  {
   "cell_type": "markdown",
   "metadata": {
    "colab_type": "text",
    "id": "2CKrlwKvM0d4"
   },
   "source": [
    "Ta cần xây dựng hàm `epoch_training`, thực hiện các bước **truyền thuận**, **truyền ngược** và **tối ưu** tại mỗi epoch.\n",
    "\n",
    "Hàm `epoch_training`:\n",
    "* nhận các tham biến `model`, `dataset`, `global_step`, `mb`, và `num_step`\n",
    "* trả về giá trị loss trung bình của model"
   ]
  },
  {
   "cell_type": "code",
   "execution_count": 39,
   "metadata": {
    "colab": {},
    "colab_type": "code",
    "id": "Uat4rr_ONBpL"
   },
   "outputs": [],
   "source": [
    "def epoch_training(model, dataset, global_step, mb, num_step):\n",
    "    \"\"\"\n",
    "    Huấn luyện mô hình qua 1 epoch\n",
    "    \n",
    "    Parameters\n",
    "    ----------\n",
    "    model: tf.keras.Model\n",
    "        model cần huấn luyện\n",
    "    dataset: tf.Dataset\n",
    "        dataset dùng để huấn luyện\n",
    "    global_step: global step \n",
    "    mb: fastprogress.master_bar\n",
    "        thanh biểu diễn tiến độ\n",
    "    num_step: int\n",
    "        số bước lặp trong mỗi epoch\n",
    "    Returns\n",
    "    -------\n",
    "    float\n",
    "        Giá trị loss trung bình của epoch\n",
    "    \"\"\"\n",
    "    train_losses = [] # Chứa giá trị loss của các batch\n",
    "    dataset_iter = iter(dataset)\n",
    "    for _ in progress_bar(range(num_step), parent=mb):\n",
    "        inp, target = next(dataset_iter)\n",
    "        \n",
    "        with tf.GradientTape() as tape:\n",
    "            ### TODO 4.1\n",
    "            # Truyền thuận - Feedforward\n",
    "            # Để tạo giá trị predictions\n",
    "            ### START CODE HERE\n",
    "            predictions = model(inp)\n",
    "            ### END CODE HERE\n",
    "            \n",
    "            ### TODO 4.2\n",
    "            # Sử dụng tf.losses.sparse_softmax_cross_entropy để tính loss\n",
    "            # Tham khảo: https://www.tensorflow.org/versions/r1.14/api_docs/python/tf/losses/sparse_softmax_cross_entropy\n",
    "            ### START CODE HERE\n",
    "            loss = tf.losses.sparse_softmax_cross_entropy(labels=target, logits=predictions)\n",
    "            ### END CODE HERE\n",
    "          \n",
    "            # Thêm loss của batch vào train_losses\n",
    "            train_losses.append(loss)\n",
    "            \n",
    "        \n",
    "        \n",
    "        ### TODO 4.3\n",
    "        #  Truyền ngược - Backprop: tính gradient của loss\n",
    "        # theo các tham số mô hình (model.trainable_variables)\n",
    "        # sử dụng tape.gradient\n",
    "        # Tham khảo: https://www.tensorflow.org/api_docs/python/tf/GradientTape#gradient\n",
    "        ### START CODE HERE\n",
    "        grads = tape.gradient(train_losses, model.trainable_variables)\n",
    "        ### END CODE HERE\n",
    "        \n",
    "        ### TODO 4.4\n",
    "        # Dùng gradient để tối ưu các tham số\n",
    "        # sử dụng optimizer.apply_gradients\n",
    "        # vd: optimizer.apply_gradients(zip(dloss_over_dvars, vars), global_step = global_step)\n",
    "        # LƯU Ý: Không cần gán giá trị của optimizer.apply_gradients cho biến\n",
    "        # Tham khảo: https://www.tensorflow.org/api_docs/python/tf/keras/optimizers/Optimizer#apply_gradients\n",
    "        ### START CODE HERE\n",
    "        optimizer.apply_gradients(zip(grads, model.trainable_variables), global_step=global_step)\n",
    "        ### END CODE HERE\n",
    "        \n",
    "        mb.child.comment = 'Train loss {:.4f}'.format(loss)\n",
    "        \n",
    "    # Trả về loss trung bình\n",
    "    return sum(train_losses)/ len(train_losses)"
   ]
  },
  {
   "cell_type": "markdown",
   "metadata": {
    "colab_type": "text",
    "id": "L7l17sNSRgSg"
   },
   "source": [
    "#### TODO 5: Viết hàm đánh giá từng epoch"
   ]
  },
  {
   "cell_type": "markdown",
   "metadata": {
    "colab_type": "text",
    "id": "Pp1PF5BdRoJO"
   },
   "source": [
    "Ta cần xây dựng hàm `epoch_evaluation`, thực hiện duy nhất bước **truyền thuận** để tính loss.\n",
    "\n",
    "Hàm `epoch_evaluation`:\n",
    "* nhận vào `model`, `dataset`, `mb`, và `num_step`\n",
    "* trả về giá trị `loss`, `f1_score` của model trên tập `dataset` "
   ]
  },
  {
   "cell_type": "code",
   "execution_count": 40,
   "metadata": {
    "colab": {},
    "colab_type": "code",
    "id": "2XiNIW2mWYzo"
   },
   "outputs": [],
   "source": [
    "def epoch_evaluation(model, dataset, mb, num_step):\n",
    "    \"\"\"\n",
    "    Đánh giá mô hình qua 1 epoch\n",
    "    \n",
    "    Parameters\n",
    "    ----------\n",
    "    model: tf.keras.Model\n",
    "        model cần đánh giá\n",
    "    dataset: tf.Dataset\n",
    "        dataset cần đánh giá\n",
    "    mb: fastprogress.master_bar\n",
    "        progess bar\n",
    "    num_step: int\n",
    "        số bước lặp trong mỗi epoch\n",
    "    Returns\n",
    "    -------\n",
    "    float\n",
    "        Giá trị loss trung bình của epoch\n",
    "    float\n",
    "        Giá trị F1-score trên tập validation\n",
    "    \"\"\"\n",
    "    val_losses = []   # Chứa giá trị loss của các batch\n",
    "    val_gt = []       # Chứa giá trị nhãn thật của tập validation , gt = groundtruth\n",
    "    val_pred = []     # Chứa giá trị nhãn dự đoán do model trên tập validation\n",
    "    dataset_iter = iter(dataset)\n",
    "    for _ in progress_bar(range(num_step), parent=mb):\n",
    "        inp, target = next(dataset_iter)\n",
    "        \n",
    "        val_gt.extend(target.numpy().astype(np.int32).tolist())\n",
    "        ### TODO 5.1\n",
    "        # Truyền thuận\n",
    "        # để lấy predictions\n",
    "        ### START CODE HERE\n",
    "        predictions = model(inp)\n",
    "        ### END CODE HERE\n",
    "        \n",
    "        ### TODO 5.2\n",
    "        # Tính loss giữa target và predictions\n",
    "        # sử dụng hàm loss sparse_softmax_cross_entropy\n",
    "        # như TODO 4.2\n",
    "        ### START CODE HERE\n",
    "        loss = tf.losses.sparse_softmax_cross_entropy(labels=target, logits=predictions)\n",
    "        ### END CODE HERE\n",
    "        \n",
    "        \n",
    "        # Thêm loss vào val_losses\n",
    "        val_losses.append(loss)\n",
    "        \n",
    "        val_pred.extend(tf.argmax(predictions,1).numpy().astype(np.int32).tolist())\n",
    "        \n",
    "        mb.child.comment = 'Validation loss {:.4f}'.format(loss)\n",
    "    \n",
    "    # Trả về loss trung bình và F1-score\n",
    "    return sum(val_losses)/ len(val_losses), f1_score(val_gt, val_pred)"
   ]
  },
  {
   "cell_type": "markdown",
   "metadata": {
    "colab_type": "text",
    "id": "_yZ5AQqlZNL4"
   },
   "source": [
    "#### TODO 6: Thiết lập quy trình huấn luyện\n"
   ]
  },
  {
   "cell_type": "markdown",
   "metadata": {
    "colab_type": "text",
    "id": "FFl2Cona57Yq"
   },
   "source": [
    "Khi đã chuẩn bị xong hàm huấn luyện và đánh giá cho mỗi epoch, ta có thể thiết lập quy trình huấn luyện chính.\n",
    "\n",
    "Việc huấn luyện ở đây được thực hiện trên [Kaggle]('http://kaggle.com/')"
   ]
  },
  {
   "cell_type": "code",
   "execution_count": 41,
   "metadata": {
    "colab": {
     "base_uri": "https://localhost:8080/",
     "height": 1000
    },
    "colab_type": "code",
    "id": "2rLv98h_ZMcF",
    "outputId": "ae9af700-e68d-4341-9ad5-d40f6cb3676e"
   },
   "outputs": [
    {
     "data": {
      "text/html": [
       "\n",
       "    <div>\n",
       "        <style>\n",
       "            /* Turns off some styling */\n",
       "            progress {\n",
       "                /* gets rid of default border in Firefox and Opera. */\n",
       "                border: none;\n",
       "                /* Needs to be in here for Safari polyfill so background images work as expected. */\n",
       "                background-size: auto;\n",
       "            }\n",
       "            .progress-bar-interrupted, .progress-bar-interrupted::-webkit-progress-bar {\n",
       "                background: #F44336;\n",
       "            }\n",
       "        </style>\n",
       "      <progress value='100' class='' max='100', style='width:300px; height:20px; vertical-align: middle;'></progress>\n",
       "      100.00% [100/100 18:52<00:00]\n",
       "    </div>\n",
       "    \n",
       "Finish train epoch 0 with loss 0.6922<p>Finish validate epoch 0 with loss 0.6926, F1-score 0.6598<p>>>> Improved F1-score from 0.0000 to 0.6598<p>Finish train epoch 1 with loss 0.6725<p>Finish validate epoch 1 with loss 0.6512, F1-score 0.6676<p>>>> Improved F1-score from 0.6598 to 0.6676<p>Finish train epoch 2 with loss 0.6733<p>Finish validate epoch 2 with loss 0.6955, F1-score 0.6421<p>Finish train epoch 3 with loss 0.6924<p>Finish validate epoch 3 with loss 0.6933, F1-score 0.6420<p>Finish train epoch 4 with loss 0.6919<p>Finish validate epoch 4 with loss 0.6918, F1-score 0.6366<p>Finish train epoch 5 with loss 0.6901<p>Finish validate epoch 5 with loss 0.6799, F1-score 0.6691<p>>>> Improved F1-score from 0.6676 to 0.6691<p>Finish train epoch 6 with loss 0.6883<p>Finish validate epoch 6 with loss 0.6942, F1-score 0.6472<p>Finish train epoch 7 with loss 0.6917<p>Finish validate epoch 7 with loss 0.6937, F1-score 0.6462<p>Finish train epoch 8 with loss 0.6917<p>Finish validate epoch 8 with loss 0.6927, F1-score 0.6462<p>Finish train epoch 9 with loss 0.6913<p>Finish validate epoch 9 with loss 0.6927, F1-score 0.6399<p>Finish train epoch 10 with loss 0.6910<p>Finish validate epoch 10 with loss 0.6935, F1-score 0.6473<p>Finish train epoch 11 with loss 0.6899<p>Finish validate epoch 11 with loss 0.6943, F1-score 0.6537<p>Finish train epoch 12 with loss 0.6923<p>Finish validate epoch 12 with loss 0.6946, F1-score 0.6470<p>Finish train epoch 13 with loss 0.6914<p>Finish validate epoch 13 with loss 0.6944, F1-score 0.6470<p>Finish train epoch 14 with loss 0.6903<p>Finish validate epoch 14 with loss 0.6875, F1-score 0.6461<p>Finish train epoch 15 with loss 0.6896<p>Finish validate epoch 15 with loss 0.6933, F1-score 0.6424<p>Finish train epoch 16 with loss 0.6914<p>Finish validate epoch 16 with loss 0.6930, F1-score 0.6428<p>Finish train epoch 17 with loss 0.6913<p>Finish validate epoch 17 with loss 0.6926, F1-score 0.6414<p>Finish train epoch 18 with loss 0.6913<p>Finish validate epoch 18 with loss 0.6925, F1-score 0.6418<p>Finish train epoch 19 with loss 0.6912<p>Finish validate epoch 19 with loss 0.6925, F1-score 0.6387<p>Finish train epoch 20 with loss 0.6912<p>Finish validate epoch 20 with loss 0.6922, F1-score 0.6389<p>Finish train epoch 21 with loss 0.6910<p>Finish validate epoch 21 with loss 0.6919, F1-score 0.6382<p>Finish train epoch 22 with loss 0.6732<p>Finish validate epoch 22 with loss 0.6280, F1-score 0.5181<p>Finish train epoch 23 with loss 0.5958<p>Finish validate epoch 23 with loss 0.5237, F1-score 0.7773<p>>>> Improved F1-score from 0.6691 to 0.7773<p>Finish train epoch 24 with loss 0.5270<p>Finish validate epoch 24 with loss 0.4912, F1-score 0.8086<p>>>> Improved F1-score from 0.7773 to 0.8086<p>Finish train epoch 25 with loss 0.5061<p>Finish validate epoch 25 with loss 0.4864, F1-score 0.8236<p>>>> Improved F1-score from 0.8086 to 0.8236<p>Finish train epoch 26 with loss 0.4919<p>Finish validate epoch 26 with loss 0.4991, F1-score 0.8238<p>>>> Improved F1-score from 0.8236 to 0.8238<p>Finish train epoch 27 with loss 0.4839<p>Finish validate epoch 27 with loss 0.4714, F1-score 0.8432<p>>>> Improved F1-score from 0.8238 to 0.8432<p>Finish train epoch 28 with loss 0.4711<p>Finish validate epoch 28 with loss 0.4598, F1-score 0.8526<p>>>> Improved F1-score from 0.8432 to 0.8526<p>Finish train epoch 29 with loss 0.4637<p>Finish validate epoch 29 with loss 0.4565, F1-score 0.8561<p>>>> Improved F1-score from 0.8526 to 0.8561<p>Finish train epoch 30 with loss 0.4574<p>Finish validate epoch 30 with loss 0.4573, F1-score 0.8569<p>>>> Improved F1-score from 0.8561 to 0.8569<p>Finish train epoch 31 with loss 0.4552<p>Finish validate epoch 31 with loss 0.4514, F1-score 0.8630<p>>>> Improved F1-score from 0.8569 to 0.8630<p>Finish train epoch 32 with loss 0.4520<p>Finish validate epoch 32 with loss 0.4491, F1-score 0.8575<p>Finish train epoch 33 with loss 0.4467<p>Finish validate epoch 33 with loss 0.4505, F1-score 0.8508<p>Finish train epoch 34 with loss 0.4421<p>Finish validate epoch 34 with loss 0.4429, F1-score 0.8678<p>>>> Improved F1-score from 0.8630 to 0.8678<p>Finish train epoch 35 with loss 0.4408<p>Finish validate epoch 35 with loss 0.4495, F1-score 0.8527<p>Finish train epoch 36 with loss 0.4378<p>Finish validate epoch 36 with loss 0.4461, F1-score 0.8540<p>Finish train epoch 37 with loss 0.4351<p>Finish validate epoch 37 with loss 0.4509, F1-score 0.8464<p>Finish train epoch 38 with loss 0.4390<p>Finish validate epoch 38 with loss 0.4533, F1-score 0.8404<p>Finish train epoch 39 with loss 0.4358<p>Finish validate epoch 39 with loss 0.4422, F1-score 0.8562<p>Finish train epoch 40 with loss 0.4334<p>Finish validate epoch 40 with loss 0.4403, F1-score 0.8699<p>>>> Improved F1-score from 0.8678 to 0.8699<p>Finish train epoch 41 with loss 0.4290<p>Finish validate epoch 41 with loss 0.4423, F1-score 0.8630<p>Finish train epoch 42 with loss 0.4258<p>Finish validate epoch 42 with loss 0.4409, F1-score 0.8725<p>>>> Improved F1-score from 0.8699 to 0.8725<p>Finish train epoch 43 with loss 0.4297<p>Finish validate epoch 43 with loss 0.4362, F1-score 0.8693<p>Finish train epoch 44 with loss 0.4313<p>Finish validate epoch 44 with loss 0.4380, F1-score 0.8668<p>Finish train epoch 45 with loss 0.4283<p>Finish validate epoch 45 with loss 0.4330, F1-score 0.8772<p>>>> Improved F1-score from 0.8725 to 0.8772<p>Finish train epoch 46 with loss 0.4231<p>Finish validate epoch 46 with loss 0.4338, F1-score 0.8770<p>Finish train epoch 47 with loss 0.4197<p>Finish validate epoch 47 with loss 0.4362, F1-score 0.8765<p>Finish train epoch 48 with loss 0.4198<p>Finish validate epoch 48 with loss 0.4373, F1-score 0.8762<p>Finish train epoch 49 with loss 0.4187<p>Finish validate epoch 49 with loss 0.4402, F1-score 0.8742<p>Finish train epoch 50 with loss 0.4186<p>Finish validate epoch 50 with loss 0.4352, F1-score 0.8783<p>>>> Improved F1-score from 0.8772 to 0.8783<p>Finish train epoch 51 with loss 0.4127<p>Finish validate epoch 51 with loss 0.4346, F1-score 0.8770<p>Finish train epoch 52 with loss 0.4101<p>Finish validate epoch 52 with loss 0.4402, F1-score 0.8718<p>Finish train epoch 53 with loss 0.4088<p>Finish validate epoch 53 with loss 0.4356, F1-score 0.8740<p>Finish train epoch 54 with loss 0.4055<p>Finish validate epoch 54 with loss 0.4365, F1-score 0.8741<p>Finish train epoch 55 with loss 0.4036<p>Finish validate epoch 55 with loss 0.4379, F1-score 0.8773<p>Finish train epoch 56 with loss 0.4032<p>Finish validate epoch 56 with loss 0.4365, F1-score 0.8733<p>Finish train epoch 57 with loss 0.4021<p>Finish validate epoch 57 with loss 0.4429, F1-score 0.8630<p>Finish train epoch 58 with loss 0.4068<p>Finish validate epoch 58 with loss 0.4490, F1-score 0.8536<p>Finish train epoch 59 with loss 0.4073<p>Finish validate epoch 59 with loss 0.4401, F1-score 0.8661<p>Finish train epoch 60 with loss 0.4083<p>Finish validate epoch 60 with loss 0.4370, F1-score 0.8712<p>Finish train epoch 61 with loss 0.4023<p>Finish validate epoch 61 with loss 0.4428, F1-score 0.8619<p>Finish train epoch 62 with loss 0.4069<p>Finish validate epoch 62 with loss 0.4426, F1-score 0.8638<p>Finish train epoch 63 with loss 0.4080<p>Finish validate epoch 63 with loss 0.4385, F1-score 0.8689<p>Finish train epoch 64 with loss 0.4049<p>Finish validate epoch 64 with loss 0.4393, F1-score 0.8712<p>Finish train epoch 65 with loss 0.4061<p>Finish validate epoch 65 with loss 0.4483, F1-score 0.8698<p>Finish train epoch 66 with loss 0.3999<p>Finish validate epoch 66 with loss 0.4435, F1-score 0.8689<p>Finish train epoch 67 with loss 0.3989<p>Finish validate epoch 67 with loss 0.4492, F1-score 0.8681<p>Finish train epoch 68 with loss 0.3947<p>Finish validate epoch 68 with loss 0.4439, F1-score 0.8724<p>Finish train epoch 69 with loss 0.3918<p>Finish validate epoch 69 with loss 0.4496, F1-score 0.8695<p>Finish train epoch 70 with loss 0.3913<p>Finish validate epoch 70 with loss 0.4484, F1-score 0.8692<p>Finish train epoch 71 with loss 0.3929<p>Finish validate epoch 71 with loss 0.4481, F1-score 0.8682<p>Finish train epoch 72 with loss 0.4033<p>Finish validate epoch 72 with loss 0.4410, F1-score 0.8742<p>Finish train epoch 73 with loss 0.3888<p>Finish validate epoch 73 with loss 0.4468, F1-score 0.8721<p>Finish train epoch 74 with loss 0.3904<p>Finish validate epoch 74 with loss 0.4567, F1-score 0.8645<p>Finish train epoch 75 with loss 0.3888<p>Finish validate epoch 75 with loss 0.4487, F1-score 0.8691<p>Finish train epoch 76 with loss 0.3926<p>Finish validate epoch 76 with loss 0.4587, F1-score 0.8638<p>Finish train epoch 77 with loss 0.3868<p>Finish validate epoch 77 with loss 0.4599, F1-score 0.8623<p>Finish train epoch 78 with loss 0.3944<p>Finish validate epoch 78 with loss 0.4420, F1-score 0.8703<p>Finish train epoch 79 with loss 0.3913<p>Finish validate epoch 79 with loss 0.4439, F1-score 0.8708<p>Finish train epoch 80 with loss 0.3908<p>Finish validate epoch 80 with loss 0.4528, F1-score 0.8657<p>Finish train epoch 81 with loss 0.3919<p>Finish validate epoch 81 with loss 0.4591, F1-score 0.8619<p>Finish train epoch 82 with loss 0.3990<p>Finish validate epoch 82 with loss 0.4629, F1-score 0.8577<p>Finish train epoch 83 with loss 0.3995<p>Finish validate epoch 83 with loss 0.4422, F1-score 0.8702<p>Finish train epoch 84 with loss 0.3943<p>Finish validate epoch 84 with loss 0.4454, F1-score 0.8608<p>Finish train epoch 85 with loss 0.3864<p>Finish validate epoch 85 with loss 0.4423, F1-score 0.8692<p>Finish train epoch 86 with loss 0.3843<p>Finish validate epoch 86 with loss 0.4422, F1-score 0.8665<p>Finish train epoch 87 with loss 0.3842<p>Finish validate epoch 87 with loss 0.4454, F1-score 0.8630<p>Finish train epoch 88 with loss 0.3811<p>Finish validate epoch 88 with loss 0.4478, F1-score 0.8571<p>Finish train epoch 89 with loss 0.3831<p>Finish validate epoch 89 with loss 0.4418, F1-score 0.8674<p>Finish train epoch 90 with loss 0.3778<p>Finish validate epoch 90 with loss 0.4489, F1-score 0.8606<p>Finish train epoch 91 with loss 0.3792<p>Finish validate epoch 91 with loss 0.4483, F1-score 0.8591<p>Finish train epoch 92 with loss 0.3779<p>Finish validate epoch 92 with loss 0.4436, F1-score 0.8674<p>Finish train epoch 93 with loss 0.3743<p>Finish validate epoch 93 with loss 0.4458, F1-score 0.8659<p>Finish train epoch 94 with loss 0.3741<p>Finish validate epoch 94 with loss 0.4475, F1-score 0.8609<p>Finish train epoch 95 with loss 0.3763<p>Finish validate epoch 95 with loss 0.4443, F1-score 0.8695<p>Finish train epoch 96 with loss 0.3731<p>Finish validate epoch 96 with loss 0.4476, F1-score 0.8620<p>Finish train epoch 97 with loss 0.3732<p>Finish validate epoch 97 with loss 0.4475, F1-score 0.8655<p>Finish train epoch 98 with loss 0.3725<p>Finish validate epoch 98 with loss 0.4490, F1-score 0.8644<p>Finish train epoch 99 with loss 0.3759<p>Finish validate epoch 99 with loss 0.4427, F1-score 0.8690\n",
       "\n",
       "    <div>\n",
       "        <style>\n",
       "            /* Turns off some styling */\n",
       "            progress {\n",
       "                /* gets rid of default border in Firefox and Opera. */\n",
       "                border: none;\n",
       "                /* Needs to be in here for Safari polyfill so background images work as expected. */\n",
       "                background-size: auto;\n",
       "            }\n",
       "            .progress-bar-interrupted, .progress-bar-interrupted::-webkit-progress-bar {\n",
       "                background: #F44336;\n",
       "            }\n",
       "        </style>\n",
       "      <progress value='11' class='' max='11', style='width:300px; height:20px; vertical-align: middle;'></progress>\n",
       "      100.00% [11/11 00:00<00:00 Validation loss 0.4392]\n",
       "    </div>\n",
       "    "
      ],
      "text/plain": [
       "<IPython.core.display.HTML object>"
      ]
     },
     "metadata": {},
     "output_type": "display_data"
    },
    {
     "data": {
      "image/png": "[encoded data removed]",
      "text/plain": [
       "<Figure size 432x288 with 1 Axes>"
      ]
     },
     "metadata": {},
     "output_type": "display_data"
    }
   ],
   "source": [
    "best_score = 0\n",
    "mb = master_bar(range(EPOCHS))\n",
    "mb.names = ['Training loss', 'Validation loss', 'F1']\n",
    "training_losses = []\n",
    "validation_losses = []\n",
    "f1_scores = []\n",
    "x = []\n",
    "\n",
    "train_step = math.ceil(len(train_x)*1.0/BATCH_SIZE)\n",
    "val_step = math.ceil(len(validation_x)*1.0/BATCH_SIZE)\n",
    "for epoch in mb:\n",
    "    \n",
    "    # initializing the hidden state at the start of every epoch\n",
    "    # initally hidden is None\n",
    "    hidden = model.reset_states()\n",
    "    x.append(epoch)\n",
    "    \n",
    "    ### TODO 6.1\n",
    "    # Huấn luyện bằng hàm epoch_training()\n",
    "    # Sử dụng tập train_dataset\n",
    "    ### START CODE HERE\n",
    "    training_loss = epoch_training(model, train_dataset, global_step, mb, train_step)\n",
    "    ### END CODE HERE\n",
    "    \n",
    "    # Báo cáo kết quả train/huấn luyện\n",
    "    mb.write('Finish train epoch {} with loss {:.4f}'.format(epoch, training_loss))\n",
    "    training_losses.append(training_loss)\n",
    "    \n",
    "    ### TODO 6.2\n",
    "    # Đánh giá kết quả trên tập validation_dataset\n",
    "    # bằng hàm epoch_evaluation()\n",
    "    ### START CODE HERE\n",
    "    \n",
    "    valid_loss, valid_score = epoch_evaluation(model, validation_dataset, mb, val_step)\n",
    "    ### END CODE HERE\n",
    "    \n",
    "    # Báo cáo kết quả validate\n",
    "    mb.write('Finish validate epoch {} with loss {:.4f}, F1-score {:.4f}'.format(epoch,valid_loss, valid_score))\n",
    "    validation_losses.append(valid_loss)\n",
    "    f1_scores.append(valid_score)\n",
    "    \n",
    "    # Cập nhật đồ thị\n",
    "    global_step.assign_add(1)\n",
    "    mb.update_graph([[x, training_losses], [x, validation_losses], [x, f1_scores]], [0,EPOCHS], [0,1])\n",
    "    \n",
    "    # Update score và lưu model có score tốt nhất\n",
    "    if best_score < valid_score:\n",
    "        mb.write(\">>> Improved F1-score from {:.4f} to {:.4f}\".format(best_score, valid_score))\n",
    "        # Update best_score\n",
    "        best_score = valid_score\n",
    "        # Save model\n",
    "        model.save_weights(checkpoint_prefix.format(score=valid_score))\n",
    "        \n",
    "    "
   ]
  },
  {
   "cell_type": "markdown",
   "metadata": {
    "colab_type": "text",
    "id": "FH4gGLJohy4k"
   },
   "source": [
    "Sau khi hoàn thành quá trình huấn luyện, ta sẽ có được một model với các trọng số được lưu trong các checkpoint trong folder model.\n",
    "\n",
    "Việc tiếp theo ta sẽ viết xây dựng một model nhờ việc có cấu trúc của class `SentimentAnalysisModel` và được load trọng số trong folder `/model` được triển khai trong file [app.py]('/app.py')."
   ]
  }
 ],
 "metadata": {
  "accelerator": "GPU",
  "colab": {
   "collapsed_sections": [],
   "name": "vietai-as4-Kiều-Đăng-Nam.ipynb",
   "provenance": []
  },
  "kernelspec": {
   "display_name": "Python 3",
   "language": "python",
   "name": "python3"
  },
  "language_info": {
   "codemirror_mode": {
    "name": "ipython",
    "version": 3
   },
   "file_extension": ".py",
   "mimetype": "text/x-python",
   "name": "python",
   "nbconvert_exporter": "python",
   "pygments_lexer": "ipython3",
   "version": "3.6.9"
  }
 },
 "nbformat": 4,
 "nbformat_minor": 1
}
